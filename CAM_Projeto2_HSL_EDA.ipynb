{
  "nbformat": 4,
  "nbformat_minor": 0,
  "metadata": {
    "colab": {
      "name": "CAM_Projeto2_HSL_EDA.ipynb",
      "provenance": [],
      "toc_visible": true
    },
    "kernelspec": {
      "name": "python3",
      "display_name": "Python 3"
    }
  },
  "cells": [
    {
      "cell_type": "markdown",
      "metadata": {
        "id": "OTi65dTD5MDk"
      },
      "source": [
        "# **CAM - Projeto 2**"
      ]
    },
    {
      "cell_type": "markdown",
      "metadata": {
        "id": "TWruzu9w5VYb"
      },
      "source": [
        "# **Análise Exploratória de Dados (EDA) do conjunto de dados do grupo HSL**"
      ]
    },
    {
      "cell_type": "markdown",
      "metadata": {
        "id": "zxRDLzRE5iBf"
      },
      "source": [
        "## **1) Importando Bibliotecas**"
      ]
    },
    {
      "cell_type": "code",
      "metadata": {
        "id": "tTnPlxj7goKT"
      },
      "source": [
        "# Universidade de Brasília - Programa de Pós-Graduação em Sistemas Mecatrônicos (PPMEC)\n",
        "# Disciplina: Cibernética e Aprendizagem de Máquina\n",
        "# Período: 1/2020\n",
        "# Professor: Díbio Leandro Borges\n",
        "# Aluno: Alceu Bernardes Castanheira de Farias \n",
        "# Matrícula : 19/0144670\n",
        "#\n",
        "# O projeto visa avaliar a possibilidade de diagnóstico Covid-19, não Covid-19 e pneumonias através de\n",
        "# exames de sangue rotineiros. Essa classificação diagnóstico deve ser feita com o algoritmo de\n",
        "# “Random Forest”. Os resultados devem estabelecer além de acurácia um ordenamento sobre quais\n",
        "# variáveis de exames seriam mais relevantes.\n",
        "#\n",
        "# Este notebook implementa a etapa de Exploratory Data Analysis (EDA) no conjunto de dados referente ao\n",
        "# grupo do Hospital Sírio Libanês (HSL), preparando o conjunto de dados e tratando os mesmos para aplicação\n",
        "# dos algoritmos de Random Forest no notebook 'CAM_Projeto_2_HSL_RF.ipynb'\n",
        "#\n",
        "# Importando bibliotecas para realizar a Análise Exploratória dos Dados:\n",
        "#\n",
        "# Pandas\n",
        "# Numpy\n",
        "# Seaborn\n",
        "# Matlplotlib\n",
        "#\n",
        "import pandas as pd\n",
        "import numpy as np\n",
        "import seaborn as sns\n",
        "import matplotlib.pyplot as plt"
      ],
      "execution_count": 1,
      "outputs": []
    },
    {
      "cell_type": "markdown",
      "metadata": {
        "id": "JvNuBq1D5sL5"
      },
      "source": [
        "## **2) Análise das informações dos pacientes**"
      ]
    },
    {
      "cell_type": "code",
      "metadata": {
        "id": "59ArsfHAfzc0",
        "outputId": "08a6acbd-d3d8-433b-ad04-829e4213ff51",
        "colab": {
          "base_uri": "https://localhost:8080/",
          "height": 0
        }
      },
      "source": [
        "# Importando dados dos pacientes do arquvio 'HSL_Pacientes_2.csv'. O caracter de separação das colunas no arquivo .csv\n",
        "# é o '|'. Exibindo os 5 primeiros dados para verificar se as informações foram importadas corretamente.\n",
        "#\n",
        "data_pacientes_HSL = pd.read_csv('HSL_Pacientes_2.csv', sep='|')\n",
        "data_pacientes_HSL.head(5)"
      ],
      "execution_count": 2,
      "outputs": [
        {
          "output_type": "execute_result",
          "data": {
            "text/html": [
              "<div>\n",
              "<style scoped>\n",
              "    .dataframe tbody tr th:only-of-type {\n",
              "        vertical-align: middle;\n",
              "    }\n",
              "\n",
              "    .dataframe tbody tr th {\n",
              "        vertical-align: top;\n",
              "    }\n",
              "\n",
              "    .dataframe thead th {\n",
              "        text-align: right;\n",
              "    }\n",
              "</style>\n",
              "<table border=\"1\" class=\"dataframe\">\n",
              "  <thead>\n",
              "    <tr style=\"text-align: right;\">\n",
              "      <th></th>\n",
              "      <th>ID_PACIENTE</th>\n",
              "      <th>IC_SEXO</th>\n",
              "      <th>AA_NASCIMENTO</th>\n",
              "      <th>CD_PAIS</th>\n",
              "      <th>CD_UF</th>\n",
              "      <th>CD_MUNICIPIO</th>\n",
              "      <th>CD_CEPREDUZIDO</th>\n",
              "    </tr>\n",
              "  </thead>\n",
              "  <tbody>\n",
              "    <tr>\n",
              "      <th>0</th>\n",
              "      <td>3487791F44C34B421C932DC8616A8437</td>\n",
              "      <td>M</td>\n",
              "      <td>1963</td>\n",
              "      <td>BR</td>\n",
              "      <td>SP</td>\n",
              "      <td>MMMM</td>\n",
              "      <td>CCCC</td>\n",
              "    </tr>\n",
              "    <tr>\n",
              "      <th>1</th>\n",
              "      <td>0AD1FFA4419472256666A3445414F1F9</td>\n",
              "      <td>M</td>\n",
              "      <td>1969</td>\n",
              "      <td>BR</td>\n",
              "      <td>SP</td>\n",
              "      <td>SAO PAULO</td>\n",
              "      <td>CCCC</td>\n",
              "    </tr>\n",
              "    <tr>\n",
              "      <th>2</th>\n",
              "      <td>BE35D08CF3EF6F114E9935F6D72C49FA</td>\n",
              "      <td>M</td>\n",
              "      <td>1964</td>\n",
              "      <td>BR</td>\n",
              "      <td>SP</td>\n",
              "      <td>SAO PAULO</td>\n",
              "      <td>CCCC</td>\n",
              "    </tr>\n",
              "    <tr>\n",
              "      <th>3</th>\n",
              "      <td>962F4020D456AAB602B356E57238EF42</td>\n",
              "      <td>F</td>\n",
              "      <td>1959</td>\n",
              "      <td>BR</td>\n",
              "      <td>SP</td>\n",
              "      <td>SAO PAULO</td>\n",
              "      <td>CCCC</td>\n",
              "    </tr>\n",
              "    <tr>\n",
              "      <th>4</th>\n",
              "      <td>F983089DAC62E42124227C856AE3444C</td>\n",
              "      <td>M</td>\n",
              "      <td>1947</td>\n",
              "      <td>BR</td>\n",
              "      <td>SP</td>\n",
              "      <td>MMMM</td>\n",
              "      <td>CCCC</td>\n",
              "    </tr>\n",
              "  </tbody>\n",
              "</table>\n",
              "</div>"
            ],
            "text/plain": [
              "                        ID_PACIENTE IC_SEXO  ... CD_MUNICIPIO CD_CEPREDUZIDO\n",
              "0  3487791F44C34B421C932DC8616A8437       M  ...         MMMM           CCCC\n",
              "1  0AD1FFA4419472256666A3445414F1F9       M  ...    SAO PAULO           CCCC\n",
              "2  BE35D08CF3EF6F114E9935F6D72C49FA       M  ...    SAO PAULO           CCCC\n",
              "3  962F4020D456AAB602B356E57238EF42       F  ...    SAO PAULO           CCCC\n",
              "4  F983089DAC62E42124227C856AE3444C       M  ...         MMMM           CCCC\n",
              "\n",
              "[5 rows x 7 columns]"
            ]
          },
          "metadata": {
            "tags": []
          },
          "execution_count": 2
        }
      ]
    },
    {
      "cell_type": "code",
      "metadata": {
        "id": "ReFygpIQ4aZ6",
        "outputId": "5fd172b7-511f-47aa-9b3e-a25111e8a156",
        "colab": {
          "base_uri": "https://localhost:8080/",
          "height": 0
        }
      },
      "source": [
        "# Vamos verificar a quantidade de pacientes no DataFrame:\n",
        "print('A quantidade total de pacientes no DataFrame analisado é de: {} pacientes '.format(data_pacientes_HSL.shape[0]))\n",
        "print('Cada paciente possui {} características atreladas'.format(data_pacientes_HSL.shape[1]))"
      ],
      "execution_count": 3,
      "outputs": [
        {
          "output_type": "stream",
          "text": [
            "A quantidade total de pacientes no DataFrame analisado é de: 4273 pacientes \n",
            "Cada paciente possui 7 características atreladas\n"
          ],
          "name": "stdout"
        }
      ]
    },
    {
      "cell_type": "markdown",
      "metadata": {
        "id": "pvGhWhsZrLxv"
      },
      "source": [
        "#### **2.1) Analisando 'CD_PAIS' e 'CD_MUNICIPIO'**"
      ]
    },
    {
      "cell_type": "code",
      "metadata": {
        "id": "m9RkldN60VTb",
        "outputId": "81ebe2a5-93e0-4103-eb2a-ee4b18e178a9",
        "colab": {
          "base_uri": "https://localhost:8080/",
          "height": 0
        }
      },
      "source": [
        "# Vamos primeiro tratar as informações dos pacientes. É provável que a grande maioria dos pacientes sejam brasileiros, \n",
        "# mas vamos conferir se há alguma nacionalidade diferente presente nos dados\n",
        "data_pacientes_HSL['CD_PAIS'].value_counts()"
      ],
      "execution_count": 4,
      "outputs": [
        {
          "output_type": "execute_result",
          "data": {
            "text/plain": [
              "BR    4133\n",
              "XX     140\n",
              "Name: CD_PAIS, dtype: int64"
            ]
          },
          "metadata": {
            "tags": []
          },
          "execution_count": 4
        }
      ]
    },
    {
      "cell_type": "code",
      "metadata": {
        "id": "Vjg1atwE0tOS",
        "outputId": "f946ed53-6e80-489f-f357-7318238a2081",
        "colab": {
          "base_uri": "https://localhost:8080/",
          "height": 0
        }
      },
      "source": [
        "# Temos 140 pacientes com nacionalidade não informada por algum motivo de manutenção do anonimato. Isso corresponde a\n",
        "# aproximadamente 3.28% dos pacientes nos dados. A princípio, vamos desconsiderar essa coluna no projeto.\n",
        "#\n",
        "# Agora, analisamos a coluna 'CD_CEPREDUZIDO'. \n",
        "data_pacientes_HSL['CD_CEPREDUZIDO'].value_counts()"
      ],
      "execution_count": 5,
      "outputs": [
        {
          "output_type": "execute_result",
          "data": {
            "text/plain": [
              "CCCC     4268\n",
              "12460       5\n",
              "Name: CD_CEPREDUZIDO, dtype: int64"
            ]
          },
          "metadata": {
            "tags": []
          },
          "execution_count": 5
        }
      ]
    },
    {
      "cell_type": "code",
      "metadata": {
        "id": "AOEuFAXv1v0Q",
        "outputId": "3bde4341-afe0-4deb-d2ce-52b575744336",
        "colab": {
          "base_uri": "https://localhost:8080/",
          "height": 0
        }
      },
      "source": [
        "# A maioria dos CEPs reduzidos foram omitidos. Podemos desconsiderar essa coluna, até porque contamos com informação \n",
        "# de Unidade da Federação (CD_UF) e município (CD_MUNICIPIO) que já representam o endereço dos pacientes.\n",
        "#\n",
        "# Com base nessas informações e nas features analisadas em (Bao, 2020), vamos considerar como features de cada \n",
        "# paciente:\n",
        "#\n",
        "# ID_PACIENTE = ID anonimizado de cada paciente\n",
        "# IC_SEXO\n",
        "# IC_IDADE = Vamos calcular a diferença entre o ano de nascimento e o ano atual para termos a idade dos pacientes\n",
        "#\n",
        "# Portanto, primeiramente iremos eliminar as colunas CD_PAIS e CD_CEPREDUZIDO\n",
        "data_pacientes_HSL.drop(['CD_PAIS', 'CD_UF', 'CD_MUNICIPIO', 'CD_CEPREDUZIDO'], axis=1, inplace=True)\n",
        "data_pacientes_HSL.head(5)"
      ],
      "execution_count": 6,
      "outputs": [
        {
          "output_type": "execute_result",
          "data": {
            "text/html": [
              "<div>\n",
              "<style scoped>\n",
              "    .dataframe tbody tr th:only-of-type {\n",
              "        vertical-align: middle;\n",
              "    }\n",
              "\n",
              "    .dataframe tbody tr th {\n",
              "        vertical-align: top;\n",
              "    }\n",
              "\n",
              "    .dataframe thead th {\n",
              "        text-align: right;\n",
              "    }\n",
              "</style>\n",
              "<table border=\"1\" class=\"dataframe\">\n",
              "  <thead>\n",
              "    <tr style=\"text-align: right;\">\n",
              "      <th></th>\n",
              "      <th>ID_PACIENTE</th>\n",
              "      <th>IC_SEXO</th>\n",
              "      <th>AA_NASCIMENTO</th>\n",
              "    </tr>\n",
              "  </thead>\n",
              "  <tbody>\n",
              "    <tr>\n",
              "      <th>0</th>\n",
              "      <td>3487791F44C34B421C932DC8616A8437</td>\n",
              "      <td>M</td>\n",
              "      <td>1963</td>\n",
              "    </tr>\n",
              "    <tr>\n",
              "      <th>1</th>\n",
              "      <td>0AD1FFA4419472256666A3445414F1F9</td>\n",
              "      <td>M</td>\n",
              "      <td>1969</td>\n",
              "    </tr>\n",
              "    <tr>\n",
              "      <th>2</th>\n",
              "      <td>BE35D08CF3EF6F114E9935F6D72C49FA</td>\n",
              "      <td>M</td>\n",
              "      <td>1964</td>\n",
              "    </tr>\n",
              "    <tr>\n",
              "      <th>3</th>\n",
              "      <td>962F4020D456AAB602B356E57238EF42</td>\n",
              "      <td>F</td>\n",
              "      <td>1959</td>\n",
              "    </tr>\n",
              "    <tr>\n",
              "      <th>4</th>\n",
              "      <td>F983089DAC62E42124227C856AE3444C</td>\n",
              "      <td>M</td>\n",
              "      <td>1947</td>\n",
              "    </tr>\n",
              "  </tbody>\n",
              "</table>\n",
              "</div>"
            ],
            "text/plain": [
              "                        ID_PACIENTE IC_SEXO AA_NASCIMENTO\n",
              "0  3487791F44C34B421C932DC8616A8437       M          1963\n",
              "1  0AD1FFA4419472256666A3445414F1F9       M          1969\n",
              "2  BE35D08CF3EF6F114E9935F6D72C49FA       M          1964\n",
              "3  962F4020D456AAB602B356E57238EF42       F          1959\n",
              "4  F983089DAC62E42124227C856AE3444C       M          1947"
            ]
          },
          "metadata": {
            "tags": []
          },
          "execution_count": 6
        }
      ]
    },
    {
      "cell_type": "markdown",
      "metadata": {
        "id": "htrsLrIGrZNO"
      },
      "source": [
        "###**2.2) Analisando a coluna 'IC_SEXO'**"
      ]
    },
    {
      "cell_type": "code",
      "metadata": {
        "id": "O39Pidgl3idj",
        "outputId": "859910f9-8f97-47ed-ec9a-de2ed8bbeb89",
        "colab": {
          "base_uri": "https://localhost:8080/",
          "height": 0
        }
      },
      "source": [
        "# Com as colunas remanescente, podemos analisar se há dados faltantes para as variáveis que sobram.\n",
        "data_pacientes_HSL.info()"
      ],
      "execution_count": 7,
      "outputs": [
        {
          "output_type": "stream",
          "text": [
            "<class 'pandas.core.frame.DataFrame'>\n",
            "RangeIndex: 4273 entries, 0 to 4272\n",
            "Data columns (total 3 columns):\n",
            " #   Column         Non-Null Count  Dtype \n",
            "---  ------         --------------  ----- \n",
            " 0   ID_PACIENTE    4273 non-null   object\n",
            " 1   IC_SEXO        4271 non-null   object\n",
            " 2   AA_NASCIMENTO  4273 non-null   object\n",
            "dtypes: object(3)\n",
            "memory usage: 100.3+ KB\n"
          ],
          "name": "stdout"
        }
      ]
    },
    {
      "cell_type": "code",
      "metadata": {
        "id": "mK8Nskch3w7Q",
        "outputId": "242d2632-be86-43e6-cf58-202753b19728",
        "colab": {
          "base_uri": "https://localhost:8080/",
          "height": 0
        }
      },
      "source": [
        "# Temos 2 dados nulos (ou que não foram disponibilziados por motivo de anonimato) nos nossos dados para a coluna\n",
        "# 'IC_SEXO'; 32 dados nulos para 'CD_UF' e 1 dado nulo para 'CD_MUNICIPIO'. Podemos verificar quais são esses \n",
        "# dados nulos por meio do método isnull() para IC_SEXO_NULL, primeiramente.\n",
        "IC_SEXO_NULL = (data_pacientes_HSL['IC_SEXO'].isnull() == True)\n",
        "data_pacientes_HSL[IC_SEXO_NULL]"
      ],
      "execution_count": 8,
      "outputs": [
        {
          "output_type": "execute_result",
          "data": {
            "text/html": [
              "<div>\n",
              "<style scoped>\n",
              "    .dataframe tbody tr th:only-of-type {\n",
              "        vertical-align: middle;\n",
              "    }\n",
              "\n",
              "    .dataframe tbody tr th {\n",
              "        vertical-align: top;\n",
              "    }\n",
              "\n",
              "    .dataframe thead th {\n",
              "        text-align: right;\n",
              "    }\n",
              "</style>\n",
              "<table border=\"1\" class=\"dataframe\">\n",
              "  <thead>\n",
              "    <tr style=\"text-align: right;\">\n",
              "      <th></th>\n",
              "      <th>ID_PACIENTE</th>\n",
              "      <th>IC_SEXO</th>\n",
              "      <th>AA_NASCIMENTO</th>\n",
              "    </tr>\n",
              "  </thead>\n",
              "  <tbody>\n",
              "    <tr>\n",
              "      <th>1078</th>\n",
              "      <td>FD1EB8358E46C1C19F4BEE32B4203733</td>\n",
              "      <td>NaN</td>\n",
              "      <td>YYYY</td>\n",
              "    </tr>\n",
              "    <tr>\n",
              "      <th>1561</th>\n",
              "      <td>F72449DD367B20A2E0619201D7A14813</td>\n",
              "      <td>NaN</td>\n",
              "      <td>YYYY</td>\n",
              "    </tr>\n",
              "  </tbody>\n",
              "</table>\n",
              "</div>"
            ],
            "text/plain": [
              "                           ID_PACIENTE IC_SEXO AA_NASCIMENTO\n",
              "1078  FD1EB8358E46C1C19F4BEE32B4203733     NaN          YYYY\n",
              "1561  F72449DD367B20A2E0619201D7A14813     NaN          YYYY"
            ]
          },
          "metadata": {
            "tags": []
          },
          "execution_count": 8
        }
      ]
    },
    {
      "cell_type": "code",
      "metadata": {
        "id": "6j-AqBG38HSI",
        "outputId": "b36727b2-48b0-471a-8398-9c58ab43fef7",
        "colab": {
          "base_uri": "https://localhost:8080/",
          "height": 0
        }
      },
      "source": [
        "# Como são somente dois dados faltantes, vamos preencher os mesmos com o sexo que for mais presente nos dados:\n",
        "data_pacientes_HSL['IC_SEXO'].value_counts()"
      ],
      "execution_count": 9,
      "outputs": [
        {
          "output_type": "execute_result",
          "data": {
            "text/plain": [
              "F    2157\n",
              "M    2114\n",
              "Name: IC_SEXO, dtype: int64"
            ]
          },
          "metadata": {
            "tags": []
          },
          "execution_count": 9
        }
      ]
    },
    {
      "cell_type": "code",
      "metadata": {
        "id": "5AO9_4Rc8XfA",
        "outputId": "3e3a8204-bb22-4807-900b-a8b9c6820426",
        "colab": {
          "base_uri": "https://localhost:8080/",
          "height": 0
        }
      },
      "source": [
        "# Os dados estão bem definidos: se colocarmos o sexo como sendo 'F' a quantidade de pacientes do sexo feminino\n",
        "# no DataFrame vai de aproximadamente 50.48% para aproximadamente 50.53%. Se adotarmos os dados nulos como \n",
        "# sendo 'M', a quantidade de pacientes do sexo masculino vai de aproximadamente 49.47% para aproximadamente 49.52%.\n",
        "# Essa diferença parece bem pequena, então vamos continuar completar os dados faltantes com 'IC_SEXO' = 'F',\n",
        "# conforme planejado inicialmente.\n",
        "data_pacientes_HSL['IC_SEXO'].fillna('F', inplace=True)\n",
        "data_pacientes_HSL.info()"
      ],
      "execution_count": 10,
      "outputs": [
        {
          "output_type": "stream",
          "text": [
            "<class 'pandas.core.frame.DataFrame'>\n",
            "RangeIndex: 4273 entries, 0 to 4272\n",
            "Data columns (total 3 columns):\n",
            " #   Column         Non-Null Count  Dtype \n",
            "---  ------         --------------  ----- \n",
            " 0   ID_PACIENTE    4273 non-null   object\n",
            " 1   IC_SEXO        4273 non-null   object\n",
            " 2   AA_NASCIMENTO  4273 non-null   object\n",
            "dtypes: object(3)\n",
            "memory usage: 100.3+ KB\n"
          ],
          "name": "stdout"
        }
      ]
    },
    {
      "cell_type": "code",
      "metadata": {
        "id": "IlRomDlt-DRo",
        "outputId": "463fb51e-7b85-478b-c816-35071c53b01a",
        "colab": {
          "base_uri": "https://localhost:8080/",
          "height": 0
        }
      },
      "source": [
        "# Verificando os pacientes cujos dados de 'IC_SEXO' estavam nulos:\n",
        "IC_SEXO_NULL = (data_pacientes_HSL['ID_PACIENTE'] == 'FD1EB8358E46C1C19F4BEE32B4203733') | (data_pacientes_HSL['ID_PACIENTE'] == 'F72449DD367B20A2E0619201D7A14813')\n",
        "data_pacientes_HSL[IC_SEXO_NULL]"
      ],
      "execution_count": 11,
      "outputs": [
        {
          "output_type": "execute_result",
          "data": {
            "text/html": [
              "<div>\n",
              "<style scoped>\n",
              "    .dataframe tbody tr th:only-of-type {\n",
              "        vertical-align: middle;\n",
              "    }\n",
              "\n",
              "    .dataframe tbody tr th {\n",
              "        vertical-align: top;\n",
              "    }\n",
              "\n",
              "    .dataframe thead th {\n",
              "        text-align: right;\n",
              "    }\n",
              "</style>\n",
              "<table border=\"1\" class=\"dataframe\">\n",
              "  <thead>\n",
              "    <tr style=\"text-align: right;\">\n",
              "      <th></th>\n",
              "      <th>ID_PACIENTE</th>\n",
              "      <th>IC_SEXO</th>\n",
              "      <th>AA_NASCIMENTO</th>\n",
              "    </tr>\n",
              "  </thead>\n",
              "  <tbody>\n",
              "    <tr>\n",
              "      <th>1078</th>\n",
              "      <td>FD1EB8358E46C1C19F4BEE32B4203733</td>\n",
              "      <td>F</td>\n",
              "      <td>YYYY</td>\n",
              "    </tr>\n",
              "    <tr>\n",
              "      <th>1561</th>\n",
              "      <td>F72449DD367B20A2E0619201D7A14813</td>\n",
              "      <td>F</td>\n",
              "      <td>YYYY</td>\n",
              "    </tr>\n",
              "  </tbody>\n",
              "</table>\n",
              "</div>"
            ],
            "text/plain": [
              "                           ID_PACIENTE IC_SEXO AA_NASCIMENTO\n",
              "1078  FD1EB8358E46C1C19F4BEE32B4203733       F          YYYY\n",
              "1561  F72449DD367B20A2E0619201D7A14813       F          YYYY"
            ]
          },
          "metadata": {
            "tags": []
          },
          "execution_count": 11
        }
      ]
    },
    {
      "cell_type": "code",
      "metadata": {
        "id": "HbLhtmK33Arn",
        "outputId": "974e54f0-d1fd-4bf6-ebf9-f3f708a782dd",
        "colab": {
          "base_uri": "https://localhost:8080/",
          "height": 0
        }
      },
      "source": [
        "# Vamos codificar a variável 'IC_SEXO' com uma classificação binária, para que os algoritmos de \n",
        "# floresta aleatória no próximo notebook possam tratá-los de maneira mais adequada:\n",
        "#\n",
        "# M = 0\n",
        "# F = 1\n",
        "#\n",
        "IC_SEXO_map = {\n",
        "    'M' : 0, \n",
        "    'F' : 1\n",
        "}\n",
        "\n",
        "# Mapeando os novos valores e verificando o dataframe resultante\n",
        "data_pacientes_HSL['IC_SEXO'] = data_pacientes_HSL['IC_SEXO'].map(IC_SEXO_map)\n",
        "data_pacientes_HSL.head(5)"
      ],
      "execution_count": 12,
      "outputs": [
        {
          "output_type": "execute_result",
          "data": {
            "text/html": [
              "<div>\n",
              "<style scoped>\n",
              "    .dataframe tbody tr th:only-of-type {\n",
              "        vertical-align: middle;\n",
              "    }\n",
              "\n",
              "    .dataframe tbody tr th {\n",
              "        vertical-align: top;\n",
              "    }\n",
              "\n",
              "    .dataframe thead th {\n",
              "        text-align: right;\n",
              "    }\n",
              "</style>\n",
              "<table border=\"1\" class=\"dataframe\">\n",
              "  <thead>\n",
              "    <tr style=\"text-align: right;\">\n",
              "      <th></th>\n",
              "      <th>ID_PACIENTE</th>\n",
              "      <th>IC_SEXO</th>\n",
              "      <th>AA_NASCIMENTO</th>\n",
              "    </tr>\n",
              "  </thead>\n",
              "  <tbody>\n",
              "    <tr>\n",
              "      <th>0</th>\n",
              "      <td>3487791F44C34B421C932DC8616A8437</td>\n",
              "      <td>0</td>\n",
              "      <td>1963</td>\n",
              "    </tr>\n",
              "    <tr>\n",
              "      <th>1</th>\n",
              "      <td>0AD1FFA4419472256666A3445414F1F9</td>\n",
              "      <td>0</td>\n",
              "      <td>1969</td>\n",
              "    </tr>\n",
              "    <tr>\n",
              "      <th>2</th>\n",
              "      <td>BE35D08CF3EF6F114E9935F6D72C49FA</td>\n",
              "      <td>0</td>\n",
              "      <td>1964</td>\n",
              "    </tr>\n",
              "    <tr>\n",
              "      <th>3</th>\n",
              "      <td>962F4020D456AAB602B356E57238EF42</td>\n",
              "      <td>1</td>\n",
              "      <td>1959</td>\n",
              "    </tr>\n",
              "    <tr>\n",
              "      <th>4</th>\n",
              "      <td>F983089DAC62E42124227C856AE3444C</td>\n",
              "      <td>0</td>\n",
              "      <td>1947</td>\n",
              "    </tr>\n",
              "  </tbody>\n",
              "</table>\n",
              "</div>"
            ],
            "text/plain": [
              "                        ID_PACIENTE  IC_SEXO AA_NASCIMENTO\n",
              "0  3487791F44C34B421C932DC8616A8437        0          1963\n",
              "1  0AD1FFA4419472256666A3445414F1F9        0          1969\n",
              "2  BE35D08CF3EF6F114E9935F6D72C49FA        0          1964\n",
              "3  962F4020D456AAB602B356E57238EF42        1          1959\n",
              "4  F983089DAC62E42124227C856AE3444C        0          1947"
            ]
          },
          "metadata": {
            "tags": []
          },
          "execution_count": 12
        }
      ]
    },
    {
      "cell_type": "markdown",
      "metadata": {
        "id": "Sd1e_wZxrlJH"
      },
      "source": [
        "###**2.3) Analisando a coluna 'AA_NASCIMENTO' e criando coluna 'IC_IDADE'**"
      ]
    },
    {
      "cell_type": "code",
      "metadata": {
        "id": "DcyU9OUdAWyL",
        "outputId": "c4b37571-4f3c-474a-e795-ccec99882ee5",
        "colab": {
          "base_uri": "https://localhost:8080/",
          "height": 0
        }
      },
      "source": [
        "# Vamos tratar agora os dados de ano de nascimento. Não temos dados nulos, mas pelos exemplos acima é possível \n",
        "# perceber que nem todos os dados informados são válidos\n",
        "AA_NASCIMENTO_INVALID = data_pacientes_HSL['AA_NASCIMENTO'] == 'YYYY'\n",
        "data_pacientes_HSL[AA_NASCIMENTO_INVALID]"
      ],
      "execution_count": 13,
      "outputs": [
        {
          "output_type": "execute_result",
          "data": {
            "text/html": [
              "<div>\n",
              "<style scoped>\n",
              "    .dataframe tbody tr th:only-of-type {\n",
              "        vertical-align: middle;\n",
              "    }\n",
              "\n",
              "    .dataframe tbody tr th {\n",
              "        vertical-align: top;\n",
              "    }\n",
              "\n",
              "    .dataframe thead th {\n",
              "        text-align: right;\n",
              "    }\n",
              "</style>\n",
              "<table border=\"1\" class=\"dataframe\">\n",
              "  <thead>\n",
              "    <tr style=\"text-align: right;\">\n",
              "      <th></th>\n",
              "      <th>ID_PACIENTE</th>\n",
              "      <th>IC_SEXO</th>\n",
              "      <th>AA_NASCIMENTO</th>\n",
              "    </tr>\n",
              "  </thead>\n",
              "  <tbody>\n",
              "    <tr>\n",
              "      <th>177</th>\n",
              "      <td>E16CEA2609E231B1DD6DAB162F5AF6B7</td>\n",
              "      <td>1</td>\n",
              "      <td>YYYY</td>\n",
              "    </tr>\n",
              "    <tr>\n",
              "      <th>183</th>\n",
              "      <td>D784FBF7EAF7E9AF8F2F4329DDCDA74F</td>\n",
              "      <td>0</td>\n",
              "      <td>YYYY</td>\n",
              "    </tr>\n",
              "    <tr>\n",
              "      <th>214</th>\n",
              "      <td>02F2F8FC72B4714F5C6B98C04EDB5913</td>\n",
              "      <td>1</td>\n",
              "      <td>YYYY</td>\n",
              "    </tr>\n",
              "    <tr>\n",
              "      <th>245</th>\n",
              "      <td>3BF2F196BC7E5CF435BFE25348AD38D6</td>\n",
              "      <td>1</td>\n",
              "      <td>YYYY</td>\n",
              "    </tr>\n",
              "    <tr>\n",
              "      <th>300</th>\n",
              "      <td>1805364D2C28B95984EE504720049113</td>\n",
              "      <td>1</td>\n",
              "      <td>YYYY</td>\n",
              "    </tr>\n",
              "    <tr>\n",
              "      <th>...</th>\n",
              "      <td>...</td>\n",
              "      <td>...</td>\n",
              "      <td>...</td>\n",
              "    </tr>\n",
              "    <tr>\n",
              "      <th>4021</th>\n",
              "      <td>2519B119A900443F5D5B1E858420FA96</td>\n",
              "      <td>0</td>\n",
              "      <td>YYYY</td>\n",
              "    </tr>\n",
              "    <tr>\n",
              "      <th>4051</th>\n",
              "      <td>28BBF1CC9F9D4E0A56E6025F706FDCA5</td>\n",
              "      <td>1</td>\n",
              "      <td>YYYY</td>\n",
              "    </tr>\n",
              "    <tr>\n",
              "      <th>4160</th>\n",
              "      <td>65BD29C84E392B66F53C56E0C767838A</td>\n",
              "      <td>1</td>\n",
              "      <td>YYYY</td>\n",
              "    </tr>\n",
              "    <tr>\n",
              "      <th>4194</th>\n",
              "      <td>115D4E83D9FEFDF16C12D9A468ECFF24</td>\n",
              "      <td>0</td>\n",
              "      <td>YYYY</td>\n",
              "    </tr>\n",
              "    <tr>\n",
              "      <th>4266</th>\n",
              "      <td>F89078F457311BFD7FEB7EFB5420ED84</td>\n",
              "      <td>0</td>\n",
              "      <td>YYYY</td>\n",
              "    </tr>\n",
              "  </tbody>\n",
              "</table>\n",
              "<p>86 rows × 3 columns</p>\n",
              "</div>"
            ],
            "text/plain": [
              "                           ID_PACIENTE  IC_SEXO AA_NASCIMENTO\n",
              "177   E16CEA2609E231B1DD6DAB162F5AF6B7        1          YYYY\n",
              "183   D784FBF7EAF7E9AF8F2F4329DDCDA74F        0          YYYY\n",
              "214   02F2F8FC72B4714F5C6B98C04EDB5913        1          YYYY\n",
              "245   3BF2F196BC7E5CF435BFE25348AD38D6        1          YYYY\n",
              "300   1805364D2C28B95984EE504720049113        1          YYYY\n",
              "...                                ...      ...           ...\n",
              "4021  2519B119A900443F5D5B1E858420FA96        0          YYYY\n",
              "4051  28BBF1CC9F9D4E0A56E6025F706FDCA5        1          YYYY\n",
              "4160  65BD29C84E392B66F53C56E0C767838A        1          YYYY\n",
              "4194  115D4E83D9FEFDF16C12D9A468ECFF24        0          YYYY\n",
              "4266  F89078F457311BFD7FEB7EFB5420ED84        0          YYYY\n",
              "\n",
              "[86 rows x 3 columns]"
            ]
          },
          "metadata": {
            "tags": []
          },
          "execution_count": 13
        }
      ]
    },
    {
      "cell_type": "code",
      "metadata": {
        "id": "J9ui-U5FA_0G",
        "outputId": "99ab7f4c-c343-4219-c8d6-8daaf5856ec9",
        "colab": {
          "base_uri": "https://localhost:8080/",
          "height": 0
        }
      },
      "source": [
        "# Temos 86 dados de idade não informados, o que corresponde a aproximadamente 2.01% dos dados. \n",
        "# Podemos completar esses dados de idade com a média das demais idades. Para tal, é necessário \n",
        "# primeiro calcular a idade dos pacientes com base no ano atual e no ano de nascimento (já que \n",
        "# não temos a data precisa, para saber se o paciente já fez aniversário esse ano, utilizamos\n",
        "# somente o ano de nascimento). Vamos primeiro obter o ano atual por meio do método \n",
        "# datetime.today().year do pacote datetime. Com isso, podemos subtrair o ano atual do ano de \n",
        "# nascimento, que deve ser convertido para um valor numérico para que a operação possa ser feita.\n",
        "from datetime import datetime\n",
        "ano_atual = datetime.today().year\n",
        "\n",
        "data_pacientes_HSL['IC_IDADE'] = (ano_atual - pd.to_numeric(data_pacientes_HSL['AA_NASCIMENTO'], errors='coerce'))\n",
        "data_pacientes_HSL.head(5)"
      ],
      "execution_count": 14,
      "outputs": [
        {
          "output_type": "execute_result",
          "data": {
            "text/html": [
              "<div>\n",
              "<style scoped>\n",
              "    .dataframe tbody tr th:only-of-type {\n",
              "        vertical-align: middle;\n",
              "    }\n",
              "\n",
              "    .dataframe tbody tr th {\n",
              "        vertical-align: top;\n",
              "    }\n",
              "\n",
              "    .dataframe thead th {\n",
              "        text-align: right;\n",
              "    }\n",
              "</style>\n",
              "<table border=\"1\" class=\"dataframe\">\n",
              "  <thead>\n",
              "    <tr style=\"text-align: right;\">\n",
              "      <th></th>\n",
              "      <th>ID_PACIENTE</th>\n",
              "      <th>IC_SEXO</th>\n",
              "      <th>AA_NASCIMENTO</th>\n",
              "      <th>IC_IDADE</th>\n",
              "    </tr>\n",
              "  </thead>\n",
              "  <tbody>\n",
              "    <tr>\n",
              "      <th>0</th>\n",
              "      <td>3487791F44C34B421C932DC8616A8437</td>\n",
              "      <td>0</td>\n",
              "      <td>1963</td>\n",
              "      <td>57.0</td>\n",
              "    </tr>\n",
              "    <tr>\n",
              "      <th>1</th>\n",
              "      <td>0AD1FFA4419472256666A3445414F1F9</td>\n",
              "      <td>0</td>\n",
              "      <td>1969</td>\n",
              "      <td>51.0</td>\n",
              "    </tr>\n",
              "    <tr>\n",
              "      <th>2</th>\n",
              "      <td>BE35D08CF3EF6F114E9935F6D72C49FA</td>\n",
              "      <td>0</td>\n",
              "      <td>1964</td>\n",
              "      <td>56.0</td>\n",
              "    </tr>\n",
              "    <tr>\n",
              "      <th>3</th>\n",
              "      <td>962F4020D456AAB602B356E57238EF42</td>\n",
              "      <td>1</td>\n",
              "      <td>1959</td>\n",
              "      <td>61.0</td>\n",
              "    </tr>\n",
              "    <tr>\n",
              "      <th>4</th>\n",
              "      <td>F983089DAC62E42124227C856AE3444C</td>\n",
              "      <td>0</td>\n",
              "      <td>1947</td>\n",
              "      <td>73.0</td>\n",
              "    </tr>\n",
              "  </tbody>\n",
              "</table>\n",
              "</div>"
            ],
            "text/plain": [
              "                        ID_PACIENTE  IC_SEXO AA_NASCIMENTO  IC_IDADE\n",
              "0  3487791F44C34B421C932DC8616A8437        0          1963      57.0\n",
              "1  0AD1FFA4419472256666A3445414F1F9        0          1969      51.0\n",
              "2  BE35D08CF3EF6F114E9935F6D72C49FA        0          1964      56.0\n",
              "3  962F4020D456AAB602B356E57238EF42        1          1959      61.0\n",
              "4  F983089DAC62E42124227C856AE3444C        0          1947      73.0"
            ]
          },
          "metadata": {
            "tags": []
          },
          "execution_count": 14
        }
      ]
    },
    {
      "cell_type": "code",
      "metadata": {
        "id": "OfIjoNf8R8RH",
        "outputId": "7430cb54-498c-48cb-efb0-d0da73f5d8f8",
        "colab": {
          "base_uri": "https://localhost:8080/",
          "height": 0
        }
      },
      "source": [
        "# O resultado da operação anterior torna os dados não numéricos em NaN:\n",
        "IC_IDADE_NULL = data_pacientes_HSL['IC_IDADE'].isnull()\n",
        "data_pacientes_HSL[IC_IDADE_NULL]"
      ],
      "execution_count": 15,
      "outputs": [
        {
          "output_type": "execute_result",
          "data": {
            "text/html": [
              "<div>\n",
              "<style scoped>\n",
              "    .dataframe tbody tr th:only-of-type {\n",
              "        vertical-align: middle;\n",
              "    }\n",
              "\n",
              "    .dataframe tbody tr th {\n",
              "        vertical-align: top;\n",
              "    }\n",
              "\n",
              "    .dataframe thead th {\n",
              "        text-align: right;\n",
              "    }\n",
              "</style>\n",
              "<table border=\"1\" class=\"dataframe\">\n",
              "  <thead>\n",
              "    <tr style=\"text-align: right;\">\n",
              "      <th></th>\n",
              "      <th>ID_PACIENTE</th>\n",
              "      <th>IC_SEXO</th>\n",
              "      <th>AA_NASCIMENTO</th>\n",
              "      <th>IC_IDADE</th>\n",
              "    </tr>\n",
              "  </thead>\n",
              "  <tbody>\n",
              "    <tr>\n",
              "      <th>9</th>\n",
              "      <td>87D0DF35EA2D504FA30F81E84ACB8EF4</td>\n",
              "      <td>0</td>\n",
              "      <td>AAAA</td>\n",
              "      <td>NaN</td>\n",
              "    </tr>\n",
              "    <tr>\n",
              "      <th>14</th>\n",
              "      <td>EF76A95879354195A081BAAE73BC980D</td>\n",
              "      <td>0</td>\n",
              "      <td>AAAA</td>\n",
              "      <td>NaN</td>\n",
              "    </tr>\n",
              "    <tr>\n",
              "      <th>101</th>\n",
              "      <td>2417AF2D8A05E7DF5E8D917E0D363DEC</td>\n",
              "      <td>1</td>\n",
              "      <td>AAAA</td>\n",
              "      <td>NaN</td>\n",
              "    </tr>\n",
              "    <tr>\n",
              "      <th>177</th>\n",
              "      <td>E16CEA2609E231B1DD6DAB162F5AF6B7</td>\n",
              "      <td>1</td>\n",
              "      <td>YYYY</td>\n",
              "      <td>NaN</td>\n",
              "    </tr>\n",
              "    <tr>\n",
              "      <th>183</th>\n",
              "      <td>D784FBF7EAF7E9AF8F2F4329DDCDA74F</td>\n",
              "      <td>0</td>\n",
              "      <td>YYYY</td>\n",
              "      <td>NaN</td>\n",
              "    </tr>\n",
              "    <tr>\n",
              "      <th>...</th>\n",
              "      <td>...</td>\n",
              "      <td>...</td>\n",
              "      <td>...</td>\n",
              "      <td>...</td>\n",
              "    </tr>\n",
              "    <tr>\n",
              "      <th>4215</th>\n",
              "      <td>0D9CCA6B84A642C9AAF3A6978942FC9B</td>\n",
              "      <td>1</td>\n",
              "      <td>AAAA</td>\n",
              "      <td>NaN</td>\n",
              "    </tr>\n",
              "    <tr>\n",
              "      <th>4246</th>\n",
              "      <td>4A605023FFBDA5EA2644B1FAAE26D23B</td>\n",
              "      <td>0</td>\n",
              "      <td>AAAA</td>\n",
              "      <td>NaN</td>\n",
              "    </tr>\n",
              "    <tr>\n",
              "      <th>4250</th>\n",
              "      <td>C38399695B7789855C11FD9499F3E038</td>\n",
              "      <td>1</td>\n",
              "      <td>AAAA</td>\n",
              "      <td>NaN</td>\n",
              "    </tr>\n",
              "    <tr>\n",
              "      <th>4266</th>\n",
              "      <td>F89078F457311BFD7FEB7EFB5420ED84</td>\n",
              "      <td>0</td>\n",
              "      <td>YYYY</td>\n",
              "      <td>NaN</td>\n",
              "    </tr>\n",
              "    <tr>\n",
              "      <th>4267</th>\n",
              "      <td>DCE6F6377342B2106C3ABD88F60EA582</td>\n",
              "      <td>1</td>\n",
              "      <td>AAAA</td>\n",
              "      <td>NaN</td>\n",
              "    </tr>\n",
              "  </tbody>\n",
              "</table>\n",
              "<p>132 rows × 4 columns</p>\n",
              "</div>"
            ],
            "text/plain": [
              "                           ID_PACIENTE  IC_SEXO AA_NASCIMENTO  IC_IDADE\n",
              "9     87D0DF35EA2D504FA30F81E84ACB8EF4        0          AAAA       NaN\n",
              "14    EF76A95879354195A081BAAE73BC980D        0          AAAA       NaN\n",
              "101   2417AF2D8A05E7DF5E8D917E0D363DEC        1          AAAA       NaN\n",
              "177   E16CEA2609E231B1DD6DAB162F5AF6B7        1          YYYY       NaN\n",
              "183   D784FBF7EAF7E9AF8F2F4329DDCDA74F        0          YYYY       NaN\n",
              "...                                ...      ...           ...       ...\n",
              "4215  0D9CCA6B84A642C9AAF3A6978942FC9B        1          AAAA       NaN\n",
              "4246  4A605023FFBDA5EA2644B1FAAE26D23B        0          AAAA       NaN\n",
              "4250  C38399695B7789855C11FD9499F3E038        1          AAAA       NaN\n",
              "4266  F89078F457311BFD7FEB7EFB5420ED84        0          YYYY       NaN\n",
              "4267  DCE6F6377342B2106C3ABD88F60EA582        1          AAAA       NaN\n",
              "\n",
              "[132 rows x 4 columns]"
            ]
          },
          "metadata": {
            "tags": []
          },
          "execution_count": 15
        }
      ]
    },
    {
      "cell_type": "code",
      "metadata": {
        "id": "uEBMnjevgUJQ",
        "outputId": "d76ea863-4b0e-427d-b996-720028be8088",
        "colab": {
          "base_uri": "https://localhost:8080/",
          "height": 0
        }
      },
      "source": [
        "# Vamos calcular a média de idade disponível na coluna 'IC_IDADE' para substituir os dados faltantes\n",
        "data_pacientes_HSL['IC_IDADE'].mean()"
      ],
      "execution_count": 16,
      "outputs": [
        {
          "output_type": "execute_result",
          "data": {
            "text/plain": [
              "43.50446751992273"
            ]
          },
          "metadata": {
            "tags": []
          },
          "execution_count": 16
        }
      ]
    },
    {
      "cell_type": "code",
      "metadata": {
        "id": "SN8MIlejSiW3",
        "outputId": "82992a35-2010-4057-f06f-d80252808f53",
        "colab": {
          "base_uri": "https://localhost:8080/",
          "height": 0
        }
      },
      "source": [
        "# Vamos arredondar a média de idade para 40, já que idade como casas decimais não é comum. Substituimos\n",
        "# os valores nulos da coluna 'IC_IDADE' por 44.\n",
        "data_pacientes_HSL['IC_IDADE'].fillna(44, inplace=True)\n",
        "data_pacientes_HSL.head(10)"
      ],
      "execution_count": 17,
      "outputs": [
        {
          "output_type": "execute_result",
          "data": {
            "text/html": [
              "<div>\n",
              "<style scoped>\n",
              "    .dataframe tbody tr th:only-of-type {\n",
              "        vertical-align: middle;\n",
              "    }\n",
              "\n",
              "    .dataframe tbody tr th {\n",
              "        vertical-align: top;\n",
              "    }\n",
              "\n",
              "    .dataframe thead th {\n",
              "        text-align: right;\n",
              "    }\n",
              "</style>\n",
              "<table border=\"1\" class=\"dataframe\">\n",
              "  <thead>\n",
              "    <tr style=\"text-align: right;\">\n",
              "      <th></th>\n",
              "      <th>ID_PACIENTE</th>\n",
              "      <th>IC_SEXO</th>\n",
              "      <th>AA_NASCIMENTO</th>\n",
              "      <th>IC_IDADE</th>\n",
              "    </tr>\n",
              "  </thead>\n",
              "  <tbody>\n",
              "    <tr>\n",
              "      <th>0</th>\n",
              "      <td>3487791F44C34B421C932DC8616A8437</td>\n",
              "      <td>0</td>\n",
              "      <td>1963</td>\n",
              "      <td>57.0</td>\n",
              "    </tr>\n",
              "    <tr>\n",
              "      <th>1</th>\n",
              "      <td>0AD1FFA4419472256666A3445414F1F9</td>\n",
              "      <td>0</td>\n",
              "      <td>1969</td>\n",
              "      <td>51.0</td>\n",
              "    </tr>\n",
              "    <tr>\n",
              "      <th>2</th>\n",
              "      <td>BE35D08CF3EF6F114E9935F6D72C49FA</td>\n",
              "      <td>0</td>\n",
              "      <td>1964</td>\n",
              "      <td>56.0</td>\n",
              "    </tr>\n",
              "    <tr>\n",
              "      <th>3</th>\n",
              "      <td>962F4020D456AAB602B356E57238EF42</td>\n",
              "      <td>1</td>\n",
              "      <td>1959</td>\n",
              "      <td>61.0</td>\n",
              "    </tr>\n",
              "    <tr>\n",
              "      <th>4</th>\n",
              "      <td>F983089DAC62E42124227C856AE3444C</td>\n",
              "      <td>0</td>\n",
              "      <td>1947</td>\n",
              "      <td>73.0</td>\n",
              "    </tr>\n",
              "    <tr>\n",
              "      <th>5</th>\n",
              "      <td>FBACC8550F2B875BE5FCEBD320CF0DEF</td>\n",
              "      <td>0</td>\n",
              "      <td>1959</td>\n",
              "      <td>61.0</td>\n",
              "    </tr>\n",
              "    <tr>\n",
              "      <th>6</th>\n",
              "      <td>74C6B0CEF2B73BBA9AC5310A4BEC5B4D</td>\n",
              "      <td>0</td>\n",
              "      <td>1969</td>\n",
              "      <td>51.0</td>\n",
              "    </tr>\n",
              "    <tr>\n",
              "      <th>7</th>\n",
              "      <td>A2D9A2C3A47BEF62661458BA7B014771</td>\n",
              "      <td>0</td>\n",
              "      <td>1991</td>\n",
              "      <td>29.0</td>\n",
              "    </tr>\n",
              "    <tr>\n",
              "      <th>8</th>\n",
              "      <td>11CE6296257A354E5D0B342F37F82111</td>\n",
              "      <td>1</td>\n",
              "      <td>1954</td>\n",
              "      <td>66.0</td>\n",
              "    </tr>\n",
              "    <tr>\n",
              "      <th>9</th>\n",
              "      <td>87D0DF35EA2D504FA30F81E84ACB8EF4</td>\n",
              "      <td>0</td>\n",
              "      <td>AAAA</td>\n",
              "      <td>44.0</td>\n",
              "    </tr>\n",
              "  </tbody>\n",
              "</table>\n",
              "</div>"
            ],
            "text/plain": [
              "                        ID_PACIENTE  IC_SEXO AA_NASCIMENTO  IC_IDADE\n",
              "0  3487791F44C34B421C932DC8616A8437        0          1963      57.0\n",
              "1  0AD1FFA4419472256666A3445414F1F9        0          1969      51.0\n",
              "2  BE35D08CF3EF6F114E9935F6D72C49FA        0          1964      56.0\n",
              "3  962F4020D456AAB602B356E57238EF42        1          1959      61.0\n",
              "4  F983089DAC62E42124227C856AE3444C        0          1947      73.0\n",
              "5  FBACC8550F2B875BE5FCEBD320CF0DEF        0          1959      61.0\n",
              "6  74C6B0CEF2B73BBA9AC5310A4BEC5B4D        0          1969      51.0\n",
              "7  A2D9A2C3A47BEF62661458BA7B014771        0          1991      29.0\n",
              "8  11CE6296257A354E5D0B342F37F82111        1          1954      66.0\n",
              "9  87D0DF35EA2D504FA30F81E84ACB8EF4        0          AAAA      44.0"
            ]
          },
          "metadata": {
            "tags": []
          },
          "execution_count": 17
        }
      ]
    },
    {
      "cell_type": "code",
      "metadata": {
        "id": "NuMvg0hWUAWs",
        "outputId": "483a0ad4-5bb8-47c6-80bd-e71124fd7017",
        "colab": {
          "base_uri": "https://localhost:8080/",
          "height": 0
        }
      },
      "source": [
        "# Conferindo que não há dados faltantes em termos de idade no Dataframe\n",
        "IC_IDADE_NULL = data_pacientes_HSL['IC_IDADE'].isnull()\n",
        "data_pacientes_HSL[IC_IDADE_NULL]"
      ],
      "execution_count": 18,
      "outputs": [
        {
          "output_type": "execute_result",
          "data": {
            "text/html": [
              "<div>\n",
              "<style scoped>\n",
              "    .dataframe tbody tr th:only-of-type {\n",
              "        vertical-align: middle;\n",
              "    }\n",
              "\n",
              "    .dataframe tbody tr th {\n",
              "        vertical-align: top;\n",
              "    }\n",
              "\n",
              "    .dataframe thead th {\n",
              "        text-align: right;\n",
              "    }\n",
              "</style>\n",
              "<table border=\"1\" class=\"dataframe\">\n",
              "  <thead>\n",
              "    <tr style=\"text-align: right;\">\n",
              "      <th></th>\n",
              "      <th>ID_PACIENTE</th>\n",
              "      <th>IC_SEXO</th>\n",
              "      <th>AA_NASCIMENTO</th>\n",
              "      <th>IC_IDADE</th>\n",
              "    </tr>\n",
              "  </thead>\n",
              "  <tbody>\n",
              "  </tbody>\n",
              "</table>\n",
              "</div>"
            ],
            "text/plain": [
              "Empty DataFrame\n",
              "Columns: [ID_PACIENTE, IC_SEXO, AA_NASCIMENTO, IC_IDADE]\n",
              "Index: []"
            ]
          },
          "metadata": {
            "tags": []
          },
          "execution_count": 18
        }
      ]
    },
    {
      "cell_type": "markdown",
      "metadata": {
        "id": "WWpbIq7GsM6D"
      },
      "source": [
        "### **2.4) Excluindo variáveis e ordenando o Dataframe**"
      ]
    },
    {
      "cell_type": "code",
      "metadata": {
        "id": "Hqpg3V0pOaUh",
        "outputId": "c52503bf-2494-4ea8-891e-bee0c0dd3e77",
        "colab": {
          "base_uri": "https://localhost:8080/",
          "height": 0
        }
      },
      "source": [
        "# Para município, temos muitos dados em anonimato. É de se supor que a maioria seja de SP, mas se colocássemos\n",
        "# todos esses dados como São Paulo, teriamos mais municípios de São Paulo do que o próprio estado 'SP'. Como não \n",
        "# há uma forma clara de distribuir esses municípios, uma vez que temos uma variedade grande de estados presente\n",
        "# no dataframe, optamos por excluir essa infomração, permanecendo somente com 'CD_UF' referente ao endereço\n",
        "# do paciente. Vamos também eliminar a coluna 'AA_NASCIMENTO', pois já temos a idade dos pacientes na coluna \n",
        "# 'IC_IDADE'.\n",
        "data_pacientes_HSL.drop(['AA_NASCIMENTO'], axis=1, inplace=True)\n",
        "data_pacientes_HSL.head(5)"
      ],
      "execution_count": 19,
      "outputs": [
        {
          "output_type": "execute_result",
          "data": {
            "text/html": [
              "<div>\n",
              "<style scoped>\n",
              "    .dataframe tbody tr th:only-of-type {\n",
              "        vertical-align: middle;\n",
              "    }\n",
              "\n",
              "    .dataframe tbody tr th {\n",
              "        vertical-align: top;\n",
              "    }\n",
              "\n",
              "    .dataframe thead th {\n",
              "        text-align: right;\n",
              "    }\n",
              "</style>\n",
              "<table border=\"1\" class=\"dataframe\">\n",
              "  <thead>\n",
              "    <tr style=\"text-align: right;\">\n",
              "      <th></th>\n",
              "      <th>ID_PACIENTE</th>\n",
              "      <th>IC_SEXO</th>\n",
              "      <th>IC_IDADE</th>\n",
              "    </tr>\n",
              "  </thead>\n",
              "  <tbody>\n",
              "    <tr>\n",
              "      <th>0</th>\n",
              "      <td>3487791F44C34B421C932DC8616A8437</td>\n",
              "      <td>0</td>\n",
              "      <td>57.0</td>\n",
              "    </tr>\n",
              "    <tr>\n",
              "      <th>1</th>\n",
              "      <td>0AD1FFA4419472256666A3445414F1F9</td>\n",
              "      <td>0</td>\n",
              "      <td>51.0</td>\n",
              "    </tr>\n",
              "    <tr>\n",
              "      <th>2</th>\n",
              "      <td>BE35D08CF3EF6F114E9935F6D72C49FA</td>\n",
              "      <td>0</td>\n",
              "      <td>56.0</td>\n",
              "    </tr>\n",
              "    <tr>\n",
              "      <th>3</th>\n",
              "      <td>962F4020D456AAB602B356E57238EF42</td>\n",
              "      <td>1</td>\n",
              "      <td>61.0</td>\n",
              "    </tr>\n",
              "    <tr>\n",
              "      <th>4</th>\n",
              "      <td>F983089DAC62E42124227C856AE3444C</td>\n",
              "      <td>0</td>\n",
              "      <td>73.0</td>\n",
              "    </tr>\n",
              "  </tbody>\n",
              "</table>\n",
              "</div>"
            ],
            "text/plain": [
              "                        ID_PACIENTE  IC_SEXO  IC_IDADE\n",
              "0  3487791F44C34B421C932DC8616A8437        0      57.0\n",
              "1  0AD1FFA4419472256666A3445414F1F9        0      51.0\n",
              "2  BE35D08CF3EF6F114E9935F6D72C49FA        0      56.0\n",
              "3  962F4020D456AAB602B356E57238EF42        1      61.0\n",
              "4  F983089DAC62E42124227C856AE3444C        0      73.0"
            ]
          },
          "metadata": {
            "tags": []
          },
          "execution_count": 19
        }
      ]
    },
    {
      "cell_type": "code",
      "metadata": {
        "id": "oA-7CpbpXEXy",
        "outputId": "4ba1904f-f812-4f42-eed5-3ff53a625951",
        "colab": {
          "base_uri": "https://localhost:8080/",
          "height": 0
        }
      },
      "source": [
        "# Trocando a ordem das colunas para uma estrutura mais lógica\n",
        "data_pacientes_HSL = data_pacientes_HSL[['ID_PACIENTE','IC_SEXO','IC_IDADE']]\n",
        "print(data_pacientes_HSL.shape[0])\n",
        "data_pacientes_HSL.head(10)"
      ],
      "execution_count": 20,
      "outputs": [
        {
          "output_type": "stream",
          "text": [
            "4273\n"
          ],
          "name": "stdout"
        },
        {
          "output_type": "execute_result",
          "data": {
            "text/html": [
              "<div>\n",
              "<style scoped>\n",
              "    .dataframe tbody tr th:only-of-type {\n",
              "        vertical-align: middle;\n",
              "    }\n",
              "\n",
              "    .dataframe tbody tr th {\n",
              "        vertical-align: top;\n",
              "    }\n",
              "\n",
              "    .dataframe thead th {\n",
              "        text-align: right;\n",
              "    }\n",
              "</style>\n",
              "<table border=\"1\" class=\"dataframe\">\n",
              "  <thead>\n",
              "    <tr style=\"text-align: right;\">\n",
              "      <th></th>\n",
              "      <th>ID_PACIENTE</th>\n",
              "      <th>IC_SEXO</th>\n",
              "      <th>IC_IDADE</th>\n",
              "    </tr>\n",
              "  </thead>\n",
              "  <tbody>\n",
              "    <tr>\n",
              "      <th>0</th>\n",
              "      <td>3487791F44C34B421C932DC8616A8437</td>\n",
              "      <td>0</td>\n",
              "      <td>57.0</td>\n",
              "    </tr>\n",
              "    <tr>\n",
              "      <th>1</th>\n",
              "      <td>0AD1FFA4419472256666A3445414F1F9</td>\n",
              "      <td>0</td>\n",
              "      <td>51.0</td>\n",
              "    </tr>\n",
              "    <tr>\n",
              "      <th>2</th>\n",
              "      <td>BE35D08CF3EF6F114E9935F6D72C49FA</td>\n",
              "      <td>0</td>\n",
              "      <td>56.0</td>\n",
              "    </tr>\n",
              "    <tr>\n",
              "      <th>3</th>\n",
              "      <td>962F4020D456AAB602B356E57238EF42</td>\n",
              "      <td>1</td>\n",
              "      <td>61.0</td>\n",
              "    </tr>\n",
              "    <tr>\n",
              "      <th>4</th>\n",
              "      <td>F983089DAC62E42124227C856AE3444C</td>\n",
              "      <td>0</td>\n",
              "      <td>73.0</td>\n",
              "    </tr>\n",
              "    <tr>\n",
              "      <th>5</th>\n",
              "      <td>FBACC8550F2B875BE5FCEBD320CF0DEF</td>\n",
              "      <td>0</td>\n",
              "      <td>61.0</td>\n",
              "    </tr>\n",
              "    <tr>\n",
              "      <th>6</th>\n",
              "      <td>74C6B0CEF2B73BBA9AC5310A4BEC5B4D</td>\n",
              "      <td>0</td>\n",
              "      <td>51.0</td>\n",
              "    </tr>\n",
              "    <tr>\n",
              "      <th>7</th>\n",
              "      <td>A2D9A2C3A47BEF62661458BA7B014771</td>\n",
              "      <td>0</td>\n",
              "      <td>29.0</td>\n",
              "    </tr>\n",
              "    <tr>\n",
              "      <th>8</th>\n",
              "      <td>11CE6296257A354E5D0B342F37F82111</td>\n",
              "      <td>1</td>\n",
              "      <td>66.0</td>\n",
              "    </tr>\n",
              "    <tr>\n",
              "      <th>9</th>\n",
              "      <td>87D0DF35EA2D504FA30F81E84ACB8EF4</td>\n",
              "      <td>0</td>\n",
              "      <td>44.0</td>\n",
              "    </tr>\n",
              "  </tbody>\n",
              "</table>\n",
              "</div>"
            ],
            "text/plain": [
              "                        ID_PACIENTE  IC_SEXO  IC_IDADE\n",
              "0  3487791F44C34B421C932DC8616A8437        0      57.0\n",
              "1  0AD1FFA4419472256666A3445414F1F9        0      51.0\n",
              "2  BE35D08CF3EF6F114E9935F6D72C49FA        0      56.0\n",
              "3  962F4020D456AAB602B356E57238EF42        1      61.0\n",
              "4  F983089DAC62E42124227C856AE3444C        0      73.0\n",
              "5  FBACC8550F2B875BE5FCEBD320CF0DEF        0      61.0\n",
              "6  74C6B0CEF2B73BBA9AC5310A4BEC5B4D        0      51.0\n",
              "7  A2D9A2C3A47BEF62661458BA7B014771        0      29.0\n",
              "8  11CE6296257A354E5D0B342F37F82111        1      66.0\n",
              "9  87D0DF35EA2D504FA30F81E84ACB8EF4        0      44.0"
            ]
          },
          "metadata": {
            "tags": []
          },
          "execution_count": 20
        }
      ]
    },
    {
      "cell_type": "code",
      "metadata": {
        "id": "sXe2LzfQYRQr"
      },
      "source": [
        "# Salvando o arquivo com informações dos pacientes em formato .csv\n",
        "data_pacientes_HSL.to_csv('HSL_Pacientes_2_EDA.csv')"
      ],
      "execution_count": 21,
      "outputs": []
    },
    {
      "cell_type": "markdown",
      "metadata": {
        "id": "UxeSwl2p52QQ"
      },
      "source": [
        "##**3) Análise das informações de exames**"
      ]
    },
    {
      "cell_type": "code",
      "metadata": {
        "id": "PRWsVKU7gb7u",
        "outputId": "88e186f2-fb9b-4760-f66e-bc8782d24800",
        "colab": {
          "base_uri": "https://localhost:8080/",
          "height": 0
        }
      },
      "source": [
        "# Importando dados dos exames do arquvio 'HSL_Exames_2.csv'. O caracter de separação das colunas no arquivo .csv\n",
        "# é o '|'. Exibindo os 5 primeiros dados para verificar se as informações foram importadas corretamente.\n",
        "#\n",
        "data_exames_HSL = pd.read_csv('HSL_Exames_2.csv', sep='|')\n",
        "data_exames_HSL.head(5)"
      ],
      "execution_count": 22,
      "outputs": [
        {
          "output_type": "execute_result",
          "data": {
            "text/html": [
              "<div>\n",
              "<style scoped>\n",
              "    .dataframe tbody tr th:only-of-type {\n",
              "        vertical-align: middle;\n",
              "    }\n",
              "\n",
              "    .dataframe tbody tr th {\n",
              "        vertical-align: top;\n",
              "    }\n",
              "\n",
              "    .dataframe thead th {\n",
              "        text-align: right;\n",
              "    }\n",
              "</style>\n",
              "<table border=\"1\" class=\"dataframe\">\n",
              "  <thead>\n",
              "    <tr style=\"text-align: right;\">\n",
              "      <th></th>\n",
              "      <th>ID_PACIENTE</th>\n",
              "      <th>ID_ATENDIMENTO</th>\n",
              "      <th>DT_COLETA</th>\n",
              "      <th>DE_ORIGEM</th>\n",
              "      <th>DE_EXAME</th>\n",
              "      <th>DE_ANALITO</th>\n",
              "      <th>DE_RESULTADO</th>\n",
              "      <th>CD_UNIDADE</th>\n",
              "      <th>DE_VALOR_REFERENCIA</th>\n",
              "    </tr>\n",
              "  </thead>\n",
              "  <tbody>\n",
              "    <tr>\n",
              "      <th>0</th>\n",
              "      <td>3487791F44C34B421C932DC8616A8437</td>\n",
              "      <td>F924F6CEA1539FEFDCE7C252DFA5AF99</td>\n",
              "      <td>2020-05-14</td>\n",
              "      <td>Pronto Socorro</td>\n",
              "      <td>Fosfatase Alcalina</td>\n",
              "      <td>Fosfatase Alcalina</td>\n",
              "      <td>106</td>\n",
              "      <td>U/L</td>\n",
              "      <td>40 - 129</td>\n",
              "    </tr>\n",
              "    <tr>\n",
              "      <th>1</th>\n",
              "      <td>3487791F44C34B421C932DC8616A8437</td>\n",
              "      <td>F924F6CEA1539FEFDCE7C252DFA5AF99</td>\n",
              "      <td>2020-05-14</td>\n",
              "      <td>Pronto Socorro</td>\n",
              "      <td>Gama Gt</td>\n",
              "      <td>Gama-GT</td>\n",
              "      <td>33</td>\n",
              "      <td>U/L</td>\n",
              "      <td>12 a 73</td>\n",
              "    </tr>\n",
              "    <tr>\n",
              "      <th>2</th>\n",
              "      <td>3487791F44C34B421C932DC8616A8437</td>\n",
              "      <td>F924F6CEA1539FEFDCE7C252DFA5AF99</td>\n",
              "      <td>2020-05-14</td>\n",
              "      <td>Pronto Socorro</td>\n",
              "      <td>Tgp</td>\n",
              "      <td>ALT (TGP)</td>\n",
              "      <td>51</td>\n",
              "      <td>U/L</td>\n",
              "      <td>Até 41</td>\n",
              "    </tr>\n",
              "    <tr>\n",
              "      <th>3</th>\n",
              "      <td>3487791F44C34B421C932DC8616A8437</td>\n",
              "      <td>F924F6CEA1539FEFDCE7C252DFA5AF99</td>\n",
              "      <td>2020-05-14</td>\n",
              "      <td>Pronto Socorro</td>\n",
              "      <td>Desidrogenase Lática (DHL/L)</td>\n",
              "      <td>DHL</td>\n",
              "      <td>530</td>\n",
              "      <td>U/L</td>\n",
              "      <td>240 a 480</td>\n",
              "    </tr>\n",
              "    <tr>\n",
              "      <th>4</th>\n",
              "      <td>3487791F44C34B421C932DC8616A8437</td>\n",
              "      <td>F924F6CEA1539FEFDCE7C252DFA5AF99</td>\n",
              "      <td>2020-05-14</td>\n",
              "      <td>Pronto Socorro</td>\n",
              "      <td>Proteína C Reativa, plasma</td>\n",
              "      <td>Proteína C-Reativa</td>\n",
              "      <td>1,84</td>\n",
              "      <td>mg/dL</td>\n",
              "      <td>Ver resultado tradicional</td>\n",
              "    </tr>\n",
              "  </tbody>\n",
              "</table>\n",
              "</div>"
            ],
            "text/plain": [
              "                        ID_PACIENTE  ...        DE_VALOR_REFERENCIA\n",
              "0  3487791F44C34B421C932DC8616A8437  ...                   40 - 129\n",
              "1  3487791F44C34B421C932DC8616A8437  ...                    12 a 73\n",
              "2  3487791F44C34B421C932DC8616A8437  ...                     Até 41\n",
              "3  3487791F44C34B421C932DC8616A8437  ...                  240 a 480\n",
              "4  3487791F44C34B421C932DC8616A8437  ...  Ver resultado tradicional\n",
              "\n",
              "[5 rows x 9 columns]"
            ]
          },
          "metadata": {
            "tags": []
          },
          "execution_count": 22
        }
      ]
    },
    {
      "cell_type": "code",
      "metadata": {
        "id": "LSOMgRQM96lv"
      },
      "source": [
        "#data_exames_HSL.to_csv('HSL_Exames_2_dot.csv', sep='|', decimal = '.')\n",
        "#data_exames_HSL = pd.read_csv('HSL_Exames_2_dot.csv', sep='|', decimal='.')\n",
        "#data_exames_HSL.head(5)"
      ],
      "execution_count": 23,
      "outputs": []
    },
    {
      "cell_type": "code",
      "metadata": {
        "id": "gKsWpuzqg_AF",
        "outputId": "c13b51b7-a323-4e7e-8d28-fb1981b1f574",
        "colab": {
          "base_uri": "https://localhost:8080/",
          "height": 0
        }
      },
      "source": [
        "# Exibindo informações referentes ao tamanho dos DataFrames importados\n",
        "print('O número total de exames realziados é igual a {}'.format(data_exames_HSL.shape[0]))\n",
        "print('Cada exame possui {} características atreladas'.format(data_exames_HSL.shape[1]))"
      ],
      "execution_count": 24,
      "outputs": [
        {
          "output_type": "stream",
          "text": [
            "O número total de exames realziados é igual a 259440\n",
            "Cada exame possui 9 características atreladas\n"
          ],
          "name": "stdout"
        }
      ]
    },
    {
      "cell_type": "markdown",
      "metadata": {
        "id": "dGi2vid6semx"
      },
      "source": [
        "### **3.1) Procurando features de interesse em 'DE_ANALITO'**"
      ]
    },
    {
      "cell_type": "code",
      "metadata": {
        "id": "XCU8k_25hmtq",
        "outputId": "5b6e5159-b108-4328-e73a-f195bd4b446f",
        "colab": {
          "base_uri": "https://localhost:8080/",
          "height": 0
        }
      },
      "source": [
        "# Temos muito mais exames realizados do que o número total de pacientes (4273). Isso ocorre porque cada paciente\n",
        "# pode realizar vários exames, que analizam diversas características, chamadas de analitos. Cada exame analisa um\n",
        "# analito por vez, retornando um valor numérico ou uma string indicando o resultado do exame para o analito \n",
        "# específico. Um exame analisa um analito por vez, mas no total, vários analitos podem ser examinados com um único\n",
        "# tipo de exame.\n",
        "#\n",
        "# De acordo com o artigo de referência 'BAO, Forrest Sheng et al. Triaging moderate COVID-19 and other viral pneumonias from routine\n",
        "# blood tests', para determinação de COVID-19 ou não nos pacientes, as features mais relevantes utilizadas foram:\n",
        "#\n",
        "# Feature do artigo | DE_ANALITO\n",
        "#\n",
        "# WBC (White Blood Cells) = Leucócitos\n",
        "# HGB = Hemoglobina \n",
        "# platelet = Plaquetas \n",
        "# neutrophil % | Neutrófilos (%) \n",
        "# neutrophil # | Neutrófilos \n",
        "# lymphocyte % | Linfócitos \n",
        "# lymphocyte # | Linfócitos \n",
        "# CRP (C-Reactive Protein) | Proteína C-Reativa \n",
        "# TBil | Bilirrubina Total* \n",
        "# BUN (Blood Urea Nitrogen) | Uréia \n",
        "# creatinine | Creatinina \n",
        "# LDH  (Desidrogenase Láctica) | DHL \n",
        "# D-dimer | Dimeros D, quant \n",
        "# age \n",
        "# gender \n",
        "#\n",
        "# Idade e gênero dos pacientes já são informações tratados no DataFrame anterior (incluimos também UF para verificar se\n",
        "# tem algum impacto nos algoritmos de aprendizagem de máquina). No conjunto de dados de exames (data_exames_HLS), \n",
        "# precisamos encontrar nos analitos ('DE_ANALITO') as características acima. Para isso, procuramos todos os diferentes\n",
        "# tipos de analitos presentes no conjunto de dados de exames. Com a lista em mãos, copiamos as informações e procuramos\n",
        "# os analitos especificados no artigo citado anteriormente.\n",
        "data_exames_HSL['DE_ANALITO'].unique()"
      ],
      "execution_count": 25,
      "outputs": [
        {
          "output_type": "execute_result",
          "data": {
            "text/plain": [
              "array(['Fosfatase Alcalina', 'Gama-GT', 'ALT (TGP)', 'DHL',\n",
              "       'Proteína C-Reativa', 'AST (TGO)', 'Fibrinogenio',\n",
              "       'Dimeros D, quant', 'Hemoglobina', 'VCM', 'Leucócitos',\n",
              "       'Neutrófilos', 'Eosinófilos', 'Basófilos', 'Linfócitos',\n",
              "       'Monócitos', 'Plaquetas', 'Eritrócitos', 'Hematócrito', 'HCM',\n",
              "       'CHCM', 'RDW', 'Neutrófilos (%)', 'Eosinófilos (%)',\n",
              "       'Basófilos (%)', 'Linfócitos (%)', 'Monócitos (%)',\n",
              "       'Morfologia, SVE', 'Morfologia, SB', 'Troponina', 'Uréia',\n",
              "       'Creatinina', 'Cálculo p/afrodescendente CKD-EPI',\n",
              "       'Cálculo p/não afrodescendente CKD-EPI',\n",
              "       'Cálculo p/afrodescendente MDRD',\n",
              "       'Cálculo p/não afrodescendente MDRD', 'Potássio', 'Sódio', 'CK',\n",
              "       'Volume plaquetário médio', 'Fração Imatura de Plaquetas',\n",
              "       'Covid 19, Anticorpos IgG, Quimiolumin.-Índice',\n",
              "       'Covid 19, Anticorpos IgG, Quimioluminescência',\n",
              "       'Covid 19, Anticorpos IgM, Quimiolumin.-Índice',\n",
              "       'Covid 19, Anticorpos IgM, Quimioluminescência',\n",
              "       'Hemoglobina Glicada', 'Coronavírus (2019-nCoV)',\n",
              "       'Detecção de Coronavírus (NCoV-2019) POR PCR (Anatomia Patológica)',\n",
              "       'Interleucina 6', 'T4 Livre',\n",
              "       'Bacilos Gram-Negativos Resistentes a Carbapenêmicos - Parcial',\n",
              "       'Urina, Cultura - Jato Médio - Parcial', 'pH, urina',\n",
              "       'Densidade, urina', 'Proteínas, urina isolada',\n",
              "       'Glicose, urina isol', 'C.Cetônicos, urina', 'Bilirrubina,urina',\n",
              "       'Urobilinogênio,urina', 'Leucócitos, urina', 'Eritrócitos, urina',\n",
              "       'Aspecto, urina', 'Cor, urina', 'Cilindros, urina',\n",
              "       'Células Epiteliais', 'Nitrito, urina', 'TP/INR',\n",
              "       'Tempo de Protrombina', 'TTPA', 'TTPA - Paciente/Normal',\n",
              "       'TTPA-Normal do dia', 'BNP', 'Glicose', 'Ácido Úrico', 'Albumina',\n",
              "       'Bilirrubina Direta', 'Bilirrubina Total', 'Bilirrubina Indireta',\n",
              "       '183', 'Magnésio', 'TSH', 'LDL Colesterol', 'Hdl-Colesterol',\n",
              "       'Colesterol total', 'Triglicérides', 'V-Colesterol',\n",
              "       'Calcio Ionizavel', 'CK-MB', 'pH venoso', 'pO2 venoso',\n",
              "       'pCO2 venoso', 'HCO3 venoso', 'BE venoso', 'Sat O2 venoso',\n",
              "       'Bacilos Gram-Negativos Resistentes a Carbapenêmicos',\n",
              "       'Enterococo Rest. Vancomin. Pesq', 'Cultura de Urina',\n",
              "       'Cultura, Staphylococcus aureus', 'Hepar. Baixo Peso Mol Anti-Xa',\n",
              "       'Material (2019-nCoV) ', 'Influenza A e B - teste rápido',\n",
              "       'Lactato, plasma', 'Ferritina',\n",
              "       'Hemocultura para aeróbios, por maldi-tof, vários materiais',\n",
              "       'Hemocultura para anaeróbios, por maldi-tof, vários materiais',\n",
              "       'Cloro', 'Fósforo',\n",
              "       'Hemocultura para fungos, por maldi-tof, vários materiais',\n",
              "       'Hemocultura para aeróbios, por maldi-tof, vários materiais - Parcial',\n",
              "       'Dismorfismo, urina', 'Amônia', 'Mielócitos', 'Metamielócitos',\n",
              "       'Bastonetes', 'Segmentados', 'Mielócitos (%)',\n",
              "       'Metamielócitos (%)', 'Bastonetes (%)', 'Segmentados (%)',\n",
              "       'Vancomicina', 'Clostridium difficile toxigênico, DNA',\n",
              "       'Cristais, urina', 'Outros - Urina I',\n",
              "       'Cultura Quantitativa - Parcial', 'Cultura Quantitativa',\n",
              "       'Procalcitonina', 'Cultura Automatizada, 3ª Amostra - Parcial',\n",
              "       'Cultura Automatizada, 3ª Amostra', 'Lactato, sangue',\n",
              "       'pH arterial', 'pO2 arterial', 'pCO2 arterial', 'HCO3 arterial',\n",
              "       'BE arterial', 'Sat O2 arterial', 'CMV, Quantificação',\n",
              "       'Leveduras, urina', 'Potássio, sangue total',\n",
              "       'Cálcio Ionizado, sangue', 'Cloro, sangue',\n",
              "       'Clostridium difficile', 'Fungos, Cultura - Parcial',\n",
              "       'Fungos, Cultura', 'Herpes Simplex, Tipo 1 e 2, IgM', 'Lipase',\n",
              "       'Cultura Automatizada (1º Amostra - geral) - Parcial',\n",
              "       'Cultura Automatizada (1º Amostra - geral)', 'Cálcio',\n",
              "       'Siderofilina', 'Ferro', 'Ferro Grau Saturação', 'Reticulócitos',\n",
              "       'Reticulócitos %', 'Fração de reticulócitos imaturos (IRF)',\n",
              "       'Teste Rápido p/ detecção Streptococcus Pyogenes (Grupo A)',\n",
              "       'Proteínas', 'Globulinas', 'Albumina/Globulina',\n",
              "       'TTPA-Paciente/Normal',\n",
              "       'Covid 19, Anticorpos Totais, Eletroquim-Índic',\n",
              "       'Covid 19, Anticorpos Totais, Eletroquimiolumi',\n",
              "       'Covid 19, Sorologia - Interpretação',\n",
              "       'Vírus Respiratórios - Detecção molecular', 'Potássio, sangue',\n",
              "       'Cálcio Ionizado,arte', 'Hematocrito', 'Sódio, sangue',\n",
              "       'Glicose, arterial', 'Cloro, arterial', 'Promielócitos',\n",
              "       'Promielócitos (%)', 'Ácido fólico', 'Vitamina B-12',\n",
              "       'Eletro - Albumina', 'Eletro - Alfa 1 glob',\n",
              "       'Eletro - Alfa 2 glob', 'Eletro - Beta 1 glob',\n",
              "       'Eletro - Beta 2 glob', 'Eletro - Gama glob',\n",
              "       'Eletro - Albumina/Gl', 'Eletro - Observação',\n",
              "       'Linfócitos Natural killer (CD56/16+,CD3-)', 'Linfocitos T',\n",
              "       'Linfocitos B', 'Hemoglobina A', 'Hemoglobina A2', 'Hemoglobina F',\n",
              "       'VHS', 'IgA, Imunoglobulina', 'IgM, Imunoglobulina',\n",
              "       'IgG, Imunoglobulina', 'Morfologia, Série Vermelha',\n",
              "       'Epstein-Barr, IgM', 'Epstein-Barr, IgG', 'IgE, Imunoglobulina',\n",
              "       'Fator VIII', 'Proteínas Séricas, imunofixação', 'T3 livre',\n",
              "       'Varicella-Zoster, anticorpos IgG',\n",
              "       'Varicella-Zoster, anticorpos IgM', 'Anti-HBs',\n",
              "       'Dengue, antígeno NS1', 'Dengue, IgG', 'Dengue, IgM',\n",
              "       'Cálcio Ionizado, pós filtro', 'Testosterona',\n",
              "       'Hormônio Tiroestimulante', '25OH-Vitamina D Total',\n",
              "       'HDL-Colesterol', 'Amilase', 'VLDL-Colesterol',\n",
              "       'Colesterol não-HDL, soro', 'Cortisol', 'Anti-VHA Total',\n",
              "       'Anti-VHA, IgM', 'PSA Total', 'PSA Livre/Total', 'PSA Livre',\n",
              "       'CA 19-9', 'CEA', 'PTH', 'SHBG', 'Testosterona livre', 'Insulina',\n",
              "       'HOMA-IR', 'Anti-HBc Total', 'Anti-HBc, IgM', 'AgHBs', 'Anti-HBe',\n",
              "       'AgHBe', 'Anti-HCV', 'CA 15-3', 'Eletro - Comp Monocl', 'CA 125',\n",
              "       'C. Cetônicos, urina', 'Bilirrubina, urina',\n",
              "       'Urobilinogênio, urina', 'Células Epiteliais, urina',\n",
              "       'Cultura de urina - Parcial', 'IMC - Índice de massa corporal',\n",
              "       'Covid 19, Anticorpos IgG', 'Covid 19, Anticorpos IgG, índice',\n",
              "       'Apolipoproteína B', 'Dehidrotestosterona', 'Cálcio Ionizado',\n",
              "       'Estradiol', 'Homocisteína', 'Prolactina', 'LH', 'FSH',\n",
              "       'Vitamina D, 1,25 Dihidroxi', 'Hemocultura para Anaeróbios',\n",
              "       'Hemocultura para Aeróbios',\n",
              "       'Hemocultura, para Aeróbios - Parcial',\n",
              "       'Hemocultura, para Anaeróbios - Parcial',\n",
              "       'Hemocultura Fungos - Parcial', 'PTH 1-84, soro',\n",
              "       'Sífilis - Floculação', 'Sífilis - Elisa',\n",
              "       'Sífilis - Índice quimioluminescente CMIA', 'HIV1/HIV2 - Índice',\n",
              "       'HIV1/HIV2', 'Observação', 'Calprotectina', 'Hormônio crescimento',\n",
              "       'Zinco', 'Selenio, soro', 'IGF-1', 'Sangue Oculto, fezes', 'T3',\n",
              "       'DHEA-S', 'Alumínio', 'Ácido ascorbico, plasma', 'ACTH',\n",
              "       'Período de coleta (horas)', 'Vitamina A (retinol), soro', 'Cobre',\n",
              "       'Toxoplasma, IgG', 'Toxoplasma, IgM', 'DHA', 'Antistreptolisina O',\n",
              "       'Peptídio C', 'HCG', 'Albumina/Globulinas', 'Microalbuminúria iso',\n",
              "       'Creatinina, urina isolada', 'Vírus Coxsackie - B1',\n",
              "       'Vírus Coxsackie - B2', 'Vírus Coxsackie - B3',\n",
              "       'Vírus Coxsackie - B4', 'Vírus Coxsackie - B5',\n",
              "       'Vírus Coxsackie - B6', 'Virus Coxsackie A tipo 2',\n",
              "       'Virus Coxsackie A tipo 4', 'Virus Coxsackie A tipo 7',\n",
              "       'Virus Coxsackie A tipo 9', 'Virus Coxsackie A tipo 10',\n",
              "       'Virus Coxsackie A tipo 16', 'Anti-DNA', 'FAN - Nuclear',\n",
              "       'FAN - Nucleolar', 'FAN - P. Metafásica', 'FAN - Citoplasmático',\n",
              "       'FAN - Ap. Mitótico', 'Complemento Total', 'ANTI-Xa, atividade',\n",
              "       'v.Willebrand', 'Fator VII', 'Fator II', 'Fator V',\n",
              "       'Grupo Sanguíneo', 'Fator Rh',\n",
              "       'T4 Livre - Eletroquimioluminescencia', 'Trombina, tempo',\n",
              "       'Índice de Green & King', 'Proteínas, Urina 24h', 'Volume (mL)',\n",
              "       'Beta 2 Microglobulin', 'Bence-Jones, urina', 'IgG1', 'IgG2',\n",
              "       'IgG3', 'IgG4', 'Mioglobina', 'Vitamina B6, sangue',\n",
              "       'Haptoglobina', 'Glicose-6-Fosfato Desidrogenase (G6PD)',\n",
              "       'Volume ejaculado', 'Concentração', 'Morfologia estrita',\n",
              "       'Total de espermatozoides PR + NP',\n",
              "       'Espermatozóides progressivos PR',\n",
              "       'Espermatozóides não progressivos NP',\n",
              "       'Espermatozóides imóveis IM', 'Motilidade total', 'Hemácias',\n",
              "       'Proteínas,urina iso', 'Creatinina,urina iso',\n",
              "       'Anti-Tiroperoxidase', 'Anti-Tiroglobulina',\n",
              "       'Covid 19, Anticorpos IgA', 'Covid 19, Anticorpos IgA, índice',\n",
              "       'Androstenediona', '17-Alfa-Hidroxiprog.', 'T4', 'IGFBP3',\n",
              "       'Covid 19, Material', 'Covid 19, Anticorpos IgM, teste rápido',\n",
              "       'Covid 19, Anticorpos IgG, teste rápido',\n",
              "       'Covid 19,Antic IgM/IgG,teste rápido-Interpret',\n",
              "       'Covid 19, Antic IgM/IgG, teste rápido-Observ', 'HBV - UI/mL',\n",
              "       'CTX', 'Osteocalcina, soro', 'Tiroglobulina', 'TRAB',\n",
              "       'Hemoglobina Corpuscular Média',\n",
              "       'Concentração de Hemoglobina Corpuscular',\n",
              "       'Troponina T ultrassensível', 'Rubeola, IgG', 'Rubeola, IgM',\n",
              "       'CMV, IgG', 'CMV, IgM', 'Parasitológico', 'HIV1/HIV2 -Imunocrom',\n",
              "       'C3', 'Proteinase - 3, Anticorpos', 'Fator Reumatóide', 'C4',\n",
              "       'Superfície Corporal', 'Intervalo de tempo',\n",
              "       'Creatinina, Depuração', 'Depuração - Altura',\n",
              "       'HTLV1/2, Anticorpos', 'Tricomonas, secreção vaginal',\n",
              "       'Cultura Automatizada Vaginal', 'Vírus respiratórios - detecção',\n",
              "       'Galactomanana, lavado',\n",
              "       'Anticorpos irreg. Anti-Eritrocitários, soro', 'Coombs direto',\n",
              "       'Linfocitos CD-19', 'Lipoproteina Lp(a)', 'Apolipoproteína A-1',\n",
              "       'Linfócitos B (CD-20)', 'Rel Proteínas/Creatinina', 'Progesterona',\n",
              "       'Observação, TSH', 'Alfa Fetoproteína', 'CA 72-4',\n",
              "       'Manganês, soro', 'Mercurio', 'Ceruloplasmina', 'Cromo',\n",
              "       'Chumbo, sangue', 'Anticoagulante Lupico - Conclusão', 'ANCA',\n",
              "       'Ro/SS-A', 'La/SS-B - ensaio imunoenzimático',\n",
              "       'Auto-Anticorpos, RNP', 'Auto-Anticorpos, Sm',\n",
              "       'AntiCardiolipina IgG', 'AntiCardiolipina IgM',\n",
              "       'Anti-Leptospira, IgM', 'Hemocultura Fungos', 'Galactomanana',\n",
              "       'Fezes, Cultura', 'Microsporidia, pesquisa, fezes',\n",
              "       'Gorduras Neutras', 'Amount of split and free fatty',\n",
              "       'Eosinófilos, fezes', 'Giardia Lamblia, antigeno',\n",
              "       'Alfa-1 Anti-tripsina, fezes', 'Cryptosporidium, fezes',\n",
              "       'Cultura, Staphylococcus aureus - Parcial',\n",
              "       'Bk (Micobact), Cultura - Parcial', 'HSV1, Detecção',\n",
              "       'HSV2, Detecção', 'Mycobacterium tuberculosis PCR',\n",
              "       'Enterococo Rest. Vancomin.Pesq - Parcial', 'Vitamina B1, sangue',\n",
              "       'Renina', 'Relação Aldosterona/Renina', 'Aldosterona',\n",
              "       'Cistatina C', 'Eritropoietina (EPO)',\n",
              "       'Tripanossoma Cruzi - IgG, Elisa', 'Tripanossoma Cruzi - IgG, IFI',\n",
              "       'Rotavírus, fezes', 'HLA-B27, Genotipagem', 'Tempo de Sangramento',\n",
              "       'Proteína - Paratormonio',\n",
              "       'Clostridium difficile, deleção no gene tcdC',\n",
              "       'Excreção no volume enviado',\n",
              "       'Citomegalovirus, pesquisa Antigenemia',\n",
              "       'Hemocultura para fungos, por maldi-tof, vários materiais - Resultado Parcial',\n",
              "       'Adenovírus', 'Covid 19, Detecção por PCR',\n",
              "       'Anti-Heparina/Fator Plaquetário 4, IgG', 'Inibição com Heparina',\n",
              "       'T3 Reverso', 'Herpes Simplex, Tipo 1, IgG',\n",
              "       'Herpes Simplex, Tipo 2, IgG', 'Rapamicina', 'Tacrolimus - Elisa',\n",
              "       'Tacrolimus', 'Lactato, arterial',\n",
              "       'Cultura para Bacilo gram negativo',\n",
              "       'Cultura para Bacilo gram - Parcial', 'Metanefrina, plasma',\n",
              "       'Normetanefrina, plasma', 'Multímetros do fator de Von Willebrand',\n",
              "       'Ristocetina', 'Blastos', 'Blastos (%)', 'Voriconazol, soro',\n",
              "       'CMV, Detecção', 'Cultura, Streptococcus Beta Hemolítico',\n",
              "       'Cultura Automatizada - Orofaringe', 'Digoxina',\n",
              "       'Cultura Anaerobios - Parcial', 'Anaerobios, Cultura',\n",
              "       'Strongyloides Stercoralis, IgG', 'Vírus A/H1N1/SUÍNO',\n",
              "       'Vírus Influenza A', 'Levetiracetam', 'Lacosamida',\n",
              "       'Carbamazepina',\n",
              "       'Hemocultura para anaeróbios, por maldi-tof, vários materiais - Parcial',\n",
              "       'Oxcarbazepina', 'Rast - FX1 - Alimentos',\n",
              "       'Rast - FX2 - Alimentos', 'Rast - FX3 - Alimentos',\n",
              "       'Rast - FX5 - Alimentos', 'Rast - HX2 - Poeira',\n",
              "       'Rast - EX1 - Animais', 'Rast - GX2 - Gramíneas',\n",
              "       'Rast - MX1 - Fungos', 'Rast - MX2 - Fungos',\n",
              "       'CCP, Auto-Anticorpos', 'Estrona (E1)',\n",
              "       'Covid 19, Sorologia - Conclusão', 'Clam Trachomatis PCR',\n",
              "       'Neisseria Gonorrhoeae PCR', 'Normetanefrina, urina',\n",
              "       'Metanefrina total, urina', 'Metanefrina, urina', 'Gliadina, IgG',\n",
              "       'Gliadina, IgA', 'AntiTransglutaminase', 'Rast - F13 - Amendoim',\n",
              "       'Rast - F79 - Gluten', 'Rast - D1 - D. Pteronyssinus',\n",
              "       'Osmolalidade,soro', 'Espermatozóides',\n",
              "       'Proteínas Séricas, imunoeletroforese', 'Cadeias kappa livres',\n",
              "       'Cadeias lambda livres', 'Relação kappa/lambda',\n",
              "       'Cadeias kappa livres (mg/L)', 'Cadeias lambda livres (mg/L)',\n",
              "       'Frutosamina', 'Alfa-1 Glicopr Acida', 'Inibidor de Fator VIII',\n",
              "       'Epstein-Barr, Quant.', 'Iodo', 'Carnitina total',\n",
              "       'Carnitina Livre (CL)', 'Ésteres de Carnitina (EC)',\n",
              "       'Relação Ésteres de Carnitina/Carnitina livre',\n",
              "       'Vitamina E (tocoferol), soro', 'Vitamina K', 'La/SS-B',\n",
              "       'Glicose pós prandial', 'Lamotrigina', 'Cálcio, Urina 24h',\n",
              "       'Linfócitos CD4+', 'Linfócitos CD8+', 'Relação CD4/CD8',\n",
              "       'Linfócitos CD-3', 'Bk (Micobact), Cultura',\n",
              "       'Sarampo, Anticorpos IgG', 'Sarampo, Anticorpos IgM',\n",
              "       'Proteína S Total', 'Proteína S Livre', 'Fator V Leiden',\n",
              "       'Protrombina 20210G>A', 'Antitrombina III', 'Proteina C',\n",
              "       'Beta 2 Glic. I, IgG', 'Beta 2 Glic. I, IgM',\n",
              "       'Resultado -  integrar com CCIH Hospitais',\n",
              "       'Teste de Sensibilidade para Fungos Dr3', 'Aldolase',\n",
              "       'Hepatite C, Genotipagem', 'Osmolalidade,urina',\n",
              "       'Sódio, urina isolada', 'Relação Sódio/Creatinina',\n",
              "       'Cultura Automatizada de Escarro', 'Microalbuminuria',\n",
              "       'Ácido Úrico, urina', 'Oxalato, urina', 'Citrato, urina',\n",
              "       'Cortisol, saliva', 'Enolase Neuronio-Específica',\n",
              "       'Serotonina, soro', 'Gastrina, soro', 'Cromogranina A',\n",
              "       'Propeptideo Amino Terminal', 'IgA Anti-Endomísio',\n",
              "       'Esquistossomose, anticorpo IgG', 'Pré-albumina',\n",
              "       'CMV, Avidez IgG', 'Zika IgM', 'Zika vírus - IgM - Índice',\n",
              "       'Zika IgG', 'Zika vírus - IgG - Índice',\n",
              "       'Jo-1, Auto-Anticorpos-ensaio imunoenzimático', 'Ácido Valpróico',\n",
              "       'Plasmóticos', 'Plasmócitos (%)', 'Sífilis - imunoenzimático',\n",
              "       'Sifilis - Índice imunoenzimático', 'Amicacina',\n",
              "       'Bactérias, urina', 'Transglutaminase tecidual, IgG',\n",
              "       'Ciclosporina', 'Alfa-1 Anti-tripsina', 'Leishmania, IgG',\n",
              "       'Anti-mitocondrial, Anticorpo', 'Muscularis Mucosa',\n",
              "       'Mesangio Glomelular', 'Bainha Muscular de Vaso',\n",
              "       'Musculo liso-Fibrilas Tubulares Extracelulare',\n",
              "       'Anti-mitocondrial fração M2, Anticorpo', 'Urina, Cultura 1º Jato',\n",
              "       'Células Epiteliais, urina 1J',\n",
              "       'Eritrócitos quantitativo, urina 1J',\n",
              "       'Leucócitos quantitativo, urina 1J', 'Tricomonas, urina',\n",
              "       'Scl-70, Auto-Anticorpos', 'Hemoglobina, urina',\n",
              "       'Mioglobina, urina', 'Ácido metilmalonico, soro', 'Histoplasma',\n",
              "       'HIV-1 Quantificação', 'Fator X',\n",
              "       'Ferro medular - depósito intersticial',\n",
              "       'Ferro medular - sideroblastos',\n",
              "       'Ferro medular - sideroblastos em anel', 'Rast - F7 - Aveia',\n",
              "       'Rast - F232 - nGal d 2 Ovoalbumina',\n",
              "       'Rast - F93 - Cacau (Chocolate)', 'Rast - F27 - Carne de vaca',\n",
              "       'Rast - F78 - Caseina', 'Rast - F202 - Castanha de caju',\n",
              "       'Rast - G12 - Centeio', 'Rast - F1 - Clara de ovo',\n",
              "       'Rast - F75 - Gema de ovo', 'Rast - F14 - Soja',\n",
              "       'Rast - F2 - Leite de vaca', 'Rast - F4 - Trigo',\n",
              "       'Rast - F25 - Tomate', 'Rast - F256 - Nóz',\n",
              "       'Número de plaquetas no PRP (após diluição)',\n",
              "       'Agreg Plaquetária - Máxima - ADP 10,0 microM',\n",
              "       'Agreg Plaquetária - Máxima - ADP 2,5 microM',\n",
              "       'Agregação Plaquetária',\n",
              "       'Agreg Plaq - Máxima - Colágeno 1,0 microg/mL',\n",
              "       'Agreg Plaq - Lag time- Colágeno 5,0 microg/mL',\n",
              "       'Agreg Plaq - Lag time- Colágeno 1,0 microg/mL',\n",
              "       'Agreg Plaq - Máxima - Ristocetina 1,2 mg/mL',\n",
              "       'Agreg Plaq - Máxima - Ristocetina 0,5 mg/mL',\n",
              "       'Agreg Plaq - Máxima - Adrenalina 2,0 microM',\n",
              "       'Agreg Plaq - Máx -Ác Aracdônico 500 microg/mL',\n",
              "       'Pesquisa De Mycoplasma'], dtype=object)"
            ]
          },
          "metadata": {
            "tags": []
          },
          "execution_count": 25
        }
      ]
    },
    {
      "cell_type": "markdown",
      "metadata": {
        "id": "biL885DdsuV0"
      },
      "source": [
        "### **3.2) Procurando features de interesse em 'DE_EXAME'**"
      ]
    },
    {
      "cell_type": "code",
      "metadata": {
        "id": "Wk7wJ2IDkCz8",
        "outputId": "0b4b8cfe-49f1-4f1c-87ca-3fb47cb2b1a8",
        "colab": {
          "base_uri": "https://localhost:8080/",
          "height": 0
        }
      },
      "source": [
        "# DE_ANALITO | DE_EXAME\n",
        "#\n",
        "# Leucócitos | Hemograma\n",
        "# Hemoglobina | Hemograma\n",
        "# Plaquetas | Hemograma\n",
        "# Neutrófilos (%) | Hemograma\n",
        "# Neutrófilos | Hemograma\n",
        "# Linfócitos (%) | Hemograma \n",
        "# Linfócitos | Hemograma \n",
        "# Proteína C-Reativa | Proteína C Reativa, plasma\n",
        "# Bilirrubina Total | Bilirrubinas Total E Fracoes\n",
        "# Uréia | Uréia \n",
        "# Creatinina | Creatinina \n",
        "# DHL | Desidrogenase Lática (DHL/L)\n",
        "# Dimeros D, quant | D. Dimeros(Dimeros De Fibrina)\n",
        "#\n",
        "# Como existe uma gama grande de tipos de exame realizados ('DE_EXAME'), é possível que um tipo de analito seja medido\n",
        "# em exames diferentes. Por isso, precisamos filtrar os tipos de exames disponíveis para encontrar qual o exame que \n",
        "# será avaliado.\n",
        "data_exames_HSL['DE_EXAME'].unique()"
      ],
      "execution_count": 26,
      "outputs": [
        {
          "output_type": "execute_result",
          "data": {
            "text/plain": [
              "array(['Fosfatase Alcalina', 'Gama Gt', 'Tgp',\n",
              "       'Desidrogenase Lática (DHL/L)', 'Proteína C Reativa, plasma',\n",
              "       'Tgo', 'Fibrinogênio, Dosagem Do',\n",
              "       'D. Dimeros(Dimeros De Fibrina)', 'Hemograma', 'Troponina',\n",
              "       'Uréia',\n",
              "       'Calculo da Estimativa da Taxa, de Filtracao Glomular, soro',\n",
              "       'Creatinina', 'Potássio', 'Sódio', 'Creatinofosfoquinase Cpk-Ck',\n",
              "       'COVID-19-Sorologia IgM e IgG por quimiluminescência, soro',\n",
              "       'Hemograma, sangue total',\n",
              "       'Proteína C Reativa, por imunoturbidimetria, soro',\n",
              "       'Desidrogenase Lática  ( LDH )', 'Hemoglobina Glicada',\n",
              "       'COVID-19-PCR para SARS-COV-2, Vários Materiais (Fleury)',\n",
              "       'Detecção de Coronavírus (NCoV-2019) POR PCR (Anatomia Patológica)',\n",
              "       'Interleucina 6, soro', 'T4L, livre, soro',\n",
              "       'Bacilos Gram-Negativos Resistentes a Carbapenêmicos, Cultura, Vários Materiais',\n",
              "       'Urina, Cultura - Jato Médio', 'Urina Tipo I - Jato Medio',\n",
              "       'Tempo E Ativid. Protrombina (Tp)', 'Tempo Tromb.Parcial Ativada',\n",
              "       'Peptideo Natriuretico Tipo B (Bnp)', 'Glicemia, plasma',\n",
              "       'Ácido Úrico', 'Albumina', 'Bilirrubinas Total E Fracoes',\n",
              "       'Amilase', 'Magnesio', 'Tsh - Hormonio Tiroestimulante',\n",
              "       'Colesterol Total e Frações', 'Colesterol - Fracao HDL',\n",
              "       'Colesterol Total - URG', 'Triglicérides',\n",
              "       'Colesterol - Fração VLDL', 'Cálcio Ionizável',\n",
              "       'Creatinofosfoquinase - CK-MB', 'Gasometria Venosa',\n",
              "       'Enterococo Rest. Vancomin.Pesq',\n",
              "       'Cultura, Staphylococcus aureus resistente a oxacilina, varios materiais',\n",
              "       'Hepar. Baixo Peso Mol  Anti-Xa',\n",
              "       'Antígeno, Influenza, Teste Rápido (AGINFLU)', 'Lactato',\n",
              "       'Ferritina, Dosagem',\n",
              "       'Hemocultura para aeróbios, por maldi-tof, vários materiais',\n",
              "       'Hemocultura para anaeróbios, por maldi-tof, vários materiais',\n",
              "       'Cloro', 'Fósforo',\n",
              "       'Hemocultura para fungos, por maldi-tof, vários materiais',\n",
              "       'Amonia Serica', 'Vancomicina, Dosagem',\n",
              "       'Clostridium Difficile, pesquisa do DNA, fezes (PCR em tempo Real)',\n",
              "       'Cultura Quantitativa (Sec. Traqueal E Lavado)',\n",
              "       'Pró-calcitonina, Dosagem no Plasma',\n",
              "       'Cultura Automatizada (Geral)', 'Lactato - URG',\n",
              "       'Gasometria Arterial',\n",
              "       'Citomegalovírus (CMV), PCR Quantidade Viral',\n",
              "       'Potássio, sangue total', 'Cálcio Ionizado, sangue total',\n",
              "       'Cloro, urgente, sangue total',\n",
              "       'Clostridium difficile, pesquisa de toxinas A e B, fezes',\n",
              "       'Fungos, Cultura', 'Herpes Simp.Tp 1 e 2, Sorol. Igm',\n",
              "       'Lipase (urgência)', 'Cultura Automatizada (1º Amostra - geral)',\n",
              "       'Cálcio Total', 'Saturacao da Transferrina, soro',\n",
              "       'Reticulócitos, Contagem',\n",
              "       'Teste Rápido p/ detecção Streptococcus Pyogenes (Grupo A)',\n",
              "       'Proteínas Totais e Frações - PTF',\n",
              "       'Protrombina, Tempo de, plasma',\n",
              "       'Tromboplastina Parcial Ativada, Tempo de, plasma',\n",
              "       'Detecção de vírus respiratório, por PCR, Vários Materiais',\n",
              "       'Lactato - Kit Urg', 'Potássio - Kit Urg',\n",
              "       'Cálcio Ionizável - Kit Urg', 'Hematócrito - Kit Urg',\n",
              "       'Sódio - Kit Urg', 'Hemoglobina - Kit Urg', 'Glicemia Kit Urg',\n",
              "       'Cloro - Kit Urg', 'Acido Fólico', 'Vitamina B-12, Dosagem',\n",
              "       'Eletroforese de Proteínas', 'Linfocitos Nat Killer Nk Cd56',\n",
              "       'Linfócitos T E B (Cd3 / Cd19)', 'Eletroforese de Hemoglobina',\n",
              "       'Proteínas Totais, Soro', 'Hemossedimentação(Vhs) 1.Hora',\n",
              "       'Imunoglobulina A', 'Imunoglobulina M', 'Imunoglobulina G',\n",
              "       'Eritrograma (Eritrócitos, Hemoglobina, Hematócrito)',\n",
              "       'Epstein Barr (Ebv), Sorologia IgM',\n",
              "       'Epstein Barr (Ebv), Sorologia IgG', 'Imunoglobulina E',\n",
              "       'Fator VIII, Dosagem', 'Imunoeletroforese', 'T3 Livre',\n",
              "       'Proteínas Totais, Plasma, Urgente', 'Varicela Zoster, Sorologia',\n",
              "       'Varicella-zoster Virus, Anticorpo IgM, soro',\n",
              "       'Hepat.B Anti-Hbsag(Hbv-Vhb),Au',\n",
              "       'Dengue, antígeno NS1, soro, teste rápido',\n",
              "       'Dengue, anticorpo IgG, teste rápido',\n",
              "       'Dengue, anticorpo IgM, teste rápido',\n",
              "       'Dengue, Anticorpo IgG, soro', 'Dengue, Anticorpo IgM, soro',\n",
              "       'Cálcio ionizado, pós filtro, plasma', 'Potássio (K)',\n",
              "       'Uréia, soro', 'Sódio, Soro', 'Creatinina, soro',\n",
              "       'Glicemia de Jejum', 'Testosterona',\n",
              "       'Tireostimulante (Tsh), Hormônio (Rie)',\n",
              "       'Vitamina D, 25 hidroxi (Vitamina D3), Soro',\n",
              "       'Transaminase Pirúvica ( Tgp )', 'Magnésio (Mg)',\n",
              "       'Ácido Úrico, soro', 'Cálcio, soro', 'Colesterol - Fração HDL',\n",
              "       'Creatino Fosfoquinase (Cpk)', 'Fosfatase Alcalina, soro',\n",
              "       'Fósforo, soro', 'Gama - Glutamil Transferase  (Ggt)',\n",
              "       'Amilase, soro', 'Ferro Serico',\n",
              "       'Transaminase Oxalacética ( Tgo )', 'Colesterol Total',\n",
              "       'Triglicerídios (Tg )', 'Colesterol - Fração LDL',\n",
              "       'Colesterol não-HDL, soro', 'Cortisol Basal',\n",
              "       'Hepatite A (Hav-Vha)-Sorol.Igg', 'Hepatite A (Hav-Vha),Sorol.Igm',\n",
              "       'PSA LIVRE - Antígeno Prostático Específico Livre', 'CA 19-9',\n",
              "       'Antígeno Carcinoembriogênico (CEA)', 'Paratormonio - N-Intac',\n",
              "       'Testosterona Livre', 'Insulina', 'Hepat.B Anti-Hbc(Hbv)Sorol.Igg',\n",
              "       'Hepat.B Anti-Hbc(Hbv)Sorol.Igm', 'Hepat.B Hbsag(Hbv-Vhb),Sorolog',\n",
              "       'Hepatite B/Anti-Hbe, Sorologia', 'Hepat.B Hbeag(Hbv-Vhb),Sorolog',\n",
              "       'Hepatite C Anti-Hcv, Sorologia', 'CA 15-3',\n",
              "       'PSA TOTAL - Antígeno Prostático Específico Total ', 'CA 125',\n",
              "       'Plaquetas, contagem, sangue total',\n",
              "       'Urina, Exame de, para Unidades, sem especificacao de jato',\n",
              "       'Cultura de urina, sem especificação de jato, para Unidades',\n",
              "       'Sorologia - Coronavírus, IgG', 'Apo Lipoproteína B',\n",
              "       'Globulina Ligadora Hormônio Sexual', 'Dehidrotestosterona (DHT)',\n",
              "       'Cálcio Ionizado', 'Estradiol', 'Homocisteína', 'Prolactina',\n",
              "       'Lh,  Hormônio Luteinizante', 'Fsh, 1.Amostra', 'Lipase',\n",
              "       'Vitamina D, 1,25 Dihidroxi',\n",
              "       'Hemocultura, para Anaeróbios, Vários Materiais',\n",
              "       'Hemocultura, para Aeróbios, Vários Materiais',\n",
              "       'Sedimento Quantitativo',\n",
              "       'Hemocultura, para Fungos, Varios Materiais',\n",
              "       'PTH 1-84, PTH (paratormônio) bioativo', 'Bilirrubinas, soro',\n",
              "       'VDRL', 'Sorologia Para Sifilis Fta/Abs',\n",
              "       'Sifilis, Sorologia Vdrl', 'HIV, Sorologia (Elisa)',\n",
              "       'Calprotectina, Fezes', 'Gh Basal', 'Zinco', 'Selenio, Dosagem',\n",
              "       'IGF1 Somatomedina', 'Albumina, soro',\n",
              "       'Fezes, Pesq.De Sangue Oculto', 'T3 - Tri Iodotironina', 'S-DHEA',\n",
              "       'Alumínio', 'Acido Ascorbico, plasma',\n",
              "       'Horm.Adrenocorticotrofico/Acth', 'Vitamina A, Dosagem', 'Cobre',\n",
              "       'Toxoplasmose, Sorologia IgG', 'Toxoplasmose, Sorologia Igm',\n",
              "       'DHEA - Dehidroepiandrosterona', 'Streptolisina O,Antic.Ant Aslo',\n",
              "       'Hb/Ht', 'Peptideo C',\n",
              "       'Gonadotrofina Coriônica (B - Hcg) (Rie Ou Eie)',\n",
              "       'Proteinas, totais e frações, soro',\n",
              "       'Microalbumina, Amostra Isolada, Urina',\n",
              "       'Creatinina Urin. Amost.Isolada',\n",
              "       'Coxsackie B, Anticorpos, vários materiais',\n",
              "       'Coxsackie A, Anticorpos Totais, soro',\n",
              "       'Dna Nativo, Anticorpo Anti',\n",
              "       'Fator Antinucleo, Anticorpos totais, soro',\n",
              "       'Complemento/O Hemol.Total/Ch50',\n",
              "       'Anti-Xa, para heparina não fracionada (HNF), sangue total',\n",
              "       'Fator VIII R-Ag Von Willenrand', 'Fator VII, Atividade',\n",
              "       'Fator II, Atividade', 'Fator V, Atividade', 'Grupo Sanguineo Abo',\n",
              "       'Tempo De Trombina (Tt)', 'Proteinúria de 24h',\n",
              "       'Beta 2 Microglobulina (soro)', 'Proteína de Bence Jones',\n",
              "       'Imunoglobulina G, Subclasse 1, Soro',\n",
              "       'Imunoglobulina G, Subclasse 2, soro',\n",
              "       'Imunoglobulina G, Subclasse 3, soro',\n",
              "       'Imunoglobulina G, Subclasse 4, Soro',\n",
              "       'Reticulócitos, Sangue Total', 'Mioglobina (Sangue)', 'Beta Hcg',\n",
              "       'Vitamina B-6, Dosagem', 'Haptoglobina',\n",
              "       'Glicose - 6 - Fosfato Desidrogenase', 'Espermograma',\n",
              "       'Proteína, Amostra Isolada, Urina',\n",
              "       'TIROPEROXIDASE, ANTICORPOS, SORO',\n",
              "       'Tireoglobulina, Anticorpo Anti', 'Sorologia - Coronavírus, IgA',\n",
              "       'Androstenediona', '17 Alfa Hidroxiprogesterona',\n",
              "       'T4 - Tetraiodotironina', 'Igfbp',\n",
              "       'COVID-19-Teste Rápido (IgM e IgG), soro',\n",
              "       'Hepat.B (Hbv)Quantitativo Carga Viral, (em tempo real) PCR',\n",
              "       'Interligadores C - Terminais-Ctx', 'Osteocalcina',\n",
              "       'Sedimento, urina jato medio', 'Tireoglobulina Serica',\n",
              "       'Tsh, Receptor de, Anticorpos, Soro',\n",
              "       'Hemograma automatizado pré-QT',\n",
              "       'Troponina T Ultrassensível, plasma', 'Hemoglobina',\n",
              "       'Ttpa Corrigido Com Plasma Normal', 'Rubeola, Sorologia Igg',\n",
              "       'Rubeola, Sorologia Igm', 'Citomegalovírus (CMV), Sorologia IgG',\n",
              "       'Citomegalovírus (CMV), Sorologia IgM', 'Protoparasitológico',\n",
              "       'HIV 1/2, Teste Rápido', 'Complemento C3',\n",
              "       'Proteinase 3, Anticorpo Anti', 'Fator Reumatoide (Latex)',\n",
              "       'Complemento C4', 'Clearence De Creatinina',\n",
              "       'HTLV1 e 2, Anticorpos totais, soro',\n",
              "       'Trichomonas, pesquisa, secreção vaginal',\n",
              "       'Cultura Automatizada Vaginal',\n",
              "       'Vírus respiratórios, sincicial, influenza, parainfluenza, adeno, fluorescência',\n",
              "       'Aspergillus, pesquisa do antígeno galactomanana, Vários Materiais ',\n",
              "       'Coombs Indireto', 'Teste De Coombs Direto',\n",
              "       'Linfocitos B (CD19) contagem, sangue total ',\n",
              "       'Lipoproteina A (Lpa)', 'Apolipoproteina A', 'Linfocitos B - CD20',\n",
              "       'Progesterona', 'Alfa Feto Proteína', 'CA 72-4',\n",
              "       'Testosterona especial, soro', 'Manganes, Soro',\n",
              "       'Mercurio, Dosagem', 'Ceruloplasmina, Dosagem', 'Cromo', 'Chumbo',\n",
              "       'Proteína C Reativa, soro', 'Anticoagulante Lúpico',\n",
              "       'Citoplasma, Anticorpo Anti', 'SSA/RO Anticorpos',\n",
              "       'SSB/LA Anticorpos', 'ENA, Anticorpo Anti ( Ant. SM+Ant.RNP )  ',\n",
              "       'Anti - Cardiolipina, IgG e IgM, soro', 'Leptospirose, Sorologia',\n",
              "       'Fezes, Cultura', 'Microsporidea, Pesquisa (fezes)',\n",
              "       'Fezes, Pesquisa de Gorduras', 'Fezes, Pesquisa De Eosinofilos',\n",
              "       'Giardia Lamblia, Antígeno, Fezes',\n",
              "       'Fezes,Dos.Alfa-1 Anti Tripsina',\n",
              "       'Cryptosporidium, Pesquisa - Fezes',\n",
              "       'Parasitológico, Contagem Ovos, fezes', 'Plaquetas, Contagem',\n",
              "       'Bk (Micobactérias), Cultura', 'Herpes Simp.Virus(Hsv-Vhs),Pcr',\n",
              "       'Pcr convencional P/ Mycobacterium Tuberculosis, vários materiais',\n",
              "       'Vitamina B1 (Tiamina)', 'Renina', 'Aldosterona',\n",
              "       'Cistatina C, Soro', 'Eritropoietina',\n",
              "       'Doenca De Chagas (Machado Guerreiro), Sorologia',\n",
              "       'Rotavirus, Pesquisa', 'HLA B27', 'Tempo De Sangramento',\n",
              "       'Paratormonio, Proteina Relacionada', 'Paratormonio, Dosagem',\n",
              "       'Uréia na Urina', 'Citomegalovírus (CMV), Antigenemia',\n",
              "       'Adenovirus, Sorologia',\n",
              "       'Sars Cov-2, Teste Molecular Rápido Para Detecção, Vários Materiais',\n",
              "       'CALCIO IONIZADO, POS FILTRO, SANGUE VENOSO',\n",
              "       'Anticorpos anti-heparina, fator plaquetário 4, soro',\n",
              "       'T3 Reverso', 'Herpes Simp. Tipo 1, Sorol Igg',\n",
              "       'Herpes Simples Tipo 2, Sorol Igg', 'Bicarbonato, Sangue',\n",
              "       'Sirolimus (Rapamicina)', 'Prograf (Fk 506), Tacrolimus, Dosagem',\n",
              "       'Prograf Em Tempos', 'Ácido Lático, Sangue Arterial',\n",
              "       'Cultura, para bacilo gram negativo multirresistente, varios materiais',\n",
              "       'Metanefrinas, Plasma',\n",
              "       'Fator de Von Willebrand, Multimeros, Plasma',\n",
              "       'Tiróide, Anticorpos (p/dosagem de TG)', 'Voriconazol, Soro',\n",
              "       'Citomegalovírus, Detecção Qualitativa por PCR, Vários Materiais',\n",
              "       'Cultura, Streptococcus Beta Hemolítico do Grupo B, Vários Materiais',\n",
              "       'Cultura Automatizada - Orofaringe', 'Digoxina',\n",
              "       'Anaerobios, Cultura',\n",
              "       'Strongyloides stercoralis, Anticorpo IgG, soro ',\n",
              "       'Vírus Influenza A, Teste Molecular para Detecção',\n",
              "       'Levetiracetam, Dosagem, Soro', 'Lacosamida, soro',\n",
              "       'Carbamazepina, Dosagem', 'Oxcarbazepina, Dosagem',\n",
              "       'Rast P/ Sementes Oleaginosas - Fx1',\n",
              "       'Rast P/ Alimentos Perfil ( Fx2)',\n",
              "       'Rast P/ Alimentos - Cereais ( Fx3)',\n",
              "       'Rast P/ Alimentos Infantis - Fx5',\n",
              "       'Rast para Poeira Caseira e Ácaros - Hx2 ',\n",
              "       'Rast P/Epitelio D/Animais(Ex1)',\n",
              "       'Rast P/ Polens De Gramineas (Gx2)', 'Rast P/ Fungos (Mx1)',\n",
              "       'IgE Especifico, mx2 - fungos, soro', 'Peptideo Citrulinado',\n",
              "       'Estrona', 'Urina Tipo 1 - Jato Medio',\n",
              "       'Chlamydia, Pesq.Dna (reação por pcr)',\n",
              "       'Neisseria Gonorrh (Gonococo), Det DNA PCR',\n",
              "       'Metanefrinas, Amostra Isolada Urina ',\n",
              "       'Gliadina, Anticorpo IgG, soro - Sabin',\n",
              "       'Gliadina, Anticorpo IgA, soro - Sabin',\n",
              "       'Transglutaminase Iga, Anticorpo Anti', 'Rast P/ Amendoim (F13)',\n",
              "       'Rast P/ Gluten (F79)',\n",
              "       'Rast Dermato. Pteronyssinus (Acaro Domestico)',\n",
              "       'Osmolalidade Plasmática', 'Imunoglobulinas, Imunofixação',\n",
              "       'Eletrof.De Proteinas Urinarias',\n",
              "       'Cadeias Kappa e Lambda, Livres, Soro', 'Frutosamina',\n",
              "       'Alfa 1 Glicoproteina Acida, Dos',\n",
              "       'Fator VIII Inibidor, Quantificação, Plasma',\n",
              "       'Sangramento, Tempo de', 'Epstein Baar (Ebv), Pcr Quantitativo',\n",
              "       'Iodo, plasma', 'Carnitina, Dosagem', 'Vitamina E, Dosagem',\n",
              "       'Vitamina K', 'Ro/SSA e La/SSB, Anticorpos, Soro',\n",
              "       'Glicemia Para Coleta Domiciliar',\n",
              "       'Glicose, pós prandial, plasma (Coleta domiciliar)', 'Lamotrigina',\n",
              "       'Cálcio Urinário', 'Linfocitos Cd4 / Cd8',\n",
              "       'Sarampo, Sorologia Igg ', 'Sarampo, Sorologia Igm',\n",
              "       'Dosagem Proteína S',\n",
              "       'Fator V Leiden, Pesquisa Da Mutação G 2010A, Protrombina',\n",
              "       'Trombina Iii, Atividade', 'Proteína C Funcional',\n",
              "       'Beta 2 glicoproteina 1 autoanticorpos',\n",
              "       'BETA-2-GLICOPROTEINA 1, AUTOANTICORPO IGM, SORO ',\n",
              "       'Mutação V617f No Gene Jak2, Detecção Por Pcr',\n",
              "       'Teste De Sensibilidade Para Fungos',\n",
              "       'Teste De Sensibilidade Para Fungos Dr3', 'Aldolase',\n",
              "       'Hepat.C Virus(Hcv-Vhc),Genotipagem', 'Osmolalidade Urinária',\n",
              "       'Sódio, Urina,  Amostra Isolada',\n",
              "       'Cultura Automatizada de Escarro', 'Microalbuminuria',\n",
              "       'Ácido Úrico Urinário', 'Oxaluria na Urina', 'Citrato Na Urina',\n",
              "       'Cortisol, Saliva - amostra', 'Enolase Neuronio Especif.(Nse)',\n",
              "       'Serotonina, Dosagem', 'Gastrina', 'Cromogranina',\n",
              "       'Propeptídeo Amino-terminal do Procolágeno tipo 1 soro (P1NP)',\n",
              "       'Endomisio, Anticorpo Anti (IgA)',\n",
              "       'Esquistossomose, Anticorpo Igg, Soro', 'Pre-Albumina, Dosagem',\n",
              "       'Citomegalovírus, Avidez',\n",
              "       'Hormônio folículo estimulante, especial, soro',\n",
              "       'Zikavirus, Anticorpo IgM, soro', 'Zikavirus, Anticorpo IgG, soro',\n",
              "       'J01, Anticorpo Anti', 'Ácido Valpróico, Dosagem', 'Coagulograma',\n",
              "       'Plaquetas, contagem especial, sangue total', 'Hematocrito',\n",
              "       'Amicacina, Dosagem', 'Transglutaminase, Tecidual Igg, Soro',\n",
              "       'Ciclosporina ', 'Alfa 1 Anti Tripsina, Dosagem',\n",
              "       'Leishmaniose, Sorol. Igg', 'Mitocondria, Cortes Rim Rato, ANTCO',\n",
              "       'Musculo Liso,Anticorpo Anti', 'Mitocondria, Fração M2, Anticorpo',\n",
              "       'Urina, Cultura - 1º jato',\n",
              "       'Sedimento, urina de primeiro jato, para Unidades',\n",
              "       'Trichomonas, pesquisa, urina primeiro jato',\n",
              "       'Scl70, Anticorpo Anti', 'Mioglobina (Urina )',\n",
              "       'Ácido Metilmalônico, Soro', 'Histoplasmose, Sorologia',\n",
              "       'HIV-1 Quant (Carga Viral), PCR',\n",
              "       'Insulina, Combinada com Glicose, plasma', 'Fator X, Atividade',\n",
              "       'Tp Corrigido Com 50% Plasma Normal',\n",
              "       'Ferro Medular (Perls),Pesquisa', 'Rast P/ Aveia (F7)',\n",
              "       'Ige específico para ovoalbumina, soro', 'Rast P/ Cacau (F93)',\n",
              "       'Rast Carne De Vaca', 'Rast P/ Caseina (F78)',\n",
              "       'Rast para Castanha de Caju, Soro', 'Rast Centeio',\n",
              "       'Rast P/ Clara De Ovo (F1)', 'Rast P/ Gema De Ovo (F75)',\n",
              "       'Rast P/ Soja (F14)', 'Rast P/ Leite (F2)', 'Rast P/ Trigo - F4',\n",
              "       'Rast P/ Tomate (F25)', 'Rast para Noz, Soro',\n",
              "       'Plaquetas, Agregacao', 'Mycoplasma/Ureaplasma'], dtype=object)"
            ]
          },
          "metadata": {
            "tags": []
          },
          "execution_count": 26
        }
      ]
    },
    {
      "cell_type": "markdown",
      "metadata": {
        "id": "M04PIlTCs2Ql"
      },
      "source": [
        "### **3.3) Analisando Leucócitos**"
      ]
    },
    {
      "cell_type": "code",
      "metadata": {
        "id": "jehED0rxk2Nk",
        "outputId": "43c2cd8b-2123-4f95-ffe6-dc0eadeb4271",
        "colab": {
          "base_uri": "https://localhost:8080/",
          "height": 0
        }
      },
      "source": [
        "# Agora que sabemos a combinação de analitos e exames que procuramos, precisamos entender os tipos de resultado\n",
        "# obtidos para cada uma das features analisadas nos exames:\n",
        "#\n",
        "# DE_ANALITO | DE_EXAME\n",
        "#\n",
        "# Leucócitos | Hemograma\n",
        "# Hemoglobina | Hemograma\n",
        "# Plaquetas | Hemograma\n",
        "# Neutrófilos (%) | Hemograma\n",
        "# Neutrófilos | Hemograma\n",
        "# Linfócitos (%) | Hemograma \n",
        "# Linfócitos | Hemograma \n",
        "# Proteína C-Reativa | Proteína C Reativa, plasma\n",
        "# Bilirrubina Total | Bilirrubinas Total E Fracoes\n",
        "# Uréia | Uréia \n",
        "# Creatinina | Creatinina \n",
        "# DHL | Desidrogenase Lática (DHL/L)\n",
        "# Dimeros D, quant | D. Dimeros(Dimeros De Fibrina)\n",
        "#\n",
        "# Vamos analisar os resultados para cada conjunto de analitos e exames individualmente\n",
        "sel = (data_exames_HSL['DE_ANALITO'] == 'Leucócitos') & (data_exames_HSL['DE_EXAME'] == 'Hemograma')\n",
        "print('A quantidade de exames deste tipo realizados é de: {}'.format(data_exames_HSL[sel].shape[0]))"
      ],
      "execution_count": 27,
      "outputs": [
        {
          "output_type": "stream",
          "text": [
            "A quantidade de exames deste tipo realizados é de: 5119\n"
          ],
          "name": "stdout"
        }
      ]
    },
    {
      "cell_type": "code",
      "metadata": {
        "id": "z7YFDUk1penx",
        "outputId": "65c1acc7-da92-479b-a1a4-37b7733b422b",
        "colab": {
          "base_uri": "https://localhost:8080/",
          "height": 0
        }
      },
      "source": [
        "# Salvando os resultados deste tipo de exame e analito em um dataframe. \n",
        "# Excluímos as colunas que não serão necessárias para o projeto e renomeamos a\n",
        "# coluna 'DE_RESULTADO' para o nome do 'ANALITO' analisado\n",
        "leucocitos = data_exames_HSL[sel]\n",
        "leucocitos.drop(['ID_ATENDIMENTO', 'DE_ORIGEM', 'DE_EXAME', 'DE_ANALITO', 'CD_UNIDADE', 'DE_VALOR_REFERENCIA'], axis=1, inplace=True)\n",
        "leucocitos.rename(columns={'DE_RESULTADO':'DE_LEUCOCITOS'}, inplace=True)\n",
        "leucocitos.head(5)"
      ],
      "execution_count": 28,
      "outputs": [
        {
          "output_type": "stream",
          "text": [
            "/usr/local/lib/python3.6/dist-packages/pandas/core/frame.py:4169: SettingWithCopyWarning: \n",
            "A value is trying to be set on a copy of a slice from a DataFrame\n",
            "\n",
            "See the caveats in the documentation: https://pandas.pydata.org/pandas-docs/stable/user_guide/indexing.html#returning-a-view-versus-a-copy\n",
            "  errors=errors,\n",
            "/usr/local/lib/python3.6/dist-packages/pandas/core/frame.py:4303: SettingWithCopyWarning: \n",
            "A value is trying to be set on a copy of a slice from a DataFrame\n",
            "\n",
            "See the caveats in the documentation: https://pandas.pydata.org/pandas-docs/stable/user_guide/indexing.html#returning-a-view-versus-a-copy\n",
            "  errors=errors,\n"
          ],
          "name": "stderr"
        },
        {
          "output_type": "execute_result",
          "data": {
            "text/html": [
              "<div>\n",
              "<style scoped>\n",
              "    .dataframe tbody tr th:only-of-type {\n",
              "        vertical-align: middle;\n",
              "    }\n",
              "\n",
              "    .dataframe tbody tr th {\n",
              "        vertical-align: top;\n",
              "    }\n",
              "\n",
              "    .dataframe thead th {\n",
              "        text-align: right;\n",
              "    }\n",
              "</style>\n",
              "<table border=\"1\" class=\"dataframe\">\n",
              "  <thead>\n",
              "    <tr style=\"text-align: right;\">\n",
              "      <th></th>\n",
              "      <th>ID_PACIENTE</th>\n",
              "      <th>DT_COLETA</th>\n",
              "      <th>DE_LEUCOCITOS</th>\n",
              "    </tr>\n",
              "  </thead>\n",
              "  <tbody>\n",
              "    <tr>\n",
              "      <th>10</th>\n",
              "      <td>3487791F44C34B421C932DC8616A8437</td>\n",
              "      <td>2020-05-14</td>\n",
              "      <td>3210</td>\n",
              "    </tr>\n",
              "    <tr>\n",
              "      <th>47</th>\n",
              "      <td>3487791F44C34B421C932DC8616A8437</td>\n",
              "      <td>2020-05-04</td>\n",
              "      <td>3390</td>\n",
              "    </tr>\n",
              "    <tr>\n",
              "      <th>71</th>\n",
              "      <td>3487791F44C34B421C932DC8616A8437</td>\n",
              "      <td>2020-05-11</td>\n",
              "      <td>2850</td>\n",
              "    </tr>\n",
              "    <tr>\n",
              "      <th>128</th>\n",
              "      <td>3487791F44C34B421C932DC8616A8437</td>\n",
              "      <td>2020-05-08</td>\n",
              "      <td>2860</td>\n",
              "    </tr>\n",
              "    <tr>\n",
              "      <th>207</th>\n",
              "      <td>B8A474D172DDB5BAD11F088BDA20BE96</td>\n",
              "      <td>2020-08-08</td>\n",
              "      <td>4370</td>\n",
              "    </tr>\n",
              "  </tbody>\n",
              "</table>\n",
              "</div>"
            ],
            "text/plain": [
              "                          ID_PACIENTE   DT_COLETA DE_LEUCOCITOS\n",
              "10   3487791F44C34B421C932DC8616A8437  2020-05-14          3210\n",
              "47   3487791F44C34B421C932DC8616A8437  2020-05-04          3390\n",
              "71   3487791F44C34B421C932DC8616A8437  2020-05-11          2850\n",
              "128  3487791F44C34B421C932DC8616A8437  2020-05-08          2860\n",
              "207  B8A474D172DDB5BAD11F088BDA20BE96  2020-08-08          4370"
            ]
          },
          "metadata": {
            "tags": []
          },
          "execution_count": 28
        }
      ]
    },
    {
      "cell_type": "code",
      "metadata": {
        "id": "6lY9JPU2dxIo",
        "outputId": "a19afcb8-1fd7-46b7-dbe4-1b754787c03d",
        "colab": {
          "base_uri": "https://localhost:8080/",
          "height": 0
        }
      },
      "source": [
        "# Vamos converter os valores da coluna para valores numéricos, já que os resultados dos exames estão sendo\n",
        "# dados por strings. Precisamos trocar o caracter que divide a parte decimal de ',' para '.' para efetuar a\n",
        "# operação. Valores não numéricos são substituidos por NaN (errors='coerce') e serão tratados mais adiante.\n",
        "leucocitos['DE_LEUCOCITOS'] = pd.to_numeric(leucocitos['DE_LEUCOCITOS'].str.replace(',','.'), errors='coerce')\n",
        "leucocitos.head(10)"
      ],
      "execution_count": 29,
      "outputs": [
        {
          "output_type": "stream",
          "text": [
            "/usr/local/lib/python3.6/dist-packages/ipykernel_launcher.py:4: SettingWithCopyWarning: \n",
            "A value is trying to be set on a copy of a slice from a DataFrame.\n",
            "Try using .loc[row_indexer,col_indexer] = value instead\n",
            "\n",
            "See the caveats in the documentation: https://pandas.pydata.org/pandas-docs/stable/user_guide/indexing.html#returning-a-view-versus-a-copy\n",
            "  after removing the cwd from sys.path.\n"
          ],
          "name": "stderr"
        },
        {
          "output_type": "execute_result",
          "data": {
            "text/html": [
              "<div>\n",
              "<style scoped>\n",
              "    .dataframe tbody tr th:only-of-type {\n",
              "        vertical-align: middle;\n",
              "    }\n",
              "\n",
              "    .dataframe tbody tr th {\n",
              "        vertical-align: top;\n",
              "    }\n",
              "\n",
              "    .dataframe thead th {\n",
              "        text-align: right;\n",
              "    }\n",
              "</style>\n",
              "<table border=\"1\" class=\"dataframe\">\n",
              "  <thead>\n",
              "    <tr style=\"text-align: right;\">\n",
              "      <th></th>\n",
              "      <th>ID_PACIENTE</th>\n",
              "      <th>DT_COLETA</th>\n",
              "      <th>DE_LEUCOCITOS</th>\n",
              "    </tr>\n",
              "  </thead>\n",
              "  <tbody>\n",
              "    <tr>\n",
              "      <th>10</th>\n",
              "      <td>3487791F44C34B421C932DC8616A8437</td>\n",
              "      <td>2020-05-14</td>\n",
              "      <td>3210</td>\n",
              "    </tr>\n",
              "    <tr>\n",
              "      <th>47</th>\n",
              "      <td>3487791F44C34B421C932DC8616A8437</td>\n",
              "      <td>2020-05-04</td>\n",
              "      <td>3390</td>\n",
              "    </tr>\n",
              "    <tr>\n",
              "      <th>71</th>\n",
              "      <td>3487791F44C34B421C932DC8616A8437</td>\n",
              "      <td>2020-05-11</td>\n",
              "      <td>2850</td>\n",
              "    </tr>\n",
              "    <tr>\n",
              "      <th>128</th>\n",
              "      <td>3487791F44C34B421C932DC8616A8437</td>\n",
              "      <td>2020-05-08</td>\n",
              "      <td>2860</td>\n",
              "    </tr>\n",
              "    <tr>\n",
              "      <th>207</th>\n",
              "      <td>B8A474D172DDB5BAD11F088BDA20BE96</td>\n",
              "      <td>2020-08-08</td>\n",
              "      <td>4370</td>\n",
              "    </tr>\n",
              "    <tr>\n",
              "      <th>248</th>\n",
              "      <td>B8A474D172DDB5BAD11F088BDA20BE96</td>\n",
              "      <td>2020-08-09</td>\n",
              "      <td>11360</td>\n",
              "    </tr>\n",
              "    <tr>\n",
              "      <th>279</th>\n",
              "      <td>B8A474D172DDB5BAD11F088BDA20BE96</td>\n",
              "      <td>2020-08-09</td>\n",
              "      <td>7670</td>\n",
              "    </tr>\n",
              "    <tr>\n",
              "      <th>326</th>\n",
              "      <td>B8A474D172DDB5BAD11F088BDA20BE96</td>\n",
              "      <td>2020-08-10</td>\n",
              "      <td>7380</td>\n",
              "    </tr>\n",
              "    <tr>\n",
              "      <th>376</th>\n",
              "      <td>B9697B4994DF6367EDB722F1EC4AB423</td>\n",
              "      <td>2020-05-18</td>\n",
              "      <td>5990</td>\n",
              "    </tr>\n",
              "    <tr>\n",
              "      <th>400</th>\n",
              "      <td>D1C4E29D126CA8B4359827903CB222AC</td>\n",
              "      <td>2020-03-30</td>\n",
              "      <td>14670</td>\n",
              "    </tr>\n",
              "  </tbody>\n",
              "</table>\n",
              "</div>"
            ],
            "text/plain": [
              "                          ID_PACIENTE   DT_COLETA  DE_LEUCOCITOS\n",
              "10   3487791F44C34B421C932DC8616A8437  2020-05-14           3210\n",
              "47   3487791F44C34B421C932DC8616A8437  2020-05-04           3390\n",
              "71   3487791F44C34B421C932DC8616A8437  2020-05-11           2850\n",
              "128  3487791F44C34B421C932DC8616A8437  2020-05-08           2860\n",
              "207  B8A474D172DDB5BAD11F088BDA20BE96  2020-08-08           4370\n",
              "248  B8A474D172DDB5BAD11F088BDA20BE96  2020-08-09          11360\n",
              "279  B8A474D172DDB5BAD11F088BDA20BE96  2020-08-09           7670\n",
              "326  B8A474D172DDB5BAD11F088BDA20BE96  2020-08-10           7380\n",
              "376  B9697B4994DF6367EDB722F1EC4AB423  2020-05-18           5990\n",
              "400  D1C4E29D126CA8B4359827903CB222AC  2020-03-30          14670"
            ]
          },
          "metadata": {
            "tags": []
          },
          "execution_count": 29
        }
      ]
    },
    {
      "cell_type": "code",
      "metadata": {
        "id": "pOEal0Yts43-",
        "outputId": "6f47db0c-32a4-43e1-ca03-c5eaf9b3571c",
        "colab": {
          "base_uri": "https://localhost:8080/",
          "height": 0
        }
      },
      "source": [
        "# Verificando dados faltantes\n",
        "leucocitos.info()"
      ],
      "execution_count": 30,
      "outputs": [
        {
          "output_type": "stream",
          "text": [
            "<class 'pandas.core.frame.DataFrame'>\n",
            "Int64Index: 5119 entries, 10 to 259411\n",
            "Data columns (total 3 columns):\n",
            " #   Column         Non-Null Count  Dtype \n",
            "---  ------         --------------  ----- \n",
            " 0   ID_PACIENTE    5119 non-null   object\n",
            " 1   DT_COLETA      5119 non-null   object\n",
            " 2   DE_LEUCOCITOS  5119 non-null   int64 \n",
            "dtypes: int64(1), object(2)\n",
            "memory usage: 160.0+ KB\n"
          ],
          "name": "stdout"
        }
      ]
    },
    {
      "cell_type": "markdown",
      "metadata": {
        "id": "ihZ_y0H9tCCZ"
      },
      "source": [
        "### **3.4) Analisando Hemoglobina**"
      ]
    },
    {
      "cell_type": "code",
      "metadata": {
        "id": "QYvzqDP9oiix",
        "outputId": "bcbc07e3-a4d1-4169-bc10-abee23ee4791",
        "colab": {
          "base_uri": "https://localhost:8080/",
          "height": 0
        }
      },
      "source": [
        "# Agora que sabemos a combinação de analitos e exames que procuramos, precisamos entender os tipos de resultado\n",
        "# obtidos para cada uma das features analisadas nos exames:\n",
        "#\n",
        "# DE_ANALITO | DE_EXAME\n",
        "#\n",
        "# Leucócitos | Hemograma\n",
        "# Hemoglobina | Hemograma\n",
        "# Plaquetas | Hemograma\n",
        "# Neutrófilos (%) | Hemograma\n",
        "# Neutrófilos | Hemograma\n",
        "# Linfócitos (%) | Hemograma \n",
        "# Linfócitos | Hemograma \n",
        "# Proteína C-Reativa | Proteína C Reativa, plasma\n",
        "# Bilirrubina Total | Bilirrubinas Total E Fracoes\n",
        "# Uréia | Uréia \n",
        "# Creatinina | Creatinina \n",
        "# DHL | Desidrogenase Lática (DHL/L)\n",
        "# Dimeros D, quant | D. Dimeros(Dimeros De Fibrina)\n",
        "#\n",
        "# Vamos analisar os resultados para cada conjunto de analitos e exames individualmente\n",
        "sel = (data_exames_HSL['DE_ANALITO'] == 'Hemoglobina') & (data_exames_HSL['DE_EXAME'] == 'Hemograma')\n",
        "print('A quantidade de exames deste tipo realizados é de: {}'.format(data_exames_HSL[sel].shape[0]))"
      ],
      "execution_count": 31,
      "outputs": [
        {
          "output_type": "stream",
          "text": [
            "A quantidade de exames deste tipo realizados é de: 5119\n"
          ],
          "name": "stdout"
        }
      ]
    },
    {
      "cell_type": "code",
      "metadata": {
        "id": "h-20nGzPsRMV",
        "outputId": "1ca241b2-6e82-4e23-d411-03e9b2ac2822",
        "colab": {
          "base_uri": "https://localhost:8080/",
          "height": 0
        }
      },
      "source": [
        "# Salvando os resultados deste tipo de exame e analito em um dataframe. \n",
        "# Excluímos as colunas que não serão necessárias para o projeto e renomeamos a\n",
        "# coluna 'DE_RESULTADO' para o nome do 'ANALITO' analisado\n",
        "hemoglobina = data_exames_HSL[sel]\n",
        "hemoglobina.drop(['ID_ATENDIMENTO', 'DE_ORIGEM', 'DE_EXAME', 'DE_ANALITO', 'CD_UNIDADE', 'DE_VALOR_REFERENCIA'], axis=1, inplace=True)\n",
        "hemoglobina.rename(columns={'DE_RESULTADO':'DE_HEMOGLOBINA'}, inplace=True)\n",
        "hemoglobina.head(5)"
      ],
      "execution_count": 32,
      "outputs": [
        {
          "output_type": "stream",
          "text": [
            "/usr/local/lib/python3.6/dist-packages/pandas/core/frame.py:4169: SettingWithCopyWarning: \n",
            "A value is trying to be set on a copy of a slice from a DataFrame\n",
            "\n",
            "See the caveats in the documentation: https://pandas.pydata.org/pandas-docs/stable/user_guide/indexing.html#returning-a-view-versus-a-copy\n",
            "  errors=errors,\n",
            "/usr/local/lib/python3.6/dist-packages/pandas/core/frame.py:4303: SettingWithCopyWarning: \n",
            "A value is trying to be set on a copy of a slice from a DataFrame\n",
            "\n",
            "See the caveats in the documentation: https://pandas.pydata.org/pandas-docs/stable/user_guide/indexing.html#returning-a-view-versus-a-copy\n",
            "  errors=errors,\n"
          ],
          "name": "stderr"
        },
        {
          "output_type": "execute_result",
          "data": {
            "text/html": [
              "<div>\n",
              "<style scoped>\n",
              "    .dataframe tbody tr th:only-of-type {\n",
              "        vertical-align: middle;\n",
              "    }\n",
              "\n",
              "    .dataframe tbody tr th {\n",
              "        vertical-align: top;\n",
              "    }\n",
              "\n",
              "    .dataframe thead th {\n",
              "        text-align: right;\n",
              "    }\n",
              "</style>\n",
              "<table border=\"1\" class=\"dataframe\">\n",
              "  <thead>\n",
              "    <tr style=\"text-align: right;\">\n",
              "      <th></th>\n",
              "      <th>ID_PACIENTE</th>\n",
              "      <th>DT_COLETA</th>\n",
              "      <th>DE_HEMOGLOBINA</th>\n",
              "    </tr>\n",
              "  </thead>\n",
              "  <tbody>\n",
              "    <tr>\n",
              "      <th>8</th>\n",
              "      <td>3487791F44C34B421C932DC8616A8437</td>\n",
              "      <td>2020-05-14</td>\n",
              "      <td>13,3</td>\n",
              "    </tr>\n",
              "    <tr>\n",
              "      <th>45</th>\n",
              "      <td>3487791F44C34B421C932DC8616A8437</td>\n",
              "      <td>2020-05-04</td>\n",
              "      <td>14,8</td>\n",
              "    </tr>\n",
              "    <tr>\n",
              "      <th>69</th>\n",
              "      <td>3487791F44C34B421C932DC8616A8437</td>\n",
              "      <td>2020-05-11</td>\n",
              "      <td>15,1</td>\n",
              "    </tr>\n",
              "    <tr>\n",
              "      <th>126</th>\n",
              "      <td>3487791F44C34B421C932DC8616A8437</td>\n",
              "      <td>2020-05-08</td>\n",
              "      <td>14,8</td>\n",
              "    </tr>\n",
              "    <tr>\n",
              "      <th>205</th>\n",
              "      <td>B8A474D172DDB5BAD11F088BDA20BE96</td>\n",
              "      <td>2020-08-08</td>\n",
              "      <td>14,1</td>\n",
              "    </tr>\n",
              "  </tbody>\n",
              "</table>\n",
              "</div>"
            ],
            "text/plain": [
              "                          ID_PACIENTE   DT_COLETA DE_HEMOGLOBINA\n",
              "8    3487791F44C34B421C932DC8616A8437  2020-05-14           13,3\n",
              "45   3487791F44C34B421C932DC8616A8437  2020-05-04           14,8\n",
              "69   3487791F44C34B421C932DC8616A8437  2020-05-11           15,1\n",
              "126  3487791F44C34B421C932DC8616A8437  2020-05-08           14,8\n",
              "205  B8A474D172DDB5BAD11F088BDA20BE96  2020-08-08           14,1"
            ]
          },
          "metadata": {
            "tags": []
          },
          "execution_count": 32
        }
      ]
    },
    {
      "cell_type": "code",
      "metadata": {
        "id": "sFXciTISZVIM",
        "outputId": "0e4aec2c-e553-479e-927e-9515bd1ea6e7",
        "colab": {
          "base_uri": "https://localhost:8080/",
          "height": 0
        }
      },
      "source": [
        "# Vamos converter os valores da coluna para valores numéricos, já que os resultados dos exames estão sendo\n",
        "# dados por strings. Precisamos trocar o caracter que divide a parte decimal de ',' para '.' para efetuar a\n",
        "# operação. Valores não numéricos são substituidos por NaN (errors='coerce') e serão tratados mais adiante.\n",
        "hemoglobina['DE_HEMOGLOBINA'] = pd.to_numeric(hemoglobina['DE_HEMOGLOBINA'].str.replace(',','.'), errors='coerce')\n",
        "hemoglobina.head(10)"
      ],
      "execution_count": 33,
      "outputs": [
        {
          "output_type": "stream",
          "text": [
            "/usr/local/lib/python3.6/dist-packages/ipykernel_launcher.py:4: SettingWithCopyWarning: \n",
            "A value is trying to be set on a copy of a slice from a DataFrame.\n",
            "Try using .loc[row_indexer,col_indexer] = value instead\n",
            "\n",
            "See the caveats in the documentation: https://pandas.pydata.org/pandas-docs/stable/user_guide/indexing.html#returning-a-view-versus-a-copy\n",
            "  after removing the cwd from sys.path.\n"
          ],
          "name": "stderr"
        },
        {
          "output_type": "execute_result",
          "data": {
            "text/html": [
              "<div>\n",
              "<style scoped>\n",
              "    .dataframe tbody tr th:only-of-type {\n",
              "        vertical-align: middle;\n",
              "    }\n",
              "\n",
              "    .dataframe tbody tr th {\n",
              "        vertical-align: top;\n",
              "    }\n",
              "\n",
              "    .dataframe thead th {\n",
              "        text-align: right;\n",
              "    }\n",
              "</style>\n",
              "<table border=\"1\" class=\"dataframe\">\n",
              "  <thead>\n",
              "    <tr style=\"text-align: right;\">\n",
              "      <th></th>\n",
              "      <th>ID_PACIENTE</th>\n",
              "      <th>DT_COLETA</th>\n",
              "      <th>DE_HEMOGLOBINA</th>\n",
              "    </tr>\n",
              "  </thead>\n",
              "  <tbody>\n",
              "    <tr>\n",
              "      <th>8</th>\n",
              "      <td>3487791F44C34B421C932DC8616A8437</td>\n",
              "      <td>2020-05-14</td>\n",
              "      <td>13.3</td>\n",
              "    </tr>\n",
              "    <tr>\n",
              "      <th>45</th>\n",
              "      <td>3487791F44C34B421C932DC8616A8437</td>\n",
              "      <td>2020-05-04</td>\n",
              "      <td>14.8</td>\n",
              "    </tr>\n",
              "    <tr>\n",
              "      <th>69</th>\n",
              "      <td>3487791F44C34B421C932DC8616A8437</td>\n",
              "      <td>2020-05-11</td>\n",
              "      <td>15.1</td>\n",
              "    </tr>\n",
              "    <tr>\n",
              "      <th>126</th>\n",
              "      <td>3487791F44C34B421C932DC8616A8437</td>\n",
              "      <td>2020-05-08</td>\n",
              "      <td>14.8</td>\n",
              "    </tr>\n",
              "    <tr>\n",
              "      <th>205</th>\n",
              "      <td>B8A474D172DDB5BAD11F088BDA20BE96</td>\n",
              "      <td>2020-08-08</td>\n",
              "      <td>14.1</td>\n",
              "    </tr>\n",
              "    <tr>\n",
              "      <th>246</th>\n",
              "      <td>B8A474D172DDB5BAD11F088BDA20BE96</td>\n",
              "      <td>2020-08-09</td>\n",
              "      <td>15.0</td>\n",
              "    </tr>\n",
              "    <tr>\n",
              "      <th>277</th>\n",
              "      <td>B8A474D172DDB5BAD11F088BDA20BE96</td>\n",
              "      <td>2020-08-09</td>\n",
              "      <td>13.8</td>\n",
              "    </tr>\n",
              "    <tr>\n",
              "      <th>324</th>\n",
              "      <td>B8A474D172DDB5BAD11F088BDA20BE96</td>\n",
              "      <td>2020-08-10</td>\n",
              "      <td>13.4</td>\n",
              "    </tr>\n",
              "    <tr>\n",
              "      <th>374</th>\n",
              "      <td>B9697B4994DF6367EDB722F1EC4AB423</td>\n",
              "      <td>2020-05-18</td>\n",
              "      <td>16.1</td>\n",
              "    </tr>\n",
              "    <tr>\n",
              "      <th>398</th>\n",
              "      <td>D1C4E29D126CA8B4359827903CB222AC</td>\n",
              "      <td>2020-03-30</td>\n",
              "      <td>15.6</td>\n",
              "    </tr>\n",
              "  </tbody>\n",
              "</table>\n",
              "</div>"
            ],
            "text/plain": [
              "                          ID_PACIENTE   DT_COLETA  DE_HEMOGLOBINA\n",
              "8    3487791F44C34B421C932DC8616A8437  2020-05-14            13.3\n",
              "45   3487791F44C34B421C932DC8616A8437  2020-05-04            14.8\n",
              "69   3487791F44C34B421C932DC8616A8437  2020-05-11            15.1\n",
              "126  3487791F44C34B421C932DC8616A8437  2020-05-08            14.8\n",
              "205  B8A474D172DDB5BAD11F088BDA20BE96  2020-08-08            14.1\n",
              "246  B8A474D172DDB5BAD11F088BDA20BE96  2020-08-09            15.0\n",
              "277  B8A474D172DDB5BAD11F088BDA20BE96  2020-08-09            13.8\n",
              "324  B8A474D172DDB5BAD11F088BDA20BE96  2020-08-10            13.4\n",
              "374  B9697B4994DF6367EDB722F1EC4AB423  2020-05-18            16.1\n",
              "398  D1C4E29D126CA8B4359827903CB222AC  2020-03-30            15.6"
            ]
          },
          "metadata": {
            "tags": []
          },
          "execution_count": 33
        }
      ]
    },
    {
      "cell_type": "code",
      "metadata": {
        "id": "WBiOOYbCtS7U",
        "outputId": "7f6eb0d8-de6e-4492-b6ca-299c57f44192",
        "colab": {
          "base_uri": "https://localhost:8080/",
          "height": 0
        }
      },
      "source": [
        "# Verificando dados faltantes\n",
        "hemoglobina.info()"
      ],
      "execution_count": 34,
      "outputs": [
        {
          "output_type": "stream",
          "text": [
            "<class 'pandas.core.frame.DataFrame'>\n",
            "Int64Index: 5119 entries, 8 to 259409\n",
            "Data columns (total 3 columns):\n",
            " #   Column          Non-Null Count  Dtype  \n",
            "---  ------          --------------  -----  \n",
            " 0   ID_PACIENTE     5119 non-null   object \n",
            " 1   DT_COLETA       5119 non-null   object \n",
            " 2   DE_HEMOGLOBINA  5119 non-null   float64\n",
            "dtypes: float64(1), object(2)\n",
            "memory usage: 160.0+ KB\n"
          ],
          "name": "stdout"
        }
      ]
    },
    {
      "cell_type": "markdown",
      "metadata": {
        "id": "EsjcU3-dtHws"
      },
      "source": [
        "### **3.5) Analisando Plaquetas**"
      ]
    },
    {
      "cell_type": "code",
      "metadata": {
        "id": "oZ72vbmcowbu",
        "outputId": "0532bca0-692d-4bda-cb30-3333df9c31a5",
        "colab": {
          "base_uri": "https://localhost:8080/",
          "height": 0
        }
      },
      "source": [
        "# Agora que sabemos a combinação de analitos e exames que procuramos, precisamos entender os tipos de resultado\n",
        "# obtidos para cada uma das features analisadas nos exames:\n",
        "#\n",
        "# DE_ANALITO | DE_EXAME\n",
        "#\n",
        "# Leucócitos | Hemograma\n",
        "# Hemoglobina | Hemograma\n",
        "# Plaquetas | Hemograma\n",
        "# Neutrófilos (%) | Hemograma\n",
        "# Neutrófilos | Hemograma\n",
        "# Linfócitos (%) | Hemograma \n",
        "# Linfócitos | Hemograma \n",
        "# Proteína C-Reativa | Proteína C Reativa, plasma\n",
        "# Bilirrubina Total | Bilirrubinas Total E Fracoes\n",
        "# Uréia | Uréia \n",
        "# Creatinina | Creatinina \n",
        "# DHL | Desidrogenase Lática (DHL/L)\n",
        "# Dimeros D, quant | D. Dimeros(Dimeros De Fibrina)\n",
        "#\n",
        "# Vamos analisar os resultados para cada conjunto de analitos e exames individualmente\n",
        "sel = (data_exames_HSL['DE_ANALITO'] == 'Plaquetas') & (data_exames_HSL['DE_EXAME'] == 'Hemograma')\n",
        "print('A quantidade de exames deste tipo realizados é de: {}'.format(data_exames_HSL[sel].shape[0]))"
      ],
      "execution_count": 35,
      "outputs": [
        {
          "output_type": "stream",
          "text": [
            "A quantidade de exames deste tipo realizados é de: 5118\n"
          ],
          "name": "stdout"
        }
      ]
    },
    {
      "cell_type": "code",
      "metadata": {
        "id": "lBDuylwwsltk",
        "outputId": "1ce2ca71-f1b1-47f4-d9a1-20ce4735da29",
        "colab": {
          "base_uri": "https://localhost:8080/",
          "height": 0
        }
      },
      "source": [
        "# Salvando os resultados deste tipo de exame e analito em um dataframe. \n",
        "# Excluímos as colunas que não serão necessárias para o projeto e renomeamos a\n",
        "# coluna 'DE_RESULTADO' para o nome do 'ANALITO' analisado\n",
        "plaquetas = data_exames_HSL[sel]\n",
        "plaquetas.drop(['ID_ATENDIMENTO', 'DE_ORIGEM', 'DE_EXAME', 'DE_ANALITO', 'CD_UNIDADE', 'DE_VALOR_REFERENCIA'], axis=1, inplace=True)\n",
        "plaquetas.rename(columns={'DE_RESULTADO':'DE_PLAQUETAS'}, inplace=True)\n",
        "plaquetas.head(5)"
      ],
      "execution_count": 36,
      "outputs": [
        {
          "output_type": "stream",
          "text": [
            "/usr/local/lib/python3.6/dist-packages/pandas/core/frame.py:4169: SettingWithCopyWarning: \n",
            "A value is trying to be set on a copy of a slice from a DataFrame\n",
            "\n",
            "See the caveats in the documentation: https://pandas.pydata.org/pandas-docs/stable/user_guide/indexing.html#returning-a-view-versus-a-copy\n",
            "  errors=errors,\n",
            "/usr/local/lib/python3.6/dist-packages/pandas/core/frame.py:4303: SettingWithCopyWarning: \n",
            "A value is trying to be set on a copy of a slice from a DataFrame\n",
            "\n",
            "See the caveats in the documentation: https://pandas.pydata.org/pandas-docs/stable/user_guide/indexing.html#returning-a-view-versus-a-copy\n",
            "  errors=errors,\n"
          ],
          "name": "stderr"
        },
        {
          "output_type": "execute_result",
          "data": {
            "text/html": [
              "<div>\n",
              "<style scoped>\n",
              "    .dataframe tbody tr th:only-of-type {\n",
              "        vertical-align: middle;\n",
              "    }\n",
              "\n",
              "    .dataframe tbody tr th {\n",
              "        vertical-align: top;\n",
              "    }\n",
              "\n",
              "    .dataframe thead th {\n",
              "        text-align: right;\n",
              "    }\n",
              "</style>\n",
              "<table border=\"1\" class=\"dataframe\">\n",
              "  <thead>\n",
              "    <tr style=\"text-align: right;\">\n",
              "      <th></th>\n",
              "      <th>ID_PACIENTE</th>\n",
              "      <th>DT_COLETA</th>\n",
              "      <th>DE_PLAQUETAS</th>\n",
              "    </tr>\n",
              "  </thead>\n",
              "  <tbody>\n",
              "    <tr>\n",
              "      <th>16</th>\n",
              "      <td>3487791F44C34B421C932DC8616A8437</td>\n",
              "      <td>2020-05-14</td>\n",
              "      <td>97000</td>\n",
              "    </tr>\n",
              "    <tr>\n",
              "      <th>53</th>\n",
              "      <td>3487791F44C34B421C932DC8616A8437</td>\n",
              "      <td>2020-05-04</td>\n",
              "      <td>86000</td>\n",
              "    </tr>\n",
              "    <tr>\n",
              "      <th>77</th>\n",
              "      <td>3487791F44C34B421C932DC8616A8437</td>\n",
              "      <td>2020-05-11</td>\n",
              "      <td>79000</td>\n",
              "    </tr>\n",
              "    <tr>\n",
              "      <th>134</th>\n",
              "      <td>3487791F44C34B421C932DC8616A8437</td>\n",
              "      <td>2020-05-08</td>\n",
              "      <td>84000</td>\n",
              "    </tr>\n",
              "    <tr>\n",
              "      <th>213</th>\n",
              "      <td>B8A474D172DDB5BAD11F088BDA20BE96</td>\n",
              "      <td>2020-08-08</td>\n",
              "      <td>201000</td>\n",
              "    </tr>\n",
              "  </tbody>\n",
              "</table>\n",
              "</div>"
            ],
            "text/plain": [
              "                          ID_PACIENTE   DT_COLETA DE_PLAQUETAS\n",
              "16   3487791F44C34B421C932DC8616A8437  2020-05-14        97000\n",
              "53   3487791F44C34B421C932DC8616A8437  2020-05-04        86000\n",
              "77   3487791F44C34B421C932DC8616A8437  2020-05-11        79000\n",
              "134  3487791F44C34B421C932DC8616A8437  2020-05-08        84000\n",
              "213  B8A474D172DDB5BAD11F088BDA20BE96  2020-08-08       201000"
            ]
          },
          "metadata": {
            "tags": []
          },
          "execution_count": 36
        }
      ]
    },
    {
      "cell_type": "code",
      "metadata": {
        "id": "rKilzQ15d_iq",
        "outputId": "c6d33462-3965-4929-abac-bc37a3c86365",
        "colab": {
          "base_uri": "https://localhost:8080/",
          "height": 0
        }
      },
      "source": [
        "# Vamos converter os valores da coluna para valores numéricos, já que os resultados dos exames estão sendo\n",
        "# dados por strings. Precisamos trocar o caracter que divide a parte decimal de ',' para '.' para efetuar a\n",
        "# operação. Valores não numéricos são substituidos por NaN (errors='coerce') e serão tratados mais adiante.\n",
        "plaquetas['DE_PLAQUETAS'] = pd.to_numeric(plaquetas['DE_PLAQUETAS'].str.replace(',','.'), errors='coerce')\n",
        "plaquetas.head(10)"
      ],
      "execution_count": 37,
      "outputs": [
        {
          "output_type": "stream",
          "text": [
            "/usr/local/lib/python3.6/dist-packages/ipykernel_launcher.py:4: SettingWithCopyWarning: \n",
            "A value is trying to be set on a copy of a slice from a DataFrame.\n",
            "Try using .loc[row_indexer,col_indexer] = value instead\n",
            "\n",
            "See the caveats in the documentation: https://pandas.pydata.org/pandas-docs/stable/user_guide/indexing.html#returning-a-view-versus-a-copy\n",
            "  after removing the cwd from sys.path.\n"
          ],
          "name": "stderr"
        },
        {
          "output_type": "execute_result",
          "data": {
            "text/html": [
              "<div>\n",
              "<style scoped>\n",
              "    .dataframe tbody tr th:only-of-type {\n",
              "        vertical-align: middle;\n",
              "    }\n",
              "\n",
              "    .dataframe tbody tr th {\n",
              "        vertical-align: top;\n",
              "    }\n",
              "\n",
              "    .dataframe thead th {\n",
              "        text-align: right;\n",
              "    }\n",
              "</style>\n",
              "<table border=\"1\" class=\"dataframe\">\n",
              "  <thead>\n",
              "    <tr style=\"text-align: right;\">\n",
              "      <th></th>\n",
              "      <th>ID_PACIENTE</th>\n",
              "      <th>DT_COLETA</th>\n",
              "      <th>DE_PLAQUETAS</th>\n",
              "    </tr>\n",
              "  </thead>\n",
              "  <tbody>\n",
              "    <tr>\n",
              "      <th>16</th>\n",
              "      <td>3487791F44C34B421C932DC8616A8437</td>\n",
              "      <td>2020-05-14</td>\n",
              "      <td>97000.0</td>\n",
              "    </tr>\n",
              "    <tr>\n",
              "      <th>53</th>\n",
              "      <td>3487791F44C34B421C932DC8616A8437</td>\n",
              "      <td>2020-05-04</td>\n",
              "      <td>86000.0</td>\n",
              "    </tr>\n",
              "    <tr>\n",
              "      <th>77</th>\n",
              "      <td>3487791F44C34B421C932DC8616A8437</td>\n",
              "      <td>2020-05-11</td>\n",
              "      <td>79000.0</td>\n",
              "    </tr>\n",
              "    <tr>\n",
              "      <th>134</th>\n",
              "      <td>3487791F44C34B421C932DC8616A8437</td>\n",
              "      <td>2020-05-08</td>\n",
              "      <td>84000.0</td>\n",
              "    </tr>\n",
              "    <tr>\n",
              "      <th>213</th>\n",
              "      <td>B8A474D172DDB5BAD11F088BDA20BE96</td>\n",
              "      <td>2020-08-08</td>\n",
              "      <td>201000.0</td>\n",
              "    </tr>\n",
              "    <tr>\n",
              "      <th>254</th>\n",
              "      <td>B8A474D172DDB5BAD11F088BDA20BE96</td>\n",
              "      <td>2020-08-09</td>\n",
              "      <td>220000.0</td>\n",
              "    </tr>\n",
              "    <tr>\n",
              "      <th>285</th>\n",
              "      <td>B8A474D172DDB5BAD11F088BDA20BE96</td>\n",
              "      <td>2020-08-09</td>\n",
              "      <td>218000.0</td>\n",
              "    </tr>\n",
              "    <tr>\n",
              "      <th>332</th>\n",
              "      <td>B8A474D172DDB5BAD11F088BDA20BE96</td>\n",
              "      <td>2020-08-10</td>\n",
              "      <td>215000.0</td>\n",
              "    </tr>\n",
              "    <tr>\n",
              "      <th>382</th>\n",
              "      <td>B9697B4994DF6367EDB722F1EC4AB423</td>\n",
              "      <td>2020-05-18</td>\n",
              "      <td>323000.0</td>\n",
              "    </tr>\n",
              "    <tr>\n",
              "      <th>406</th>\n",
              "      <td>D1C4E29D126CA8B4359827903CB222AC</td>\n",
              "      <td>2020-03-30</td>\n",
              "      <td>414000.0</td>\n",
              "    </tr>\n",
              "  </tbody>\n",
              "</table>\n",
              "</div>"
            ],
            "text/plain": [
              "                          ID_PACIENTE   DT_COLETA  DE_PLAQUETAS\n",
              "16   3487791F44C34B421C932DC8616A8437  2020-05-14       97000.0\n",
              "53   3487791F44C34B421C932DC8616A8437  2020-05-04       86000.0\n",
              "77   3487791F44C34B421C932DC8616A8437  2020-05-11       79000.0\n",
              "134  3487791F44C34B421C932DC8616A8437  2020-05-08       84000.0\n",
              "213  B8A474D172DDB5BAD11F088BDA20BE96  2020-08-08      201000.0\n",
              "254  B8A474D172DDB5BAD11F088BDA20BE96  2020-08-09      220000.0\n",
              "285  B8A474D172DDB5BAD11F088BDA20BE96  2020-08-09      218000.0\n",
              "332  B8A474D172DDB5BAD11F088BDA20BE96  2020-08-10      215000.0\n",
              "382  B9697B4994DF6367EDB722F1EC4AB423  2020-05-18      323000.0\n",
              "406  D1C4E29D126CA8B4359827903CB222AC  2020-03-30      414000.0"
            ]
          },
          "metadata": {
            "tags": []
          },
          "execution_count": 37
        }
      ]
    },
    {
      "cell_type": "code",
      "metadata": {
        "id": "ehPqmB7itXJ-",
        "outputId": "8c797d7f-bd23-4a81-82ea-129f755cd80a",
        "colab": {
          "base_uri": "https://localhost:8080/",
          "height": 0
        }
      },
      "source": [
        "# Verificando dados faltantes\n",
        "plaquetas.info()"
      ],
      "execution_count": 38,
      "outputs": [
        {
          "output_type": "stream",
          "text": [
            "<class 'pandas.core.frame.DataFrame'>\n",
            "Int64Index: 5118 entries, 16 to 259417\n",
            "Data columns (total 3 columns):\n",
            " #   Column        Non-Null Count  Dtype  \n",
            "---  ------        --------------  -----  \n",
            " 0   ID_PACIENTE   5118 non-null   object \n",
            " 1   DT_COLETA     5118 non-null   object \n",
            " 2   DE_PLAQUETAS  5111 non-null   float64\n",
            "dtypes: float64(1), object(2)\n",
            "memory usage: 159.9+ KB\n"
          ],
          "name": "stdout"
        }
      ]
    },
    {
      "cell_type": "code",
      "metadata": {
        "id": "95rG1HjBhzh0",
        "outputId": "e4575745-aef5-460a-ebc9-83400b0373ed",
        "colab": {
          "base_uri": "https://localhost:8080/",
          "height": 0
        }
      },
      "source": [
        "# Temos dados que não representam valores numéricos (NaN). Vamos substituir esses dados pela \n",
        "# média dos demais dados da coluna, mesma estratégia utilizada em (Bao, 2020):\n",
        "plaquetas.fillna(plaquetas.mean(), inplace=True)\n",
        "plaquetas.head(10)"
      ],
      "execution_count": 39,
      "outputs": [
        {
          "output_type": "stream",
          "text": [
            "/usr/local/lib/python3.6/dist-packages/pandas/core/series.py:4523: SettingWithCopyWarning: \n",
            "A value is trying to be set on a copy of a slice from a DataFrame\n",
            "\n",
            "See the caveats in the documentation: https://pandas.pydata.org/pandas-docs/stable/user_guide/indexing.html#returning-a-view-versus-a-copy\n",
            "  downcast=downcast,\n"
          ],
          "name": "stderr"
        },
        {
          "output_type": "execute_result",
          "data": {
            "text/html": [
              "<div>\n",
              "<style scoped>\n",
              "    .dataframe tbody tr th:only-of-type {\n",
              "        vertical-align: middle;\n",
              "    }\n",
              "\n",
              "    .dataframe tbody tr th {\n",
              "        vertical-align: top;\n",
              "    }\n",
              "\n",
              "    .dataframe thead th {\n",
              "        text-align: right;\n",
              "    }\n",
              "</style>\n",
              "<table border=\"1\" class=\"dataframe\">\n",
              "  <thead>\n",
              "    <tr style=\"text-align: right;\">\n",
              "      <th></th>\n",
              "      <th>ID_PACIENTE</th>\n",
              "      <th>DT_COLETA</th>\n",
              "      <th>DE_PLAQUETAS</th>\n",
              "    </tr>\n",
              "  </thead>\n",
              "  <tbody>\n",
              "    <tr>\n",
              "      <th>16</th>\n",
              "      <td>3487791F44C34B421C932DC8616A8437</td>\n",
              "      <td>2020-05-14</td>\n",
              "      <td>97000.0</td>\n",
              "    </tr>\n",
              "    <tr>\n",
              "      <th>53</th>\n",
              "      <td>3487791F44C34B421C932DC8616A8437</td>\n",
              "      <td>2020-05-04</td>\n",
              "      <td>86000.0</td>\n",
              "    </tr>\n",
              "    <tr>\n",
              "      <th>77</th>\n",
              "      <td>3487791F44C34B421C932DC8616A8437</td>\n",
              "      <td>2020-05-11</td>\n",
              "      <td>79000.0</td>\n",
              "    </tr>\n",
              "    <tr>\n",
              "      <th>134</th>\n",
              "      <td>3487791F44C34B421C932DC8616A8437</td>\n",
              "      <td>2020-05-08</td>\n",
              "      <td>84000.0</td>\n",
              "    </tr>\n",
              "    <tr>\n",
              "      <th>213</th>\n",
              "      <td>B8A474D172DDB5BAD11F088BDA20BE96</td>\n",
              "      <td>2020-08-08</td>\n",
              "      <td>201000.0</td>\n",
              "    </tr>\n",
              "    <tr>\n",
              "      <th>254</th>\n",
              "      <td>B8A474D172DDB5BAD11F088BDA20BE96</td>\n",
              "      <td>2020-08-09</td>\n",
              "      <td>220000.0</td>\n",
              "    </tr>\n",
              "    <tr>\n",
              "      <th>285</th>\n",
              "      <td>B8A474D172DDB5BAD11F088BDA20BE96</td>\n",
              "      <td>2020-08-09</td>\n",
              "      <td>218000.0</td>\n",
              "    </tr>\n",
              "    <tr>\n",
              "      <th>332</th>\n",
              "      <td>B8A474D172DDB5BAD11F088BDA20BE96</td>\n",
              "      <td>2020-08-10</td>\n",
              "      <td>215000.0</td>\n",
              "    </tr>\n",
              "    <tr>\n",
              "      <th>382</th>\n",
              "      <td>B9697B4994DF6367EDB722F1EC4AB423</td>\n",
              "      <td>2020-05-18</td>\n",
              "      <td>323000.0</td>\n",
              "    </tr>\n",
              "    <tr>\n",
              "      <th>406</th>\n",
              "      <td>D1C4E29D126CA8B4359827903CB222AC</td>\n",
              "      <td>2020-03-30</td>\n",
              "      <td>414000.0</td>\n",
              "    </tr>\n",
              "  </tbody>\n",
              "</table>\n",
              "</div>"
            ],
            "text/plain": [
              "                          ID_PACIENTE   DT_COLETA  DE_PLAQUETAS\n",
              "16   3487791F44C34B421C932DC8616A8437  2020-05-14       97000.0\n",
              "53   3487791F44C34B421C932DC8616A8437  2020-05-04       86000.0\n",
              "77   3487791F44C34B421C932DC8616A8437  2020-05-11       79000.0\n",
              "134  3487791F44C34B421C932DC8616A8437  2020-05-08       84000.0\n",
              "213  B8A474D172DDB5BAD11F088BDA20BE96  2020-08-08      201000.0\n",
              "254  B8A474D172DDB5BAD11F088BDA20BE96  2020-08-09      220000.0\n",
              "285  B8A474D172DDB5BAD11F088BDA20BE96  2020-08-09      218000.0\n",
              "332  B8A474D172DDB5BAD11F088BDA20BE96  2020-08-10      215000.0\n",
              "382  B9697B4994DF6367EDB722F1EC4AB423  2020-05-18      323000.0\n",
              "406  D1C4E29D126CA8B4359827903CB222AC  2020-03-30      414000.0"
            ]
          },
          "metadata": {
            "tags": []
          },
          "execution_count": 39
        }
      ]
    },
    {
      "cell_type": "code",
      "metadata": {
        "id": "qhH1lSsJh1su",
        "outputId": "1e939e95-d03d-4aaa-c622-8de3d7fc10b8",
        "colab": {
          "base_uri": "https://localhost:8080/",
          "height": 0
        }
      },
      "source": [
        "# Verificando dados faltantes\n",
        "plaquetas.info()"
      ],
      "execution_count": 40,
      "outputs": [
        {
          "output_type": "stream",
          "text": [
            "<class 'pandas.core.frame.DataFrame'>\n",
            "Int64Index: 5118 entries, 16 to 259417\n",
            "Data columns (total 3 columns):\n",
            " #   Column        Non-Null Count  Dtype  \n",
            "---  ------        --------------  -----  \n",
            " 0   ID_PACIENTE   5118 non-null   object \n",
            " 1   DT_COLETA     5118 non-null   object \n",
            " 2   DE_PLAQUETAS  5118 non-null   float64\n",
            "dtypes: float64(1), object(2)\n",
            "memory usage: 159.9+ KB\n"
          ],
          "name": "stdout"
        }
      ]
    },
    {
      "cell_type": "markdown",
      "metadata": {
        "id": "VQEkCl8stMyD"
      },
      "source": [
        "### **3.6) Analisando Neutrófilos (%)**"
      ]
    },
    {
      "cell_type": "code",
      "metadata": {
        "id": "Tse8dKyEo5En",
        "outputId": "c6dfad7c-f82b-40b3-fc08-6726924d7540",
        "colab": {
          "base_uri": "https://localhost:8080/",
          "height": 0
        }
      },
      "source": [
        "# Agora que sabemos a combinação de analitos e exames que procuramos, precisamos entender os tipos de resultado\n",
        "# obtidos para cada uma das features analisadas nos exames:\n",
        "#\n",
        "# DE_ANALITO | DE_EXAME\n",
        "#\n",
        "# Leucócitos | Hemograma\n",
        "# Hemoglobina | Hemograma\n",
        "# Plaquetas | Hemograma\n",
        "# Neutrófilos (%) | Hemograma\n",
        "# Neutrófilos | Hemograma\n",
        "# Linfócitos (%) | Hemograma \n",
        "# Linfócitos | Hemograma \n",
        "# Proteína C-Reativa | Proteína C Reativa, plasma\n",
        "# Bilirrubina Total | Bilirrubinas Total E Fracoes\n",
        "# Uréia | Uréia \n",
        "# Creatinina | Creatinina \n",
        "# DHL | Desidrogenase Lática (DHL/L)\n",
        "# Dimeros D, quant | D. Dimeros(Dimeros De Fibrina)\n",
        "#\n",
        "# Vamos analisar os resultados para cada conjunto de analitos e exames individualmente\n",
        "sel = (data_exames_HSL['DE_ANALITO'] == 'Neutrófilos (%)') & (data_exames_HSL['DE_EXAME'] == 'Hemograma')\n",
        "print('A quantidade de exames deste tipo realizados é de: {}'.format(data_exames_HSL[sel].shape[0]))"
      ],
      "execution_count": 41,
      "outputs": [
        {
          "output_type": "stream",
          "text": [
            "A quantidade de exames deste tipo realizados é de: 5115\n"
          ],
          "name": "stdout"
        }
      ]
    },
    {
      "cell_type": "code",
      "metadata": {
        "id": "tVspFzm7thcN",
        "outputId": "82a79467-3b02-4025-93fb-12cb45300a3b",
        "colab": {
          "base_uri": "https://localhost:8080/",
          "height": 0
        }
      },
      "source": [
        "# Salvando os resultados deste tipo de exame e analito em um dataframe. \n",
        "# Excluímos as colunas que não serão necessárias para o projeto e renomeamos a\n",
        "# coluna 'DE_RESULTADO' para o nome do 'ANALITO' analisado\n",
        "neutrofilos_percent = data_exames_HSL[sel]\n",
        "neutrofilos_percent.drop(['ID_ATENDIMENTO', 'DE_ORIGEM', 'DE_EXAME', 'DE_ANALITO', 'CD_UNIDADE', 'DE_VALOR_REFERENCIA'], axis=1, inplace=True)\n",
        "neutrofilos_percent.rename(columns={'DE_RESULTADO':'DE_NEUTROFILOS (%)'}, inplace=True)\n",
        "neutrofilos_percent.head(5)"
      ],
      "execution_count": 42,
      "outputs": [
        {
          "output_type": "stream",
          "text": [
            "/usr/local/lib/python3.6/dist-packages/pandas/core/frame.py:4169: SettingWithCopyWarning: \n",
            "A value is trying to be set on a copy of a slice from a DataFrame\n",
            "\n",
            "See the caveats in the documentation: https://pandas.pydata.org/pandas-docs/stable/user_guide/indexing.html#returning-a-view-versus-a-copy\n",
            "  errors=errors,\n",
            "/usr/local/lib/python3.6/dist-packages/pandas/core/frame.py:4303: SettingWithCopyWarning: \n",
            "A value is trying to be set on a copy of a slice from a DataFrame\n",
            "\n",
            "See the caveats in the documentation: https://pandas.pydata.org/pandas-docs/stable/user_guide/indexing.html#returning-a-view-versus-a-copy\n",
            "  errors=errors,\n"
          ],
          "name": "stderr"
        },
        {
          "output_type": "execute_result",
          "data": {
            "text/html": [
              "<div>\n",
              "<style scoped>\n",
              "    .dataframe tbody tr th:only-of-type {\n",
              "        vertical-align: middle;\n",
              "    }\n",
              "\n",
              "    .dataframe tbody tr th {\n",
              "        vertical-align: top;\n",
              "    }\n",
              "\n",
              "    .dataframe thead th {\n",
              "        text-align: right;\n",
              "    }\n",
              "</style>\n",
              "<table border=\"1\" class=\"dataframe\">\n",
              "  <thead>\n",
              "    <tr style=\"text-align: right;\">\n",
              "      <th></th>\n",
              "      <th>ID_PACIENTE</th>\n",
              "      <th>DT_COLETA</th>\n",
              "      <th>DE_NEUTROFILOS (%)</th>\n",
              "    </tr>\n",
              "  </thead>\n",
              "  <tbody>\n",
              "    <tr>\n",
              "      <th>22</th>\n",
              "      <td>3487791F44C34B421C932DC8616A8437</td>\n",
              "      <td>2020-05-14</td>\n",
              "      <td>58,6</td>\n",
              "    </tr>\n",
              "    <tr>\n",
              "      <th>59</th>\n",
              "      <td>3487791F44C34B421C932DC8616A8437</td>\n",
              "      <td>2020-05-04</td>\n",
              "      <td>62,8</td>\n",
              "    </tr>\n",
              "    <tr>\n",
              "      <th>83</th>\n",
              "      <td>3487791F44C34B421C932DC8616A8437</td>\n",
              "      <td>2020-05-11</td>\n",
              "      <td>55,4</td>\n",
              "    </tr>\n",
              "    <tr>\n",
              "      <th>140</th>\n",
              "      <td>3487791F44C34B421C932DC8616A8437</td>\n",
              "      <td>2020-05-08</td>\n",
              "      <td>59,5</td>\n",
              "    </tr>\n",
              "    <tr>\n",
              "      <th>219</th>\n",
              "      <td>B8A474D172DDB5BAD11F088BDA20BE96</td>\n",
              "      <td>2020-08-08</td>\n",
              "      <td>83,6</td>\n",
              "    </tr>\n",
              "  </tbody>\n",
              "</table>\n",
              "</div>"
            ],
            "text/plain": [
              "                          ID_PACIENTE   DT_COLETA DE_NEUTROFILOS (%)\n",
              "22   3487791F44C34B421C932DC8616A8437  2020-05-14               58,6\n",
              "59   3487791F44C34B421C932DC8616A8437  2020-05-04               62,8\n",
              "83   3487791F44C34B421C932DC8616A8437  2020-05-11               55,4\n",
              "140  3487791F44C34B421C932DC8616A8437  2020-05-08               59,5\n",
              "219  B8A474D172DDB5BAD11F088BDA20BE96  2020-08-08               83,6"
            ]
          },
          "metadata": {
            "tags": []
          },
          "execution_count": 42
        }
      ]
    },
    {
      "cell_type": "code",
      "metadata": {
        "id": "kLzRlcvIeNhW",
        "outputId": "e8031da4-1dcb-42b6-9333-97a9fbba839f",
        "colab": {
          "base_uri": "https://localhost:8080/",
          "height": 0
        }
      },
      "source": [
        "# Vamos converter os valores da coluna para valores numéricos, já que os resultados dos exames estão sendo\n",
        "# dados por strings. Precisamos trocar o caracter que divide a parte decimal de ',' para '.' para efetuar a\n",
        "# operação. Valores não numéricos são substituidos por NaN (errors='coerce') e serão tratados mais adiante.\n",
        "neutrofilos_percent['DE_NEUTROFILOS (%)'] = pd.to_numeric(neutrofilos_percent['DE_NEUTROFILOS (%)'].str.replace(',','.'), errors='coerce')\n",
        "neutrofilos_percent.head(10)"
      ],
      "execution_count": 43,
      "outputs": [
        {
          "output_type": "stream",
          "text": [
            "/usr/local/lib/python3.6/dist-packages/ipykernel_launcher.py:4: SettingWithCopyWarning: \n",
            "A value is trying to be set on a copy of a slice from a DataFrame.\n",
            "Try using .loc[row_indexer,col_indexer] = value instead\n",
            "\n",
            "See the caveats in the documentation: https://pandas.pydata.org/pandas-docs/stable/user_guide/indexing.html#returning-a-view-versus-a-copy\n",
            "  after removing the cwd from sys.path.\n"
          ],
          "name": "stderr"
        },
        {
          "output_type": "execute_result",
          "data": {
            "text/html": [
              "<div>\n",
              "<style scoped>\n",
              "    .dataframe tbody tr th:only-of-type {\n",
              "        vertical-align: middle;\n",
              "    }\n",
              "\n",
              "    .dataframe tbody tr th {\n",
              "        vertical-align: top;\n",
              "    }\n",
              "\n",
              "    .dataframe thead th {\n",
              "        text-align: right;\n",
              "    }\n",
              "</style>\n",
              "<table border=\"1\" class=\"dataframe\">\n",
              "  <thead>\n",
              "    <tr style=\"text-align: right;\">\n",
              "      <th></th>\n",
              "      <th>ID_PACIENTE</th>\n",
              "      <th>DT_COLETA</th>\n",
              "      <th>DE_NEUTROFILOS (%)</th>\n",
              "    </tr>\n",
              "  </thead>\n",
              "  <tbody>\n",
              "    <tr>\n",
              "      <th>22</th>\n",
              "      <td>3487791F44C34B421C932DC8616A8437</td>\n",
              "      <td>2020-05-14</td>\n",
              "      <td>58.6</td>\n",
              "    </tr>\n",
              "    <tr>\n",
              "      <th>59</th>\n",
              "      <td>3487791F44C34B421C932DC8616A8437</td>\n",
              "      <td>2020-05-04</td>\n",
              "      <td>62.8</td>\n",
              "    </tr>\n",
              "    <tr>\n",
              "      <th>83</th>\n",
              "      <td>3487791F44C34B421C932DC8616A8437</td>\n",
              "      <td>2020-05-11</td>\n",
              "      <td>55.4</td>\n",
              "    </tr>\n",
              "    <tr>\n",
              "      <th>140</th>\n",
              "      <td>3487791F44C34B421C932DC8616A8437</td>\n",
              "      <td>2020-05-08</td>\n",
              "      <td>59.5</td>\n",
              "    </tr>\n",
              "    <tr>\n",
              "      <th>219</th>\n",
              "      <td>B8A474D172DDB5BAD11F088BDA20BE96</td>\n",
              "      <td>2020-08-08</td>\n",
              "      <td>83.6</td>\n",
              "    </tr>\n",
              "    <tr>\n",
              "      <th>260</th>\n",
              "      <td>B8A474D172DDB5BAD11F088BDA20BE96</td>\n",
              "      <td>2020-08-09</td>\n",
              "      <td>91.3</td>\n",
              "    </tr>\n",
              "    <tr>\n",
              "      <th>291</th>\n",
              "      <td>B8A474D172DDB5BAD11F088BDA20BE96</td>\n",
              "      <td>2020-08-09</td>\n",
              "      <td>85.2</td>\n",
              "    </tr>\n",
              "    <tr>\n",
              "      <th>338</th>\n",
              "      <td>B8A474D172DDB5BAD11F088BDA20BE96</td>\n",
              "      <td>2020-08-10</td>\n",
              "      <td>86.4</td>\n",
              "    </tr>\n",
              "    <tr>\n",
              "      <th>388</th>\n",
              "      <td>B9697B4994DF6367EDB722F1EC4AB423</td>\n",
              "      <td>2020-05-18</td>\n",
              "      <td>59.7</td>\n",
              "    </tr>\n",
              "    <tr>\n",
              "      <th>412</th>\n",
              "      <td>D1C4E29D126CA8B4359827903CB222AC</td>\n",
              "      <td>2020-03-30</td>\n",
              "      <td>56.2</td>\n",
              "    </tr>\n",
              "  </tbody>\n",
              "</table>\n",
              "</div>"
            ],
            "text/plain": [
              "                          ID_PACIENTE   DT_COLETA  DE_NEUTROFILOS (%)\n",
              "22   3487791F44C34B421C932DC8616A8437  2020-05-14                58.6\n",
              "59   3487791F44C34B421C932DC8616A8437  2020-05-04                62.8\n",
              "83   3487791F44C34B421C932DC8616A8437  2020-05-11                55.4\n",
              "140  3487791F44C34B421C932DC8616A8437  2020-05-08                59.5\n",
              "219  B8A474D172DDB5BAD11F088BDA20BE96  2020-08-08                83.6\n",
              "260  B8A474D172DDB5BAD11F088BDA20BE96  2020-08-09                91.3\n",
              "291  B8A474D172DDB5BAD11F088BDA20BE96  2020-08-09                85.2\n",
              "338  B8A474D172DDB5BAD11F088BDA20BE96  2020-08-10                86.4\n",
              "388  B9697B4994DF6367EDB722F1EC4AB423  2020-05-18                59.7\n",
              "412  D1C4E29D126CA8B4359827903CB222AC  2020-03-30                56.2"
            ]
          },
          "metadata": {
            "tags": []
          },
          "execution_count": 43
        }
      ]
    },
    {
      "cell_type": "code",
      "metadata": {
        "id": "yHqkPYvGthcS",
        "outputId": "51722956-2faa-4ebd-ed02-817e27a54ad1",
        "colab": {
          "base_uri": "https://localhost:8080/",
          "height": 0
        }
      },
      "source": [
        "# Verificando dados faltantes\n",
        "neutrofilos_percent.info()"
      ],
      "execution_count": 44,
      "outputs": [
        {
          "output_type": "stream",
          "text": [
            "<class 'pandas.core.frame.DataFrame'>\n",
            "Int64Index: 5115 entries, 22 to 259423\n",
            "Data columns (total 3 columns):\n",
            " #   Column              Non-Null Count  Dtype  \n",
            "---  ------              --------------  -----  \n",
            " 0   ID_PACIENTE         5115 non-null   object \n",
            " 1   DT_COLETA           5115 non-null   object \n",
            " 2   DE_NEUTROFILOS (%)  5115 non-null   float64\n",
            "dtypes: float64(1), object(2)\n",
            "memory usage: 159.8+ KB\n"
          ],
          "name": "stdout"
        }
      ]
    },
    {
      "cell_type": "markdown",
      "metadata": {
        "id": "7SFwH9IetUG5"
      },
      "source": [
        "### **3.7) Analisando Neutrófilos**"
      ]
    },
    {
      "cell_type": "code",
      "metadata": {
        "id": "X3UNVlxJo5OL",
        "outputId": "99a89063-5abb-4dd4-8234-9112aee218d2",
        "colab": {
          "base_uri": "https://localhost:8080/",
          "height": 0
        }
      },
      "source": [
        "# Agora que sabemos a combinação de analitos e exames que procuramos, precisamos entender os tipos de resultado\n",
        "# obtidos para cada uma das features analisadas nos exames:\n",
        "#\n",
        "# DE_ANALITO | DE_EXAME\n",
        "#\n",
        "# Leucócitos | Hemograma\n",
        "# Hemoglobina | Hemograma\n",
        "# Plaquetas | Hemograma\n",
        "# Neutrófilos (%) | Hemograma\n",
        "# Neutrófilos | Hemograma\n",
        "# Linfócitos (%) | Hemograma \n",
        "# Linfócitos | Hemograma \n",
        "# Proteína C-Reativa | Proteína C Reativa, plasma\n",
        "# Bilirrubina Total | Bilirrubinas Total E Fracoes\n",
        "# Uréia | Uréia \n",
        "# Creatinina | Creatinina \n",
        "# DHL | Desidrogenase Lática (DHL/L)\n",
        "# Dimeros D, quant | D. Dimeros(Dimeros De Fibrina)\n",
        "#\n",
        "# Vamos analisar os resultados para cada conjunto de analitos e exames individualmente\n",
        "sel = (data_exames_HSL['DE_ANALITO'] == 'Neutrófilos') & (data_exames_HSL['DE_EXAME'] == 'Hemograma')\n",
        "print('A quantidade de exames deste tipo realizados é de: {}'.format(data_exames_HSL[sel].shape[0]))"
      ],
      "execution_count": 45,
      "outputs": [
        {
          "output_type": "stream",
          "text": [
            "A quantidade de exames deste tipo realizados é de: 5116\n"
          ],
          "name": "stdout"
        }
      ]
    },
    {
      "cell_type": "code",
      "metadata": {
        "id": "mRvHPVLXt-au",
        "outputId": "98f76dd2-6468-49ea-ae75-86d68e08527e",
        "colab": {
          "base_uri": "https://localhost:8080/",
          "height": 0
        }
      },
      "source": [
        "# Salvando os resultados deste tipo de exame e analito em um dataframe. \n",
        "# Excluímos as colunas que não serão necessárias para o projeto e renomeamos a\n",
        "# coluna 'DE_RESULTADO' para o nome do 'ANALITO' analisado\n",
        "neutrofilos = data_exames_HSL[sel]\n",
        "neutrofilos.drop(['ID_ATENDIMENTO', 'DE_ORIGEM', 'DE_EXAME', 'DE_ANALITO', 'CD_UNIDADE', 'DE_VALOR_REFERENCIA'], axis=1, inplace=True)\n",
        "neutrofilos.rename(columns={'DE_RESULTADO':'DE_NEUTROFILOS'}, inplace=True)\n",
        "neutrofilos.head(5)"
      ],
      "execution_count": 46,
      "outputs": [
        {
          "output_type": "stream",
          "text": [
            "/usr/local/lib/python3.6/dist-packages/pandas/core/frame.py:4169: SettingWithCopyWarning: \n",
            "A value is trying to be set on a copy of a slice from a DataFrame\n",
            "\n",
            "See the caveats in the documentation: https://pandas.pydata.org/pandas-docs/stable/user_guide/indexing.html#returning-a-view-versus-a-copy\n",
            "  errors=errors,\n",
            "/usr/local/lib/python3.6/dist-packages/pandas/core/frame.py:4303: SettingWithCopyWarning: \n",
            "A value is trying to be set on a copy of a slice from a DataFrame\n",
            "\n",
            "See the caveats in the documentation: https://pandas.pydata.org/pandas-docs/stable/user_guide/indexing.html#returning-a-view-versus-a-copy\n",
            "  errors=errors,\n"
          ],
          "name": "stderr"
        },
        {
          "output_type": "execute_result",
          "data": {
            "text/html": [
              "<div>\n",
              "<style scoped>\n",
              "    .dataframe tbody tr th:only-of-type {\n",
              "        vertical-align: middle;\n",
              "    }\n",
              "\n",
              "    .dataframe tbody tr th {\n",
              "        vertical-align: top;\n",
              "    }\n",
              "\n",
              "    .dataframe thead th {\n",
              "        text-align: right;\n",
              "    }\n",
              "</style>\n",
              "<table border=\"1\" class=\"dataframe\">\n",
              "  <thead>\n",
              "    <tr style=\"text-align: right;\">\n",
              "      <th></th>\n",
              "      <th>ID_PACIENTE</th>\n",
              "      <th>DT_COLETA</th>\n",
              "      <th>DE_NEUTROFILOS</th>\n",
              "    </tr>\n",
              "  </thead>\n",
              "  <tbody>\n",
              "    <tr>\n",
              "      <th>11</th>\n",
              "      <td>3487791F44C34B421C932DC8616A8437</td>\n",
              "      <td>2020-05-14</td>\n",
              "      <td>1880</td>\n",
              "    </tr>\n",
              "    <tr>\n",
              "      <th>48</th>\n",
              "      <td>3487791F44C34B421C932DC8616A8437</td>\n",
              "      <td>2020-05-04</td>\n",
              "      <td>2130</td>\n",
              "    </tr>\n",
              "    <tr>\n",
              "      <th>72</th>\n",
              "      <td>3487791F44C34B421C932DC8616A8437</td>\n",
              "      <td>2020-05-11</td>\n",
              "      <td>1580</td>\n",
              "    </tr>\n",
              "    <tr>\n",
              "      <th>129</th>\n",
              "      <td>3487791F44C34B421C932DC8616A8437</td>\n",
              "      <td>2020-05-08</td>\n",
              "      <td>1700</td>\n",
              "    </tr>\n",
              "    <tr>\n",
              "      <th>208</th>\n",
              "      <td>B8A474D172DDB5BAD11F088BDA20BE96</td>\n",
              "      <td>2020-08-08</td>\n",
              "      <td>3650</td>\n",
              "    </tr>\n",
              "  </tbody>\n",
              "</table>\n",
              "</div>"
            ],
            "text/plain": [
              "                          ID_PACIENTE   DT_COLETA DE_NEUTROFILOS\n",
              "11   3487791F44C34B421C932DC8616A8437  2020-05-14           1880\n",
              "48   3487791F44C34B421C932DC8616A8437  2020-05-04           2130\n",
              "72   3487791F44C34B421C932DC8616A8437  2020-05-11           1580\n",
              "129  3487791F44C34B421C932DC8616A8437  2020-05-08           1700\n",
              "208  B8A474D172DDB5BAD11F088BDA20BE96  2020-08-08           3650"
            ]
          },
          "metadata": {
            "tags": []
          },
          "execution_count": 46
        }
      ]
    },
    {
      "cell_type": "code",
      "metadata": {
        "id": "Km6PH7rKea1q",
        "outputId": "842b36fa-5f5b-4fc3-8c2d-c1f4dd0ef045",
        "colab": {
          "base_uri": "https://localhost:8080/",
          "height": 0
        }
      },
      "source": [
        "# Vamos converter os valores da coluna para valores numéricos, já que os resultados dos exames estão sendo\n",
        "# dados por strings. Precisamos trocar o caracter que divide a parte decimal de ',' para '.' para efetuar a\n",
        "# operação. Valores não numéricos são substituidos por NaN (errors='coerce') e serão tratados mais adiante.\n",
        "neutrofilos['DE_NEUTROFILOS'] = pd.to_numeric(neutrofilos['DE_NEUTROFILOS'].str.replace(',','.'), errors='coerce')\n",
        "neutrofilos.head(10)"
      ],
      "execution_count": 47,
      "outputs": [
        {
          "output_type": "stream",
          "text": [
            "/usr/local/lib/python3.6/dist-packages/ipykernel_launcher.py:4: SettingWithCopyWarning: \n",
            "A value is trying to be set on a copy of a slice from a DataFrame.\n",
            "Try using .loc[row_indexer,col_indexer] = value instead\n",
            "\n",
            "See the caveats in the documentation: https://pandas.pydata.org/pandas-docs/stable/user_guide/indexing.html#returning-a-view-versus-a-copy\n",
            "  after removing the cwd from sys.path.\n"
          ],
          "name": "stderr"
        },
        {
          "output_type": "execute_result",
          "data": {
            "text/html": [
              "<div>\n",
              "<style scoped>\n",
              "    .dataframe tbody tr th:only-of-type {\n",
              "        vertical-align: middle;\n",
              "    }\n",
              "\n",
              "    .dataframe tbody tr th {\n",
              "        vertical-align: top;\n",
              "    }\n",
              "\n",
              "    .dataframe thead th {\n",
              "        text-align: right;\n",
              "    }\n",
              "</style>\n",
              "<table border=\"1\" class=\"dataframe\">\n",
              "  <thead>\n",
              "    <tr style=\"text-align: right;\">\n",
              "      <th></th>\n",
              "      <th>ID_PACIENTE</th>\n",
              "      <th>DT_COLETA</th>\n",
              "      <th>DE_NEUTROFILOS</th>\n",
              "    </tr>\n",
              "  </thead>\n",
              "  <tbody>\n",
              "    <tr>\n",
              "      <th>11</th>\n",
              "      <td>3487791F44C34B421C932DC8616A8437</td>\n",
              "      <td>2020-05-14</td>\n",
              "      <td>1880</td>\n",
              "    </tr>\n",
              "    <tr>\n",
              "      <th>48</th>\n",
              "      <td>3487791F44C34B421C932DC8616A8437</td>\n",
              "      <td>2020-05-04</td>\n",
              "      <td>2130</td>\n",
              "    </tr>\n",
              "    <tr>\n",
              "      <th>72</th>\n",
              "      <td>3487791F44C34B421C932DC8616A8437</td>\n",
              "      <td>2020-05-11</td>\n",
              "      <td>1580</td>\n",
              "    </tr>\n",
              "    <tr>\n",
              "      <th>129</th>\n",
              "      <td>3487791F44C34B421C932DC8616A8437</td>\n",
              "      <td>2020-05-08</td>\n",
              "      <td>1700</td>\n",
              "    </tr>\n",
              "    <tr>\n",
              "      <th>208</th>\n",
              "      <td>B8A474D172DDB5BAD11F088BDA20BE96</td>\n",
              "      <td>2020-08-08</td>\n",
              "      <td>3650</td>\n",
              "    </tr>\n",
              "    <tr>\n",
              "      <th>249</th>\n",
              "      <td>B8A474D172DDB5BAD11F088BDA20BE96</td>\n",
              "      <td>2020-08-09</td>\n",
              "      <td>10370</td>\n",
              "    </tr>\n",
              "    <tr>\n",
              "      <th>280</th>\n",
              "      <td>B8A474D172DDB5BAD11F088BDA20BE96</td>\n",
              "      <td>2020-08-09</td>\n",
              "      <td>6540</td>\n",
              "    </tr>\n",
              "    <tr>\n",
              "      <th>327</th>\n",
              "      <td>B8A474D172DDB5BAD11F088BDA20BE96</td>\n",
              "      <td>2020-08-10</td>\n",
              "      <td>6370</td>\n",
              "    </tr>\n",
              "    <tr>\n",
              "      <th>377</th>\n",
              "      <td>B9697B4994DF6367EDB722F1EC4AB423</td>\n",
              "      <td>2020-05-18</td>\n",
              "      <td>3570</td>\n",
              "    </tr>\n",
              "    <tr>\n",
              "      <th>401</th>\n",
              "      <td>D1C4E29D126CA8B4359827903CB222AC</td>\n",
              "      <td>2020-03-30</td>\n",
              "      <td>8250</td>\n",
              "    </tr>\n",
              "  </tbody>\n",
              "</table>\n",
              "</div>"
            ],
            "text/plain": [
              "                          ID_PACIENTE   DT_COLETA  DE_NEUTROFILOS\n",
              "11   3487791F44C34B421C932DC8616A8437  2020-05-14            1880\n",
              "48   3487791F44C34B421C932DC8616A8437  2020-05-04            2130\n",
              "72   3487791F44C34B421C932DC8616A8437  2020-05-11            1580\n",
              "129  3487791F44C34B421C932DC8616A8437  2020-05-08            1700\n",
              "208  B8A474D172DDB5BAD11F088BDA20BE96  2020-08-08            3650\n",
              "249  B8A474D172DDB5BAD11F088BDA20BE96  2020-08-09           10370\n",
              "280  B8A474D172DDB5BAD11F088BDA20BE96  2020-08-09            6540\n",
              "327  B8A474D172DDB5BAD11F088BDA20BE96  2020-08-10            6370\n",
              "377  B9697B4994DF6367EDB722F1EC4AB423  2020-05-18            3570\n",
              "401  D1C4E29D126CA8B4359827903CB222AC  2020-03-30            8250"
            ]
          },
          "metadata": {
            "tags": []
          },
          "execution_count": 47
        }
      ]
    },
    {
      "cell_type": "code",
      "metadata": {
        "id": "mgQDuT0Ot-ay",
        "outputId": "9c73c133-bca2-45b8-9028-38cf566617a6",
        "colab": {
          "base_uri": "https://localhost:8080/",
          "height": 0
        }
      },
      "source": [
        "# Verificando dados faltantes\n",
        "neutrofilos.info()"
      ],
      "execution_count": 48,
      "outputs": [
        {
          "output_type": "stream",
          "text": [
            "<class 'pandas.core.frame.DataFrame'>\n",
            "Int64Index: 5116 entries, 11 to 259412\n",
            "Data columns (total 3 columns):\n",
            " #   Column          Non-Null Count  Dtype \n",
            "---  ------          --------------  ----- \n",
            " 0   ID_PACIENTE     5116 non-null   object\n",
            " 1   DT_COLETA       5116 non-null   object\n",
            " 2   DE_NEUTROFILOS  5116 non-null   int64 \n",
            "dtypes: int64(1), object(2)\n",
            "memory usage: 159.9+ KB\n"
          ],
          "name": "stdout"
        }
      ]
    },
    {
      "cell_type": "markdown",
      "metadata": {
        "id": "Q7zRNHzytaKj"
      },
      "source": [
        "### **3.8) Analisando Linfócitos (%)**"
      ]
    },
    {
      "cell_type": "code",
      "metadata": {
        "id": "9xG-0ev0o5Zx",
        "outputId": "d75a6640-2b01-4e20-d4e3-9150bba14106",
        "colab": {
          "base_uri": "https://localhost:8080/",
          "height": 0
        }
      },
      "source": [
        "# Agora que sabemos a combinação de analitos e exames que procuramos, precisamos entender os tipos de resultado\n",
        "# obtidos para cada uma das features analisadas nos exames:\n",
        "#\n",
        "# DE_ANALITO | DE_EXAME\n",
        "#\n",
        "# Leucócitos | Hemograma\n",
        "# Hemoglobina | Hemograma\n",
        "# Plaquetas | Hemograma\n",
        "# Neutrófilos (%) | Hemograma\n",
        "# Neutrófilos | Hemograma\n",
        "# Linfócitos (%) | Hemograma \n",
        "# Linfócitos | Hemograma \n",
        "# Proteína C-Reativa | Proteína C Reativa, plasma\n",
        "# Bilirrubina Total | Bilirrubinas Total E Fracoes\n",
        "# Uréia | Uréia \n",
        "# Creatinina | Creatinina \n",
        "# DHL | Desidrogenase Lática (DHL/L)\n",
        "# Dimeros D, quant | D. Dimeros(Dimeros De Fibrina)\n",
        "#\n",
        "# Vamos analisar os resultados para cada conjunto de analitos e exames individualmente\n",
        "sel = (data_exames_HSL['DE_ANALITO'] == 'Linfócitos (%)') & (data_exames_HSL['DE_EXAME'] == 'Hemograma')\n",
        "print('A quantidade de exames deste tipo realizados é de: {}'.format(data_exames_HSL[sel].shape[0]))"
      ],
      "execution_count": 49,
      "outputs": [
        {
          "output_type": "stream",
          "text": [
            "A quantidade de exames deste tipo realizados é de: 5114\n"
          ],
          "name": "stdout"
        }
      ]
    },
    {
      "cell_type": "code",
      "metadata": {
        "id": "GpJvO9dluPEV",
        "outputId": "8d508f67-d4e8-4d57-fcd9-4c41e1ecd49b",
        "colab": {
          "base_uri": "https://localhost:8080/",
          "height": 0
        }
      },
      "source": [
        "# Salvando os resultados deste tipo de exame e analito em um dataframe. \n",
        "# Excluímos as colunas que não serão necessárias para o projeto e renomeamos a\n",
        "# coluna 'DE_RESULTADO' para o nome do 'ANALITO' analisado\n",
        "linfocitos_percent = data_exames_HSL[sel]\n",
        "linfocitos_percent.drop(['ID_ATENDIMENTO', 'DE_ORIGEM', 'DE_EXAME', 'DE_ANALITO', 'CD_UNIDADE', 'DE_VALOR_REFERENCIA'], axis=1, inplace=True)\n",
        "linfocitos_percent.rename(columns={'DE_RESULTADO':'DE_LINFOCITOS (%)'}, inplace=True)\n",
        "linfocitos_percent.head(5)"
      ],
      "execution_count": 50,
      "outputs": [
        {
          "output_type": "stream",
          "text": [
            "/usr/local/lib/python3.6/dist-packages/pandas/core/frame.py:4169: SettingWithCopyWarning: \n",
            "A value is trying to be set on a copy of a slice from a DataFrame\n",
            "\n",
            "See the caveats in the documentation: https://pandas.pydata.org/pandas-docs/stable/user_guide/indexing.html#returning-a-view-versus-a-copy\n",
            "  errors=errors,\n",
            "/usr/local/lib/python3.6/dist-packages/pandas/core/frame.py:4303: SettingWithCopyWarning: \n",
            "A value is trying to be set on a copy of a slice from a DataFrame\n",
            "\n",
            "See the caveats in the documentation: https://pandas.pydata.org/pandas-docs/stable/user_guide/indexing.html#returning-a-view-versus-a-copy\n",
            "  errors=errors,\n"
          ],
          "name": "stderr"
        },
        {
          "output_type": "execute_result",
          "data": {
            "text/html": [
              "<div>\n",
              "<style scoped>\n",
              "    .dataframe tbody tr th:only-of-type {\n",
              "        vertical-align: middle;\n",
              "    }\n",
              "\n",
              "    .dataframe tbody tr th {\n",
              "        vertical-align: top;\n",
              "    }\n",
              "\n",
              "    .dataframe thead th {\n",
              "        text-align: right;\n",
              "    }\n",
              "</style>\n",
              "<table border=\"1\" class=\"dataframe\">\n",
              "  <thead>\n",
              "    <tr style=\"text-align: right;\">\n",
              "      <th></th>\n",
              "      <th>ID_PACIENTE</th>\n",
              "      <th>DT_COLETA</th>\n",
              "      <th>DE_LINFOCITOS (%)</th>\n",
              "    </tr>\n",
              "  </thead>\n",
              "  <tbody>\n",
              "    <tr>\n",
              "      <th>25</th>\n",
              "      <td>3487791F44C34B421C932DC8616A8437</td>\n",
              "      <td>2020-05-14</td>\n",
              "      <td>24,6</td>\n",
              "    </tr>\n",
              "    <tr>\n",
              "      <th>62</th>\n",
              "      <td>3487791F44C34B421C932DC8616A8437</td>\n",
              "      <td>2020-05-04</td>\n",
              "      <td>14,5</td>\n",
              "    </tr>\n",
              "    <tr>\n",
              "      <th>86</th>\n",
              "      <td>3487791F44C34B421C932DC8616A8437</td>\n",
              "      <td>2020-05-11</td>\n",
              "      <td>29,5</td>\n",
              "    </tr>\n",
              "    <tr>\n",
              "      <th>143</th>\n",
              "      <td>3487791F44C34B421C932DC8616A8437</td>\n",
              "      <td>2020-05-08</td>\n",
              "      <td>26,9</td>\n",
              "    </tr>\n",
              "    <tr>\n",
              "      <th>222</th>\n",
              "      <td>B8A474D172DDB5BAD11F088BDA20BE96</td>\n",
              "      <td>2020-08-08</td>\n",
              "      <td>12,1</td>\n",
              "    </tr>\n",
              "  </tbody>\n",
              "</table>\n",
              "</div>"
            ],
            "text/plain": [
              "                          ID_PACIENTE   DT_COLETA DE_LINFOCITOS (%)\n",
              "25   3487791F44C34B421C932DC8616A8437  2020-05-14              24,6\n",
              "62   3487791F44C34B421C932DC8616A8437  2020-05-04              14,5\n",
              "86   3487791F44C34B421C932DC8616A8437  2020-05-11              29,5\n",
              "143  3487791F44C34B421C932DC8616A8437  2020-05-08              26,9\n",
              "222  B8A474D172DDB5BAD11F088BDA20BE96  2020-08-08              12,1"
            ]
          },
          "metadata": {
            "tags": []
          },
          "execution_count": 50
        }
      ]
    },
    {
      "cell_type": "code",
      "metadata": {
        "id": "cho8vokrelUE",
        "outputId": "799bd268-5bad-45fd-d768-f35ce3ffd6f0",
        "colab": {
          "base_uri": "https://localhost:8080/",
          "height": 0
        }
      },
      "source": [
        "# Vamos converter os valores da coluna para valores numéricos, já que os resultados dos exames estão sendo\n",
        "# dados por strings. Precisamos trocar o caracter que divide a parte decimal de ',' para '.' para efetuar a\n",
        "# operação. Valores não numéricos são substituidos por NaN (errors='coerce') e serão tratados mais adiante.\n",
        "linfocitos_percent['DE_LINFOCITOS (%)'] = pd.to_numeric(linfocitos_percent['DE_LINFOCITOS (%)'].str.replace(',','.'), errors='coerce')\n",
        "linfocitos_percent.head(10)"
      ],
      "execution_count": 51,
      "outputs": [
        {
          "output_type": "stream",
          "text": [
            "/usr/local/lib/python3.6/dist-packages/ipykernel_launcher.py:4: SettingWithCopyWarning: \n",
            "A value is trying to be set on a copy of a slice from a DataFrame.\n",
            "Try using .loc[row_indexer,col_indexer] = value instead\n",
            "\n",
            "See the caveats in the documentation: https://pandas.pydata.org/pandas-docs/stable/user_guide/indexing.html#returning-a-view-versus-a-copy\n",
            "  after removing the cwd from sys.path.\n"
          ],
          "name": "stderr"
        },
        {
          "output_type": "execute_result",
          "data": {
            "text/html": [
              "<div>\n",
              "<style scoped>\n",
              "    .dataframe tbody tr th:only-of-type {\n",
              "        vertical-align: middle;\n",
              "    }\n",
              "\n",
              "    .dataframe tbody tr th {\n",
              "        vertical-align: top;\n",
              "    }\n",
              "\n",
              "    .dataframe thead th {\n",
              "        text-align: right;\n",
              "    }\n",
              "</style>\n",
              "<table border=\"1\" class=\"dataframe\">\n",
              "  <thead>\n",
              "    <tr style=\"text-align: right;\">\n",
              "      <th></th>\n",
              "      <th>ID_PACIENTE</th>\n",
              "      <th>DT_COLETA</th>\n",
              "      <th>DE_LINFOCITOS (%)</th>\n",
              "    </tr>\n",
              "  </thead>\n",
              "  <tbody>\n",
              "    <tr>\n",
              "      <th>25</th>\n",
              "      <td>3487791F44C34B421C932DC8616A8437</td>\n",
              "      <td>2020-05-14</td>\n",
              "      <td>24.6</td>\n",
              "    </tr>\n",
              "    <tr>\n",
              "      <th>62</th>\n",
              "      <td>3487791F44C34B421C932DC8616A8437</td>\n",
              "      <td>2020-05-04</td>\n",
              "      <td>14.5</td>\n",
              "    </tr>\n",
              "    <tr>\n",
              "      <th>86</th>\n",
              "      <td>3487791F44C34B421C932DC8616A8437</td>\n",
              "      <td>2020-05-11</td>\n",
              "      <td>29.5</td>\n",
              "    </tr>\n",
              "    <tr>\n",
              "      <th>143</th>\n",
              "      <td>3487791F44C34B421C932DC8616A8437</td>\n",
              "      <td>2020-05-08</td>\n",
              "      <td>26.9</td>\n",
              "    </tr>\n",
              "    <tr>\n",
              "      <th>222</th>\n",
              "      <td>B8A474D172DDB5BAD11F088BDA20BE96</td>\n",
              "      <td>2020-08-08</td>\n",
              "      <td>12.1</td>\n",
              "    </tr>\n",
              "    <tr>\n",
              "      <th>263</th>\n",
              "      <td>B8A474D172DDB5BAD11F088BDA20BE96</td>\n",
              "      <td>2020-08-09</td>\n",
              "      <td>4.8</td>\n",
              "    </tr>\n",
              "    <tr>\n",
              "      <th>294</th>\n",
              "      <td>B8A474D172DDB5BAD11F088BDA20BE96</td>\n",
              "      <td>2020-08-09</td>\n",
              "      <td>8.5</td>\n",
              "    </tr>\n",
              "    <tr>\n",
              "      <th>341</th>\n",
              "      <td>B8A474D172DDB5BAD11F088BDA20BE96</td>\n",
              "      <td>2020-08-10</td>\n",
              "      <td>7.3</td>\n",
              "    </tr>\n",
              "    <tr>\n",
              "      <th>391</th>\n",
              "      <td>B9697B4994DF6367EDB722F1EC4AB423</td>\n",
              "      <td>2020-05-18</td>\n",
              "      <td>24.0</td>\n",
              "    </tr>\n",
              "    <tr>\n",
              "      <th>415</th>\n",
              "      <td>D1C4E29D126CA8B4359827903CB222AC</td>\n",
              "      <td>2020-03-30</td>\n",
              "      <td>32.6</td>\n",
              "    </tr>\n",
              "  </tbody>\n",
              "</table>\n",
              "</div>"
            ],
            "text/plain": [
              "                          ID_PACIENTE   DT_COLETA  DE_LINFOCITOS (%)\n",
              "25   3487791F44C34B421C932DC8616A8437  2020-05-14               24.6\n",
              "62   3487791F44C34B421C932DC8616A8437  2020-05-04               14.5\n",
              "86   3487791F44C34B421C932DC8616A8437  2020-05-11               29.5\n",
              "143  3487791F44C34B421C932DC8616A8437  2020-05-08               26.9\n",
              "222  B8A474D172DDB5BAD11F088BDA20BE96  2020-08-08               12.1\n",
              "263  B8A474D172DDB5BAD11F088BDA20BE96  2020-08-09                4.8\n",
              "294  B8A474D172DDB5BAD11F088BDA20BE96  2020-08-09                8.5\n",
              "341  B8A474D172DDB5BAD11F088BDA20BE96  2020-08-10                7.3\n",
              "391  B9697B4994DF6367EDB722F1EC4AB423  2020-05-18               24.0\n",
              "415  D1C4E29D126CA8B4359827903CB222AC  2020-03-30               32.6"
            ]
          },
          "metadata": {
            "tags": []
          },
          "execution_count": 51
        }
      ]
    },
    {
      "cell_type": "code",
      "metadata": {
        "id": "BMJuCYmRuPEY",
        "outputId": "ba1f9228-10ea-478c-e922-ba8c342a26b4",
        "colab": {
          "base_uri": "https://localhost:8080/",
          "height": 0
        }
      },
      "source": [
        "# Verificando dados faltantes\n",
        "linfocitos_percent.info()"
      ],
      "execution_count": 52,
      "outputs": [
        {
          "output_type": "stream",
          "text": [
            "<class 'pandas.core.frame.DataFrame'>\n",
            "Int64Index: 5114 entries, 25 to 259426\n",
            "Data columns (total 3 columns):\n",
            " #   Column             Non-Null Count  Dtype  \n",
            "---  ------             --------------  -----  \n",
            " 0   ID_PACIENTE        5114 non-null   object \n",
            " 1   DT_COLETA          5114 non-null   object \n",
            " 2   DE_LINFOCITOS (%)  5114 non-null   float64\n",
            "dtypes: float64(1), object(2)\n",
            "memory usage: 159.8+ KB\n"
          ],
          "name": "stdout"
        }
      ]
    },
    {
      "cell_type": "markdown",
      "metadata": {
        "id": "4h3DMiiUthnd"
      },
      "source": [
        "### **3.9) Analisando Linfócitos**"
      ]
    },
    {
      "cell_type": "code",
      "metadata": {
        "id": "HIDmECnMo5Xq",
        "outputId": "0d5eaa1a-7130-41ca-db03-cbc96cf091e5",
        "colab": {
          "base_uri": "https://localhost:8080/",
          "height": 0
        }
      },
      "source": [
        "# Agora que sabemos a combinação de analitos e exames que procuramos, precisamos entender os tipos de resultado\n",
        "# obtidos para cada uma das features analisadas nos exames:\n",
        "#\n",
        "# DE_ANALITO | DE_EXAME\n",
        "#\n",
        "# Leucócitos | Hemograma\n",
        "# Hemoglobina | Hemograma\n",
        "# Plaquetas | Hemograma\n",
        "# Neutrófilos (%) | Hemograma\n",
        "# Neutrófilos | Hemograma\n",
        "# Linfócitos (%) | Hemograma \n",
        "# Linfócitos | Hemograma \n",
        "# Proteína C-Reativa | Proteína C Reativa, plasma\n",
        "# Bilirrubina Total | Bilirrubinas Total E Fracoes\n",
        "# Uréia | Uréia \n",
        "# Creatinina | Creatinina \n",
        "# DHL | Desidrogenase Lática (DHL/L)\n",
        "# Dimeros D, quant | D. Dimeros(Dimeros De Fibrina)\n",
        "#\n",
        "# Vamos analisar os resultados para cada conjunto de analitos e exames individualmente\n",
        "sel = (data_exames_HSL['DE_ANALITO'] == 'Linfócitos') & (data_exames_HSL['DE_EXAME'] == 'Hemograma')\n",
        "print('A quantidade de exames deste tipo realizados é de: {}'.format(data_exames_HSL[sel].shape[0]))"
      ],
      "execution_count": 53,
      "outputs": [
        {
          "output_type": "stream",
          "text": [
            "A quantidade de exames deste tipo realizados é de: 5114\n"
          ],
          "name": "stdout"
        }
      ]
    },
    {
      "cell_type": "code",
      "metadata": {
        "id": "Pf8gBEpkuhaU",
        "outputId": "501a0550-ccfb-4737-8f6a-f5dd3bc731a7",
        "colab": {
          "base_uri": "https://localhost:8080/",
          "height": 0
        }
      },
      "source": [
        "# Salvando os resultados deste tipo de exame e analito em um dataframe. \n",
        "# Excluímos as colunas que não serão necessárias para o projeto e renomeamos a\n",
        "# coluna 'DE_RESULTADO' para o nome do 'ANALITO' analisado\n",
        "linfocitos = data_exames_HSL[sel]\n",
        "linfocitos.drop(['ID_ATENDIMENTO', 'DE_ORIGEM', 'DE_EXAME', 'DE_ANALITO', 'CD_UNIDADE', 'DE_VALOR_REFERENCIA'], axis=1, inplace=True)\n",
        "linfocitos.rename(columns={'DE_RESULTADO':'DE_LINFOCITOS'}, inplace=True)\n",
        "linfocitos.head(5)"
      ],
      "execution_count": 54,
      "outputs": [
        {
          "output_type": "stream",
          "text": [
            "/usr/local/lib/python3.6/dist-packages/pandas/core/frame.py:4169: SettingWithCopyWarning: \n",
            "A value is trying to be set on a copy of a slice from a DataFrame\n",
            "\n",
            "See the caveats in the documentation: https://pandas.pydata.org/pandas-docs/stable/user_guide/indexing.html#returning-a-view-versus-a-copy\n",
            "  errors=errors,\n",
            "/usr/local/lib/python3.6/dist-packages/pandas/core/frame.py:4303: SettingWithCopyWarning: \n",
            "A value is trying to be set on a copy of a slice from a DataFrame\n",
            "\n",
            "See the caveats in the documentation: https://pandas.pydata.org/pandas-docs/stable/user_guide/indexing.html#returning-a-view-versus-a-copy\n",
            "  errors=errors,\n"
          ],
          "name": "stderr"
        },
        {
          "output_type": "execute_result",
          "data": {
            "text/html": [
              "<div>\n",
              "<style scoped>\n",
              "    .dataframe tbody tr th:only-of-type {\n",
              "        vertical-align: middle;\n",
              "    }\n",
              "\n",
              "    .dataframe tbody tr th {\n",
              "        vertical-align: top;\n",
              "    }\n",
              "\n",
              "    .dataframe thead th {\n",
              "        text-align: right;\n",
              "    }\n",
              "</style>\n",
              "<table border=\"1\" class=\"dataframe\">\n",
              "  <thead>\n",
              "    <tr style=\"text-align: right;\">\n",
              "      <th></th>\n",
              "      <th>ID_PACIENTE</th>\n",
              "      <th>DT_COLETA</th>\n",
              "      <th>DE_LINFOCITOS</th>\n",
              "    </tr>\n",
              "  </thead>\n",
              "  <tbody>\n",
              "    <tr>\n",
              "      <th>14</th>\n",
              "      <td>3487791F44C34B421C932DC8616A8437</td>\n",
              "      <td>2020-05-14</td>\n",
              "      <td>790</td>\n",
              "    </tr>\n",
              "    <tr>\n",
              "      <th>51</th>\n",
              "      <td>3487791F44C34B421C932DC8616A8437</td>\n",
              "      <td>2020-05-04</td>\n",
              "      <td>490</td>\n",
              "    </tr>\n",
              "    <tr>\n",
              "      <th>75</th>\n",
              "      <td>3487791F44C34B421C932DC8616A8437</td>\n",
              "      <td>2020-05-11</td>\n",
              "      <td>840</td>\n",
              "    </tr>\n",
              "    <tr>\n",
              "      <th>132</th>\n",
              "      <td>3487791F44C34B421C932DC8616A8437</td>\n",
              "      <td>2020-05-08</td>\n",
              "      <td>770</td>\n",
              "    </tr>\n",
              "    <tr>\n",
              "      <th>211</th>\n",
              "      <td>B8A474D172DDB5BAD11F088BDA20BE96</td>\n",
              "      <td>2020-08-08</td>\n",
              "      <td>530</td>\n",
              "    </tr>\n",
              "  </tbody>\n",
              "</table>\n",
              "</div>"
            ],
            "text/plain": [
              "                          ID_PACIENTE   DT_COLETA DE_LINFOCITOS\n",
              "14   3487791F44C34B421C932DC8616A8437  2020-05-14           790\n",
              "51   3487791F44C34B421C932DC8616A8437  2020-05-04           490\n",
              "75   3487791F44C34B421C932DC8616A8437  2020-05-11           840\n",
              "132  3487791F44C34B421C932DC8616A8437  2020-05-08           770\n",
              "211  B8A474D172DDB5BAD11F088BDA20BE96  2020-08-08           530"
            ]
          },
          "metadata": {
            "tags": []
          },
          "execution_count": 54
        }
      ]
    },
    {
      "cell_type": "code",
      "metadata": {
        "id": "vHd7LlPFeydp",
        "outputId": "aebcd8a7-59ea-47cf-d519-3f7656c824db",
        "colab": {
          "base_uri": "https://localhost:8080/",
          "height": 0
        }
      },
      "source": [
        "# Vamos converter os valores da coluna para valores numéricos, já que os resultados dos exames estão sendo\n",
        "# dados por strings. Precisamos trocar o caracter que divide a parte decimal de ',' para '.' para efetuar a\n",
        "# operação. Valores não numéricos são substituidos por NaN (errors='coerce') e serão tratados mais adiante.\n",
        "linfocitos['DE_LINFOCITOS'] = pd.to_numeric(linfocitos['DE_LINFOCITOS'].str.replace(',','.'), errors='coerce')\n",
        "linfocitos.head(10)"
      ],
      "execution_count": 55,
      "outputs": [
        {
          "output_type": "stream",
          "text": [
            "/usr/local/lib/python3.6/dist-packages/ipykernel_launcher.py:4: SettingWithCopyWarning: \n",
            "A value is trying to be set on a copy of a slice from a DataFrame.\n",
            "Try using .loc[row_indexer,col_indexer] = value instead\n",
            "\n",
            "See the caveats in the documentation: https://pandas.pydata.org/pandas-docs/stable/user_guide/indexing.html#returning-a-view-versus-a-copy\n",
            "  after removing the cwd from sys.path.\n"
          ],
          "name": "stderr"
        },
        {
          "output_type": "execute_result",
          "data": {
            "text/html": [
              "<div>\n",
              "<style scoped>\n",
              "    .dataframe tbody tr th:only-of-type {\n",
              "        vertical-align: middle;\n",
              "    }\n",
              "\n",
              "    .dataframe tbody tr th {\n",
              "        vertical-align: top;\n",
              "    }\n",
              "\n",
              "    .dataframe thead th {\n",
              "        text-align: right;\n",
              "    }\n",
              "</style>\n",
              "<table border=\"1\" class=\"dataframe\">\n",
              "  <thead>\n",
              "    <tr style=\"text-align: right;\">\n",
              "      <th></th>\n",
              "      <th>ID_PACIENTE</th>\n",
              "      <th>DT_COLETA</th>\n",
              "      <th>DE_LINFOCITOS</th>\n",
              "    </tr>\n",
              "  </thead>\n",
              "  <tbody>\n",
              "    <tr>\n",
              "      <th>14</th>\n",
              "      <td>3487791F44C34B421C932DC8616A8437</td>\n",
              "      <td>2020-05-14</td>\n",
              "      <td>790</td>\n",
              "    </tr>\n",
              "    <tr>\n",
              "      <th>51</th>\n",
              "      <td>3487791F44C34B421C932DC8616A8437</td>\n",
              "      <td>2020-05-04</td>\n",
              "      <td>490</td>\n",
              "    </tr>\n",
              "    <tr>\n",
              "      <th>75</th>\n",
              "      <td>3487791F44C34B421C932DC8616A8437</td>\n",
              "      <td>2020-05-11</td>\n",
              "      <td>840</td>\n",
              "    </tr>\n",
              "    <tr>\n",
              "      <th>132</th>\n",
              "      <td>3487791F44C34B421C932DC8616A8437</td>\n",
              "      <td>2020-05-08</td>\n",
              "      <td>770</td>\n",
              "    </tr>\n",
              "    <tr>\n",
              "      <th>211</th>\n",
              "      <td>B8A474D172DDB5BAD11F088BDA20BE96</td>\n",
              "      <td>2020-08-08</td>\n",
              "      <td>530</td>\n",
              "    </tr>\n",
              "    <tr>\n",
              "      <th>252</th>\n",
              "      <td>B8A474D172DDB5BAD11F088BDA20BE96</td>\n",
              "      <td>2020-08-09</td>\n",
              "      <td>550</td>\n",
              "    </tr>\n",
              "    <tr>\n",
              "      <th>283</th>\n",
              "      <td>B8A474D172DDB5BAD11F088BDA20BE96</td>\n",
              "      <td>2020-08-09</td>\n",
              "      <td>650</td>\n",
              "    </tr>\n",
              "    <tr>\n",
              "      <th>330</th>\n",
              "      <td>B8A474D172DDB5BAD11F088BDA20BE96</td>\n",
              "      <td>2020-08-10</td>\n",
              "      <td>540</td>\n",
              "    </tr>\n",
              "    <tr>\n",
              "      <th>380</th>\n",
              "      <td>B9697B4994DF6367EDB722F1EC4AB423</td>\n",
              "      <td>2020-05-18</td>\n",
              "      <td>1440</td>\n",
              "    </tr>\n",
              "    <tr>\n",
              "      <th>404</th>\n",
              "      <td>D1C4E29D126CA8B4359827903CB222AC</td>\n",
              "      <td>2020-03-30</td>\n",
              "      <td>4780</td>\n",
              "    </tr>\n",
              "  </tbody>\n",
              "</table>\n",
              "</div>"
            ],
            "text/plain": [
              "                          ID_PACIENTE   DT_COLETA  DE_LINFOCITOS\n",
              "14   3487791F44C34B421C932DC8616A8437  2020-05-14            790\n",
              "51   3487791F44C34B421C932DC8616A8437  2020-05-04            490\n",
              "75   3487791F44C34B421C932DC8616A8437  2020-05-11            840\n",
              "132  3487791F44C34B421C932DC8616A8437  2020-05-08            770\n",
              "211  B8A474D172DDB5BAD11F088BDA20BE96  2020-08-08            530\n",
              "252  B8A474D172DDB5BAD11F088BDA20BE96  2020-08-09            550\n",
              "283  B8A474D172DDB5BAD11F088BDA20BE96  2020-08-09            650\n",
              "330  B8A474D172DDB5BAD11F088BDA20BE96  2020-08-10            540\n",
              "380  B9697B4994DF6367EDB722F1EC4AB423  2020-05-18           1440\n",
              "404  D1C4E29D126CA8B4359827903CB222AC  2020-03-30           4780"
            ]
          },
          "metadata": {
            "tags": []
          },
          "execution_count": 55
        }
      ]
    },
    {
      "cell_type": "code",
      "metadata": {
        "id": "GJLNdxX9uhaW",
        "outputId": "8f038157-f848-4f72-e8c9-76d3207b72d0",
        "colab": {
          "base_uri": "https://localhost:8080/",
          "height": 0
        }
      },
      "source": [
        "# Verificando dados faltantes\n",
        "linfocitos.info()"
      ],
      "execution_count": 56,
      "outputs": [
        {
          "output_type": "stream",
          "text": [
            "<class 'pandas.core.frame.DataFrame'>\n",
            "Int64Index: 5114 entries, 14 to 259415\n",
            "Data columns (total 3 columns):\n",
            " #   Column         Non-Null Count  Dtype \n",
            "---  ------         --------------  ----- \n",
            " 0   ID_PACIENTE    5114 non-null   object\n",
            " 1   DT_COLETA      5114 non-null   object\n",
            " 2   DE_LINFOCITOS  5114 non-null   int64 \n",
            "dtypes: int64(1), object(2)\n",
            "memory usage: 159.8+ KB\n"
          ],
          "name": "stdout"
        }
      ]
    },
    {
      "cell_type": "markdown",
      "metadata": {
        "id": "rWZHHW_otoxh"
      },
      "source": [
        "### **3.10) Analisando Proteína C-Reativa**"
      ]
    },
    {
      "cell_type": "code",
      "metadata": {
        "id": "rvwtP8q-o5RI",
        "outputId": "35749520-fe3f-4d83-c10b-a3215385706b",
        "colab": {
          "base_uri": "https://localhost:8080/",
          "height": 0
        }
      },
      "source": [
        "# Agora que sabemos a combinação de analitos e exames que procuramos, precisamos entender os tipos de resultado\n",
        "# obtidos para cada uma das features analisadas nos exames:\n",
        "#\n",
        "# DE_ANALITO | DE_EXAME\n",
        "#\n",
        "# Leucócitos | Hemograma\n",
        "# Hemoglobina | Hemograma\n",
        "# Plaquetas | Hemograma\n",
        "# Neutrófilos (%) | Hemograma\n",
        "# Neutrófilos | Hemograma\n",
        "# Linfócitos (%) | Hemograma \n",
        "# Linfócitos | Hemograma \n",
        "# Proteína C-Reativa | Proteína C Reativa, plasma\n",
        "# Bilirrubina Total | Bilirrubinas Total E Fracoes\n",
        "# Uréia | Uréia \n",
        "# Creatinina | Creatinina \n",
        "# DHL | Desidrogenase Lática (DHL/L)\n",
        "# Dimeros D, quant | D. Dimeros(Dimeros De Fibrina)\n",
        "#\n",
        "# Vamos analisar os resultados para cada conjunto de analitos e exames individualmente\n",
        "sel = (data_exames_HSL['DE_ANALITO'] == 'Proteína C-Reativa') & (data_exames_HSL['DE_EXAME'] == 'Proteína C Reativa, plasma')\n",
        "print('A quantidade de exames deste tipo realizados é de: {}'.format(data_exames_HSL[sel].shape[0]))"
      ],
      "execution_count": 57,
      "outputs": [
        {
          "output_type": "stream",
          "text": [
            "A quantidade de exames deste tipo realizados é de: 4857\n"
          ],
          "name": "stdout"
        }
      ]
    },
    {
      "cell_type": "code",
      "metadata": {
        "id": "fsauNNh8u02c",
        "outputId": "5c7da86e-9664-4ab0-8eb7-3ea700e7171b",
        "colab": {
          "base_uri": "https://localhost:8080/",
          "height": 0
        }
      },
      "source": [
        "# Salvando os resultados deste tipo de exame e analito em um dataframe. \n",
        "# Excluímos as colunas que não serão necessárias para o projeto e renomeamos a\n",
        "# coluna 'DE_RESULTADO' para o nome do 'ANALITO' analisado\n",
        "proteina_c = data_exames_HSL[sel]\n",
        "proteina_c.drop(['ID_ATENDIMENTO', 'DE_ORIGEM', 'DE_EXAME', 'DE_ANALITO', 'CD_UNIDADE', 'DE_VALOR_REFERENCIA'], axis=1, inplace=True)\n",
        "proteina_c.rename(columns={'DE_RESULTADO':'DE_PROTEINA_C_REATIVA'}, inplace=True)\n",
        "proteina_c.head(5)"
      ],
      "execution_count": 58,
      "outputs": [
        {
          "output_type": "stream",
          "text": [
            "/usr/local/lib/python3.6/dist-packages/pandas/core/frame.py:4169: SettingWithCopyWarning: \n",
            "A value is trying to be set on a copy of a slice from a DataFrame\n",
            "\n",
            "See the caveats in the documentation: https://pandas.pydata.org/pandas-docs/stable/user_guide/indexing.html#returning-a-view-versus-a-copy\n",
            "  errors=errors,\n",
            "/usr/local/lib/python3.6/dist-packages/pandas/core/frame.py:4303: SettingWithCopyWarning: \n",
            "A value is trying to be set on a copy of a slice from a DataFrame\n",
            "\n",
            "See the caveats in the documentation: https://pandas.pydata.org/pandas-docs/stable/user_guide/indexing.html#returning-a-view-versus-a-copy\n",
            "  errors=errors,\n"
          ],
          "name": "stderr"
        },
        {
          "output_type": "execute_result",
          "data": {
            "text/html": [
              "<div>\n",
              "<style scoped>\n",
              "    .dataframe tbody tr th:only-of-type {\n",
              "        vertical-align: middle;\n",
              "    }\n",
              "\n",
              "    .dataframe tbody tr th {\n",
              "        vertical-align: top;\n",
              "    }\n",
              "\n",
              "    .dataframe thead th {\n",
              "        text-align: right;\n",
              "    }\n",
              "</style>\n",
              "<table border=\"1\" class=\"dataframe\">\n",
              "  <thead>\n",
              "    <tr style=\"text-align: right;\">\n",
              "      <th></th>\n",
              "      <th>ID_PACIENTE</th>\n",
              "      <th>DT_COLETA</th>\n",
              "      <th>DE_PROTEINA_C_REATIVA</th>\n",
              "    </tr>\n",
              "  </thead>\n",
              "  <tbody>\n",
              "    <tr>\n",
              "      <th>4</th>\n",
              "      <td>3487791F44C34B421C932DC8616A8437</td>\n",
              "      <td>2020-05-14</td>\n",
              "      <td>1,84</td>\n",
              "    </tr>\n",
              "    <tr>\n",
              "      <th>34</th>\n",
              "      <td>3487791F44C34B421C932DC8616A8437</td>\n",
              "      <td>2020-05-04</td>\n",
              "      <td>0,19</td>\n",
              "    </tr>\n",
              "    <tr>\n",
              "      <th>68</th>\n",
              "      <td>3487791F44C34B421C932DC8616A8437</td>\n",
              "      <td>2020-05-11</td>\n",
              "      <td>0,22</td>\n",
              "    </tr>\n",
              "    <tr>\n",
              "      <th>120</th>\n",
              "      <td>3487791F44C34B421C932DC8616A8437</td>\n",
              "      <td>2020-05-08</td>\n",
              "      <td>0,30</td>\n",
              "    </tr>\n",
              "    <tr>\n",
              "      <th>268</th>\n",
              "      <td>B8A474D172DDB5BAD11F088BDA20BE96</td>\n",
              "      <td>2020-08-09</td>\n",
              "      <td>15,58</td>\n",
              "    </tr>\n",
              "  </tbody>\n",
              "</table>\n",
              "</div>"
            ],
            "text/plain": [
              "                          ID_PACIENTE   DT_COLETA DE_PROTEINA_C_REATIVA\n",
              "4    3487791F44C34B421C932DC8616A8437  2020-05-14                  1,84\n",
              "34   3487791F44C34B421C932DC8616A8437  2020-05-04                  0,19\n",
              "68   3487791F44C34B421C932DC8616A8437  2020-05-11                  0,22\n",
              "120  3487791F44C34B421C932DC8616A8437  2020-05-08                  0,30\n",
              "268  B8A474D172DDB5BAD11F088BDA20BE96  2020-08-09                 15,58"
            ]
          },
          "metadata": {
            "tags": []
          },
          "execution_count": 58
        }
      ]
    },
    {
      "cell_type": "code",
      "metadata": {
        "id": "azCRFkSJe7mM",
        "outputId": "75eea143-b183-43fa-9127-60f1e228ba8b",
        "colab": {
          "base_uri": "https://localhost:8080/",
          "height": 0
        }
      },
      "source": [
        "# Vamos converter os valores da coluna para valores numéricos, já que os resultados dos exames estão sendo\n",
        "# dados por strings. Precisamos trocar o caracter que divide a parte decimal de ',' para '.' para efetuar a\n",
        "# operação. Valores não numéricos são substituidos por NaN (errors='coerce') e serão tratados mais adiante.\n",
        "proteina_c['DE_PROTEINA_C_REATIVA'] = pd.to_numeric(proteina_c['DE_PROTEINA_C_REATIVA'].str.replace(',','.'), errors='coerce')\n",
        "proteina_c.head(10)"
      ],
      "execution_count": 59,
      "outputs": [
        {
          "output_type": "stream",
          "text": [
            "/usr/local/lib/python3.6/dist-packages/ipykernel_launcher.py:4: SettingWithCopyWarning: \n",
            "A value is trying to be set on a copy of a slice from a DataFrame.\n",
            "Try using .loc[row_indexer,col_indexer] = value instead\n",
            "\n",
            "See the caveats in the documentation: https://pandas.pydata.org/pandas-docs/stable/user_guide/indexing.html#returning-a-view-versus-a-copy\n",
            "  after removing the cwd from sys.path.\n"
          ],
          "name": "stderr"
        },
        {
          "output_type": "execute_result",
          "data": {
            "text/html": [
              "<div>\n",
              "<style scoped>\n",
              "    .dataframe tbody tr th:only-of-type {\n",
              "        vertical-align: middle;\n",
              "    }\n",
              "\n",
              "    .dataframe tbody tr th {\n",
              "        vertical-align: top;\n",
              "    }\n",
              "\n",
              "    .dataframe thead th {\n",
              "        text-align: right;\n",
              "    }\n",
              "</style>\n",
              "<table border=\"1\" class=\"dataframe\">\n",
              "  <thead>\n",
              "    <tr style=\"text-align: right;\">\n",
              "      <th></th>\n",
              "      <th>ID_PACIENTE</th>\n",
              "      <th>DT_COLETA</th>\n",
              "      <th>DE_PROTEINA_C_REATIVA</th>\n",
              "    </tr>\n",
              "  </thead>\n",
              "  <tbody>\n",
              "    <tr>\n",
              "      <th>4</th>\n",
              "      <td>3487791F44C34B421C932DC8616A8437</td>\n",
              "      <td>2020-05-14</td>\n",
              "      <td>1.84</td>\n",
              "    </tr>\n",
              "    <tr>\n",
              "      <th>34</th>\n",
              "      <td>3487791F44C34B421C932DC8616A8437</td>\n",
              "      <td>2020-05-04</td>\n",
              "      <td>0.19</td>\n",
              "    </tr>\n",
              "    <tr>\n",
              "      <th>68</th>\n",
              "      <td>3487791F44C34B421C932DC8616A8437</td>\n",
              "      <td>2020-05-11</td>\n",
              "      <td>0.22</td>\n",
              "    </tr>\n",
              "    <tr>\n",
              "      <th>120</th>\n",
              "      <td>3487791F44C34B421C932DC8616A8437</td>\n",
              "      <td>2020-05-08</td>\n",
              "      <td>0.30</td>\n",
              "    </tr>\n",
              "    <tr>\n",
              "      <th>268</th>\n",
              "      <td>B8A474D172DDB5BAD11F088BDA20BE96</td>\n",
              "      <td>2020-08-09</td>\n",
              "      <td>15.58</td>\n",
              "    </tr>\n",
              "    <tr>\n",
              "      <th>304</th>\n",
              "      <td>B8A474D172DDB5BAD11F088BDA20BE96</td>\n",
              "      <td>2020-08-09</td>\n",
              "      <td>9.09</td>\n",
              "    </tr>\n",
              "    <tr>\n",
              "      <th>319</th>\n",
              "      <td>B8A474D172DDB5BAD11F088BDA20BE96</td>\n",
              "      <td>2020-08-10</td>\n",
              "      <td>6.35</td>\n",
              "    </tr>\n",
              "    <tr>\n",
              "      <th>368</th>\n",
              "      <td>B9697B4994DF6367EDB722F1EC4AB423</td>\n",
              "      <td>2020-05-18</td>\n",
              "      <td>0.36</td>\n",
              "    </tr>\n",
              "    <tr>\n",
              "      <th>423</th>\n",
              "      <td>D1C4E29D126CA8B4359827903CB222AC</td>\n",
              "      <td>2020-03-30</td>\n",
              "      <td>0.85</td>\n",
              "    </tr>\n",
              "    <tr>\n",
              "      <th>438</th>\n",
              "      <td>D1C4E29D126CA8B4359827903CB222AC</td>\n",
              "      <td>2020-07-14</td>\n",
              "      <td>0.14</td>\n",
              "    </tr>\n",
              "  </tbody>\n",
              "</table>\n",
              "</div>"
            ],
            "text/plain": [
              "                          ID_PACIENTE   DT_COLETA  DE_PROTEINA_C_REATIVA\n",
              "4    3487791F44C34B421C932DC8616A8437  2020-05-14                   1.84\n",
              "34   3487791F44C34B421C932DC8616A8437  2020-05-04                   0.19\n",
              "68   3487791F44C34B421C932DC8616A8437  2020-05-11                   0.22\n",
              "120  3487791F44C34B421C932DC8616A8437  2020-05-08                   0.30\n",
              "268  B8A474D172DDB5BAD11F088BDA20BE96  2020-08-09                  15.58\n",
              "304  B8A474D172DDB5BAD11F088BDA20BE96  2020-08-09                   9.09\n",
              "319  B8A474D172DDB5BAD11F088BDA20BE96  2020-08-10                   6.35\n",
              "368  B9697B4994DF6367EDB722F1EC4AB423  2020-05-18                   0.36\n",
              "423  D1C4E29D126CA8B4359827903CB222AC  2020-03-30                   0.85\n",
              "438  D1C4E29D126CA8B4359827903CB222AC  2020-07-14                   0.14"
            ]
          },
          "metadata": {
            "tags": []
          },
          "execution_count": 59
        }
      ]
    },
    {
      "cell_type": "code",
      "metadata": {
        "id": "1FEtlhjHu02i",
        "outputId": "2a968d5a-03df-40a1-8528-ae0cda181562",
        "colab": {
          "base_uri": "https://localhost:8080/",
          "height": 0
        }
      },
      "source": [
        "# Verificando dados faltantes\n",
        "proteina_c.info()"
      ],
      "execution_count": 60,
      "outputs": [
        {
          "output_type": "stream",
          "text": [
            "<class 'pandas.core.frame.DataFrame'>\n",
            "Int64Index: 4857 entries, 4 to 259404\n",
            "Data columns (total 3 columns):\n",
            " #   Column                 Non-Null Count  Dtype  \n",
            "---  ------                 --------------  -----  \n",
            " 0   ID_PACIENTE            4857 non-null   object \n",
            " 1   DT_COLETA              4857 non-null   object \n",
            " 2   DE_PROTEINA_C_REATIVA  4823 non-null   float64\n",
            "dtypes: float64(1), object(2)\n",
            "memory usage: 151.8+ KB\n"
          ],
          "name": "stdout"
        }
      ]
    },
    {
      "cell_type": "code",
      "metadata": {
        "id": "dXurQ5kMhfY7",
        "outputId": "b37a94ea-4b5e-4389-805f-add908e3705f",
        "colab": {
          "base_uri": "https://localhost:8080/",
          "height": 0
        }
      },
      "source": [
        "# Temos dados que não representam valores numéricos (NaN). Vamos substituir esses dados pela \n",
        "# média dos demais dados da coluna, mesma estratégia utilizada em (Bao, 2020):\n",
        "proteina_c.fillna(proteina_c.mean(), inplace=True)\n",
        "proteina_c.head(10)"
      ],
      "execution_count": 61,
      "outputs": [
        {
          "output_type": "stream",
          "text": [
            "/usr/local/lib/python3.6/dist-packages/pandas/core/series.py:4523: SettingWithCopyWarning: \n",
            "A value is trying to be set on a copy of a slice from a DataFrame\n",
            "\n",
            "See the caveats in the documentation: https://pandas.pydata.org/pandas-docs/stable/user_guide/indexing.html#returning-a-view-versus-a-copy\n",
            "  downcast=downcast,\n"
          ],
          "name": "stderr"
        },
        {
          "output_type": "execute_result",
          "data": {
            "text/html": [
              "<div>\n",
              "<style scoped>\n",
              "    .dataframe tbody tr th:only-of-type {\n",
              "        vertical-align: middle;\n",
              "    }\n",
              "\n",
              "    .dataframe tbody tr th {\n",
              "        vertical-align: top;\n",
              "    }\n",
              "\n",
              "    .dataframe thead th {\n",
              "        text-align: right;\n",
              "    }\n",
              "</style>\n",
              "<table border=\"1\" class=\"dataframe\">\n",
              "  <thead>\n",
              "    <tr style=\"text-align: right;\">\n",
              "      <th></th>\n",
              "      <th>ID_PACIENTE</th>\n",
              "      <th>DT_COLETA</th>\n",
              "      <th>DE_PROTEINA_C_REATIVA</th>\n",
              "    </tr>\n",
              "  </thead>\n",
              "  <tbody>\n",
              "    <tr>\n",
              "      <th>4</th>\n",
              "      <td>3487791F44C34B421C932DC8616A8437</td>\n",
              "      <td>2020-05-14</td>\n",
              "      <td>1.84</td>\n",
              "    </tr>\n",
              "    <tr>\n",
              "      <th>34</th>\n",
              "      <td>3487791F44C34B421C932DC8616A8437</td>\n",
              "      <td>2020-05-04</td>\n",
              "      <td>0.19</td>\n",
              "    </tr>\n",
              "    <tr>\n",
              "      <th>68</th>\n",
              "      <td>3487791F44C34B421C932DC8616A8437</td>\n",
              "      <td>2020-05-11</td>\n",
              "      <td>0.22</td>\n",
              "    </tr>\n",
              "    <tr>\n",
              "      <th>120</th>\n",
              "      <td>3487791F44C34B421C932DC8616A8437</td>\n",
              "      <td>2020-05-08</td>\n",
              "      <td>0.30</td>\n",
              "    </tr>\n",
              "    <tr>\n",
              "      <th>268</th>\n",
              "      <td>B8A474D172DDB5BAD11F088BDA20BE96</td>\n",
              "      <td>2020-08-09</td>\n",
              "      <td>15.58</td>\n",
              "    </tr>\n",
              "    <tr>\n",
              "      <th>304</th>\n",
              "      <td>B8A474D172DDB5BAD11F088BDA20BE96</td>\n",
              "      <td>2020-08-09</td>\n",
              "      <td>9.09</td>\n",
              "    </tr>\n",
              "    <tr>\n",
              "      <th>319</th>\n",
              "      <td>B8A474D172DDB5BAD11F088BDA20BE96</td>\n",
              "      <td>2020-08-10</td>\n",
              "      <td>6.35</td>\n",
              "    </tr>\n",
              "    <tr>\n",
              "      <th>368</th>\n",
              "      <td>B9697B4994DF6367EDB722F1EC4AB423</td>\n",
              "      <td>2020-05-18</td>\n",
              "      <td>0.36</td>\n",
              "    </tr>\n",
              "    <tr>\n",
              "      <th>423</th>\n",
              "      <td>D1C4E29D126CA8B4359827903CB222AC</td>\n",
              "      <td>2020-03-30</td>\n",
              "      <td>0.85</td>\n",
              "    </tr>\n",
              "    <tr>\n",
              "      <th>438</th>\n",
              "      <td>D1C4E29D126CA8B4359827903CB222AC</td>\n",
              "      <td>2020-07-14</td>\n",
              "      <td>0.14</td>\n",
              "    </tr>\n",
              "  </tbody>\n",
              "</table>\n",
              "</div>"
            ],
            "text/plain": [
              "                          ID_PACIENTE   DT_COLETA  DE_PROTEINA_C_REATIVA\n",
              "4    3487791F44C34B421C932DC8616A8437  2020-05-14                   1.84\n",
              "34   3487791F44C34B421C932DC8616A8437  2020-05-04                   0.19\n",
              "68   3487791F44C34B421C932DC8616A8437  2020-05-11                   0.22\n",
              "120  3487791F44C34B421C932DC8616A8437  2020-05-08                   0.30\n",
              "268  B8A474D172DDB5BAD11F088BDA20BE96  2020-08-09                  15.58\n",
              "304  B8A474D172DDB5BAD11F088BDA20BE96  2020-08-09                   9.09\n",
              "319  B8A474D172DDB5BAD11F088BDA20BE96  2020-08-10                   6.35\n",
              "368  B9697B4994DF6367EDB722F1EC4AB423  2020-05-18                   0.36\n",
              "423  D1C4E29D126CA8B4359827903CB222AC  2020-03-30                   0.85\n",
              "438  D1C4E29D126CA8B4359827903CB222AC  2020-07-14                   0.14"
            ]
          },
          "metadata": {
            "tags": []
          },
          "execution_count": 61
        }
      ]
    },
    {
      "cell_type": "code",
      "metadata": {
        "id": "S1_CRTouhjnv",
        "outputId": "03897639-f61d-4556-c4ae-0e114bbe44bf",
        "colab": {
          "base_uri": "https://localhost:8080/",
          "height": 0
        }
      },
      "source": [
        "# Verificando dados faltantes\n",
        "proteina_c.info()"
      ],
      "execution_count": 62,
      "outputs": [
        {
          "output_type": "stream",
          "text": [
            "<class 'pandas.core.frame.DataFrame'>\n",
            "Int64Index: 4857 entries, 4 to 259404\n",
            "Data columns (total 3 columns):\n",
            " #   Column                 Non-Null Count  Dtype  \n",
            "---  ------                 --------------  -----  \n",
            " 0   ID_PACIENTE            4857 non-null   object \n",
            " 1   DT_COLETA              4857 non-null   object \n",
            " 2   DE_PROTEINA_C_REATIVA  4857 non-null   float64\n",
            "dtypes: float64(1), object(2)\n",
            "memory usage: 151.8+ KB\n"
          ],
          "name": "stdout"
        }
      ]
    },
    {
      "cell_type": "markdown",
      "metadata": {
        "id": "PFzaxrNatvJV"
      },
      "source": [
        "### **3.11) Analisando Bilirrubina Total**"
      ]
    },
    {
      "cell_type": "code",
      "metadata": {
        "id": "BJ54psu8pm-7",
        "outputId": "c7ff6948-f444-49a1-97a1-2c2575d7871a",
        "colab": {
          "base_uri": "https://localhost:8080/",
          "height": 0
        }
      },
      "source": [
        "# Agora que sabemos a combinação de analitos e exames que procuramos, precisamos entender os tipos de resultado\n",
        "# obtidos para cada uma das features analisadas nos exames:\n",
        "#\n",
        "# DE_ANALITO | DE_EXAME\n",
        "#\n",
        "# Leucócitos | Hemograma\n",
        "# Hemoglobina | Hemograma\n",
        "# Plaquetas | Hemograma\n",
        "# Neutrófilos (%) | Hemograma\n",
        "# Neutrófilos | Hemograma\n",
        "# Linfócitos (%) | Hemograma \n",
        "# Linfócitos | Hemograma \n",
        "# Proteína C-Reativa | Proteína C Reativa, plasma\n",
        "# Bilirrubina Total | Bilirrubinas Total E Fracoes\n",
        "# Uréia | Uréia \n",
        "# Creatinina | Creatinina \n",
        "# DHL | Desidrogenase Lática (DHL/L)\n",
        "# Dimeros D, quant | D. Dimeros(Dimeros De Fibrina)\n",
        "#\n",
        "# Vamos analisar os resultados para cada conjunto de analitos e exames individualmente\n",
        "sel = (data_exames_HSL['DE_ANALITO'] == 'Bilirrubina Total') & (data_exames_HSL['DE_EXAME'] == 'Bilirrubinas Total E Fracoes')\n",
        "print('A quantidade de exames deste tipo realizados é de: {}'.format(data_exames_HSL[sel].shape[0]))"
      ],
      "execution_count": 63,
      "outputs": [
        {
          "output_type": "stream",
          "text": [
            "A quantidade de exames deste tipo realizados é de: 1231\n"
          ],
          "name": "stdout"
        }
      ]
    },
    {
      "cell_type": "code",
      "metadata": {
        "id": "0t_Q1ZwuvHFo",
        "outputId": "7c3d3713-ea18-4d41-bc51-0dc1d1fd1936",
        "colab": {
          "base_uri": "https://localhost:8080/",
          "height": 0
        }
      },
      "source": [
        "# Salvando os resultados deste tipo de exame e analito em um dataframe. \n",
        "# Excluímos as colunas que não serão necessárias para o projeto e renomeamos a\n",
        "# coluna 'DE_RESULTADO' para o nome do 'ANALITO' analisado\n",
        "bilirrubina = data_exames_HSL[sel]\n",
        "bilirrubina.drop(['ID_ATENDIMENTO', 'DE_ORIGEM', 'DE_EXAME', 'DE_ANALITO', 'CD_UNIDADE', 'DE_VALOR_REFERENCIA'], axis=1, inplace=True)\n",
        "bilirrubina.rename(columns={'DE_RESULTADO':'DE_BILIRRUBINA'}, inplace=True)\n",
        "bilirrubina.head(5)"
      ],
      "execution_count": 64,
      "outputs": [
        {
          "output_type": "stream",
          "text": [
            "/usr/local/lib/python3.6/dist-packages/pandas/core/frame.py:4169: SettingWithCopyWarning: \n",
            "A value is trying to be set on a copy of a slice from a DataFrame\n",
            "\n",
            "See the caveats in the documentation: https://pandas.pydata.org/pandas-docs/stable/user_guide/indexing.html#returning-a-view-versus-a-copy\n",
            "  errors=errors,\n",
            "/usr/local/lib/python3.6/dist-packages/pandas/core/frame.py:4303: SettingWithCopyWarning: \n",
            "A value is trying to be set on a copy of a slice from a DataFrame\n",
            "\n",
            "See the caveats in the documentation: https://pandas.pydata.org/pandas-docs/stable/user_guide/indexing.html#returning-a-view-versus-a-copy\n",
            "  errors=errors,\n"
          ],
          "name": "stderr"
        },
        {
          "output_type": "execute_result",
          "data": {
            "text/html": [
              "<div>\n",
              "<style scoped>\n",
              "    .dataframe tbody tr th:only-of-type {\n",
              "        vertical-align: middle;\n",
              "    }\n",
              "\n",
              "    .dataframe tbody tr th {\n",
              "        vertical-align: top;\n",
              "    }\n",
              "\n",
              "    .dataframe thead th {\n",
              "        text-align: right;\n",
              "    }\n",
              "</style>\n",
              "<table border=\"1\" class=\"dataframe\">\n",
              "  <thead>\n",
              "    <tr style=\"text-align: right;\">\n",
              "      <th></th>\n",
              "      <th>ID_PACIENTE</th>\n",
              "      <th>DT_COLETA</th>\n",
              "      <th>DE_BILIRRUBINA</th>\n",
              "    </tr>\n",
              "  </thead>\n",
              "  <tbody>\n",
              "    <tr>\n",
              "      <th>181</th>\n",
              "      <td>B8A474D172DDB5BAD11F088BDA20BE96</td>\n",
              "      <td>2020-08-08</td>\n",
              "      <td>0,43</td>\n",
              "    </tr>\n",
              "    <tr>\n",
              "      <th>431</th>\n",
              "      <td>D1C4E29D126CA8B4359827903CB222AC</td>\n",
              "      <td>2020-07-14</td>\n",
              "      <td>0,71</td>\n",
              "    </tr>\n",
              "    <tr>\n",
              "      <th>563</th>\n",
              "      <td>EA3D530A51086CEFC8C6DFAEC53D00F2</td>\n",
              "      <td>2020-03-27</td>\n",
              "      <td>1,04</td>\n",
              "    </tr>\n",
              "    <tr>\n",
              "      <th>708</th>\n",
              "      <td>F5B5BD59D98836D8AA2D8C27B01225AB</td>\n",
              "      <td>2020-06-05</td>\n",
              "      <td>0,57</td>\n",
              "    </tr>\n",
              "    <tr>\n",
              "      <th>968</th>\n",
              "      <td>F5B5BD59D98836D8AA2D8C27B01225AB</td>\n",
              "      <td>2020-06-08</td>\n",
              "      <td>0,61</td>\n",
              "    </tr>\n",
              "  </tbody>\n",
              "</table>\n",
              "</div>"
            ],
            "text/plain": [
              "                          ID_PACIENTE   DT_COLETA DE_BILIRRUBINA\n",
              "181  B8A474D172DDB5BAD11F088BDA20BE96  2020-08-08           0,43\n",
              "431  D1C4E29D126CA8B4359827903CB222AC  2020-07-14           0,71\n",
              "563  EA3D530A51086CEFC8C6DFAEC53D00F2  2020-03-27           1,04\n",
              "708  F5B5BD59D98836D8AA2D8C27B01225AB  2020-06-05           0,57\n",
              "968  F5B5BD59D98836D8AA2D8C27B01225AB  2020-06-08           0,61"
            ]
          },
          "metadata": {
            "tags": []
          },
          "execution_count": 64
        }
      ]
    },
    {
      "cell_type": "code",
      "metadata": {
        "id": "oZhou8oyfO9-",
        "outputId": "fbd3bd4f-d110-4a0e-f012-fd3842d20954",
        "colab": {
          "base_uri": "https://localhost:8080/",
          "height": 0
        }
      },
      "source": [
        "# Vamos converter os valores da coluna para valores numéricos, já que os resultados dos exames estão sendo\n",
        "# dados por strings. Precisamos trocar o caracter que divide a parte decimal de ',' para '.' para efetuar a\n",
        "# operação. Valores não numéricos são substituidos por NaN (errors='coerce') e serão tratados mais adiante.\n",
        "bilirrubina['DE_BILIRRUBINA'] = pd.to_numeric(bilirrubina['DE_BILIRRUBINA'].str.replace(',','.'), errors='coerce')\n",
        "bilirrubina.head(10)"
      ],
      "execution_count": 65,
      "outputs": [
        {
          "output_type": "stream",
          "text": [
            "/usr/local/lib/python3.6/dist-packages/ipykernel_launcher.py:4: SettingWithCopyWarning: \n",
            "A value is trying to be set on a copy of a slice from a DataFrame.\n",
            "Try using .loc[row_indexer,col_indexer] = value instead\n",
            "\n",
            "See the caveats in the documentation: https://pandas.pydata.org/pandas-docs/stable/user_guide/indexing.html#returning-a-view-versus-a-copy\n",
            "  after removing the cwd from sys.path.\n"
          ],
          "name": "stderr"
        },
        {
          "output_type": "execute_result",
          "data": {
            "text/html": [
              "<div>\n",
              "<style scoped>\n",
              "    .dataframe tbody tr th:only-of-type {\n",
              "        vertical-align: middle;\n",
              "    }\n",
              "\n",
              "    .dataframe tbody tr th {\n",
              "        vertical-align: top;\n",
              "    }\n",
              "\n",
              "    .dataframe thead th {\n",
              "        text-align: right;\n",
              "    }\n",
              "</style>\n",
              "<table border=\"1\" class=\"dataframe\">\n",
              "  <thead>\n",
              "    <tr style=\"text-align: right;\">\n",
              "      <th></th>\n",
              "      <th>ID_PACIENTE</th>\n",
              "      <th>DT_COLETA</th>\n",
              "      <th>DE_BILIRRUBINA</th>\n",
              "    </tr>\n",
              "  </thead>\n",
              "  <tbody>\n",
              "    <tr>\n",
              "      <th>181</th>\n",
              "      <td>B8A474D172DDB5BAD11F088BDA20BE96</td>\n",
              "      <td>2020-08-08</td>\n",
              "      <td>0.43</td>\n",
              "    </tr>\n",
              "    <tr>\n",
              "      <th>431</th>\n",
              "      <td>D1C4E29D126CA8B4359827903CB222AC</td>\n",
              "      <td>2020-07-14</td>\n",
              "      <td>0.71</td>\n",
              "    </tr>\n",
              "    <tr>\n",
              "      <th>563</th>\n",
              "      <td>EA3D530A51086CEFC8C6DFAEC53D00F2</td>\n",
              "      <td>2020-03-27</td>\n",
              "      <td>1.04</td>\n",
              "    </tr>\n",
              "    <tr>\n",
              "      <th>708</th>\n",
              "      <td>F5B5BD59D98836D8AA2D8C27B01225AB</td>\n",
              "      <td>2020-06-05</td>\n",
              "      <td>0.57</td>\n",
              "    </tr>\n",
              "    <tr>\n",
              "      <th>968</th>\n",
              "      <td>F5B5BD59D98836D8AA2D8C27B01225AB</td>\n",
              "      <td>2020-06-08</td>\n",
              "      <td>0.61</td>\n",
              "    </tr>\n",
              "    <tr>\n",
              "      <th>1061</th>\n",
              "      <td>F5B5BD59D98836D8AA2D8C27B01225AB</td>\n",
              "      <td>2020-06-07</td>\n",
              "      <td>0.62</td>\n",
              "    </tr>\n",
              "    <tr>\n",
              "      <th>1213</th>\n",
              "      <td>F5B5BD59D98836D8AA2D8C27B01225AB</td>\n",
              "      <td>2020-06-06</td>\n",
              "      <td>0.65</td>\n",
              "    </tr>\n",
              "    <tr>\n",
              "      <th>1246</th>\n",
              "      <td>F5B5BD59D98836D8AA2D8C27B01225AB</td>\n",
              "      <td>2020-05-29</td>\n",
              "      <td>0.46</td>\n",
              "    </tr>\n",
              "    <tr>\n",
              "      <th>1326</th>\n",
              "      <td>F5B5BD59D98836D8AA2D8C27B01225AB</td>\n",
              "      <td>2020-05-27</td>\n",
              "      <td>0.45</td>\n",
              "    </tr>\n",
              "    <tr>\n",
              "      <th>1534</th>\n",
              "      <td>F5B5BD59D98836D8AA2D8C27B01225AB</td>\n",
              "      <td>2020-05-22</td>\n",
              "      <td>0.56</td>\n",
              "    </tr>\n",
              "  </tbody>\n",
              "</table>\n",
              "</div>"
            ],
            "text/plain": [
              "                           ID_PACIENTE   DT_COLETA  DE_BILIRRUBINA\n",
              "181   B8A474D172DDB5BAD11F088BDA20BE96  2020-08-08            0.43\n",
              "431   D1C4E29D126CA8B4359827903CB222AC  2020-07-14            0.71\n",
              "563   EA3D530A51086CEFC8C6DFAEC53D00F2  2020-03-27            1.04\n",
              "708   F5B5BD59D98836D8AA2D8C27B01225AB  2020-06-05            0.57\n",
              "968   F5B5BD59D98836D8AA2D8C27B01225AB  2020-06-08            0.61\n",
              "1061  F5B5BD59D98836D8AA2D8C27B01225AB  2020-06-07            0.62\n",
              "1213  F5B5BD59D98836D8AA2D8C27B01225AB  2020-06-06            0.65\n",
              "1246  F5B5BD59D98836D8AA2D8C27B01225AB  2020-05-29            0.46\n",
              "1326  F5B5BD59D98836D8AA2D8C27B01225AB  2020-05-27            0.45\n",
              "1534  F5B5BD59D98836D8AA2D8C27B01225AB  2020-05-22            0.56"
            ]
          },
          "metadata": {
            "tags": []
          },
          "execution_count": 65
        }
      ]
    },
    {
      "cell_type": "code",
      "metadata": {
        "id": "j28o3PdhvHFt",
        "outputId": "a822218c-bbf6-43fd-cc88-c2ff609d1634",
        "colab": {
          "base_uri": "https://localhost:8080/",
          "height": 0
        }
      },
      "source": [
        "# Verificando dados faltantes\n",
        "bilirrubina.info()"
      ],
      "execution_count": 66,
      "outputs": [
        {
          "output_type": "stream",
          "text": [
            "<class 'pandas.core.frame.DataFrame'>\n",
            "Int64Index: 1231 entries, 181 to 259402\n",
            "Data columns (total 3 columns):\n",
            " #   Column          Non-Null Count  Dtype  \n",
            "---  ------          --------------  -----  \n",
            " 0   ID_PACIENTE     1231 non-null   object \n",
            " 1   DT_COLETA       1231 non-null   object \n",
            " 2   DE_BILIRRUBINA  1231 non-null   float64\n",
            "dtypes: float64(1), object(2)\n",
            "memory usage: 38.5+ KB\n"
          ],
          "name": "stdout"
        }
      ]
    },
    {
      "cell_type": "markdown",
      "metadata": {
        "id": "zRTVTsAEt1eb"
      },
      "source": [
        "### **3.12) Analisando Ureía**"
      ]
    },
    {
      "cell_type": "code",
      "metadata": {
        "id": "54MT9h_LpnPg",
        "outputId": "f06b2b41-bd00-4d9b-c2ea-c9d34542df12",
        "colab": {
          "base_uri": "https://localhost:8080/",
          "height": 0
        }
      },
      "source": [
        "# Agora que sabemos a combinação de analitos e exames que procuramos, precisamos entender os tipos de resultado\n",
        "# obtidos para cada uma das features analisadas nos exames:\n",
        "#\n",
        "# DE_ANALITO | DE_EXAME\n",
        "#\n",
        "# Leucócitos | Hemograma\n",
        "# Hemoglobina | Hemograma\n",
        "# Plaquetas | Hemograma\n",
        "# Neutrófilos (%) | Hemograma\n",
        "# Neutrófilos | Hemograma\n",
        "# Linfócitos (%) | Hemograma \n",
        "# Linfócitos | Hemograma \n",
        "# Proteína C-Reativa | Proteína C Reativa, plasma\n",
        "# Bilirrubina Total | Bilirrubinas Total E Fracoes\n",
        "# Uréia | Uréia \n",
        "# Creatinina | Creatinina \n",
        "# DHL | Desidrogenase Lática (DHL/L)\n",
        "# Dimeros D, quant | D. Dimeros(Dimeros De Fibrina)\n",
        "#\n",
        "# Vamos analisar os resultados para cada conjunto de analitos e exames individualmente\n",
        "sel = (data_exames_HSL['DE_ANALITO'] == 'Uréia') & (data_exames_HSL['DE_EXAME'] == 'Uréia')\n",
        "print('A quantidade de exames deste tipo realizados é de: {}'.format(data_exames_HSL[sel].shape[0]))"
      ],
      "execution_count": 67,
      "outputs": [
        {
          "output_type": "stream",
          "text": [
            "A quantidade de exames deste tipo realizados é de: 4604\n"
          ],
          "name": "stdout"
        }
      ]
    },
    {
      "cell_type": "code",
      "metadata": {
        "id": "OMoEZFJzvUnl",
        "outputId": "d3f89621-b293-4802-9492-fa97b715c5af",
        "colab": {
          "base_uri": "https://localhost:8080/",
          "height": 0
        }
      },
      "source": [
        "# Salvando os resultados deste tipo de exame e analito em um dataframe. \n",
        "# Excluímos as colunas que não serão necessárias para o projeto e renomeamos a\n",
        "# coluna 'DE_RESULTADO' para o nome do 'ANALITO' analisado\n",
        "ureia = data_exames_HSL[sel]\n",
        "ureia.drop(['ID_ATENDIMENTO', 'DE_ORIGEM', 'DE_EXAME', 'DE_ANALITO', 'CD_UNIDADE', 'DE_VALOR_REFERENCIA'], axis=1, inplace=True)\n",
        "ureia.rename(columns={'DE_RESULTADO':'DE_UREIA'}, inplace=True)\n",
        "ureia.head(5)"
      ],
      "execution_count": 68,
      "outputs": [
        {
          "output_type": "stream",
          "text": [
            "/usr/local/lib/python3.6/dist-packages/pandas/core/frame.py:4169: SettingWithCopyWarning: \n",
            "A value is trying to be set on a copy of a slice from a DataFrame\n",
            "\n",
            "See the caveats in the documentation: https://pandas.pydata.org/pandas-docs/stable/user_guide/indexing.html#returning-a-view-versus-a-copy\n",
            "  errors=errors,\n",
            "/usr/local/lib/python3.6/dist-packages/pandas/core/frame.py:4303: SettingWithCopyWarning: \n",
            "A value is trying to be set on a copy of a slice from a DataFrame\n",
            "\n",
            "See the caveats in the documentation: https://pandas.pydata.org/pandas-docs/stable/user_guide/indexing.html#returning-a-view-versus-a-copy\n",
            "  errors=errors,\n"
          ],
          "name": "stderr"
        },
        {
          "output_type": "execute_result",
          "data": {
            "text/html": [
              "<div>\n",
              "<style scoped>\n",
              "    .dataframe tbody tr th:only-of-type {\n",
              "        vertical-align: middle;\n",
              "    }\n",
              "\n",
              "    .dataframe tbody tr th {\n",
              "        vertical-align: top;\n",
              "    }\n",
              "\n",
              "    .dataframe thead th {\n",
              "        text-align: right;\n",
              "    }\n",
              "</style>\n",
              "<table border=\"1\" class=\"dataframe\">\n",
              "  <thead>\n",
              "    <tr style=\"text-align: right;\">\n",
              "      <th></th>\n",
              "      <th>ID_PACIENTE</th>\n",
              "      <th>DT_COLETA</th>\n",
              "      <th>DE_UREIA</th>\n",
              "    </tr>\n",
              "  </thead>\n",
              "  <tbody>\n",
              "    <tr>\n",
              "      <th>35</th>\n",
              "      <td>3487791F44C34B421C932DC8616A8437</td>\n",
              "      <td>2020-05-04</td>\n",
              "      <td>28</td>\n",
              "    </tr>\n",
              "    <tr>\n",
              "      <th>197</th>\n",
              "      <td>B8A474D172DDB5BAD11F088BDA20BE96</td>\n",
              "      <td>2020-08-08</td>\n",
              "      <td>21</td>\n",
              "    </tr>\n",
              "    <tr>\n",
              "      <th>245</th>\n",
              "      <td>B8A474D172DDB5BAD11F088BDA20BE96</td>\n",
              "      <td>2020-08-09</td>\n",
              "      <td>25</td>\n",
              "    </tr>\n",
              "    <tr>\n",
              "      <th>303</th>\n",
              "      <td>B8A474D172DDB5BAD11F088BDA20BE96</td>\n",
              "      <td>2020-08-09</td>\n",
              "      <td>27</td>\n",
              "    </tr>\n",
              "    <tr>\n",
              "      <th>322</th>\n",
              "      <td>B8A474D172DDB5BAD11F088BDA20BE96</td>\n",
              "      <td>2020-08-10</td>\n",
              "      <td>26</td>\n",
              "    </tr>\n",
              "  </tbody>\n",
              "</table>\n",
              "</div>"
            ],
            "text/plain": [
              "                          ID_PACIENTE   DT_COLETA DE_UREIA\n",
              "35   3487791F44C34B421C932DC8616A8437  2020-05-04       28\n",
              "197  B8A474D172DDB5BAD11F088BDA20BE96  2020-08-08       21\n",
              "245  B8A474D172DDB5BAD11F088BDA20BE96  2020-08-09       25\n",
              "303  B8A474D172DDB5BAD11F088BDA20BE96  2020-08-09       27\n",
              "322  B8A474D172DDB5BAD11F088BDA20BE96  2020-08-10       26"
            ]
          },
          "metadata": {
            "tags": []
          },
          "execution_count": 68
        }
      ]
    },
    {
      "cell_type": "code",
      "metadata": {
        "id": "BtMjx8rrfYLL",
        "outputId": "5f69f70b-c9d2-4b7d-baea-df7fa9ca19b0",
        "colab": {
          "base_uri": "https://localhost:8080/",
          "height": 0
        }
      },
      "source": [
        "# Vamos converter os valores da coluna para valores numéricos, já que os resultados dos exames estão sendo\n",
        "# dados por strings. Precisamos trocar o caracter que divide a parte decimal de ',' para '.' para efetuar a\n",
        "# operação. Valores não numéricos são substituidos por NaN (errors='coerce') e serão tratados mais adiante.\n",
        "ureia['DE_UREIA'] = pd.to_numeric(ureia['DE_UREIA'].str.replace(',','.'), errors='coerce')\n",
        "ureia.head(10)"
      ],
      "execution_count": 69,
      "outputs": [
        {
          "output_type": "stream",
          "text": [
            "/usr/local/lib/python3.6/dist-packages/ipykernel_launcher.py:4: SettingWithCopyWarning: \n",
            "A value is trying to be set on a copy of a slice from a DataFrame.\n",
            "Try using .loc[row_indexer,col_indexer] = value instead\n",
            "\n",
            "See the caveats in the documentation: https://pandas.pydata.org/pandas-docs/stable/user_guide/indexing.html#returning-a-view-versus-a-copy\n",
            "  after removing the cwd from sys.path.\n"
          ],
          "name": "stderr"
        },
        {
          "output_type": "execute_result",
          "data": {
            "text/html": [
              "<div>\n",
              "<style scoped>\n",
              "    .dataframe tbody tr th:only-of-type {\n",
              "        vertical-align: middle;\n",
              "    }\n",
              "\n",
              "    .dataframe tbody tr th {\n",
              "        vertical-align: top;\n",
              "    }\n",
              "\n",
              "    .dataframe thead th {\n",
              "        text-align: right;\n",
              "    }\n",
              "</style>\n",
              "<table border=\"1\" class=\"dataframe\">\n",
              "  <thead>\n",
              "    <tr style=\"text-align: right;\">\n",
              "      <th></th>\n",
              "      <th>ID_PACIENTE</th>\n",
              "      <th>DT_COLETA</th>\n",
              "      <th>DE_UREIA</th>\n",
              "    </tr>\n",
              "  </thead>\n",
              "  <tbody>\n",
              "    <tr>\n",
              "      <th>35</th>\n",
              "      <td>3487791F44C34B421C932DC8616A8437</td>\n",
              "      <td>2020-05-04</td>\n",
              "      <td>28</td>\n",
              "    </tr>\n",
              "    <tr>\n",
              "      <th>197</th>\n",
              "      <td>B8A474D172DDB5BAD11F088BDA20BE96</td>\n",
              "      <td>2020-08-08</td>\n",
              "      <td>21</td>\n",
              "    </tr>\n",
              "    <tr>\n",
              "      <th>245</th>\n",
              "      <td>B8A474D172DDB5BAD11F088BDA20BE96</td>\n",
              "      <td>2020-08-09</td>\n",
              "      <td>25</td>\n",
              "    </tr>\n",
              "    <tr>\n",
              "      <th>303</th>\n",
              "      <td>B8A474D172DDB5BAD11F088BDA20BE96</td>\n",
              "      <td>2020-08-09</td>\n",
              "      <td>27</td>\n",
              "    </tr>\n",
              "    <tr>\n",
              "      <th>322</th>\n",
              "      <td>B8A474D172DDB5BAD11F088BDA20BE96</td>\n",
              "      <td>2020-08-10</td>\n",
              "      <td>26</td>\n",
              "    </tr>\n",
              "    <tr>\n",
              "      <th>365</th>\n",
              "      <td>B9697B4994DF6367EDB722F1EC4AB423</td>\n",
              "      <td>2020-05-18</td>\n",
              "      <td>18</td>\n",
              "    </tr>\n",
              "    <tr>\n",
              "      <th>426</th>\n",
              "      <td>D1C4E29D126CA8B4359827903CB222AC</td>\n",
              "      <td>2020-03-30</td>\n",
              "      <td>32</td>\n",
              "    </tr>\n",
              "    <tr>\n",
              "      <th>437</th>\n",
              "      <td>D1C4E29D126CA8B4359827903CB222AC</td>\n",
              "      <td>2020-07-14</td>\n",
              "      <td>28</td>\n",
              "    </tr>\n",
              "    <tr>\n",
              "      <th>500</th>\n",
              "      <td>EA3D530A51086CEFC8C6DFAEC53D00F2</td>\n",
              "      <td>2020-03-29</td>\n",
              "      <td>73</td>\n",
              "    </tr>\n",
              "    <tr>\n",
              "      <th>572</th>\n",
              "      <td>EA3D530A51086CEFC8C6DFAEC53D00F2</td>\n",
              "      <td>2020-03-27</td>\n",
              "      <td>59</td>\n",
              "    </tr>\n",
              "  </tbody>\n",
              "</table>\n",
              "</div>"
            ],
            "text/plain": [
              "                          ID_PACIENTE   DT_COLETA  DE_UREIA\n",
              "35   3487791F44C34B421C932DC8616A8437  2020-05-04        28\n",
              "197  B8A474D172DDB5BAD11F088BDA20BE96  2020-08-08        21\n",
              "245  B8A474D172DDB5BAD11F088BDA20BE96  2020-08-09        25\n",
              "303  B8A474D172DDB5BAD11F088BDA20BE96  2020-08-09        27\n",
              "322  B8A474D172DDB5BAD11F088BDA20BE96  2020-08-10        26\n",
              "365  B9697B4994DF6367EDB722F1EC4AB423  2020-05-18        18\n",
              "426  D1C4E29D126CA8B4359827903CB222AC  2020-03-30        32\n",
              "437  D1C4E29D126CA8B4359827903CB222AC  2020-07-14        28\n",
              "500  EA3D530A51086CEFC8C6DFAEC53D00F2  2020-03-29        73\n",
              "572  EA3D530A51086CEFC8C6DFAEC53D00F2  2020-03-27        59"
            ]
          },
          "metadata": {
            "tags": []
          },
          "execution_count": 69
        }
      ]
    },
    {
      "cell_type": "code",
      "metadata": {
        "id": "oFSzrhTMvUnq",
        "outputId": "ac4d10c9-b5ee-4841-f9c4-5caf0370214d",
        "colab": {
          "base_uri": "https://localhost:8080/",
          "height": 0
        }
      },
      "source": [
        "# Verificando dados faltantes\n",
        "ureia.info()"
      ],
      "execution_count": 70,
      "outputs": [
        {
          "output_type": "stream",
          "text": [
            "<class 'pandas.core.frame.DataFrame'>\n",
            "Int64Index: 4604 entries, 35 to 259405\n",
            "Data columns (total 3 columns):\n",
            " #   Column       Non-Null Count  Dtype \n",
            "---  ------       --------------  ----- \n",
            " 0   ID_PACIENTE  4604 non-null   object\n",
            " 1   DT_COLETA    4604 non-null   object\n",
            " 2   DE_UREIA     4604 non-null   int64 \n",
            "dtypes: int64(1), object(2)\n",
            "memory usage: 143.9+ KB\n"
          ],
          "name": "stdout"
        }
      ]
    },
    {
      "cell_type": "markdown",
      "metadata": {
        "id": "UkNKxoGat5_L"
      },
      "source": [
        "### **3.13) Analisando Creatinina**"
      ]
    },
    {
      "cell_type": "code",
      "metadata": {
        "id": "fahcKPxJpnTP",
        "outputId": "1755367a-ef65-4b22-f6e4-8765b0935ddc",
        "colab": {
          "base_uri": "https://localhost:8080/",
          "height": 0
        }
      },
      "source": [
        "# Agora que sabemos a combinação de analitos e exames que procuramos, precisamos entender os tipos de resultado\n",
        "# obtidos para cada uma das features analisadas nos exames:\n",
        "#\n",
        "# DE_ANALITO | DE_EXAME\n",
        "#\n",
        "# Leucócitos | Hemograma\n",
        "# Hemoglobina | Hemograma\n",
        "# Plaquetas | Hemograma\n",
        "# Neutrófilos (%) | Hemograma\n",
        "# Neutrófilos | Hemograma\n",
        "# Linfócitos (%) | Hemograma \n",
        "# Linfócitos | Hemograma \n",
        "# Proteína C-Reativa | Proteína C Reativa, plasma\n",
        "# Bilirrubina Total | Bilirrubinas Total E Fracoes\n",
        "# Uréia | Uréia \n",
        "# Creatinina | Creatinina \n",
        "# DHL | Desidrogenase Lática (DHL/L)\n",
        "# Dimeros D, quant | D. Dimeros(Dimeros De Fibrina)\n",
        "#\n",
        "# Vamos analisar os resultados para cada conjunto de analitos e exames individualmente\n",
        "sel = (data_exames_HSL['DE_ANALITO'] == 'Creatinina') & (data_exames_HSL['DE_EXAME'] == 'Creatinina')\n",
        "print('A quantidade de exames deste tipo realizados é de: {}'.format(data_exames_HSL[sel].shape[0]))"
      ],
      "execution_count": 71,
      "outputs": [
        {
          "output_type": "stream",
          "text": [
            "A quantidade de exames deste tipo realizados é de: 4707\n"
          ],
          "name": "stdout"
        }
      ]
    },
    {
      "cell_type": "code",
      "metadata": {
        "id": "OqVLi2YSvlV8",
        "outputId": "8ad08f69-32e6-487f-9f18-77eadd03ebbd",
        "colab": {
          "base_uri": "https://localhost:8080/",
          "height": 0
        }
      },
      "source": [
        "# Salvando os resultados deste tipo de exame e analito em um dataframe. \n",
        "# Excluímos as colunas que não serão necessárias para o projeto e renomeamos a\n",
        "# coluna 'DE_RESULTADO' para o nome do 'ANALITO' analisado\n",
        "creatinina = data_exames_HSL[sel]\n",
        "creatinina.drop(['ID_ATENDIMENTO', 'DE_ORIGEM', 'DE_EXAME', 'DE_ANALITO', 'CD_UNIDADE', 'DE_VALOR_REFERENCIA'], axis=1, inplace=True)\n",
        "creatinina.rename(columns={'DE_RESULTADO':'DE_CREATININA'}, inplace=True)\n",
        "creatinina.head(5)"
      ],
      "execution_count": 72,
      "outputs": [
        {
          "output_type": "stream",
          "text": [
            "/usr/local/lib/python3.6/dist-packages/pandas/core/frame.py:4169: SettingWithCopyWarning: \n",
            "A value is trying to be set on a copy of a slice from a DataFrame\n",
            "\n",
            "See the caveats in the documentation: https://pandas.pydata.org/pandas-docs/stable/user_guide/indexing.html#returning-a-view-versus-a-copy\n",
            "  errors=errors,\n",
            "/usr/local/lib/python3.6/dist-packages/pandas/core/frame.py:4303: SettingWithCopyWarning: \n",
            "A value is trying to be set on a copy of a slice from a DataFrame\n",
            "\n",
            "See the caveats in the documentation: https://pandas.pydata.org/pandas-docs/stable/user_guide/indexing.html#returning-a-view-versus-a-copy\n",
            "  errors=errors,\n"
          ],
          "name": "stderr"
        },
        {
          "output_type": "execute_result",
          "data": {
            "text/html": [
              "<div>\n",
              "<style scoped>\n",
              "    .dataframe tbody tr th:only-of-type {\n",
              "        vertical-align: middle;\n",
              "    }\n",
              "\n",
              "    .dataframe tbody tr th {\n",
              "        vertical-align: top;\n",
              "    }\n",
              "\n",
              "    .dataframe thead th {\n",
              "        text-align: right;\n",
              "    }\n",
              "</style>\n",
              "<table border=\"1\" class=\"dataframe\">\n",
              "  <thead>\n",
              "    <tr style=\"text-align: right;\">\n",
              "      <th></th>\n",
              "      <th>ID_PACIENTE</th>\n",
              "      <th>DT_COLETA</th>\n",
              "      <th>DE_CREATININA</th>\n",
              "    </tr>\n",
              "  </thead>\n",
              "  <tbody>\n",
              "    <tr>\n",
              "      <th>41</th>\n",
              "      <td>3487791F44C34B421C932DC8616A8437</td>\n",
              "      <td>2020-05-04</td>\n",
              "      <td>0,91</td>\n",
              "    </tr>\n",
              "    <tr>\n",
              "      <th>196</th>\n",
              "      <td>B8A474D172DDB5BAD11F088BDA20BE96</td>\n",
              "      <td>2020-08-08</td>\n",
              "      <td>0,68</td>\n",
              "    </tr>\n",
              "    <tr>\n",
              "      <th>244</th>\n",
              "      <td>B8A474D172DDB5BAD11F088BDA20BE96</td>\n",
              "      <td>2020-08-09</td>\n",
              "      <td>0,80</td>\n",
              "    </tr>\n",
              "    <tr>\n",
              "      <th>302</th>\n",
              "      <td>B8A474D172DDB5BAD11F088BDA20BE96</td>\n",
              "      <td>2020-08-09</td>\n",
              "      <td>0,82</td>\n",
              "    </tr>\n",
              "    <tr>\n",
              "      <th>321</th>\n",
              "      <td>B8A474D172DDB5BAD11F088BDA20BE96</td>\n",
              "      <td>2020-08-10</td>\n",
              "      <td>0,62</td>\n",
              "    </tr>\n",
              "  </tbody>\n",
              "</table>\n",
              "</div>"
            ],
            "text/plain": [
              "                          ID_PACIENTE   DT_COLETA DE_CREATININA\n",
              "41   3487791F44C34B421C932DC8616A8437  2020-05-04          0,91\n",
              "196  B8A474D172DDB5BAD11F088BDA20BE96  2020-08-08          0,68\n",
              "244  B8A474D172DDB5BAD11F088BDA20BE96  2020-08-09          0,80\n",
              "302  B8A474D172DDB5BAD11F088BDA20BE96  2020-08-09          0,82\n",
              "321  B8A474D172DDB5BAD11F088BDA20BE96  2020-08-10          0,62"
            ]
          },
          "metadata": {
            "tags": []
          },
          "execution_count": 72
        }
      ]
    },
    {
      "cell_type": "code",
      "metadata": {
        "id": "G7sZClmrfh5l",
        "outputId": "b6a7fbf1-1782-4297-9a0b-5f024d66d131",
        "colab": {
          "base_uri": "https://localhost:8080/",
          "height": 0
        }
      },
      "source": [
        "# Vamos converter os valores da coluna para valores numéricos, já que os resultados dos exames estão sendo\n",
        "# dados por strings. Precisamos trocar o caracter que divide a parte decimal de ',' para '.' para efetuar a\n",
        "# operação. Valores não numéricos são substituidos por NaN (errors='coerce') e serão tratados mais adiante.\n",
        "creatinina['DE_CREATININA'] = pd.to_numeric(creatinina['DE_CREATININA'].str.replace(',','.'), errors='coerce')\n",
        "creatinina.head(10)"
      ],
      "execution_count": 73,
      "outputs": [
        {
          "output_type": "stream",
          "text": [
            "/usr/local/lib/python3.6/dist-packages/ipykernel_launcher.py:4: SettingWithCopyWarning: \n",
            "A value is trying to be set on a copy of a slice from a DataFrame.\n",
            "Try using .loc[row_indexer,col_indexer] = value instead\n",
            "\n",
            "See the caveats in the documentation: https://pandas.pydata.org/pandas-docs/stable/user_guide/indexing.html#returning-a-view-versus-a-copy\n",
            "  after removing the cwd from sys.path.\n"
          ],
          "name": "stderr"
        },
        {
          "output_type": "execute_result",
          "data": {
            "text/html": [
              "<div>\n",
              "<style scoped>\n",
              "    .dataframe tbody tr th:only-of-type {\n",
              "        vertical-align: middle;\n",
              "    }\n",
              "\n",
              "    .dataframe tbody tr th {\n",
              "        vertical-align: top;\n",
              "    }\n",
              "\n",
              "    .dataframe thead th {\n",
              "        text-align: right;\n",
              "    }\n",
              "</style>\n",
              "<table border=\"1\" class=\"dataframe\">\n",
              "  <thead>\n",
              "    <tr style=\"text-align: right;\">\n",
              "      <th></th>\n",
              "      <th>ID_PACIENTE</th>\n",
              "      <th>DT_COLETA</th>\n",
              "      <th>DE_CREATININA</th>\n",
              "    </tr>\n",
              "  </thead>\n",
              "  <tbody>\n",
              "    <tr>\n",
              "      <th>41</th>\n",
              "      <td>3487791F44C34B421C932DC8616A8437</td>\n",
              "      <td>2020-05-04</td>\n",
              "      <td>0.91</td>\n",
              "    </tr>\n",
              "    <tr>\n",
              "      <th>196</th>\n",
              "      <td>B8A474D172DDB5BAD11F088BDA20BE96</td>\n",
              "      <td>2020-08-08</td>\n",
              "      <td>0.68</td>\n",
              "    </tr>\n",
              "    <tr>\n",
              "      <th>244</th>\n",
              "      <td>B8A474D172DDB5BAD11F088BDA20BE96</td>\n",
              "      <td>2020-08-09</td>\n",
              "      <td>0.80</td>\n",
              "    </tr>\n",
              "    <tr>\n",
              "      <th>302</th>\n",
              "      <td>B8A474D172DDB5BAD11F088BDA20BE96</td>\n",
              "      <td>2020-08-09</td>\n",
              "      <td>0.82</td>\n",
              "    </tr>\n",
              "    <tr>\n",
              "      <th>321</th>\n",
              "      <td>B8A474D172DDB5BAD11F088BDA20BE96</td>\n",
              "      <td>2020-08-10</td>\n",
              "      <td>0.62</td>\n",
              "    </tr>\n",
              "    <tr>\n",
              "      <th>364</th>\n",
              "      <td>B9697B4994DF6367EDB722F1EC4AB423</td>\n",
              "      <td>2020-05-18</td>\n",
              "      <td>0.81</td>\n",
              "    </tr>\n",
              "    <tr>\n",
              "      <th>425</th>\n",
              "      <td>D1C4E29D126CA8B4359827903CB222AC</td>\n",
              "      <td>2020-03-30</td>\n",
              "      <td>1.33</td>\n",
              "    </tr>\n",
              "    <tr>\n",
              "      <th>439</th>\n",
              "      <td>D1C4E29D126CA8B4359827903CB222AC</td>\n",
              "      <td>2020-07-14</td>\n",
              "      <td>1.24</td>\n",
              "    </tr>\n",
              "    <tr>\n",
              "      <th>499</th>\n",
              "      <td>EA3D530A51086CEFC8C6DFAEC53D00F2</td>\n",
              "      <td>2020-03-29</td>\n",
              "      <td>1.22</td>\n",
              "    </tr>\n",
              "    <tr>\n",
              "      <th>573</th>\n",
              "      <td>EA3D530A51086CEFC8C6DFAEC53D00F2</td>\n",
              "      <td>2020-03-27</td>\n",
              "      <td>1.08</td>\n",
              "    </tr>\n",
              "  </tbody>\n",
              "</table>\n",
              "</div>"
            ],
            "text/plain": [
              "                          ID_PACIENTE   DT_COLETA  DE_CREATININA\n",
              "41   3487791F44C34B421C932DC8616A8437  2020-05-04           0.91\n",
              "196  B8A474D172DDB5BAD11F088BDA20BE96  2020-08-08           0.68\n",
              "244  B8A474D172DDB5BAD11F088BDA20BE96  2020-08-09           0.80\n",
              "302  B8A474D172DDB5BAD11F088BDA20BE96  2020-08-09           0.82\n",
              "321  B8A474D172DDB5BAD11F088BDA20BE96  2020-08-10           0.62\n",
              "364  B9697B4994DF6367EDB722F1EC4AB423  2020-05-18           0.81\n",
              "425  D1C4E29D126CA8B4359827903CB222AC  2020-03-30           1.33\n",
              "439  D1C4E29D126CA8B4359827903CB222AC  2020-07-14           1.24\n",
              "499  EA3D530A51086CEFC8C6DFAEC53D00F2  2020-03-29           1.22\n",
              "573  EA3D530A51086CEFC8C6DFAEC53D00F2  2020-03-27           1.08"
            ]
          },
          "metadata": {
            "tags": []
          },
          "execution_count": 73
        }
      ]
    },
    {
      "cell_type": "code",
      "metadata": {
        "id": "ShDh8g-avlWA",
        "outputId": "c0c2cacf-5ad0-46ff-c069-9cee4ef8a1a8",
        "colab": {
          "base_uri": "https://localhost:8080/",
          "height": 0
        }
      },
      "source": [
        "# Verificando dados faltantes\n",
        "creatinina.info()"
      ],
      "execution_count": 74,
      "outputs": [
        {
          "output_type": "stream",
          "text": [
            "<class 'pandas.core.frame.DataFrame'>\n",
            "Int64Index: 4707 entries, 41 to 259406\n",
            "Data columns (total 3 columns):\n",
            " #   Column         Non-Null Count  Dtype  \n",
            "---  ------         --------------  -----  \n",
            " 0   ID_PACIENTE    4707 non-null   object \n",
            " 1   DT_COLETA      4707 non-null   object \n",
            " 2   DE_CREATININA  4707 non-null   float64\n",
            "dtypes: float64(1), object(2)\n",
            "memory usage: 147.1+ KB\n"
          ],
          "name": "stdout"
        }
      ]
    },
    {
      "cell_type": "markdown",
      "metadata": {
        "id": "BbnOK3uwuClD"
      },
      "source": [
        "### **3.14) Analisando DHL**"
      ]
    },
    {
      "cell_type": "code",
      "metadata": {
        "id": "g9v5Lqd5pnJd",
        "outputId": "dcac088a-39dc-4d20-b387-c1f21bdb639d",
        "colab": {
          "base_uri": "https://localhost:8080/",
          "height": 0
        }
      },
      "source": [
        "# Agora que sabemos a combinação de analitos e exames que procuramos, precisamos entender os tipos de resultado\n",
        "# obtidos para cada uma das features analisadas nos exames:\n",
        "#\n",
        "# DE_ANALITO | DE_EXAME\n",
        "#\n",
        "# Leucócitos | Hemograma\n",
        "# Hemoglobina | Hemograma\n",
        "# Plaquetas | Hemograma\n",
        "# Neutrófilos (%) | Hemograma\n",
        "# Neutrófilos | Hemograma\n",
        "# Linfócitos (%) | Hemograma \n",
        "# Linfócitos | Hemograma \n",
        "# Proteína C-Reativa | Proteína C Reativa, plasma\n",
        "# Bilirrubina Total | Bilirrubinas Total E Fracoes\n",
        "# Uréia | Uréia \n",
        "# Creatinina | Creatinina \n",
        "# DHL | Desidrogenase Lática (DHL/L)\n",
        "# Dimeros D, quant | D. Dimeros(Dimeros De Fibrina)\n",
        "#\n",
        "# Vamos analisar os resultados para cada conjunto de analitos e exames individualmente\n",
        "sel = (data_exames_HSL['DE_ANALITO'] == 'DHL') & (data_exames_HSL['DE_EXAME'] == 'Desidrogenase Lática (DHL/L)')\n",
        "print('A quantidade de exames deste tipo realizados é de: {}'.format(data_exames_HSL[sel].shape[0]))"
      ],
      "execution_count": 75,
      "outputs": [
        {
          "output_type": "stream",
          "text": [
            "A quantidade de exames deste tipo realizados é de: 1663\n"
          ],
          "name": "stdout"
        }
      ]
    },
    {
      "cell_type": "code",
      "metadata": {
        "id": "yEnElLIBvzws",
        "outputId": "a98ef823-ff91-45c4-daa4-ec91efb4652c",
        "colab": {
          "base_uri": "https://localhost:8080/",
          "height": 0
        }
      },
      "source": [
        "# Salvando os resultados deste tipo de exame e analito em um dataframe. \n",
        "# Excluímos as colunas que não serão necessárias para o projeto e renomeamos a\n",
        "# coluna 'DE_RESULTADO' para o nome do 'ANALITO' analisado\n",
        "dhl = data_exames_HSL[sel]\n",
        "dhl.drop(['ID_ATENDIMENTO', 'DE_ORIGEM', 'DE_EXAME', 'DE_ANALITO', 'CD_UNIDADE', 'DE_VALOR_REFERENCIA'], axis=1, inplace=True)\n",
        "dhl.rename(columns={'DE_RESULTADO':'DE_DHL'}, inplace=True)\n",
        "dhl.head(5)"
      ],
      "execution_count": 76,
      "outputs": [
        {
          "output_type": "stream",
          "text": [
            "/usr/local/lib/python3.6/dist-packages/pandas/core/frame.py:4169: SettingWithCopyWarning: \n",
            "A value is trying to be set on a copy of a slice from a DataFrame\n",
            "\n",
            "See the caveats in the documentation: https://pandas.pydata.org/pandas-docs/stable/user_guide/indexing.html#returning-a-view-versus-a-copy\n",
            "  errors=errors,\n",
            "/usr/local/lib/python3.6/dist-packages/pandas/core/frame.py:4303: SettingWithCopyWarning: \n",
            "A value is trying to be set on a copy of a slice from a DataFrame\n",
            "\n",
            "See the caveats in the documentation: https://pandas.pydata.org/pandas-docs/stable/user_guide/indexing.html#returning-a-view-versus-a-copy\n",
            "  errors=errors,\n"
          ],
          "name": "stderr"
        },
        {
          "output_type": "execute_result",
          "data": {
            "text/html": [
              "<div>\n",
              "<style scoped>\n",
              "    .dataframe tbody tr th:only-of-type {\n",
              "        vertical-align: middle;\n",
              "    }\n",
              "\n",
              "    .dataframe tbody tr th {\n",
              "        vertical-align: top;\n",
              "    }\n",
              "\n",
              "    .dataframe thead th {\n",
              "        text-align: right;\n",
              "    }\n",
              "</style>\n",
              "<table border=\"1\" class=\"dataframe\">\n",
              "  <thead>\n",
              "    <tr style=\"text-align: right;\">\n",
              "      <th></th>\n",
              "      <th>ID_PACIENTE</th>\n",
              "      <th>DT_COLETA</th>\n",
              "      <th>DE_DHL</th>\n",
              "    </tr>\n",
              "  </thead>\n",
              "  <tbody>\n",
              "    <tr>\n",
              "      <th>3</th>\n",
              "      <td>3487791F44C34B421C932DC8616A8437</td>\n",
              "      <td>2020-05-14</td>\n",
              "      <td>530</td>\n",
              "    </tr>\n",
              "    <tr>\n",
              "      <th>33</th>\n",
              "      <td>3487791F44C34B421C932DC8616A8437</td>\n",
              "      <td>2020-05-04</td>\n",
              "      <td>364</td>\n",
              "    </tr>\n",
              "    <tr>\n",
              "      <th>123</th>\n",
              "      <td>3487791F44C34B421C932DC8616A8437</td>\n",
              "      <td>2020-05-08</td>\n",
              "      <td>347</td>\n",
              "    </tr>\n",
              "    <tr>\n",
              "      <th>187</th>\n",
              "      <td>B8A474D172DDB5BAD11F088BDA20BE96</td>\n",
              "      <td>2020-08-08</td>\n",
              "      <td>651</td>\n",
              "    </tr>\n",
              "    <tr>\n",
              "      <th>300</th>\n",
              "      <td>B8A474D172DDB5BAD11F088BDA20BE96</td>\n",
              "      <td>2020-08-09</td>\n",
              "      <td>645</td>\n",
              "    </tr>\n",
              "  </tbody>\n",
              "</table>\n",
              "</div>"
            ],
            "text/plain": [
              "                          ID_PACIENTE   DT_COLETA DE_DHL\n",
              "3    3487791F44C34B421C932DC8616A8437  2020-05-14    530\n",
              "33   3487791F44C34B421C932DC8616A8437  2020-05-04    364\n",
              "123  3487791F44C34B421C932DC8616A8437  2020-05-08    347\n",
              "187  B8A474D172DDB5BAD11F088BDA20BE96  2020-08-08    651\n",
              "300  B8A474D172DDB5BAD11F088BDA20BE96  2020-08-09    645"
            ]
          },
          "metadata": {
            "tags": []
          },
          "execution_count": 76
        }
      ]
    },
    {
      "cell_type": "code",
      "metadata": {
        "id": "JhFfJZCHfsoA",
        "outputId": "f190db42-bbd4-44ea-9a7d-8830833d99f0",
        "colab": {
          "base_uri": "https://localhost:8080/",
          "height": 0
        }
      },
      "source": [
        "# Vamos converter os valores da coluna para valores numéricos, já que os resultados dos exames estão sendo\n",
        "# dados por strings. Precisamos trocar o caracter que divide a parte decimal de ',' para '.' para efetuar a\n",
        "# operação. Valores não numéricos são substituidos por NaN (errors='coerce') e serão tratados mais adiante.\n",
        "dhl['DE_DHL'] = pd.to_numeric(dhl['DE_DHL'].str.replace(',','.'), errors='coerce')\n",
        "dhl.head(10)"
      ],
      "execution_count": 77,
      "outputs": [
        {
          "output_type": "stream",
          "text": [
            "/usr/local/lib/python3.6/dist-packages/ipykernel_launcher.py:4: SettingWithCopyWarning: \n",
            "A value is trying to be set on a copy of a slice from a DataFrame.\n",
            "Try using .loc[row_indexer,col_indexer] = value instead\n",
            "\n",
            "See the caveats in the documentation: https://pandas.pydata.org/pandas-docs/stable/user_guide/indexing.html#returning-a-view-versus-a-copy\n",
            "  after removing the cwd from sys.path.\n"
          ],
          "name": "stderr"
        },
        {
          "output_type": "execute_result",
          "data": {
            "text/html": [
              "<div>\n",
              "<style scoped>\n",
              "    .dataframe tbody tr th:only-of-type {\n",
              "        vertical-align: middle;\n",
              "    }\n",
              "\n",
              "    .dataframe tbody tr th {\n",
              "        vertical-align: top;\n",
              "    }\n",
              "\n",
              "    .dataframe thead th {\n",
              "        text-align: right;\n",
              "    }\n",
              "</style>\n",
              "<table border=\"1\" class=\"dataframe\">\n",
              "  <thead>\n",
              "    <tr style=\"text-align: right;\">\n",
              "      <th></th>\n",
              "      <th>ID_PACIENTE</th>\n",
              "      <th>DT_COLETA</th>\n",
              "      <th>DE_DHL</th>\n",
              "    </tr>\n",
              "  </thead>\n",
              "  <tbody>\n",
              "    <tr>\n",
              "      <th>3</th>\n",
              "      <td>3487791F44C34B421C932DC8616A8437</td>\n",
              "      <td>2020-05-14</td>\n",
              "      <td>530</td>\n",
              "    </tr>\n",
              "    <tr>\n",
              "      <th>33</th>\n",
              "      <td>3487791F44C34B421C932DC8616A8437</td>\n",
              "      <td>2020-05-04</td>\n",
              "      <td>364</td>\n",
              "    </tr>\n",
              "    <tr>\n",
              "      <th>123</th>\n",
              "      <td>3487791F44C34B421C932DC8616A8437</td>\n",
              "      <td>2020-05-08</td>\n",
              "      <td>347</td>\n",
              "    </tr>\n",
              "    <tr>\n",
              "      <th>187</th>\n",
              "      <td>B8A474D172DDB5BAD11F088BDA20BE96</td>\n",
              "      <td>2020-08-08</td>\n",
              "      <td>651</td>\n",
              "    </tr>\n",
              "    <tr>\n",
              "      <th>300</th>\n",
              "      <td>B8A474D172DDB5BAD11F088BDA20BE96</td>\n",
              "      <td>2020-08-09</td>\n",
              "      <td>645</td>\n",
              "    </tr>\n",
              "    <tr>\n",
              "      <th>318</th>\n",
              "      <td>B8A474D172DDB5BAD11F088BDA20BE96</td>\n",
              "      <td>2020-08-10</td>\n",
              "      <td>540</td>\n",
              "    </tr>\n",
              "    <tr>\n",
              "      <th>362</th>\n",
              "      <td>B9697B4994DF6367EDB722F1EC4AB423</td>\n",
              "      <td>2020-05-18</td>\n",
              "      <td>387</td>\n",
              "    </tr>\n",
              "    <tr>\n",
              "      <th>420</th>\n",
              "      <td>D1C4E29D126CA8B4359827903CB222AC</td>\n",
              "      <td>2020-03-30</td>\n",
              "      <td>438</td>\n",
              "    </tr>\n",
              "    <tr>\n",
              "      <th>466</th>\n",
              "      <td>EA3D530A51086CEFC8C6DFAEC53D00F2</td>\n",
              "      <td>2020-03-28</td>\n",
              "      <td>566</td>\n",
              "    </tr>\n",
              "    <tr>\n",
              "      <th>570</th>\n",
              "      <td>EA3D530A51086CEFC8C6DFAEC53D00F2</td>\n",
              "      <td>2020-03-27</td>\n",
              "      <td>664</td>\n",
              "    </tr>\n",
              "  </tbody>\n",
              "</table>\n",
              "</div>"
            ],
            "text/plain": [
              "                          ID_PACIENTE   DT_COLETA  DE_DHL\n",
              "3    3487791F44C34B421C932DC8616A8437  2020-05-14     530\n",
              "33   3487791F44C34B421C932DC8616A8437  2020-05-04     364\n",
              "123  3487791F44C34B421C932DC8616A8437  2020-05-08     347\n",
              "187  B8A474D172DDB5BAD11F088BDA20BE96  2020-08-08     651\n",
              "300  B8A474D172DDB5BAD11F088BDA20BE96  2020-08-09     645\n",
              "318  B8A474D172DDB5BAD11F088BDA20BE96  2020-08-10     540\n",
              "362  B9697B4994DF6367EDB722F1EC4AB423  2020-05-18     387\n",
              "420  D1C4E29D126CA8B4359827903CB222AC  2020-03-30     438\n",
              "466  EA3D530A51086CEFC8C6DFAEC53D00F2  2020-03-28     566\n",
              "570  EA3D530A51086CEFC8C6DFAEC53D00F2  2020-03-27     664"
            ]
          },
          "metadata": {
            "tags": []
          },
          "execution_count": 77
        }
      ]
    },
    {
      "cell_type": "code",
      "metadata": {
        "id": "6I-_nWAPvzwv",
        "outputId": "2cd695b1-f17f-4623-d153-2a1ef0031738",
        "colab": {
          "base_uri": "https://localhost:8080/",
          "height": 0
        }
      },
      "source": [
        "# Verificando dados faltantes\n",
        "dhl.info()"
      ],
      "execution_count": 78,
      "outputs": [
        {
          "output_type": "stream",
          "text": [
            "<class 'pandas.core.frame.DataFrame'>\n",
            "Int64Index: 1663 entries, 3 to 259396\n",
            "Data columns (total 3 columns):\n",
            " #   Column       Non-Null Count  Dtype \n",
            "---  ------       --------------  ----- \n",
            " 0   ID_PACIENTE  1663 non-null   object\n",
            " 1   DT_COLETA    1663 non-null   object\n",
            " 2   DE_DHL       1663 non-null   int64 \n",
            "dtypes: int64(1), object(2)\n",
            "memory usage: 52.0+ KB\n"
          ],
          "name": "stdout"
        }
      ]
    },
    {
      "cell_type": "markdown",
      "metadata": {
        "id": "8x7SOIY6uH75"
      },
      "source": [
        "### **3.15) Analisando Dimeros D**"
      ]
    },
    {
      "cell_type": "code",
      "metadata": {
        "id": "PVvTiPA5qfeg",
        "outputId": "1c53c50d-9df7-4adb-d398-8b9efbcab44e",
        "colab": {
          "base_uri": "https://localhost:8080/",
          "height": 0
        }
      },
      "source": [
        "# Agora que sabemos a combinação de analitos e exames que procuramos, precisamos entender os tipos de resultado\n",
        "# obtidos para cada uma das features analisadas nos exames:\n",
        "#\n",
        "# DE_ANALITO | DE_EXAME\n",
        "#\n",
        "# Leucócitos | Hemograma\n",
        "# Hemoglobina | Hemograma\n",
        "# Plaquetas | Hemograma\n",
        "# Neutrófilos (%) | Hemograma\n",
        "# Neutrófilos | Hemograma\n",
        "# Linfócitos (%) | Hemograma \n",
        "# Linfócitos | Hemograma \n",
        "# Proteína C-Reativa | Proteína C Reativa, plasma\n",
        "# Bilirrubina Total | Bilirrubinas Total E Fracoes\n",
        "# Uréia | Uréia \n",
        "# Creatinina | Creatinina \n",
        "# DHL | Desidrogenase Lática (DHL/L)\n",
        "# Dimeros D, quant | D. Dimeros(Dimeros De Fibrina)\n",
        "#\n",
        "# Vamos analisar os resultados para cada conjunto de analitos e exames individualmente\n",
        "sel = (data_exames_HSL['DE_ANALITO'] == 'Dimeros D, quant') & (data_exames_HSL['DE_EXAME'] == 'D. Dimeros(Dimeros De Fibrina)')\n",
        "print('A quantidade de exames deste tipo realizados é de: {}'.format(data_exames_HSL[sel].shape[0]))"
      ],
      "execution_count": 79,
      "outputs": [
        {
          "output_type": "stream",
          "text": [
            "A quantidade de exames deste tipo realizados é de: 2475\n"
          ],
          "name": "stdout"
        }
      ]
    },
    {
      "cell_type": "code",
      "metadata": {
        "id": "LVaVwZzXwEAz",
        "outputId": "9416d192-cedb-4fac-b510-020bff947817",
        "colab": {
          "base_uri": "https://localhost:8080/",
          "height": 0
        }
      },
      "source": [
        "# Salvando os resultados deste tipo de exame e analito em um dataframe. \n",
        "# Excluímos as colunas que não serão necessárias para o projeto e renomeamos a\n",
        "# coluna 'DE_RESULTADO' para o nome do 'ANALITO' analisado\n",
        "dimeros_d = data_exames_HSL[sel]\n",
        "dimeros_d.drop(['ID_ATENDIMENTO', 'DE_ORIGEM', 'DE_EXAME', 'DE_ANALITO', 'CD_UNIDADE', 'DE_VALOR_REFERENCIA'], axis=1, inplace=True)\n",
        "dimeros_d.rename(columns={'DE_RESULTADO':'DE_DIMEROS_D'}, inplace=True)\n",
        "dimeros_d.head(5)"
      ],
      "execution_count": 80,
      "outputs": [
        {
          "output_type": "stream",
          "text": [
            "/usr/local/lib/python3.6/dist-packages/pandas/core/frame.py:4169: SettingWithCopyWarning: \n",
            "A value is trying to be set on a copy of a slice from a DataFrame\n",
            "\n",
            "See the caveats in the documentation: https://pandas.pydata.org/pandas-docs/stable/user_guide/indexing.html#returning-a-view-versus-a-copy\n",
            "  errors=errors,\n",
            "/usr/local/lib/python3.6/dist-packages/pandas/core/frame.py:4303: SettingWithCopyWarning: \n",
            "A value is trying to be set on a copy of a slice from a DataFrame\n",
            "\n",
            "See the caveats in the documentation: https://pandas.pydata.org/pandas-docs/stable/user_guide/indexing.html#returning-a-view-versus-a-copy\n",
            "  errors=errors,\n"
          ],
          "name": "stderr"
        },
        {
          "output_type": "execute_result",
          "data": {
            "text/html": [
              "<div>\n",
              "<style scoped>\n",
              "    .dataframe tbody tr th:only-of-type {\n",
              "        vertical-align: middle;\n",
              "    }\n",
              "\n",
              "    .dataframe tbody tr th {\n",
              "        vertical-align: top;\n",
              "    }\n",
              "\n",
              "    .dataframe thead th {\n",
              "        text-align: right;\n",
              "    }\n",
              "</style>\n",
              "<table border=\"1\" class=\"dataframe\">\n",
              "  <thead>\n",
              "    <tr style=\"text-align: right;\">\n",
              "      <th></th>\n",
              "      <th>ID_PACIENTE</th>\n",
              "      <th>DT_COLETA</th>\n",
              "      <th>DE_DIMEROS_D</th>\n",
              "    </tr>\n",
              "  </thead>\n",
              "  <tbody>\n",
              "    <tr>\n",
              "      <th>7</th>\n",
              "      <td>3487791F44C34B421C932DC8616A8437</td>\n",
              "      <td>2020-05-14</td>\n",
              "      <td>256</td>\n",
              "    </tr>\n",
              "    <tr>\n",
              "      <th>30</th>\n",
              "      <td>3487791F44C34B421C932DC8616A8437</td>\n",
              "      <td>2020-05-04</td>\n",
              "      <td>248</td>\n",
              "    </tr>\n",
              "    <tr>\n",
              "      <th>118</th>\n",
              "      <td>3487791F44C34B421C932DC8616A8437</td>\n",
              "      <td>2020-05-25</td>\n",
              "      <td>inferior a 215</td>\n",
              "    </tr>\n",
              "    <tr>\n",
              "      <th>125</th>\n",
              "      <td>3487791F44C34B421C932DC8616A8437</td>\n",
              "      <td>2020-05-08</td>\n",
              "      <td>296</td>\n",
              "    </tr>\n",
              "    <tr>\n",
              "      <th>174</th>\n",
              "      <td>B8A474D172DDB5BAD11F088BDA20BE96</td>\n",
              "      <td>2020-08-08</td>\n",
              "      <td>1406</td>\n",
              "    </tr>\n",
              "  </tbody>\n",
              "</table>\n",
              "</div>"
            ],
            "text/plain": [
              "                          ID_PACIENTE   DT_COLETA    DE_DIMEROS_D\n",
              "7    3487791F44C34B421C932DC8616A8437  2020-05-14             256\n",
              "30   3487791F44C34B421C932DC8616A8437  2020-05-04             248\n",
              "118  3487791F44C34B421C932DC8616A8437  2020-05-25  inferior a 215\n",
              "125  3487791F44C34B421C932DC8616A8437  2020-05-08             296\n",
              "174  B8A474D172DDB5BAD11F088BDA20BE96  2020-08-08            1406"
            ]
          },
          "metadata": {
            "tags": []
          },
          "execution_count": 80
        }
      ]
    },
    {
      "cell_type": "code",
      "metadata": {
        "id": "m_K9UgQQf0g9",
        "outputId": "32d6cfbe-436d-437f-da01-87607fa2ae46",
        "colab": {
          "base_uri": "https://localhost:8080/",
          "height": 0
        }
      },
      "source": [
        "# Vamos converter os valores da coluna para valores numéricos, já que os resultados dos exames estão sendo\n",
        "# dados por strings. Precisamos trocar o caracter que divide a parte decimal de ',' para '.' para efetuar a\n",
        "# operação. Valores não numéricos são substituidos por NaN (errors='coerce') e serão tratados mais adiante.\n",
        "dimeros_d['DE_DIMEROS_D'] = pd.to_numeric(dimeros_d['DE_DIMEROS_D'].str.replace(',','.'), errors='coerce')\n",
        "dimeros_d.head(10)"
      ],
      "execution_count": 81,
      "outputs": [
        {
          "output_type": "stream",
          "text": [
            "/usr/local/lib/python3.6/dist-packages/ipykernel_launcher.py:4: SettingWithCopyWarning: \n",
            "A value is trying to be set on a copy of a slice from a DataFrame.\n",
            "Try using .loc[row_indexer,col_indexer] = value instead\n",
            "\n",
            "See the caveats in the documentation: https://pandas.pydata.org/pandas-docs/stable/user_guide/indexing.html#returning-a-view-versus-a-copy\n",
            "  after removing the cwd from sys.path.\n"
          ],
          "name": "stderr"
        },
        {
          "output_type": "execute_result",
          "data": {
            "text/html": [
              "<div>\n",
              "<style scoped>\n",
              "    .dataframe tbody tr th:only-of-type {\n",
              "        vertical-align: middle;\n",
              "    }\n",
              "\n",
              "    .dataframe tbody tr th {\n",
              "        vertical-align: top;\n",
              "    }\n",
              "\n",
              "    .dataframe thead th {\n",
              "        text-align: right;\n",
              "    }\n",
              "</style>\n",
              "<table border=\"1\" class=\"dataframe\">\n",
              "  <thead>\n",
              "    <tr style=\"text-align: right;\">\n",
              "      <th></th>\n",
              "      <th>ID_PACIENTE</th>\n",
              "      <th>DT_COLETA</th>\n",
              "      <th>DE_DIMEROS_D</th>\n",
              "    </tr>\n",
              "  </thead>\n",
              "  <tbody>\n",
              "    <tr>\n",
              "      <th>7</th>\n",
              "      <td>3487791F44C34B421C932DC8616A8437</td>\n",
              "      <td>2020-05-14</td>\n",
              "      <td>256.0</td>\n",
              "    </tr>\n",
              "    <tr>\n",
              "      <th>30</th>\n",
              "      <td>3487791F44C34B421C932DC8616A8437</td>\n",
              "      <td>2020-05-04</td>\n",
              "      <td>248.0</td>\n",
              "    </tr>\n",
              "    <tr>\n",
              "      <th>118</th>\n",
              "      <td>3487791F44C34B421C932DC8616A8437</td>\n",
              "      <td>2020-05-25</td>\n",
              "      <td>NaN</td>\n",
              "    </tr>\n",
              "    <tr>\n",
              "      <th>125</th>\n",
              "      <td>3487791F44C34B421C932DC8616A8437</td>\n",
              "      <td>2020-05-08</td>\n",
              "      <td>296.0</td>\n",
              "    </tr>\n",
              "    <tr>\n",
              "      <th>174</th>\n",
              "      <td>B8A474D172DDB5BAD11F088BDA20BE96</td>\n",
              "      <td>2020-08-08</td>\n",
              "      <td>1406.0</td>\n",
              "    </tr>\n",
              "    <tr>\n",
              "      <th>306</th>\n",
              "      <td>B8A474D172DDB5BAD11F088BDA20BE96</td>\n",
              "      <td>2020-08-09</td>\n",
              "      <td>1363.0</td>\n",
              "    </tr>\n",
              "    <tr>\n",
              "      <th>346</th>\n",
              "      <td>B8A474D172DDB5BAD11F088BDA20BE96</td>\n",
              "      <td>2020-08-10</td>\n",
              "      <td>1003.0</td>\n",
              "    </tr>\n",
              "    <tr>\n",
              "      <th>463</th>\n",
              "      <td>D1C4E29D126CA8B4359827903CB222AC</td>\n",
              "      <td>2020-07-14</td>\n",
              "      <td>256.0</td>\n",
              "    </tr>\n",
              "    <tr>\n",
              "      <th>468</th>\n",
              "      <td>EA3D530A51086CEFC8C6DFAEC53D00F2</td>\n",
              "      <td>2020-03-28</td>\n",
              "      <td>331.0</td>\n",
              "    </tr>\n",
              "    <tr>\n",
              "      <th>503</th>\n",
              "      <td>EA3D530A51086CEFC8C6DFAEC53D00F2</td>\n",
              "      <td>2020-03-29</td>\n",
              "      <td>343.0</td>\n",
              "    </tr>\n",
              "  </tbody>\n",
              "</table>\n",
              "</div>"
            ],
            "text/plain": [
              "                          ID_PACIENTE   DT_COLETA  DE_DIMEROS_D\n",
              "7    3487791F44C34B421C932DC8616A8437  2020-05-14         256.0\n",
              "30   3487791F44C34B421C932DC8616A8437  2020-05-04         248.0\n",
              "118  3487791F44C34B421C932DC8616A8437  2020-05-25           NaN\n",
              "125  3487791F44C34B421C932DC8616A8437  2020-05-08         296.0\n",
              "174  B8A474D172DDB5BAD11F088BDA20BE96  2020-08-08        1406.0\n",
              "306  B8A474D172DDB5BAD11F088BDA20BE96  2020-08-09        1363.0\n",
              "346  B8A474D172DDB5BAD11F088BDA20BE96  2020-08-10        1003.0\n",
              "463  D1C4E29D126CA8B4359827903CB222AC  2020-07-14         256.0\n",
              "468  EA3D530A51086CEFC8C6DFAEC53D00F2  2020-03-28         331.0\n",
              "503  EA3D530A51086CEFC8C6DFAEC53D00F2  2020-03-29         343.0"
            ]
          },
          "metadata": {
            "tags": []
          },
          "execution_count": 81
        }
      ]
    },
    {
      "cell_type": "code",
      "metadata": {
        "id": "mAI1cBBCwEA3",
        "outputId": "8558d084-787a-40f3-e0b3-44afdc82dfd4",
        "colab": {
          "base_uri": "https://localhost:8080/",
          "height": 0
        }
      },
      "source": [
        "# Verificando dados faltantes\n",
        "dimeros_d.info()"
      ],
      "execution_count": 82,
      "outputs": [
        {
          "output_type": "stream",
          "text": [
            "<class 'pandas.core.frame.DataFrame'>\n",
            "Int64Index: 2475 entries, 7 to 259434\n",
            "Data columns (total 3 columns):\n",
            " #   Column        Non-Null Count  Dtype  \n",
            "---  ------        --------------  -----  \n",
            " 0   ID_PACIENTE   2475 non-null   object \n",
            " 1   DT_COLETA     2475 non-null   object \n",
            " 2   DE_DIMEROS_D  2325 non-null   float64\n",
            "dtypes: float64(1), object(2)\n",
            "memory usage: 77.3+ KB\n"
          ],
          "name": "stdout"
        }
      ]
    },
    {
      "cell_type": "code",
      "metadata": {
        "id": "9pZrI5BCg4gO",
        "outputId": "c7247004-9156-4ee7-d456-c003fd7bfde7",
        "colab": {
          "base_uri": "https://localhost:8080/",
          "height": 0
        }
      },
      "source": [
        "# Temos dados que não representam valores numéricos (NaN). Vamos substituir esses dados pela \n",
        "# média dos demais dados da coluna, mesma estratégia utilizada em (Bao, 2020):\n",
        "dimeros_d.fillna(dimeros_d.mean(), inplace=True)\n",
        "dimeros_d.head(10)"
      ],
      "execution_count": 83,
      "outputs": [
        {
          "output_type": "stream",
          "text": [
            "/usr/local/lib/python3.6/dist-packages/pandas/core/series.py:4523: SettingWithCopyWarning: \n",
            "A value is trying to be set on a copy of a slice from a DataFrame\n",
            "\n",
            "See the caveats in the documentation: https://pandas.pydata.org/pandas-docs/stable/user_guide/indexing.html#returning-a-view-versus-a-copy\n",
            "  downcast=downcast,\n"
          ],
          "name": "stderr"
        },
        {
          "output_type": "execute_result",
          "data": {
            "text/html": [
              "<div>\n",
              "<style scoped>\n",
              "    .dataframe tbody tr th:only-of-type {\n",
              "        vertical-align: middle;\n",
              "    }\n",
              "\n",
              "    .dataframe tbody tr th {\n",
              "        vertical-align: top;\n",
              "    }\n",
              "\n",
              "    .dataframe thead th {\n",
              "        text-align: right;\n",
              "    }\n",
              "</style>\n",
              "<table border=\"1\" class=\"dataframe\">\n",
              "  <thead>\n",
              "    <tr style=\"text-align: right;\">\n",
              "      <th></th>\n",
              "      <th>ID_PACIENTE</th>\n",
              "      <th>DT_COLETA</th>\n",
              "      <th>DE_DIMEROS_D</th>\n",
              "    </tr>\n",
              "  </thead>\n",
              "  <tbody>\n",
              "    <tr>\n",
              "      <th>7</th>\n",
              "      <td>3487791F44C34B421C932DC8616A8437</td>\n",
              "      <td>2020-05-14</td>\n",
              "      <td>256.000000</td>\n",
              "    </tr>\n",
              "    <tr>\n",
              "      <th>30</th>\n",
              "      <td>3487791F44C34B421C932DC8616A8437</td>\n",
              "      <td>2020-05-04</td>\n",
              "      <td>248.000000</td>\n",
              "    </tr>\n",
              "    <tr>\n",
              "      <th>118</th>\n",
              "      <td>3487791F44C34B421C932DC8616A8437</td>\n",
              "      <td>2020-05-25</td>\n",
              "      <td>1437.374194</td>\n",
              "    </tr>\n",
              "    <tr>\n",
              "      <th>125</th>\n",
              "      <td>3487791F44C34B421C932DC8616A8437</td>\n",
              "      <td>2020-05-08</td>\n",
              "      <td>296.000000</td>\n",
              "    </tr>\n",
              "    <tr>\n",
              "      <th>174</th>\n",
              "      <td>B8A474D172DDB5BAD11F088BDA20BE96</td>\n",
              "      <td>2020-08-08</td>\n",
              "      <td>1406.000000</td>\n",
              "    </tr>\n",
              "    <tr>\n",
              "      <th>306</th>\n",
              "      <td>B8A474D172DDB5BAD11F088BDA20BE96</td>\n",
              "      <td>2020-08-09</td>\n",
              "      <td>1363.000000</td>\n",
              "    </tr>\n",
              "    <tr>\n",
              "      <th>346</th>\n",
              "      <td>B8A474D172DDB5BAD11F088BDA20BE96</td>\n",
              "      <td>2020-08-10</td>\n",
              "      <td>1003.000000</td>\n",
              "    </tr>\n",
              "    <tr>\n",
              "      <th>463</th>\n",
              "      <td>D1C4E29D126CA8B4359827903CB222AC</td>\n",
              "      <td>2020-07-14</td>\n",
              "      <td>256.000000</td>\n",
              "    </tr>\n",
              "    <tr>\n",
              "      <th>468</th>\n",
              "      <td>EA3D530A51086CEFC8C6DFAEC53D00F2</td>\n",
              "      <td>2020-03-28</td>\n",
              "      <td>331.000000</td>\n",
              "    </tr>\n",
              "    <tr>\n",
              "      <th>503</th>\n",
              "      <td>EA3D530A51086CEFC8C6DFAEC53D00F2</td>\n",
              "      <td>2020-03-29</td>\n",
              "      <td>343.000000</td>\n",
              "    </tr>\n",
              "  </tbody>\n",
              "</table>\n",
              "</div>"
            ],
            "text/plain": [
              "                          ID_PACIENTE   DT_COLETA  DE_DIMEROS_D\n",
              "7    3487791F44C34B421C932DC8616A8437  2020-05-14    256.000000\n",
              "30   3487791F44C34B421C932DC8616A8437  2020-05-04    248.000000\n",
              "118  3487791F44C34B421C932DC8616A8437  2020-05-25   1437.374194\n",
              "125  3487791F44C34B421C932DC8616A8437  2020-05-08    296.000000\n",
              "174  B8A474D172DDB5BAD11F088BDA20BE96  2020-08-08   1406.000000\n",
              "306  B8A474D172DDB5BAD11F088BDA20BE96  2020-08-09   1363.000000\n",
              "346  B8A474D172DDB5BAD11F088BDA20BE96  2020-08-10   1003.000000\n",
              "463  D1C4E29D126CA8B4359827903CB222AC  2020-07-14    256.000000\n",
              "468  EA3D530A51086CEFC8C6DFAEC53D00F2  2020-03-28    331.000000\n",
              "503  EA3D530A51086CEFC8C6DFAEC53D00F2  2020-03-29    343.000000"
            ]
          },
          "metadata": {
            "tags": []
          },
          "execution_count": 83
        }
      ]
    },
    {
      "cell_type": "code",
      "metadata": {
        "id": "8tHVEEO1hQfm",
        "outputId": "d9d85bd6-e4ad-4d20-913b-fca363bec588",
        "colab": {
          "base_uri": "https://localhost:8080/",
          "height": 0
        }
      },
      "source": [
        "# Verificando dados faltantes\n",
        "dimeros_d.info()"
      ],
      "execution_count": 84,
      "outputs": [
        {
          "output_type": "stream",
          "text": [
            "<class 'pandas.core.frame.DataFrame'>\n",
            "Int64Index: 2475 entries, 7 to 259434\n",
            "Data columns (total 3 columns):\n",
            " #   Column        Non-Null Count  Dtype  \n",
            "---  ------        --------------  -----  \n",
            " 0   ID_PACIENTE   2475 non-null   object \n",
            " 1   DT_COLETA     2475 non-null   object \n",
            " 2   DE_DIMEROS_D  2475 non-null   float64\n",
            "dtypes: float64(1), object(2)\n",
            "memory usage: 77.3+ KB\n"
          ],
          "name": "stdout"
        }
      ]
    },
    {
      "cell_type": "markdown",
      "metadata": {
        "id": "8Srdk21iuRhP"
      },
      "source": [
        "### **3.16) Analisando os exames para COVID-19**"
      ]
    },
    {
      "cell_type": "code",
      "metadata": {
        "id": "w4qWhg9JslRt",
        "outputId": "67b42975-a620-4fc9-e903-aedc1c44679b",
        "colab": {
          "base_uri": "https://localhost:8080/",
          "height": 0
        }
      },
      "source": [
        "# Além dos dados específicos dos exames, queremos saber os pacientes que fizeram o exame para COVID. \n",
        "# Os exames disponíveis para detecção de COVID neste conjunto de dados são:\n",
        "#\n",
        "# 'COVID-19-Sorologia IgM e IgG por quimiluminescência, soro'\n",
        "# 'COVID-19-PCR para SARS-COV-2, Vários Materiais (Fleury)'\n",
        "# 'COVID-19-Teste Rápido (IgM e IgG), soro'\n",
        "# 'Detecção de Coronavírus (NCoV-2019) POR PCR (Anatomia Patológica)'\n",
        "# 'Sorologia - Coronavírus, IgG'\n",
        "# 'Sorologia - Coronavírus, IgA'\n",
        "#\n",
        "# Vamos primeiro analisar individualmente quantos exames de COVID-19 de cada tipo foram realizados\n",
        "exames_covid_soro = (data_exames_HSL['DE_EXAME'] == 'COVID-19-Sorologia IgM e IgG por quimiluminescência, soro')\n",
        "exames_covid_pcr = (data_exames_HSL['DE_EXAME'] == 'COVID-19-PCR para SARS-COV-2, Vários Materiais (Fleury)')\n",
        "exames_covid_rapido = (data_exames_HSL['DE_EXAME'] == 'COVID-19-Teste Rápido (IgM e IgG), soro')\n",
        "exames_corona_pcr = (data_exames_HSL['DE_EXAME'] == 'Detecção de Coronavírus (NCoV-2019) POR PCR (Anatomia Patológica)')\n",
        "exames_corona_igg = (data_exames_HSL['DE_EXAME'] == 'Sorologia - Coronavírus, IgG')\n",
        "exames_corona_iga = (data_exames_HSL['DE_EXAME'] == 'Sorologia - Coronavírus, IgA')\n",
        "\n",
        "# Exibindo o número de exames de cada tipo realizados\n",
        "print('No total foram realizados {} testes do tipo COVID-19-Sorologia IgM e IgG por quimiluminescência, soro'.format(data_exames_HSL[exames_covid_soro].shape[0]))\n",
        "print('No total foram realizados {} testes do tipo COVID-19-PCR para SARS-COV-2, Vários Materiais (Fleury)'.format(data_exames_HSL[exames_covid_pcr].shape[0]))\n",
        "print('No total foram realizados {} testes do tipo COVID-19-Teste Rápido (IgM e IgG), soro'.format(data_exames_HSL[exames_covid_rapido].shape[0]))\n",
        "print('No total foram realizados {} testes do tipo COVID-19-PCR (Anatomia Patológica)'.format(data_exames_HSL[exames_corona_pcr].shape[0]))\n",
        "print('No total foram realizados {} testes do tipo COVID-19-Sorologia IgG'.format(data_exames_HSL[exames_corona_igg].shape[0]))\n",
        "print('No total foram realizados {} testes do tipo COVID-19-Sorologia IgA'.format(data_exames_HSL[exames_corona_iga].shape[0]))"
      ],
      "execution_count": 85,
      "outputs": [
        {
          "output_type": "stream",
          "text": [
            "No total foram realizados 402 testes do tipo COVID-19-Sorologia IgM e IgG por quimiluminescência, soro\n",
            "No total foram realizados 3070 testes do tipo COVID-19-PCR para SARS-COV-2, Vários Materiais (Fleury)\n",
            "No total foram realizados 95 testes do tipo COVID-19-Teste Rápido (IgM e IgG), soro\n",
            "No total foram realizados 492 testes do tipo COVID-19-PCR (Anatomia Patológica)\n",
            "No total foram realizados 86 testes do tipo COVID-19-Sorologia IgG\n",
            "No total foram realizados 66 testes do tipo COVID-19-Sorologia IgA\n"
          ],
          "name": "stdout"
        }
      ]
    },
    {
      "cell_type": "markdown",
      "metadata": {
        "id": "9P8pknqIjdEN"
      },
      "source": [
        "### **3.17) Análise dos testes sorológicos**"
      ]
    },
    {
      "cell_type": "markdown",
      "metadata": {
        "id": "TvNETvcXyj2Z"
      },
      "source": [
        "####**3.17.1) Sorologia IgM e IgG**"
      ]
    },
    {
      "cell_type": "markdown",
      "metadata": {
        "id": "QwC6buPJA279"
      },
      "source": [
        "#####**Anticorpos IgG, Quimiolumin.-Índice**"
      ]
    },
    {
      "cell_type": "code",
      "metadata": {
        "id": "JHNBUigzy5Ns",
        "outputId": "4aa74034-c4d6-4349-c3b7-7b00c6359880",
        "colab": {
          "base_uri": "https://localhost:8080/",
          "height": 0
        }
      },
      "source": [
        "# Vamos analisar quais os resultados de testes que temos no conjunto de dados, \n",
        "# quando analisamos os testes sorológicos para COVID-19.\n",
        "# Primeiro, vamos analisar os resultados do exame 'COVID-19-Sorologia IgM e IgG por quimiluminescência, soro'\n",
        "data_exames_HSL[exames_covid_soro]['DE_RESULTADO'].unique()"
      ],
      "execution_count": 86,
      "outputs": [
        {
          "output_type": "execute_result",
          "data": {
            "text/plain": [
              "array(['50,0', 'REAGENTE', '5,6', '42,6', '1,8', '0,1', 'NÃO REAGENTE',\n",
              "       '0,8', 'Indeterminado',\n",
              "       'Ausência de anticorpos contra SARS-CoV-2 detectáveis nesta amostra, após análise em duas metodologias, Este perfil é compatível com ausência de infecção por este vírus, ou ausência de soroconversão no período decorrido entre a infecção e a coleta, Estudos demonstram que, sobretudo em pessoas que apresentaram quadro clínico leve ou não apresentaram sintomas, a soroconversão pode ocorrer mais tardiamente, em baixos níveis de anticorpos, ou mesmo não ocorrer, Desse modo, podem haver resultados negativos de sorologia mesmo em casos de doença anteriormente confirmada por PCR, Se persitir a hipótese diagnóstica, sugere-se seguimento sorológico em, no mínimo, 14 dias,',\n",
              "       '0,6', '0,5', '2,2', '1,4', '0,3', '144,0', '2,0',\n",
              "       'Detectados anticorpos da classe IgG contra SARS-CoV-2, Este perfil é compatível com infecção pregressa, Estudos demonstram que, sobretudo em pessoas que apresentaram quadro clínico leve ou não apresentaram sintomas, os níveis de anticorpos podem diminuir ao longo do tempo, podendo inclusive, se tornar indetectáveis (negativos), O papel destes anticorpos na proteção contra reinfecção não é completamente estabelecido,',\n",
              "       '5,1', '2,9', '0,4', '37,3', '51,7', '1,6', '1,7',\n",
              "       'superior a 100,0', '4,3', '34,5', '1,2', '45,7', '15,6', '2,5',\n",
              "       'Detectados anticorpos das classes IgM e IgG contra SARS-CoV-2, Este perfil sugere infecção recente, Estudos demonstram que, sobretudo em pessoas que apresentaram quadro clínico leve ou não apresentaram sintomas, os níveis de anticorpos podem diminuir ao longo do tempo, podendo inclusive, se tornar indetectáveis (negativos), O papel destes anticorpos na proteção contra reinfecção não é completamente estabelecido,',\n",
              "       'Amostra REAGENTE para IgM e IgG contra SARS-CoV-2,', '25,5',\n",
              "       '2,1', '0,7', '8,3', '1,3', '18,1', '142,0', '11,8', '0,9', '25,3',\n",
              "       '15,1', '1,0', '50,1', '24,0', '105,0', '28,4',\n",
              "       'Amostra REAGENTE para IgG contra SARS-CoV-2,', '19,3', '0,2',\n",
              "       '1,5',\n",
              "       'Detectados anticorpos da classe IgM contra SARS-CoV-2, em apenas uma das metodologias utilizadas, A possibilidade de falsa reatividade não pode ser descartada, Sugere-se seguimento sorológico em, no mínimo, 7 dias,',\n",
              "       '6,5', '2,3', '2,7', '18,8', '27,9', '13,8', '1,9',\n",
              "       'Detectados anticorpos da classe IgM contra SARS-CoV-2, Este perfil é compatível com soroconversão inicial ou produção de baixos níveis de anticorpos da classe IgG, Estudos demonstram que, sobretudo em pessoas que apresentaram quadro clínico leve ou não apresentaram sintomas, a soroconversão pode ocorrer mais tardiamente, em baixos níveis de anticorpos, ou mesmo não ocorrer, Sugere-se seguimento sorológico para avaliar a soroconversão de IgG em, no mínimo, 7 dias,',\n",
              "       'Amostra REAGENTE para IgM contra SARS-CoV-2,', '76,4', '4,1',\n",
              "       '11,2', '2,8', '6,6', '21,1', '130,0', '8,1', '47,2', '10,7',\n",
              "       '3,1', '55,4', '9,8', 'superior a 30,0', '79,6', '79,2', '9,2'],\n",
              "      dtype=object)"
            ]
          },
          "metadata": {
            "tags": []
          },
          "execution_count": 86
        }
      ]
    },
    {
      "cell_type": "code",
      "metadata": {
        "id": "hlk1nitcz_ql",
        "outputId": "efcfbae4-fa4f-43c9-e7aa-782349c61b0c",
        "colab": {
          "base_uri": "https://localhost:8080/",
          "height": 0
        }
      },
      "source": [
        "# Temos resultados tanto numéricos quanto categóricos, que descrevem se foi detectado COVID ou não no paciente.\n",
        "# Nesse caso, precisamos analisar os analitos separadamente, caracterizando para cada um se o paciente teve ou\n",
        "# não COVID. Essa análise mais detalhada é importante, pois a princípio, os testes sorológicos são mais confiáveis\n",
        "# do que os testes PCR e os testes rápidos.\n",
        "data_exames_HSL[exames_covid_soro]['DE_ANALITO'].unique()"
      ],
      "execution_count": 87,
      "outputs": [
        {
          "output_type": "execute_result",
          "data": {
            "text/plain": [
              "array(['Covid 19, Anticorpos IgG, Quimiolumin.-Índice',\n",
              "       'Covid 19, Anticorpos IgG, Quimioluminescência',\n",
              "       'Covid 19, Anticorpos IgM, Quimiolumin.-Índice',\n",
              "       'Covid 19, Anticorpos IgM, Quimioluminescência',\n",
              "       'Covid 19, Anticorpos Totais, Eletroquim-Índic',\n",
              "       'Covid 19, Anticorpos Totais, Eletroquimiolumi',\n",
              "       'Covid 19, Sorologia - Interpretação',\n",
              "       'Covid 19, Sorologia - Conclusão'], dtype=object)"
            ]
          },
          "metadata": {
            "tags": []
          },
          "execution_count": 87
        }
      ]
    },
    {
      "cell_type": "code",
      "metadata": {
        "id": "pkSPc5SG09UZ",
        "outputId": "ca5db46d-bba1-4fa1-dad0-77090e622214",
        "colab": {
          "base_uri": "https://localhost:8080/",
          "height": 0
        }
      },
      "source": [
        "# Para cada analito, precisamos saber o valor de referência para identificar se os resultados indicam ou não\n",
        "# presença de COVID.\n",
        "analito = (data_exames_HSL['DE_EXAME'] == 'COVID-19-Sorologia IgM e IgG por quimiluminescência, soro') & (data_exames_HSL['DE_ANALITO'] == 'Covid 19, Anticorpos IgG, Quimiolumin.-Índice')\n",
        "data_exames_HSL[analito]['DE_VALOR_REFERENCIA'].unique()"
      ],
      "execution_count": 88,
      "outputs": [
        {
          "output_type": "execute_result",
          "data": {
            "text/plain": [
              "array(['inferior a 0,8', 'inferior a 0,9'], dtype=object)"
            ]
          },
          "metadata": {
            "tags": []
          },
          "execution_count": 88
        }
      ]
    },
    {
      "cell_type": "code",
      "metadata": {
        "id": "gQy1kyML8QFK",
        "outputId": "70761d3d-a0d3-42ce-b17c-dfca20cb789e",
        "colab": {
          "base_uri": "https://localhost:8080/",
          "height": 0
        }
      },
      "source": [
        "# Obtendo os valores numéricos referentes ao analito atual\n",
        "data_exames_HSL[analito]['DE_RESULTADO'].unique()"
      ],
      "execution_count": 89,
      "outputs": [
        {
          "output_type": "execute_result",
          "data": {
            "text/plain": [
              "array(['50,0', '42,6', '0,1', '2,2', '2,0', '5,1', '0,3', '2,9', '37,3',\n",
              "       '51,7', '0,5', 'superior a 100,0', '1,8', '15,6', '25,5', '8,3',\n",
              "       '18,1', '11,8', '1,4', '15,1', '0,7', '50,1', '24,0', '28,4',\n",
              "       '19,3', '0,2', '2,3', '27,9', '0,4', '76,4', '11,2', '6,6', '0,6',\n",
              "       '21,1', '8,1', '1,0', '10,7', 'superior a 30,0', '79,6', '1,5'],\n",
              "      dtype=object)"
            ]
          },
          "metadata": {
            "tags": []
          },
          "execution_count": 89
        }
      ]
    },
    {
      "cell_type": "code",
      "metadata": {
        "id": "BOwM0_lL3dps",
        "outputId": "d5fceca5-4630-4a6c-8000-0e8ac0252c81",
        "colab": {
          "base_uri": "https://localhost:8080/",
          "height": 0
        }
      },
      "source": [
        "# Vamos adotar como padrão que:\n",
        "#\n",
        "# 0 => COVID não detectado no paciente\n",
        "# 1 => COVID detectado no paciente\n",
        "#\n",
        "# Para o caso do analito em questão, vamos considerar todos os valores inferiores a 0.9 como 0\n",
        "# e valores iguais ou superiores a 0.9 como 1 (com base nos valores de referência para o analito)\n",
        "resultados_map = {\n",
        "   '50,0' : 1, \n",
        "   '42,6' : 1, \n",
        "   '0,1' : 0, \n",
        "   '2,2' : 1, \n",
        "   '2,0' : 1, \n",
        "   '5,1' : 1, \n",
        "   '0,3' : 0, \n",
        "   '2,9' : 1, \n",
        "   '37,3' : 1,\n",
        "   '51,7' : 1, \n",
        "   '0,5' : 0, \n",
        "   'superior a 100,0' : 1, \n",
        "   '1,8' : 1, \n",
        "   '15,6' : 1, \n",
        "   '25,5' : 1, \n",
        "   '8,3' : 1,\n",
        "   '18,1' : 1, \n",
        "   '11,8' : 1, \n",
        "   '1,4' : 1, \n",
        "   '15,1' : 1, \n",
        "   '0,7' : 0, \n",
        "   '50,1' : 1, \n",
        "   '24,0' : 1,\n",
        "   '28,4' : 1,\n",
        "   '19,3' : 1, \n",
        "   '0,2' : 0, \n",
        "   '2,3' : 1, \n",
        "   '27,9' : 1, \n",
        "   '0,4' : 0, \n",
        "   '76,4' : 1, \n",
        "   '11,2' : 1, \n",
        "   '6,6' : 1, \n",
        "   '0,6' : 0,\n",
        "   '21,1' : 1, \n",
        "   '8,1' : 1, \n",
        "   '1,0' : 1, \n",
        "   '10,7' : 1, \n",
        "   'superior a 30,0' : 1, \n",
        "   '79,6' : 1, \n",
        "   '1,5' : 1 \n",
        "}\n",
        "\n",
        "exames_soro_1 = data_exames_HSL[analito]\n",
        "exames_soro_1['DE_RESULTADO'] = exames_soro_1['DE_RESULTADO'].map(resultados_map)\n",
        "exames_soro_1.drop(['DE_ORIGEM', 'DE_EXAME', 'DE_ANALITO', 'CD_UNIDADE', 'DE_VALOR_REFERENCIA'], axis=1, inplace=True)\n",
        "exames_soro_1.head(10)"
      ],
      "execution_count": 90,
      "outputs": [
        {
          "output_type": "stream",
          "text": [
            "/usr/local/lib/python3.6/dist-packages/ipykernel_launcher.py:52: SettingWithCopyWarning: \n",
            "A value is trying to be set on a copy of a slice from a DataFrame.\n",
            "Try using .loc[row_indexer,col_indexer] = value instead\n",
            "\n",
            "See the caveats in the documentation: https://pandas.pydata.org/pandas-docs/stable/user_guide/indexing.html#returning-a-view-versus-a-copy\n",
            "/usr/local/lib/python3.6/dist-packages/pandas/core/frame.py:4169: SettingWithCopyWarning: \n",
            "A value is trying to be set on a copy of a slice from a DataFrame\n",
            "\n",
            "See the caveats in the documentation: https://pandas.pydata.org/pandas-docs/stable/user_guide/indexing.html#returning-a-view-versus-a-copy\n",
            "  errors=errors,\n"
          ],
          "name": "stderr"
        },
        {
          "output_type": "execute_result",
          "data": {
            "text/html": [
              "<div>\n",
              "<style scoped>\n",
              "    .dataframe tbody tr th:only-of-type {\n",
              "        vertical-align: middle;\n",
              "    }\n",
              "\n",
              "    .dataframe tbody tr th {\n",
              "        vertical-align: top;\n",
              "    }\n",
              "\n",
              "    .dataframe thead th {\n",
              "        text-align: right;\n",
              "    }\n",
              "</style>\n",
              "<table border=\"1\" class=\"dataframe\">\n",
              "  <thead>\n",
              "    <tr style=\"text-align: right;\">\n",
              "      <th></th>\n",
              "      <th>ID_PACIENTE</th>\n",
              "      <th>ID_ATENDIMENTO</th>\n",
              "      <th>DT_COLETA</th>\n",
              "      <th>DE_RESULTADO</th>\n",
              "    </tr>\n",
              "  </thead>\n",
              "  <tbody>\n",
              "    <tr>\n",
              "      <th>90</th>\n",
              "      <td>3487791F44C34B421C932DC8616A8437</td>\n",
              "      <td>11676CFEEF6A4CDD49B0A74D3F3A85EC</td>\n",
              "      <td>2020-05-25</td>\n",
              "      <td>1</td>\n",
              "    </tr>\n",
              "    <tr>\n",
              "      <th>1217</th>\n",
              "      <td>F5B5BD59D98836D8AA2D8C27B01225AB</td>\n",
              "      <td>FBF3FC0FD4890AF6B6EBFE6BFC12EC0C</td>\n",
              "      <td>2020-06-07</td>\n",
              "      <td>1</td>\n",
              "    </tr>\n",
              "    <tr>\n",
              "      <th>2855</th>\n",
              "      <td>C3A3D083DBC1353FAB5F87282EE86633</td>\n",
              "      <td>6A9B541EE6A6510F2803E96E47EEB5DA</td>\n",
              "      <td>2020-07-23</td>\n",
              "      <td>0</td>\n",
              "    </tr>\n",
              "    <tr>\n",
              "      <th>2864</th>\n",
              "      <td>BEBA451E2C91A4D869D14EE790FE78FD</td>\n",
              "      <td>F00A8B071066A41020B80A1F2F590663</td>\n",
              "      <td>2020-05-31</td>\n",
              "      <td>0</td>\n",
              "    </tr>\n",
              "    <tr>\n",
              "      <th>6020</th>\n",
              "      <td>F99249272E611207DBEC7EE3CF81F0E5</td>\n",
              "      <td>69ED1FBA20A1B0755943B89F82104ED8</td>\n",
              "      <td>2020-06-04</td>\n",
              "      <td>0</td>\n",
              "    </tr>\n",
              "    <tr>\n",
              "      <th>8959</th>\n",
              "      <td>74D237DB6D34A5BB2A95A26CD9FD5CF9</td>\n",
              "      <td>4FCD5F94A21B633D76E728EE17C4E46C</td>\n",
              "      <td>2020-06-27</td>\n",
              "      <td>0</td>\n",
              "    </tr>\n",
              "    <tr>\n",
              "      <th>18267</th>\n",
              "      <td>AA1E0A1BBB04DBFB2D4FE21BDB45FB74</td>\n",
              "      <td>626B753CB67B893001127A521FED3960</td>\n",
              "      <td>2020-06-26</td>\n",
              "      <td>0</td>\n",
              "    </tr>\n",
              "    <tr>\n",
              "      <th>18275</th>\n",
              "      <td>AA1E0A1BBB04DBFB2D4FE21BDB45FB74</td>\n",
              "      <td>6D5114B9017440527D233D0DAE085F1F</td>\n",
              "      <td>2020-07-09</td>\n",
              "      <td>1</td>\n",
              "    </tr>\n",
              "    <tr>\n",
              "      <th>19139</th>\n",
              "      <td>F09A86430261ABE1D630EE7090B4BC37</td>\n",
              "      <td>D1C108AC67C734A94BD2DC8A35D7E9E0</td>\n",
              "      <td>2020-06-09</td>\n",
              "      <td>0</td>\n",
              "    </tr>\n",
              "    <tr>\n",
              "      <th>24203</th>\n",
              "      <td>C16902E84856371CFB33837851722042</td>\n",
              "      <td>66AF0EFC46FC52B87617914CE4780338</td>\n",
              "      <td>2020-06-03</td>\n",
              "      <td>0</td>\n",
              "    </tr>\n",
              "  </tbody>\n",
              "</table>\n",
              "</div>"
            ],
            "text/plain": [
              "                            ID_PACIENTE  ... DE_RESULTADO\n",
              "90     3487791F44C34B421C932DC8616A8437  ...            1\n",
              "1217   F5B5BD59D98836D8AA2D8C27B01225AB  ...            1\n",
              "2855   C3A3D083DBC1353FAB5F87282EE86633  ...            0\n",
              "2864   BEBA451E2C91A4D869D14EE790FE78FD  ...            0\n",
              "6020   F99249272E611207DBEC7EE3CF81F0E5  ...            0\n",
              "8959   74D237DB6D34A5BB2A95A26CD9FD5CF9  ...            0\n",
              "18267  AA1E0A1BBB04DBFB2D4FE21BDB45FB74  ...            0\n",
              "18275  AA1E0A1BBB04DBFB2D4FE21BDB45FB74  ...            1\n",
              "19139  F09A86430261ABE1D630EE7090B4BC37  ...            0\n",
              "24203  C16902E84856371CFB33837851722042  ...            0\n",
              "\n",
              "[10 rows x 4 columns]"
            ]
          },
          "metadata": {
            "tags": []
          },
          "execution_count": 90
        }
      ]
    },
    {
      "cell_type": "markdown",
      "metadata": {
        "id": "2RiTRiqgBHvc"
      },
      "source": [
        "##### **Anticorpos IgG, Quimioluminescência**\n"
      ]
    },
    {
      "cell_type": "code",
      "metadata": {
        "id": "UfVeV_VQS4z1",
        "outputId": "3636a1cb-dc4d-4088-d5b4-4b8116b416e2",
        "colab": {
          "base_uri": "https://localhost:8080/",
          "height": 0
        }
      },
      "source": [
        "# Para cada analito, precisamos saber o valor de referência para identificar se os resultados indicam ou não\n",
        "# presença de COVID.\n",
        "analito = (data_exames_HSL['DE_EXAME'] == 'COVID-19-Sorologia IgM e IgG por quimiluminescência, soro') & (data_exames_HSL['DE_ANALITO'] == 'Covid 19, Anticorpos IgG, Quimioluminescência')\n",
        "data_exames_HSL[analito]['DE_VALOR_REFERENCIA'].unique()"
      ],
      "execution_count": 91,
      "outputs": [
        {
          "output_type": "execute_result",
          "data": {
            "text/plain": [
              "array(['Não reagente'], dtype=object)"
            ]
          },
          "metadata": {
            "tags": []
          },
          "execution_count": 91
        }
      ]
    },
    {
      "cell_type": "code",
      "metadata": {
        "id": "Yhn27HQ8S4z4",
        "outputId": "1567ca69-3309-4a38-b458-86d4405e1c13",
        "colab": {
          "base_uri": "https://localhost:8080/",
          "height": 0
        }
      },
      "source": [
        "# Obtendo os valores numéricos referentes ao analito atual\n",
        "data_exames_HSL[analito]['DE_RESULTADO'].value_counts()"
      ],
      "execution_count": 92,
      "outputs": [
        {
          "output_type": "execute_result",
          "data": {
            "text/plain": [
              "NÃO REAGENTE     45\n",
              "REAGENTE         34\n",
              "Indeterminado     2\n",
              "Name: DE_RESULTADO, dtype: int64"
            ]
          },
          "metadata": {
            "tags": []
          },
          "execution_count": 92
        }
      ]
    },
    {
      "cell_type": "code",
      "metadata": {
        "id": "mkn4GoFuS4z6",
        "outputId": "e7a46e42-0d24-4ac9-c0e2-891f7b0fdb59",
        "colab": {
          "base_uri": "https://localhost:8080/",
          "height": 0
        }
      },
      "source": [
        "# Vamos adotar como padrão que:\n",
        "#\n",
        "# 0 => COVID não detectado no paciente\n",
        "# 1 => COVID detectado no paciente\n",
        "#\n",
        "# Neste caso, vamos descartar o valor 'Indeterminado'\n",
        "resultados_soro = ['REAGENTE', 'NÃO REAGENTE']\n",
        "sel_soro_2 = (data_exames_HSL['DE_EXAME'] == 'COVID-19-Sorologia IgM e IgG por quimiluminescência, soro') & (data_exames_HSL['DE_ANALITO'] == 'Covid 19, Anticorpos IgG, Quimioluminescência') & (data_exames_HSL['DE_RESULTADO'].isin(resultados_soro))\n",
        "exames_soro_2 = data_exames_HSL[sel_soro_2]\n",
        "\n",
        "# Agora sim, mapeamos os resultados\n",
        "resultados_map = {\n",
        "   'REAGENTE' : 1, \n",
        "   'NÃO REAGENTE' : 0\n",
        "}\n",
        "\n",
        "exames_soro_2['DE_RESULTADO'] = exames_soro_2['DE_RESULTADO'].map(resultados_map)\n",
        "exames_soro_2.drop(['DE_ORIGEM', 'DE_EXAME', 'DE_ANALITO', 'CD_UNIDADE', 'DE_VALOR_REFERENCIA'], axis=1, inplace=True)\n",
        "exames_soro_2.head(10)"
      ],
      "execution_count": 93,
      "outputs": [
        {
          "output_type": "stream",
          "text": [
            "/usr/local/lib/python3.6/dist-packages/ipykernel_launcher.py:17: SettingWithCopyWarning: \n",
            "A value is trying to be set on a copy of a slice from a DataFrame.\n",
            "Try using .loc[row_indexer,col_indexer] = value instead\n",
            "\n",
            "See the caveats in the documentation: https://pandas.pydata.org/pandas-docs/stable/user_guide/indexing.html#returning-a-view-versus-a-copy\n",
            "/usr/local/lib/python3.6/dist-packages/pandas/core/frame.py:4169: SettingWithCopyWarning: \n",
            "A value is trying to be set on a copy of a slice from a DataFrame\n",
            "\n",
            "See the caveats in the documentation: https://pandas.pydata.org/pandas-docs/stable/user_guide/indexing.html#returning-a-view-versus-a-copy\n",
            "  errors=errors,\n"
          ],
          "name": "stderr"
        },
        {
          "output_type": "execute_result",
          "data": {
            "text/html": [
              "<div>\n",
              "<style scoped>\n",
              "    .dataframe tbody tr th:only-of-type {\n",
              "        vertical-align: middle;\n",
              "    }\n",
              "\n",
              "    .dataframe tbody tr th {\n",
              "        vertical-align: top;\n",
              "    }\n",
              "\n",
              "    .dataframe thead th {\n",
              "        text-align: right;\n",
              "    }\n",
              "</style>\n",
              "<table border=\"1\" class=\"dataframe\">\n",
              "  <thead>\n",
              "    <tr style=\"text-align: right;\">\n",
              "      <th></th>\n",
              "      <th>ID_PACIENTE</th>\n",
              "      <th>ID_ATENDIMENTO</th>\n",
              "      <th>DT_COLETA</th>\n",
              "      <th>DE_RESULTADO</th>\n",
              "    </tr>\n",
              "  </thead>\n",
              "  <tbody>\n",
              "    <tr>\n",
              "      <th>91</th>\n",
              "      <td>3487791F44C34B421C932DC8616A8437</td>\n",
              "      <td>11676CFEEF6A4CDD49B0A74D3F3A85EC</td>\n",
              "      <td>2020-05-25</td>\n",
              "      <td>1</td>\n",
              "    </tr>\n",
              "    <tr>\n",
              "      <th>1218</th>\n",
              "      <td>F5B5BD59D98836D8AA2D8C27B01225AB</td>\n",
              "      <td>FBF3FC0FD4890AF6B6EBFE6BFC12EC0C</td>\n",
              "      <td>2020-06-07</td>\n",
              "      <td>1</td>\n",
              "    </tr>\n",
              "    <tr>\n",
              "      <th>2856</th>\n",
              "      <td>C3A3D083DBC1353FAB5F87282EE86633</td>\n",
              "      <td>6A9B541EE6A6510F2803E96E47EEB5DA</td>\n",
              "      <td>2020-07-23</td>\n",
              "      <td>0</td>\n",
              "    </tr>\n",
              "    <tr>\n",
              "      <th>2865</th>\n",
              "      <td>BEBA451E2C91A4D869D14EE790FE78FD</td>\n",
              "      <td>F00A8B071066A41020B80A1F2F590663</td>\n",
              "      <td>2020-05-31</td>\n",
              "      <td>0</td>\n",
              "    </tr>\n",
              "    <tr>\n",
              "      <th>6021</th>\n",
              "      <td>F99249272E611207DBEC7EE3CF81F0E5</td>\n",
              "      <td>69ED1FBA20A1B0755943B89F82104ED8</td>\n",
              "      <td>2020-06-04</td>\n",
              "      <td>0</td>\n",
              "    </tr>\n",
              "    <tr>\n",
              "      <th>8958</th>\n",
              "      <td>74D237DB6D34A5BB2A95A26CD9FD5CF9</td>\n",
              "      <td>4FCD5F94A21B633D76E728EE17C4E46C</td>\n",
              "      <td>2020-06-27</td>\n",
              "      <td>0</td>\n",
              "    </tr>\n",
              "    <tr>\n",
              "      <th>18268</th>\n",
              "      <td>AA1E0A1BBB04DBFB2D4FE21BDB45FB74</td>\n",
              "      <td>626B753CB67B893001127A521FED3960</td>\n",
              "      <td>2020-06-26</td>\n",
              "      <td>0</td>\n",
              "    </tr>\n",
              "    <tr>\n",
              "      <th>18276</th>\n",
              "      <td>AA1E0A1BBB04DBFB2D4FE21BDB45FB74</td>\n",
              "      <td>6D5114B9017440527D233D0DAE085F1F</td>\n",
              "      <td>2020-07-09</td>\n",
              "      <td>1</td>\n",
              "    </tr>\n",
              "    <tr>\n",
              "      <th>19140</th>\n",
              "      <td>F09A86430261ABE1D630EE7090B4BC37</td>\n",
              "      <td>D1C108AC67C734A94BD2DC8A35D7E9E0</td>\n",
              "      <td>2020-06-09</td>\n",
              "      <td>0</td>\n",
              "    </tr>\n",
              "    <tr>\n",
              "      <th>24204</th>\n",
              "      <td>C16902E84856371CFB33837851722042</td>\n",
              "      <td>66AF0EFC46FC52B87617914CE4780338</td>\n",
              "      <td>2020-06-03</td>\n",
              "      <td>0</td>\n",
              "    </tr>\n",
              "  </tbody>\n",
              "</table>\n",
              "</div>"
            ],
            "text/plain": [
              "                            ID_PACIENTE  ... DE_RESULTADO\n",
              "91     3487791F44C34B421C932DC8616A8437  ...            1\n",
              "1218   F5B5BD59D98836D8AA2D8C27B01225AB  ...            1\n",
              "2856   C3A3D083DBC1353FAB5F87282EE86633  ...            0\n",
              "2865   BEBA451E2C91A4D869D14EE790FE78FD  ...            0\n",
              "6021   F99249272E611207DBEC7EE3CF81F0E5  ...            0\n",
              "8958   74D237DB6D34A5BB2A95A26CD9FD5CF9  ...            0\n",
              "18268  AA1E0A1BBB04DBFB2D4FE21BDB45FB74  ...            0\n",
              "18276  AA1E0A1BBB04DBFB2D4FE21BDB45FB74  ...            1\n",
              "19140  F09A86430261ABE1D630EE7090B4BC37  ...            0\n",
              "24204  C16902E84856371CFB33837851722042  ...            0\n",
              "\n",
              "[10 rows x 4 columns]"
            ]
          },
          "metadata": {
            "tags": []
          },
          "execution_count": 93
        }
      ]
    },
    {
      "cell_type": "markdown",
      "metadata": {
        "id": "NOMxfircQD1N"
      },
      "source": [
        "#####**Covid 19, Anticorpos IgM, Quimioluminescência**"
      ]
    },
    {
      "cell_type": "code",
      "metadata": {
        "id": "x0RXqkIYWORY",
        "outputId": "39d061cb-dc35-4ce7-a5fc-68381d290991",
        "colab": {
          "base_uri": "https://localhost:8080/",
          "height": 0
        }
      },
      "source": [
        "# Para cada analito, precisamos saber o valor de referência para identificar se os resultados indicam ou não\n",
        "# presença de COVID.\n",
        "analito = (data_exames_HSL['DE_EXAME'] == 'COVID-19-Sorologia IgM e IgG por quimiluminescência, soro') & (data_exames_HSL['DE_ANALITO'] == 'Covid 19, Anticorpos IgM, Quimioluminescência')\n",
        "data_exames_HSL[analito]['DE_VALOR_REFERENCIA'].unique()"
      ],
      "execution_count": 94,
      "outputs": [
        {
          "output_type": "execute_result",
          "data": {
            "text/plain": [
              "array(['Não reagente'], dtype=object)"
            ]
          },
          "metadata": {
            "tags": []
          },
          "execution_count": 94
        }
      ]
    },
    {
      "cell_type": "code",
      "metadata": {
        "id": "6UULkFUoWORa",
        "outputId": "d55aba49-6ef8-4c05-f478-152fa9af6d6e",
        "colab": {
          "base_uri": "https://localhost:8080/",
          "height": 0
        }
      },
      "source": [
        "# Obtendo os valores numéricos referentes ao analito atual\n",
        "data_exames_HSL[analito]['DE_RESULTADO'].value_counts()"
      ],
      "execution_count": 95,
      "outputs": [
        {
          "output_type": "execute_result",
          "data": {
            "text/plain": [
              "NÃO REAGENTE     47\n",
              "REAGENTE         25\n",
              "Indeterminado     9\n",
              "Name: DE_RESULTADO, dtype: int64"
            ]
          },
          "metadata": {
            "tags": []
          },
          "execution_count": 95
        }
      ]
    },
    {
      "cell_type": "code",
      "metadata": {
        "id": "GMu_DqSuWORd",
        "outputId": "6b73f481-bc6e-45d7-ba35-63597bb400c2",
        "colab": {
          "base_uri": "https://localhost:8080/",
          "height": 0
        }
      },
      "source": [
        "# Vamos adotar como padrão que:\n",
        "#\n",
        "# 0 => COVID não detectado no paciente\n",
        "# 1 => COVID detectado no paciente\n",
        "#\n",
        "# Neste caso, vamos descartar o valor 'Indeterminado'\n",
        "resultados_soro = ['REAGENTE', 'NÃO REAGENTE']\n",
        "sel_soro_3 = (data_exames_HSL['DE_EXAME'] == 'COVID-19-Sorologia IgM e IgG por quimiluminescência, soro') & (data_exames_HSL['DE_ANALITO'] == 'Covid 19, Anticorpos IgM, Quimioluminescência') & (data_exames_HSL['DE_RESULTADO'].isin(resultados_soro))\n",
        "exames_soro_3 = data_exames_HSL[sel_soro_3]\n",
        "\n",
        "# Agora sim, mapeamos os resultados\n",
        "resultados_map = {\n",
        "   'REAGENTE' : 1, \n",
        "   'NÃO REAGENTE' : 0\n",
        "}\n",
        "\n",
        "exames_soro_3['DE_RESULTADO'] = exames_soro_3['DE_RESULTADO'].map(resultados_map)\n",
        "exames_soro_3.drop(['DE_ORIGEM', 'DE_EXAME', 'DE_ANALITO', 'CD_UNIDADE', 'DE_VALOR_REFERENCIA'], axis=1, inplace=True)\n",
        "exames_soro_3.head(10)"
      ],
      "execution_count": 96,
      "outputs": [
        {
          "output_type": "stream",
          "text": [
            "/usr/local/lib/python3.6/dist-packages/ipykernel_launcher.py:17: SettingWithCopyWarning: \n",
            "A value is trying to be set on a copy of a slice from a DataFrame.\n",
            "Try using .loc[row_indexer,col_indexer] = value instead\n",
            "\n",
            "See the caveats in the documentation: https://pandas.pydata.org/pandas-docs/stable/user_guide/indexing.html#returning-a-view-versus-a-copy\n",
            "/usr/local/lib/python3.6/dist-packages/pandas/core/frame.py:4169: SettingWithCopyWarning: \n",
            "A value is trying to be set on a copy of a slice from a DataFrame\n",
            "\n",
            "See the caveats in the documentation: https://pandas.pydata.org/pandas-docs/stable/user_guide/indexing.html#returning-a-view-versus-a-copy\n",
            "  errors=errors,\n"
          ],
          "name": "stderr"
        },
        {
          "output_type": "execute_result",
          "data": {
            "text/html": [
              "<div>\n",
              "<style scoped>\n",
              "    .dataframe tbody tr th:only-of-type {\n",
              "        vertical-align: middle;\n",
              "    }\n",
              "\n",
              "    .dataframe tbody tr th {\n",
              "        vertical-align: top;\n",
              "    }\n",
              "\n",
              "    .dataframe thead th {\n",
              "        text-align: right;\n",
              "    }\n",
              "</style>\n",
              "<table border=\"1\" class=\"dataframe\">\n",
              "  <thead>\n",
              "    <tr style=\"text-align: right;\">\n",
              "      <th></th>\n",
              "      <th>ID_PACIENTE</th>\n",
              "      <th>ID_ATENDIMENTO</th>\n",
              "      <th>DT_COLETA</th>\n",
              "      <th>DE_RESULTADO</th>\n",
              "    </tr>\n",
              "  </thead>\n",
              "  <tbody>\n",
              "    <tr>\n",
              "      <th>93</th>\n",
              "      <td>3487791F44C34B421C932DC8616A8437</td>\n",
              "      <td>11676CFEEF6A4CDD49B0A74D3F3A85EC</td>\n",
              "      <td>2020-05-25</td>\n",
              "      <td>1</td>\n",
              "    </tr>\n",
              "    <tr>\n",
              "      <th>1220</th>\n",
              "      <td>F5B5BD59D98836D8AA2D8C27B01225AB</td>\n",
              "      <td>FBF3FC0FD4890AF6B6EBFE6BFC12EC0C</td>\n",
              "      <td>2020-06-07</td>\n",
              "      <td>1</td>\n",
              "    </tr>\n",
              "    <tr>\n",
              "      <th>2867</th>\n",
              "      <td>BEBA451E2C91A4D869D14EE790FE78FD</td>\n",
              "      <td>F00A8B071066A41020B80A1F2F590663</td>\n",
              "      <td>2020-05-31</td>\n",
              "      <td>0</td>\n",
              "    </tr>\n",
              "    <tr>\n",
              "      <th>6029</th>\n",
              "      <td>F99249272E611207DBEC7EE3CF81F0E5</td>\n",
              "      <td>69ED1FBA20A1B0755943B89F82104ED8</td>\n",
              "      <td>2020-06-04</td>\n",
              "      <td>0</td>\n",
              "    </tr>\n",
              "    <tr>\n",
              "      <th>8955</th>\n",
              "      <td>74D237DB6D34A5BB2A95A26CD9FD5CF9</td>\n",
              "      <td>4FCD5F94A21B633D76E728EE17C4E46C</td>\n",
              "      <td>2020-06-27</td>\n",
              "      <td>0</td>\n",
              "    </tr>\n",
              "    <tr>\n",
              "      <th>18272</th>\n",
              "      <td>AA1E0A1BBB04DBFB2D4FE21BDB45FB74</td>\n",
              "      <td>626B753CB67B893001127A521FED3960</td>\n",
              "      <td>2020-06-26</td>\n",
              "      <td>0</td>\n",
              "    </tr>\n",
              "    <tr>\n",
              "      <th>18278</th>\n",
              "      <td>AA1E0A1BBB04DBFB2D4FE21BDB45FB74</td>\n",
              "      <td>6D5114B9017440527D233D0DAE085F1F</td>\n",
              "      <td>2020-07-09</td>\n",
              "      <td>1</td>\n",
              "    </tr>\n",
              "    <tr>\n",
              "      <th>19142</th>\n",
              "      <td>F09A86430261ABE1D630EE7090B4BC37</td>\n",
              "      <td>D1C108AC67C734A94BD2DC8A35D7E9E0</td>\n",
              "      <td>2020-06-09</td>\n",
              "      <td>0</td>\n",
              "    </tr>\n",
              "    <tr>\n",
              "      <th>24206</th>\n",
              "      <td>C16902E84856371CFB33837851722042</td>\n",
              "      <td>66AF0EFC46FC52B87617914CE4780338</td>\n",
              "      <td>2020-06-03</td>\n",
              "      <td>0</td>\n",
              "    </tr>\n",
              "    <tr>\n",
              "      <th>28250</th>\n",
              "      <td>36EC3ADD18AE59B3DC62C67B4A6440DA</td>\n",
              "      <td>907CDFDDDE3ECB18A2A705E91745FAEF</td>\n",
              "      <td>2020-06-08</td>\n",
              "      <td>0</td>\n",
              "    </tr>\n",
              "  </tbody>\n",
              "</table>\n",
              "</div>"
            ],
            "text/plain": [
              "                            ID_PACIENTE  ... DE_RESULTADO\n",
              "93     3487791F44C34B421C932DC8616A8437  ...            1\n",
              "1220   F5B5BD59D98836D8AA2D8C27B01225AB  ...            1\n",
              "2867   BEBA451E2C91A4D869D14EE790FE78FD  ...            0\n",
              "6029   F99249272E611207DBEC7EE3CF81F0E5  ...            0\n",
              "8955   74D237DB6D34A5BB2A95A26CD9FD5CF9  ...            0\n",
              "18272  AA1E0A1BBB04DBFB2D4FE21BDB45FB74  ...            0\n",
              "18278  AA1E0A1BBB04DBFB2D4FE21BDB45FB74  ...            1\n",
              "19142  F09A86430261ABE1D630EE7090B4BC37  ...            0\n",
              "24206  C16902E84856371CFB33837851722042  ...            0\n",
              "28250  36EC3ADD18AE59B3DC62C67B4A6440DA  ...            0\n",
              "\n",
              "[10 rows x 4 columns]"
            ]
          },
          "metadata": {
            "tags": []
          },
          "execution_count": 96
        }
      ]
    },
    {
      "cell_type": "markdown",
      "metadata": {
        "id": "cK_z0uSiQD-Q"
      },
      "source": [
        "#####**Covid 19, Anticorpos IgM, Quimiolumin.-Índice**"
      ]
    },
    {
      "cell_type": "code",
      "metadata": {
        "id": "DiZz1W0GXIBG",
        "outputId": "51c04afb-7897-4c4b-bb60-479815c8ebe3",
        "colab": {
          "base_uri": "https://localhost:8080/",
          "height": 0
        }
      },
      "source": [
        "# Para cada analito, precisamos saber o valor de referência para identificar se os resultados indicam ou não\n",
        "# presença de COVID.\n",
        "analito = (data_exames_HSL['DE_EXAME'] == 'COVID-19-Sorologia IgM e IgG por quimiluminescência, soro') & (data_exames_HSL['DE_ANALITO'] == 'Covid 19, Anticorpos IgM, Quimiolumin.-Índice')\n",
        "data_exames_HSL[analito]['DE_VALOR_REFERENCIA'].unique()"
      ],
      "execution_count": 97,
      "outputs": [
        {
          "output_type": "execute_result",
          "data": {
            "text/plain": [
              "array(['inferior a 0,8', 'inferior a 0,7'], dtype=object)"
            ]
          },
          "metadata": {
            "tags": []
          },
          "execution_count": 97
        }
      ]
    },
    {
      "cell_type": "code",
      "metadata": {
        "id": "pNDDRq67XIBN",
        "outputId": "5f551dc0-49a2-4cf6-f2b3-a8897f8fb6ef",
        "colab": {
          "base_uri": "https://localhost:8080/",
          "height": 0
        }
      },
      "source": [
        "# Obtendo os valores numéricos referentes ao analito atual\n",
        "data_exames_HSL[analito]['DE_RESULTADO'].value_counts()"
      ],
      "execution_count": 98,
      "outputs": [
        {
          "output_type": "execute_result",
          "data": {
            "text/plain": [
              "0,6    19\n",
              "0,5    17\n",
              "0,7     9\n",
              "0,8     5\n",
              "1,7     3\n",
              "0,9     3\n",
              "1,3     2\n",
              "1,5     2\n",
              "1,4     2\n",
              "1,8     2\n",
              "1,6     2\n",
              "2,1     1\n",
              "1,2     1\n",
              "0,3     1\n",
              "1,0     1\n",
              "0,4     1\n",
              "2,7     1\n",
              "4,3     1\n",
              "2,2     1\n",
              "9,2     1\n",
              "2,5     1\n",
              "5,6     1\n",
              "4,1     1\n",
              "2,0     1\n",
              "6,5     1\n",
              "3,1     1\n",
              "Name: DE_RESULTADO, dtype: int64"
            ]
          },
          "metadata": {
            "tags": []
          },
          "execution_count": 98
        }
      ]
    },
    {
      "cell_type": "code",
      "metadata": {
        "id": "JRL72ixTXIBS",
        "outputId": "d66f8285-746e-4c66-a275-7b8be377a80e",
        "colab": {
          "base_uri": "https://localhost:8080/",
          "height": 0
        }
      },
      "source": [
        "# Vamos adotar como padrão que:\n",
        "#\n",
        "# 0 => COVID não detectado no paciente\n",
        "# 1 => COVID detectado no paciente\n",
        "#\n",
        "# Neste caso, vamos considerar que valores inferiores a 0.7 como 0 e iguais\n",
        "# ou superiores a 0.7 como 1\n",
        "resultados_map = {\n",
        "   '5,6' : 1, \n",
        "   '1,8' : 1, \n",
        "   '0,8' : 1, \n",
        "   '0,6' : 0, \n",
        "   '0,5' : 0, \n",
        "   '1,4' : 1, \n",
        "   '0,3' : 0, \n",
        "   '0,4' : 0, \n",
        "   '2,2' : 1,\n",
        "   '1,6' : 1, \n",
        "   '1,7' : 1, \n",
        "   '4,3' : 1, \n",
        "   '1,2' : 1, \n",
        "   '2,5' : 1, \n",
        "   '2,1' : 1, \n",
        "   '0,7' : 1, \n",
        "   '1,3' : 1, \n",
        "   '0,9' : 1,\n",
        "   '1,0' : 1, \n",
        "   '2,0' : 1, \n",
        "   '1,5' : 1, \n",
        "   '2,7' : 1, \n",
        "   '6,5' : 1, \n",
        "   '4,1' : 1, \n",
        "   '3,1' : 1, \n",
        "   '9,2' : 1\n",
        "}\n",
        "\n",
        "exames_soro_4 = data_exames_HSL[analito]\n",
        "exames_soro_4['DE_RESULTADO'] = exames_soro_4['DE_RESULTADO'].map(resultados_map)\n",
        "exames_soro_4.drop(['DE_ORIGEM', 'DE_EXAME', 'DE_ANALITO', 'CD_UNIDADE', 'DE_VALOR_REFERENCIA'], axis=1, inplace=True)\n",
        "exames_soro_4.head(10)"
      ],
      "execution_count": 99,
      "outputs": [
        {
          "output_type": "stream",
          "text": [
            "/usr/local/lib/python3.6/dist-packages/ipykernel_launcher.py:38: SettingWithCopyWarning: \n",
            "A value is trying to be set on a copy of a slice from a DataFrame.\n",
            "Try using .loc[row_indexer,col_indexer] = value instead\n",
            "\n",
            "See the caveats in the documentation: https://pandas.pydata.org/pandas-docs/stable/user_guide/indexing.html#returning-a-view-versus-a-copy\n",
            "/usr/local/lib/python3.6/dist-packages/pandas/core/frame.py:4169: SettingWithCopyWarning: \n",
            "A value is trying to be set on a copy of a slice from a DataFrame\n",
            "\n",
            "See the caveats in the documentation: https://pandas.pydata.org/pandas-docs/stable/user_guide/indexing.html#returning-a-view-versus-a-copy\n",
            "  errors=errors,\n"
          ],
          "name": "stderr"
        },
        {
          "output_type": "execute_result",
          "data": {
            "text/html": [
              "<div>\n",
              "<style scoped>\n",
              "    .dataframe tbody tr th:only-of-type {\n",
              "        vertical-align: middle;\n",
              "    }\n",
              "\n",
              "    .dataframe tbody tr th {\n",
              "        vertical-align: top;\n",
              "    }\n",
              "\n",
              "    .dataframe thead th {\n",
              "        text-align: right;\n",
              "    }\n",
              "</style>\n",
              "<table border=\"1\" class=\"dataframe\">\n",
              "  <thead>\n",
              "    <tr style=\"text-align: right;\">\n",
              "      <th></th>\n",
              "      <th>ID_PACIENTE</th>\n",
              "      <th>ID_ATENDIMENTO</th>\n",
              "      <th>DT_COLETA</th>\n",
              "      <th>DE_RESULTADO</th>\n",
              "    </tr>\n",
              "  </thead>\n",
              "  <tbody>\n",
              "    <tr>\n",
              "      <th>92</th>\n",
              "      <td>3487791F44C34B421C932DC8616A8437</td>\n",
              "      <td>11676CFEEF6A4CDD49B0A74D3F3A85EC</td>\n",
              "      <td>2020-05-25</td>\n",
              "      <td>1</td>\n",
              "    </tr>\n",
              "    <tr>\n",
              "      <th>1219</th>\n",
              "      <td>F5B5BD59D98836D8AA2D8C27B01225AB</td>\n",
              "      <td>FBF3FC0FD4890AF6B6EBFE6BFC12EC0C</td>\n",
              "      <td>2020-06-07</td>\n",
              "      <td>1</td>\n",
              "    </tr>\n",
              "    <tr>\n",
              "      <th>2857</th>\n",
              "      <td>C3A3D083DBC1353FAB5F87282EE86633</td>\n",
              "      <td>6A9B541EE6A6510F2803E96E47EEB5DA</td>\n",
              "      <td>2020-07-23</td>\n",
              "      <td>1</td>\n",
              "    </tr>\n",
              "    <tr>\n",
              "      <th>2866</th>\n",
              "      <td>BEBA451E2C91A4D869D14EE790FE78FD</td>\n",
              "      <td>F00A8B071066A41020B80A1F2F590663</td>\n",
              "      <td>2020-05-31</td>\n",
              "      <td>0</td>\n",
              "    </tr>\n",
              "    <tr>\n",
              "      <th>6028</th>\n",
              "      <td>F99249272E611207DBEC7EE3CF81F0E5</td>\n",
              "      <td>69ED1FBA20A1B0755943B89F82104ED8</td>\n",
              "      <td>2020-06-04</td>\n",
              "      <td>0</td>\n",
              "    </tr>\n",
              "    <tr>\n",
              "      <th>8954</th>\n",
              "      <td>74D237DB6D34A5BB2A95A26CD9FD5CF9</td>\n",
              "      <td>4FCD5F94A21B633D76E728EE17C4E46C</td>\n",
              "      <td>2020-06-27</td>\n",
              "      <td>0</td>\n",
              "    </tr>\n",
              "    <tr>\n",
              "      <th>18271</th>\n",
              "      <td>AA1E0A1BBB04DBFB2D4FE21BDB45FB74</td>\n",
              "      <td>626B753CB67B893001127A521FED3960</td>\n",
              "      <td>2020-06-26</td>\n",
              "      <td>0</td>\n",
              "    </tr>\n",
              "    <tr>\n",
              "      <th>18277</th>\n",
              "      <td>AA1E0A1BBB04DBFB2D4FE21BDB45FB74</td>\n",
              "      <td>6D5114B9017440527D233D0DAE085F1F</td>\n",
              "      <td>2020-07-09</td>\n",
              "      <td>1</td>\n",
              "    </tr>\n",
              "    <tr>\n",
              "      <th>19141</th>\n",
              "      <td>F09A86430261ABE1D630EE7090B4BC37</td>\n",
              "      <td>D1C108AC67C734A94BD2DC8A35D7E9E0</td>\n",
              "      <td>2020-06-09</td>\n",
              "      <td>0</td>\n",
              "    </tr>\n",
              "    <tr>\n",
              "      <th>24205</th>\n",
              "      <td>C16902E84856371CFB33837851722042</td>\n",
              "      <td>66AF0EFC46FC52B87617914CE4780338</td>\n",
              "      <td>2020-06-03</td>\n",
              "      <td>0</td>\n",
              "    </tr>\n",
              "  </tbody>\n",
              "</table>\n",
              "</div>"
            ],
            "text/plain": [
              "                            ID_PACIENTE  ... DE_RESULTADO\n",
              "92     3487791F44C34B421C932DC8616A8437  ...            1\n",
              "1219   F5B5BD59D98836D8AA2D8C27B01225AB  ...            1\n",
              "2857   C3A3D083DBC1353FAB5F87282EE86633  ...            1\n",
              "2866   BEBA451E2C91A4D869D14EE790FE78FD  ...            0\n",
              "6028   F99249272E611207DBEC7EE3CF81F0E5  ...            0\n",
              "8954   74D237DB6D34A5BB2A95A26CD9FD5CF9  ...            0\n",
              "18271  AA1E0A1BBB04DBFB2D4FE21BDB45FB74  ...            0\n",
              "18277  AA1E0A1BBB04DBFB2D4FE21BDB45FB74  ...            1\n",
              "19141  F09A86430261ABE1D630EE7090B4BC37  ...            0\n",
              "24205  C16902E84856371CFB33837851722042  ...            0\n",
              "\n",
              "[10 rows x 4 columns]"
            ]
          },
          "metadata": {
            "tags": []
          },
          "execution_count": 99
        }
      ]
    },
    {
      "cell_type": "markdown",
      "metadata": {
        "id": "xrsqbWSpQEFz"
      },
      "source": [
        "#####**Covid 19, Anticorpos Totais, Eletroquim-Índic**"
      ]
    },
    {
      "cell_type": "code",
      "metadata": {
        "id": "kj5RoFuMYtPx",
        "outputId": "27f585e2-34d2-48d7-b892-d5cd40dd8a36",
        "colab": {
          "base_uri": "https://localhost:8080/",
          "height": 0
        }
      },
      "source": [
        "# Para cada analito, precisamos saber o valor de referência para identificar se os resultados indicam ou não\n",
        "# presença de COVID.\n",
        "analito = (data_exames_HSL['DE_EXAME'] == 'COVID-19-Sorologia IgM e IgG por quimiluminescência, soro') & (data_exames_HSL['DE_ANALITO'] == 'Covid 19, Anticorpos Totais, Eletroquim-Índic')\n",
        "data_exames_HSL[analito]['DE_VALOR_REFERENCIA'].unique()"
      ],
      "execution_count": 100,
      "outputs": [
        {
          "output_type": "execute_result",
          "data": {
            "text/plain": [
              "array(['inferior a 0,6'], dtype=object)"
            ]
          },
          "metadata": {
            "tags": []
          },
          "execution_count": 100
        }
      ]
    },
    {
      "cell_type": "code",
      "metadata": {
        "id": "C3JgjIQ8YtPz",
        "outputId": "cab13f2d-406b-46c5-9d43-7084b7bb3aad",
        "colab": {
          "base_uri": "https://localhost:8080/",
          "height": 0
        }
      },
      "source": [
        "# Obtendo os valores numéricos referentes ao analito atual\n",
        "data_exames_HSL[analito]['DE_RESULTADO'].unique()"
      ],
      "execution_count": 101,
      "outputs": [
        {
          "output_type": "execute_result",
          "data": {
            "text/plain": [
              "array(['0,1', '144,0', '34,5', '45,7', '142,0', '25,3', '105,0', '6,5',\n",
              "       '18,8', '13,8', '1,9', '0,2', '2,8', '6,6', '130,0', '5,6', '47,2',\n",
              "       '55,4', '9,8', '79,2'], dtype=object)"
            ]
          },
          "metadata": {
            "tags": []
          },
          "execution_count": 101
        }
      ]
    },
    {
      "cell_type": "code",
      "metadata": {
        "id": "QBuy6X78YtP1",
        "outputId": "1ffb027c-1d71-492b-b427-6673409c030f",
        "colab": {
          "base_uri": "https://localhost:8080/",
          "height": 0
        }
      },
      "source": [
        "# Vamos adotar como padrão que:\n",
        "#\n",
        "# 0 => COVID não detectado no paciente\n",
        "# 1 => COVID detectado no paciente\n",
        "#\n",
        "# Neste caso, vamos considerar que valores inferiores a 0.6 como 0 e iguais\n",
        "# ou superiores a 0.6 como 1\n",
        "resultados_map = {\n",
        "   '0,1' : 0, \n",
        "   '144,0' : 1, \n",
        "   '34,5' : 1, \n",
        "   '45,7' : 1, \n",
        "   '142,0' : 1, \n",
        "   '25,3' : 1, \n",
        "   '105,0' : 1, \n",
        "   '6,5' : 1,\n",
        "   '18,8' : 1, \n",
        "   '13,8' : 1, \n",
        "   '1,9' : 1, \n",
        "   '0,2' : 0, \n",
        "   '2,8' : 1, \n",
        "   '6,6' : 1, \n",
        "   '130,0' : 1, \n",
        "   '5,6' : 1, \n",
        "   '47,2' : 1,\n",
        "   '55,4' : 1, \n",
        "   '9,8' : 1, \n",
        "   '79,2' : 1\n",
        "}\n",
        "\n",
        "exames_soro_5 = data_exames_HSL[analito]\n",
        "exames_soro_5['DE_RESULTADO'] = exames_soro_5['DE_RESULTADO'].map(resultados_map)\n",
        "exames_soro_5.drop(['DE_ORIGEM', 'DE_EXAME', 'DE_ANALITO', 'CD_UNIDADE', 'DE_VALOR_REFERENCIA'], axis=1, inplace=True)\n",
        "exames_soro_5.head(10)"
      ],
      "execution_count": 102,
      "outputs": [
        {
          "output_type": "stream",
          "text": [
            "/usr/local/lib/python3.6/dist-packages/ipykernel_launcher.py:32: SettingWithCopyWarning: \n",
            "A value is trying to be set on a copy of a slice from a DataFrame.\n",
            "Try using .loc[row_indexer,col_indexer] = value instead\n",
            "\n",
            "See the caveats in the documentation: https://pandas.pydata.org/pandas-docs/stable/user_guide/indexing.html#returning-a-view-versus-a-copy\n",
            "/usr/local/lib/python3.6/dist-packages/pandas/core/frame.py:4169: SettingWithCopyWarning: \n",
            "A value is trying to be set on a copy of a slice from a DataFrame\n",
            "\n",
            "See the caveats in the documentation: https://pandas.pydata.org/pandas-docs/stable/user_guide/indexing.html#returning-a-view-versus-a-copy\n",
            "  errors=errors,\n"
          ],
          "name": "stderr"
        },
        {
          "output_type": "execute_result",
          "data": {
            "text/html": [
              "<div>\n",
              "<style scoped>\n",
              "    .dataframe tbody tr th:only-of-type {\n",
              "        vertical-align: middle;\n",
              "    }\n",
              "\n",
              "    .dataframe tbody tr th {\n",
              "        vertical-align: top;\n",
              "    }\n",
              "\n",
              "    .dataframe thead th {\n",
              "        text-align: right;\n",
              "    }\n",
              "</style>\n",
              "<table border=\"1\" class=\"dataframe\">\n",
              "  <thead>\n",
              "    <tr style=\"text-align: right;\">\n",
              "      <th></th>\n",
              "      <th>ID_PACIENTE</th>\n",
              "      <th>ID_ATENDIMENTO</th>\n",
              "      <th>DT_COLETA</th>\n",
              "      <th>DE_RESULTADO</th>\n",
              "    </tr>\n",
              "  </thead>\n",
              "  <tbody>\n",
              "    <tr>\n",
              "      <th>2853</th>\n",
              "      <td>C3A3D083DBC1353FAB5F87282EE86633</td>\n",
              "      <td>6A9B541EE6A6510F2803E96E47EEB5DA</td>\n",
              "      <td>2020-07-23</td>\n",
              "      <td>0</td>\n",
              "    </tr>\n",
              "    <tr>\n",
              "      <th>35305</th>\n",
              "      <td>A5D8D706FE441C2060E2D180EC8709F0</td>\n",
              "      <td>8D09EF803B5BC8ED18F6F6947101803B</td>\n",
              "      <td>2020-07-14</td>\n",
              "      <td>1</td>\n",
              "    </tr>\n",
              "    <tr>\n",
              "      <th>99225</th>\n",
              "      <td>3DC7E7D2D0FD41DC69FDC7DE1C0D1165</td>\n",
              "      <td>121413D63C89B282947865446564E627</td>\n",
              "      <td>2020-07-23</td>\n",
              "      <td>1</td>\n",
              "    </tr>\n",
              "    <tr>\n",
              "      <th>99405</th>\n",
              "      <td>ED694041A831B3CF79B98D4659B03E99</td>\n",
              "      <td>BDF2314F34B5B1314FD1A0CF67957EB7</td>\n",
              "      <td>2020-07-30</td>\n",
              "      <td>1</td>\n",
              "    </tr>\n",
              "    <tr>\n",
              "      <th>120374</th>\n",
              "      <td>0375A54F4BAD09CEA28A86FEB1FD37AD</td>\n",
              "      <td>4695B23F40CBB5EE013290B1E149858C</td>\n",
              "      <td>2020-07-14</td>\n",
              "      <td>1</td>\n",
              "    </tr>\n",
              "    <tr>\n",
              "      <th>126588</th>\n",
              "      <td>2C0F9E3F2F4B1705DC919E2EEA1E72E0</td>\n",
              "      <td>F1113AC32BF8D25132075A2D182911F9</td>\n",
              "      <td>2020-07-13</td>\n",
              "      <td>1</td>\n",
              "    </tr>\n",
              "    <tr>\n",
              "      <th>150432</th>\n",
              "      <td>12A7373EDDEBBDC33A7A100602BE88F0</td>\n",
              "      <td>4B19E21886D2FA7AE5C3F0A220AEC9C4</td>\n",
              "      <td>2020-07-30</td>\n",
              "      <td>1</td>\n",
              "    </tr>\n",
              "    <tr>\n",
              "      <th>152294</th>\n",
              "      <td>0C398FB1D321F7159F93A84B3E426E48</td>\n",
              "      <td>31AEC40442113B4BA08DB1A405C6940B</td>\n",
              "      <td>2020-07-20</td>\n",
              "      <td>0</td>\n",
              "    </tr>\n",
              "    <tr>\n",
              "      <th>168365</th>\n",
              "      <td>BA790968FE3039D95F8B0EEE3A9C9B35</td>\n",
              "      <td>7A43189DE8542C8D2B69B47F7C405939</td>\n",
              "      <td>2020-07-21</td>\n",
              "      <td>0</td>\n",
              "    </tr>\n",
              "    <tr>\n",
              "      <th>168827</th>\n",
              "      <td>EFA28A2C29618475B2836000FE55EF69</td>\n",
              "      <td>4C784E823C0A2012D316A3116E6A2745</td>\n",
              "      <td>2020-07-31</td>\n",
              "      <td>1</td>\n",
              "    </tr>\n",
              "  </tbody>\n",
              "</table>\n",
              "</div>"
            ],
            "text/plain": [
              "                             ID_PACIENTE  ... DE_RESULTADO\n",
              "2853    C3A3D083DBC1353FAB5F87282EE86633  ...            0\n",
              "35305   A5D8D706FE441C2060E2D180EC8709F0  ...            1\n",
              "99225   3DC7E7D2D0FD41DC69FDC7DE1C0D1165  ...            1\n",
              "99405   ED694041A831B3CF79B98D4659B03E99  ...            1\n",
              "120374  0375A54F4BAD09CEA28A86FEB1FD37AD  ...            1\n",
              "126588  2C0F9E3F2F4B1705DC919E2EEA1E72E0  ...            1\n",
              "150432  12A7373EDDEBBDC33A7A100602BE88F0  ...            1\n",
              "152294  0C398FB1D321F7159F93A84B3E426E48  ...            0\n",
              "168365  BA790968FE3039D95F8B0EEE3A9C9B35  ...            0\n",
              "168827  EFA28A2C29618475B2836000FE55EF69  ...            1\n",
              "\n",
              "[10 rows x 4 columns]"
            ]
          },
          "metadata": {
            "tags": []
          },
          "execution_count": 102
        }
      ]
    },
    {
      "cell_type": "markdown",
      "metadata": {
        "id": "lt8eVp_4QESY"
      },
      "source": [
        "#####**Covid 19, Anticorpos Totais, Eletroquimiolumi**"
      ]
    },
    {
      "cell_type": "code",
      "metadata": {
        "id": "pQ28DIKUZ2KN",
        "outputId": "eeba0a90-37a1-46fb-fab4-cdc70a2b53f6",
        "colab": {
          "base_uri": "https://localhost:8080/",
          "height": 0
        }
      },
      "source": [
        "# Para cada analito, precisamos saber o valor de referência para identificar se os resultados indicam ou não\n",
        "# presença de COVID.\n",
        "analito = (data_exames_HSL['DE_EXAME'] == 'COVID-19-Sorologia IgM e IgG por quimiluminescência, soro') & (data_exames_HSL['DE_ANALITO'] == 'Covid 19, Anticorpos Totais, Eletroquimiolumi')\n",
        "data_exames_HSL[analito]['DE_VALOR_REFERENCIA'].unique()"
      ],
      "execution_count": 103,
      "outputs": [
        {
          "output_type": "execute_result",
          "data": {
            "text/plain": [
              "array(['Não reagente'], dtype=object)"
            ]
          },
          "metadata": {
            "tags": []
          },
          "execution_count": 103
        }
      ]
    },
    {
      "cell_type": "code",
      "metadata": {
        "id": "0mXhtPxGZ2KT",
        "outputId": "be9f3759-7af2-4658-d704-223f027db890",
        "colab": {
          "base_uri": "https://localhost:8080/",
          "height": 0
        }
      },
      "source": [
        "# Obtendo os valores numéricos referentes ao analito atual\n",
        "data_exames_HSL[analito]['DE_RESULTADO'].value_counts()"
      ],
      "execution_count": 104,
      "outputs": [
        {
          "output_type": "execute_result",
          "data": {
            "text/plain": [
              "REAGENTE        18\n",
              "NÃO REAGENTE     6\n",
              "Name: DE_RESULTADO, dtype: int64"
            ]
          },
          "metadata": {
            "tags": []
          },
          "execution_count": 104
        }
      ]
    },
    {
      "cell_type": "code",
      "metadata": {
        "id": "wMdmdF7qZ2KW",
        "outputId": "69308d36-dc4f-40f2-ffcf-c12b2d326ddd",
        "colab": {
          "base_uri": "https://localhost:8080/",
          "height": 0
        }
      },
      "source": [
        "# Vamos adotar como padrão que:\n",
        "#\n",
        "# 0 => COVID não detectado no paciente\n",
        "# 1 => COVID detectado no paciente\n",
        "#\n",
        "resultados_map = {\n",
        "   'REAGENTE' : 1, \n",
        "   'NÃO REAGENTE' : 0\n",
        "}\n",
        "exames_soro_6 = data_exames_HSL[analito]\n",
        "exames_soro_6['DE_RESULTADO'] = exames_soro_6['DE_RESULTADO'].map(resultados_map)\n",
        "exames_soro_6.drop(['DE_ORIGEM', 'DE_EXAME', 'DE_ANALITO', 'CD_UNIDADE', 'DE_VALOR_REFERENCIA'], axis=1, inplace=True)\n",
        "exames_soro_6.head(10)"
      ],
      "execution_count": 105,
      "outputs": [
        {
          "output_type": "stream",
          "text": [
            "/usr/local/lib/python3.6/dist-packages/ipykernel_launcher.py:11: SettingWithCopyWarning: \n",
            "A value is trying to be set on a copy of a slice from a DataFrame.\n",
            "Try using .loc[row_indexer,col_indexer] = value instead\n",
            "\n",
            "See the caveats in the documentation: https://pandas.pydata.org/pandas-docs/stable/user_guide/indexing.html#returning-a-view-versus-a-copy\n",
            "  # This is added back by InteractiveShellApp.init_path()\n",
            "/usr/local/lib/python3.6/dist-packages/pandas/core/frame.py:4169: SettingWithCopyWarning: \n",
            "A value is trying to be set on a copy of a slice from a DataFrame\n",
            "\n",
            "See the caveats in the documentation: https://pandas.pydata.org/pandas-docs/stable/user_guide/indexing.html#returning-a-view-versus-a-copy\n",
            "  errors=errors,\n"
          ],
          "name": "stderr"
        },
        {
          "output_type": "execute_result",
          "data": {
            "text/html": [
              "<div>\n",
              "<style scoped>\n",
              "    .dataframe tbody tr th:only-of-type {\n",
              "        vertical-align: middle;\n",
              "    }\n",
              "\n",
              "    .dataframe tbody tr th {\n",
              "        vertical-align: top;\n",
              "    }\n",
              "\n",
              "    .dataframe thead th {\n",
              "        text-align: right;\n",
              "    }\n",
              "</style>\n",
              "<table border=\"1\" class=\"dataframe\">\n",
              "  <thead>\n",
              "    <tr style=\"text-align: right;\">\n",
              "      <th></th>\n",
              "      <th>ID_PACIENTE</th>\n",
              "      <th>ID_ATENDIMENTO</th>\n",
              "      <th>DT_COLETA</th>\n",
              "      <th>DE_RESULTADO</th>\n",
              "    </tr>\n",
              "  </thead>\n",
              "  <tbody>\n",
              "    <tr>\n",
              "      <th>2854</th>\n",
              "      <td>C3A3D083DBC1353FAB5F87282EE86633</td>\n",
              "      <td>6A9B541EE6A6510F2803E96E47EEB5DA</td>\n",
              "      <td>2020-07-23</td>\n",
              "      <td>0</td>\n",
              "    </tr>\n",
              "    <tr>\n",
              "      <th>35306</th>\n",
              "      <td>A5D8D706FE441C2060E2D180EC8709F0</td>\n",
              "      <td>8D09EF803B5BC8ED18F6F6947101803B</td>\n",
              "      <td>2020-07-14</td>\n",
              "      <td>1</td>\n",
              "    </tr>\n",
              "    <tr>\n",
              "      <th>99226</th>\n",
              "      <td>3DC7E7D2D0FD41DC69FDC7DE1C0D1165</td>\n",
              "      <td>121413D63C89B282947865446564E627</td>\n",
              "      <td>2020-07-23</td>\n",
              "      <td>1</td>\n",
              "    </tr>\n",
              "    <tr>\n",
              "      <th>99406</th>\n",
              "      <td>ED694041A831B3CF79B98D4659B03E99</td>\n",
              "      <td>BDF2314F34B5B1314FD1A0CF67957EB7</td>\n",
              "      <td>2020-07-30</td>\n",
              "      <td>1</td>\n",
              "    </tr>\n",
              "    <tr>\n",
              "      <th>120375</th>\n",
              "      <td>0375A54F4BAD09CEA28A86FEB1FD37AD</td>\n",
              "      <td>4695B23F40CBB5EE013290B1E149858C</td>\n",
              "      <td>2020-07-14</td>\n",
              "      <td>1</td>\n",
              "    </tr>\n",
              "    <tr>\n",
              "      <th>126589</th>\n",
              "      <td>2C0F9E3F2F4B1705DC919E2EEA1E72E0</td>\n",
              "      <td>F1113AC32BF8D25132075A2D182911F9</td>\n",
              "      <td>2020-07-13</td>\n",
              "      <td>1</td>\n",
              "    </tr>\n",
              "    <tr>\n",
              "      <th>150433</th>\n",
              "      <td>12A7373EDDEBBDC33A7A100602BE88F0</td>\n",
              "      <td>4B19E21886D2FA7AE5C3F0A220AEC9C4</td>\n",
              "      <td>2020-07-30</td>\n",
              "      <td>1</td>\n",
              "    </tr>\n",
              "    <tr>\n",
              "      <th>152295</th>\n",
              "      <td>0C398FB1D321F7159F93A84B3E426E48</td>\n",
              "      <td>31AEC40442113B4BA08DB1A405C6940B</td>\n",
              "      <td>2020-07-20</td>\n",
              "      <td>0</td>\n",
              "    </tr>\n",
              "    <tr>\n",
              "      <th>168366</th>\n",
              "      <td>BA790968FE3039D95F8B0EEE3A9C9B35</td>\n",
              "      <td>7A43189DE8542C8D2B69B47F7C405939</td>\n",
              "      <td>2020-07-21</td>\n",
              "      <td>0</td>\n",
              "    </tr>\n",
              "    <tr>\n",
              "      <th>168828</th>\n",
              "      <td>EFA28A2C29618475B2836000FE55EF69</td>\n",
              "      <td>4C784E823C0A2012D316A3116E6A2745</td>\n",
              "      <td>2020-07-31</td>\n",
              "      <td>1</td>\n",
              "    </tr>\n",
              "  </tbody>\n",
              "</table>\n",
              "</div>"
            ],
            "text/plain": [
              "                             ID_PACIENTE  ... DE_RESULTADO\n",
              "2854    C3A3D083DBC1353FAB5F87282EE86633  ...            0\n",
              "35306   A5D8D706FE441C2060E2D180EC8709F0  ...            1\n",
              "99226   3DC7E7D2D0FD41DC69FDC7DE1C0D1165  ...            1\n",
              "99406   ED694041A831B3CF79B98D4659B03E99  ...            1\n",
              "120375  0375A54F4BAD09CEA28A86FEB1FD37AD  ...            1\n",
              "126589  2C0F9E3F2F4B1705DC919E2EEA1E72E0  ...            1\n",
              "150433  12A7373EDDEBBDC33A7A100602BE88F0  ...            1\n",
              "152295  0C398FB1D321F7159F93A84B3E426E48  ...            0\n",
              "168366  BA790968FE3039D95F8B0EEE3A9C9B35  ...            0\n",
              "168828  EFA28A2C29618475B2836000FE55EF69  ...            1\n",
              "\n",
              "[10 rows x 4 columns]"
            ]
          },
          "metadata": {
            "tags": []
          },
          "execution_count": 105
        }
      ]
    },
    {
      "cell_type": "markdown",
      "metadata": {
        "id": "LNgBO5cRQrYw"
      },
      "source": [
        "#####**Covid 19, Sorologia - Interpretação**"
      ]
    },
    {
      "cell_type": "code",
      "metadata": {
        "id": "NY08b_j9aXxW",
        "outputId": "690f5922-bd7e-4699-8a85-017fbbc7fea8",
        "colab": {
          "base_uri": "https://localhost:8080/",
          "height": 0
        }
      },
      "source": [
        "# Para cada analito, precisamos saber o valor de referência para identificar se os resultados indicam ou não\n",
        "# presença de COVID.\n",
        "analito = (data_exames_HSL['DE_EXAME'] == 'COVID-19-Sorologia IgM e IgG por quimiluminescência, soro') & (data_exames_HSL['DE_ANALITO'] == 'Covid 19, Sorologia - Interpretação')\n",
        "data_exames_HSL[analito]['DE_VALOR_REFERENCIA'].unique()"
      ],
      "execution_count": 106,
      "outputs": [
        {
          "output_type": "execute_result",
          "data": {
            "text/plain": [
              "array([nan], dtype=object)"
            ]
          },
          "metadata": {
            "tags": []
          },
          "execution_count": 106
        }
      ]
    },
    {
      "cell_type": "code",
      "metadata": {
        "id": "umLdV7rQaXxY",
        "outputId": "7898dfa0-7724-4846-baf3-ac09bcb4aa42",
        "colab": {
          "base_uri": "https://localhost:8080/",
          "height": 0
        }
      },
      "source": [
        "# Obtendo os valores numéricos referentes ao analito atual\n",
        "data_exames_HSL[analito]['DE_RESULTADO'].value_counts()"
      ],
      "execution_count": 107,
      "outputs": [
        {
          "output_type": "execute_result",
          "data": {
            "text/plain": [
              "Detectados anticorpos da classe IgG contra SARS-CoV-2, Este perfil é compatível com infecção pregressa, Estudos demonstram que, sobretudo em pessoas que apresentaram quadro clínico leve ou não apresentaram sintomas, os níveis de anticorpos podem diminuir ao longo do tempo, podendo inclusive, se tornar indetectáveis (negativos), O papel destes anticorpos na proteção contra reinfecção não é completamente estabelecido,                                                                                                                                                                                                                                                              8\n",
              "Detectados anticorpos das classes IgM e IgG contra SARS-CoV-2, Este perfil sugere infecção recente, Estudos demonstram que, sobretudo em pessoas que apresentaram quadro clínico leve ou não apresentaram sintomas, os níveis de anticorpos podem diminuir ao longo do tempo, podendo inclusive, se tornar indetectáveis (negativos), O papel destes anticorpos na proteção contra reinfecção não é completamente estabelecido,                                                                                                                                                                                                                                                                  5\n",
              "Ausência de anticorpos contra SARS-CoV-2 detectáveis nesta amostra, após análise em duas metodologias, Este perfil é compatível com ausência de infecção por este vírus, ou ausência de soroconversão no período decorrido entre a infecção e a coleta, Estudos demonstram que, sobretudo em pessoas que apresentaram quadro clínico leve ou não apresentaram sintomas, a soroconversão pode ocorrer mais tardiamente, em baixos níveis de anticorpos, ou mesmo não ocorrer, Desse modo, podem haver resultados negativos de sorologia mesmo em casos de doença anteriormente confirmada por PCR, Se persitir a hipótese diagnóstica, sugere-se seguimento sorológico em, no mínimo, 14 dias,    5\n",
              "Detectados anticorpos da classe IgM contra SARS-CoV-2, Este perfil é compatível com soroconversão inicial ou produção de baixos níveis de anticorpos da classe IgG, Estudos demonstram que, sobretudo em pessoas que apresentaram quadro clínico leve ou não apresentaram sintomas, a soroconversão pode ocorrer mais tardiamente, em baixos níveis de anticorpos, ou mesmo não ocorrer, Sugere-se seguimento sorológico para avaliar a soroconversão de IgG em, no mínimo, 7 dias,                                                                                                                                                                                                              3\n",
              "Detectados anticorpos da classe IgM contra SARS-CoV-2, em apenas uma das metodologias utilizadas, A possibilidade de falsa reatividade não pode ser descartada, Sugere-se seguimento sorológico em, no mínimo, 7 dias,                                                                                                                                                                                                                                                                                                                                                                                                                                                                           1\n",
              "Name: DE_RESULTADO, dtype: int64"
            ]
          },
          "metadata": {
            "tags": []
          },
          "execution_count": 107
        }
      ]
    },
    {
      "cell_type": "code",
      "metadata": {
        "id": "o--YXKyvaXxa",
        "outputId": "54f68dc4-08af-4b2b-ca7f-60dec626aab0",
        "colab": {
          "base_uri": "https://localhost:8080/",
          "height": 0
        }
      },
      "source": [
        "# Vamos adotar como padrão que:\n",
        "#\n",
        "# 0 => COVID não detectado no paciente\n",
        "# 1 => COVID detectado no paciente\n",
        "#\n",
        "resultados_map = {\n",
        "   'Ausência de anticorpos contra SARS-CoV-2 detectáveis nesta amostra, após análise em duas metodologias, Este perfil é compatível com ausência de infecção por este vírus, ou ausência de soroconversão no período decorrido entre a infecção e a coleta, Estudos demonstram que, sobretudo em pessoas que apresentaram quadro clínico leve ou não apresentaram sintomas, a soroconversão pode ocorrer mais tardiamente, em baixos níveis de anticorpos, ou mesmo não ocorrer, Desse modo, podem haver resultados negativos de sorologia mesmo em casos de doença anteriormente confirmada por PCR, Se persitir a hipótese diagnóstica, sugere-se seguimento sorológico em, no mínimo, 14 dias,' : 0,\n",
        "   'Detectados anticorpos da classe IgG contra SARS-CoV-2, Este perfil é compatível com infecção pregressa, Estudos demonstram que, sobretudo em pessoas que apresentaram quadro clínico leve ou não apresentaram sintomas, os níveis de anticorpos podem diminuir ao longo do tempo, podendo inclusive, se tornar indetectáveis (negativos), O papel destes anticorpos na proteção contra reinfecção não é completamente estabelecido,' : 1,\n",
        "   'Detectados anticorpos das classes IgM e IgG contra SARS-CoV-2, Este perfil sugere infecção recente, Estudos demonstram que, sobretudo em pessoas que apresentaram quadro clínico leve ou não apresentaram sintomas, os níveis de anticorpos podem diminuir ao longo do tempo, podendo inclusive, se tornar indetectáveis (negativos), O papel destes anticorpos na proteção contra reinfecção não é completamente estabelecido,' : 1,\n",
        "   'Detectados anticorpos da classe IgM contra SARS-CoV-2, em apenas uma das metodologias utilizadas, A possibilidade de falsa reatividade não pode ser descartada, Sugere-se seguimento sorológico em, no mínimo, 7 dias,' : 1,\n",
        "   'Detectados anticorpos da classe IgM contra SARS-CoV-2, Este perfil é compatível com soroconversão inicial ou produção de baixos níveis de anticorpos da classe IgG, Estudos demonstram que, sobretudo em pessoas que apresentaram quadro clínico leve ou não apresentaram sintomas, a soroconversão pode ocorrer mais tardiamente, em baixos níveis de anticorpos, ou mesmo não ocorrer, Sugere-se seguimento sorológico para avaliar a soroconversão de IgG em, no mínimo, 7 dias,' : 1\n",
        "}\n",
        "exames_soro_7 = data_exames_HSL[analito]\n",
        "exames_soro_7['DE_RESULTADO'] = exames_soro_7['DE_RESULTADO'].map(resultados_map)\n",
        "exames_soro_7.drop(['DE_ORIGEM', 'DE_EXAME', 'DE_ANALITO', 'CD_UNIDADE', 'DE_VALOR_REFERENCIA'], axis=1, inplace=True)\n",
        "exames_soro_7.head(10)"
      ],
      "execution_count": 108,
      "outputs": [
        {
          "output_type": "stream",
          "text": [
            "/usr/local/lib/python3.6/dist-packages/ipykernel_launcher.py:14: SettingWithCopyWarning: \n",
            "A value is trying to be set on a copy of a slice from a DataFrame.\n",
            "Try using .loc[row_indexer,col_indexer] = value instead\n",
            "\n",
            "See the caveats in the documentation: https://pandas.pydata.org/pandas-docs/stable/user_guide/indexing.html#returning-a-view-versus-a-copy\n",
            "  \n",
            "/usr/local/lib/python3.6/dist-packages/pandas/core/frame.py:4169: SettingWithCopyWarning: \n",
            "A value is trying to be set on a copy of a slice from a DataFrame\n",
            "\n",
            "See the caveats in the documentation: https://pandas.pydata.org/pandas-docs/stable/user_guide/indexing.html#returning-a-view-versus-a-copy\n",
            "  errors=errors,\n"
          ],
          "name": "stderr"
        },
        {
          "output_type": "execute_result",
          "data": {
            "text/html": [
              "<div>\n",
              "<style scoped>\n",
              "    .dataframe tbody tr th:only-of-type {\n",
              "        vertical-align: middle;\n",
              "    }\n",
              "\n",
              "    .dataframe tbody tr th {\n",
              "        vertical-align: top;\n",
              "    }\n",
              "\n",
              "    .dataframe thead th {\n",
              "        text-align: right;\n",
              "    }\n",
              "</style>\n",
              "<table border=\"1\" class=\"dataframe\">\n",
              "  <thead>\n",
              "    <tr style=\"text-align: right;\">\n",
              "      <th></th>\n",
              "      <th>ID_PACIENTE</th>\n",
              "      <th>ID_ATENDIMENTO</th>\n",
              "      <th>DT_COLETA</th>\n",
              "      <th>DE_RESULTADO</th>\n",
              "    </tr>\n",
              "  </thead>\n",
              "  <tbody>\n",
              "    <tr>\n",
              "      <th>2859</th>\n",
              "      <td>C3A3D083DBC1353FAB5F87282EE86633</td>\n",
              "      <td>6A9B541EE6A6510F2803E96E47EEB5DA</td>\n",
              "      <td>2020-07-23</td>\n",
              "      <td>0</td>\n",
              "    </tr>\n",
              "    <tr>\n",
              "      <th>35311</th>\n",
              "      <td>A5D8D706FE441C2060E2D180EC8709F0</td>\n",
              "      <td>8D09EF803B5BC8ED18F6F6947101803B</td>\n",
              "      <td>2020-07-14</td>\n",
              "      <td>1</td>\n",
              "    </tr>\n",
              "    <tr>\n",
              "      <th>99411</th>\n",
              "      <td>ED694041A831B3CF79B98D4659B03E99</td>\n",
              "      <td>BDF2314F34B5B1314FD1A0CF67957EB7</td>\n",
              "      <td>2020-07-30</td>\n",
              "      <td>1</td>\n",
              "    </tr>\n",
              "    <tr>\n",
              "      <th>120373</th>\n",
              "      <td>0375A54F4BAD09CEA28A86FEB1FD37AD</td>\n",
              "      <td>4695B23F40CBB5EE013290B1E149858C</td>\n",
              "      <td>2020-07-14</td>\n",
              "      <td>1</td>\n",
              "    </tr>\n",
              "    <tr>\n",
              "      <th>126594</th>\n",
              "      <td>2C0F9E3F2F4B1705DC919E2EEA1E72E0</td>\n",
              "      <td>F1113AC32BF8D25132075A2D182911F9</td>\n",
              "      <td>2020-07-13</td>\n",
              "      <td>1</td>\n",
              "    </tr>\n",
              "    <tr>\n",
              "      <th>150438</th>\n",
              "      <td>12A7373EDDEBBDC33A7A100602BE88F0</td>\n",
              "      <td>4B19E21886D2FA7AE5C3F0A220AEC9C4</td>\n",
              "      <td>2020-07-30</td>\n",
              "      <td>1</td>\n",
              "    </tr>\n",
              "    <tr>\n",
              "      <th>152291</th>\n",
              "      <td>0C398FB1D321F7159F93A84B3E426E48</td>\n",
              "      <td>31AEC40442113B4BA08DB1A405C6940B</td>\n",
              "      <td>2020-07-20</td>\n",
              "      <td>0</td>\n",
              "    </tr>\n",
              "    <tr>\n",
              "      <th>168371</th>\n",
              "      <td>BA790968FE3039D95F8B0EEE3A9C9B35</td>\n",
              "      <td>7A43189DE8542C8D2B69B47F7C405939</td>\n",
              "      <td>2020-07-21</td>\n",
              "      <td>1</td>\n",
              "    </tr>\n",
              "    <tr>\n",
              "      <th>168833</th>\n",
              "      <td>EFA28A2C29618475B2836000FE55EF69</td>\n",
              "      <td>4C784E823C0A2012D316A3116E6A2745</td>\n",
              "      <td>2020-07-31</td>\n",
              "      <td>1</td>\n",
              "    </tr>\n",
              "    <tr>\n",
              "      <th>169110</th>\n",
              "      <td>C33DEE8231AD0374CAF93E52C5A473E5</td>\n",
              "      <td>487702DD590C0689BDC7B253E37538D4</td>\n",
              "      <td>2020-08-03</td>\n",
              "      <td>1</td>\n",
              "    </tr>\n",
              "  </tbody>\n",
              "</table>\n",
              "</div>"
            ],
            "text/plain": [
              "                             ID_PACIENTE  ... DE_RESULTADO\n",
              "2859    C3A3D083DBC1353FAB5F87282EE86633  ...            0\n",
              "35311   A5D8D706FE441C2060E2D180EC8709F0  ...            1\n",
              "99411   ED694041A831B3CF79B98D4659B03E99  ...            1\n",
              "120373  0375A54F4BAD09CEA28A86FEB1FD37AD  ...            1\n",
              "126594  2C0F9E3F2F4B1705DC919E2EEA1E72E0  ...            1\n",
              "150438  12A7373EDDEBBDC33A7A100602BE88F0  ...            1\n",
              "152291  0C398FB1D321F7159F93A84B3E426E48  ...            0\n",
              "168371  BA790968FE3039D95F8B0EEE3A9C9B35  ...            1\n",
              "168833  EFA28A2C29618475B2836000FE55EF69  ...            1\n",
              "169110  C33DEE8231AD0374CAF93E52C5A473E5  ...            1\n",
              "\n",
              "[10 rows x 4 columns]"
            ]
          },
          "metadata": {
            "tags": []
          },
          "execution_count": 108
        }
      ]
    },
    {
      "cell_type": "markdown",
      "metadata": {
        "id": "qZT1leNCQvcj"
      },
      "source": [
        "#####**Covid 19, Sorologia - Conclusão**"
      ]
    },
    {
      "cell_type": "code",
      "metadata": {
        "id": "H4nyRRHAWORU",
        "outputId": "b77dc66c-1ed7-4b03-ba85-6c7156030acb",
        "colab": {
          "base_uri": "https://localhost:8080/",
          "height": 0
        }
      },
      "source": [
        "# Temos resultados tanto numéricos quanto categóricos, que descrevem se foi detectado COVID ou não no paciente.\n",
        "# Nesse caso, precisamos analisar os analitos separadamente, caracterizando para cada um se o paciente teve ou\n",
        "# não COVID. Essa análise mais detalhada é importante, pois a princípio, os testes sorológicos são mais confiáveis\n",
        "# do que os testes PCR e os testes rápidos.\n",
        "data_exames_HSL[exames_covid_soro]['DE_ANALITO'].unique()"
      ],
      "execution_count": 109,
      "outputs": [
        {
          "output_type": "execute_result",
          "data": {
            "text/plain": [
              "array(['Covid 19, Anticorpos IgG, Quimiolumin.-Índice',\n",
              "       'Covid 19, Anticorpos IgG, Quimioluminescência',\n",
              "       'Covid 19, Anticorpos IgM, Quimiolumin.-Índice',\n",
              "       'Covid 19, Anticorpos IgM, Quimioluminescência',\n",
              "       'Covid 19, Anticorpos Totais, Eletroquim-Índic',\n",
              "       'Covid 19, Anticorpos Totais, Eletroquimiolumi',\n",
              "       'Covid 19, Sorologia - Interpretação',\n",
              "       'Covid 19, Sorologia - Conclusão'], dtype=object)"
            ]
          },
          "metadata": {
            "tags": []
          },
          "execution_count": 109
        }
      ]
    },
    {
      "cell_type": "code",
      "metadata": {
        "id": "yZ_DmWskbJxI",
        "outputId": "e3d4352f-f031-4326-8237-e2747f7d680b",
        "colab": {
          "base_uri": "https://localhost:8080/",
          "height": 0
        }
      },
      "source": [
        "# Para cada analito, precisamos saber o valor de referência para identificar se os resultados indicam ou não\n",
        "# presença de COVID.\n",
        "analito = (data_exames_HSL['DE_EXAME'] == 'COVID-19-Sorologia IgM e IgG por quimiluminescência, soro') & (data_exames_HSL['DE_ANALITO'] == 'Covid 19, Sorologia - Conclusão')\n",
        "data_exames_HSL[analito]['DE_VALOR_REFERENCIA'].unique()"
      ],
      "execution_count": 110,
      "outputs": [
        {
          "output_type": "execute_result",
          "data": {
            "text/plain": [
              "array([nan], dtype=object)"
            ]
          },
          "metadata": {
            "tags": []
          },
          "execution_count": 110
        }
      ]
    },
    {
      "cell_type": "code",
      "metadata": {
        "id": "bEjwobPlbJxN",
        "outputId": "69366c3a-756f-4d7e-8118-c239293b52f5",
        "colab": {
          "base_uri": "https://localhost:8080/",
          "height": 0
        }
      },
      "source": [
        "# Obtendo os valores numéricos referentes ao analito atual\n",
        "data_exames_HSL[analito]['DE_RESULTADO'].unique()"
      ],
      "execution_count": 111,
      "outputs": [
        {
          "output_type": "execute_result",
          "data": {
            "text/plain": [
              "array(['Amostra REAGENTE para IgM e IgG contra SARS-CoV-2,',\n",
              "       'Amostra REAGENTE para IgG contra SARS-CoV-2,',\n",
              "       'Amostra REAGENTE para IgM contra SARS-CoV-2,'], dtype=object)"
            ]
          },
          "metadata": {
            "tags": []
          },
          "execution_count": 111
        }
      ]
    },
    {
      "cell_type": "code",
      "metadata": {
        "id": "4WS1Rwl2bJxQ",
        "outputId": "0e56b035-25b6-4a24-b31e-f3ec098fd25d",
        "colab": {
          "base_uri": "https://localhost:8080/",
          "height": 0
        }
      },
      "source": [
        "# Vamos adotar como padrão que:\n",
        "#\n",
        "# 0 => COVID não detectado no paciente\n",
        "# 1 => COVID detectado no paciente\n",
        "#\n",
        "resultados_map = {\n",
        "   'Amostra REAGENTE para IgM e IgG contra SARS-CoV-2,' : 1,\n",
        "   'Amostra REAGENTE para IgG contra SARS-CoV-2,' : 1,\n",
        "   'Amostra REAGENTE para IgM contra SARS-CoV-2,' : 1\n",
        "}\n",
        "exames_soro_8 = data_exames_HSL[analito]\n",
        "exames_soro_8['DE_RESULTADO'] = exames_soro_8['DE_RESULTADO'].map(resultados_map)\n",
        "exames_soro_8.drop(['DE_ORIGEM', 'DE_EXAME', 'DE_ANALITO', 'CD_UNIDADE', 'DE_VALOR_REFERENCIA'], axis=1, inplace=True)\n",
        "exames_soro_8.head(10)"
      ],
      "execution_count": 112,
      "outputs": [
        {
          "output_type": "stream",
          "text": [
            "/usr/local/lib/python3.6/dist-packages/ipykernel_launcher.py:12: SettingWithCopyWarning: \n",
            "A value is trying to be set on a copy of a slice from a DataFrame.\n",
            "Try using .loc[row_indexer,col_indexer] = value instead\n",
            "\n",
            "See the caveats in the documentation: https://pandas.pydata.org/pandas-docs/stable/user_guide/indexing.html#returning-a-view-versus-a-copy\n",
            "  if sys.path[0] == '':\n",
            "/usr/local/lib/python3.6/dist-packages/pandas/core/frame.py:4169: SettingWithCopyWarning: \n",
            "A value is trying to be set on a copy of a slice from a DataFrame\n",
            "\n",
            "See the caveats in the documentation: https://pandas.pydata.org/pandas-docs/stable/user_guide/indexing.html#returning-a-view-versus-a-copy\n",
            "  errors=errors,\n"
          ],
          "name": "stderr"
        },
        {
          "output_type": "execute_result",
          "data": {
            "text/html": [
              "<div>\n",
              "<style scoped>\n",
              "    .dataframe tbody tr th:only-of-type {\n",
              "        vertical-align: middle;\n",
              "    }\n",
              "\n",
              "    .dataframe tbody tr th {\n",
              "        vertical-align: top;\n",
              "    }\n",
              "\n",
              "    .dataframe thead th {\n",
              "        text-align: right;\n",
              "    }\n",
              "</style>\n",
              "<table border=\"1\" class=\"dataframe\">\n",
              "  <thead>\n",
              "    <tr style=\"text-align: right;\">\n",
              "      <th></th>\n",
              "      <th>ID_PACIENTE</th>\n",
              "      <th>ID_ATENDIMENTO</th>\n",
              "      <th>DT_COLETA</th>\n",
              "      <th>DE_RESULTADO</th>\n",
              "    </tr>\n",
              "  </thead>\n",
              "  <tbody>\n",
              "    <tr>\n",
              "      <th>99412</th>\n",
              "      <td>ED694041A831B3CF79B98D4659B03E99</td>\n",
              "      <td>BDF2314F34B5B1314FD1A0CF67957EB7</td>\n",
              "      <td>2020-07-30</td>\n",
              "      <td>1</td>\n",
              "    </tr>\n",
              "    <tr>\n",
              "      <th>150439</th>\n",
              "      <td>12A7373EDDEBBDC33A7A100602BE88F0</td>\n",
              "      <td>4B19E21886D2FA7AE5C3F0A220AEC9C4</td>\n",
              "      <td>2020-07-30</td>\n",
              "      <td>1</td>\n",
              "    </tr>\n",
              "    <tr>\n",
              "      <th>168834</th>\n",
              "      <td>EFA28A2C29618475B2836000FE55EF69</td>\n",
              "      <td>4C784E823C0A2012D316A3116E6A2745</td>\n",
              "      <td>2020-07-31</td>\n",
              "      <td>1</td>\n",
              "    </tr>\n",
              "    <tr>\n",
              "      <th>169111</th>\n",
              "      <td>C33DEE8231AD0374CAF93E52C5A473E5</td>\n",
              "      <td>487702DD590C0689BDC7B253E37538D4</td>\n",
              "      <td>2020-08-03</td>\n",
              "      <td>1</td>\n",
              "    </tr>\n",
              "    <tr>\n",
              "      <th>196147</th>\n",
              "      <td>272EA87C1ECF3B38BE4D127B4B546408</td>\n",
              "      <td>B91F954CD4BAE535AAF5CE3B0D849EC6</td>\n",
              "      <td>2020-08-05</td>\n",
              "      <td>1</td>\n",
              "    </tr>\n",
              "    <tr>\n",
              "      <th>202352</th>\n",
              "      <td>5983EE3C052F98669F571E7235C43E05</td>\n",
              "      <td>7C5773B4522179D2AC5078F0F3EC9EF9</td>\n",
              "      <td>2020-08-02</td>\n",
              "      <td>1</td>\n",
              "    </tr>\n",
              "    <tr>\n",
              "      <th>232864</th>\n",
              "      <td>64749E97F6737AE1B293B8B4A23A0C16</td>\n",
              "      <td>AD28C524F5882EC5E351BCD54101A9A4</td>\n",
              "      <td>2020-08-03</td>\n",
              "      <td>1</td>\n",
              "    </tr>\n",
              "    <tr>\n",
              "      <th>242607</th>\n",
              "      <td>F9B7D5131D98174A6951210AAB4ECB7E</td>\n",
              "      <td>1E97DF294207A4FBDC373B995BB79A35</td>\n",
              "      <td>2020-08-10</td>\n",
              "      <td>1</td>\n",
              "    </tr>\n",
              "  </tbody>\n",
              "</table>\n",
              "</div>"
            ],
            "text/plain": [
              "                             ID_PACIENTE  ... DE_RESULTADO\n",
              "99412   ED694041A831B3CF79B98D4659B03E99  ...            1\n",
              "150439  12A7373EDDEBBDC33A7A100602BE88F0  ...            1\n",
              "168834  EFA28A2C29618475B2836000FE55EF69  ...            1\n",
              "169111  C33DEE8231AD0374CAF93E52C5A473E5  ...            1\n",
              "196147  272EA87C1ECF3B38BE4D127B4B546408  ...            1\n",
              "202352  5983EE3C052F98669F571E7235C43E05  ...            1\n",
              "232864  64749E97F6737AE1B293B8B4A23A0C16  ...            1\n",
              "242607  F9B7D5131D98174A6951210AAB4ECB7E  ...            1\n",
              "\n",
              "[8 rows x 4 columns]"
            ]
          },
          "metadata": {
            "tags": []
          },
          "execution_count": 112
        }
      ]
    },
    {
      "cell_type": "code",
      "metadata": {
        "id": "3MeliLB10eZE",
        "outputId": "68084a9f-0655-462c-fb04-e920ab532af8",
        "colab": {
          "base_uri": "https://localhost:8080/",
          "height": 0
        }
      },
      "source": [
        "# Precisamos descobrir qual o valor de referência\n",
        "sel = (data_exames_HSL['DE_EXAME'] == 'COVID-19-Sorologia IgM e IgG por quimiluminescência, soro')\n",
        "data_exames_HSL[sel]['DE_VALOR_REFERENCIA'].unique()"
      ],
      "execution_count": 113,
      "outputs": [
        {
          "output_type": "execute_result",
          "data": {
            "text/plain": [
              "array(['inferior a 0,8', 'Não reagente', 'inferior a 0,6', nan,\n",
              "       'inferior a 0,9', 'inferior a 0,7'], dtype=object)"
            ]
          },
          "metadata": {
            "tags": []
          },
          "execution_count": 113
        }
      ]
    },
    {
      "cell_type": "code",
      "metadata": {
        "id": "ej2XrEavdPGz"
      },
      "source": [
        "# Dos resultados distintos observados na lista acima, nos interessamos somente pelos que permitem identificar\n",
        "# ou não a presença de anticorpos para COVID-19 nos pacientes, representados na lista abaixo.\n",
        "resultados_soro = ['REAGENTE', \n",
        "                   'NÃO REAGENTE',  \n",
        "                   'Indeterminado',\n",
        "                   'Ausência de anticorpos contra SARS-CoV-2 detectáveis nesta amostra, após análise em duas metodologias, Este perfil é compatível com ausência de infecção por este vírus, ou ausência de soroconversão no período decorrido entre a infecção e a coleta, Estudos demonstram que, sobretudo em pessoas que apresentaram quadro clínico leve ou não apresentaram sintomas, a soroconversão pode ocorrer mais tardiamente, em baixos níveis de anticorpos, ou mesmo não ocorrer, Desse modo, podem haver resultados negativos de sorologia mesmo em casos de doença anteriormente confirmada por PCR, Se persitir a hipótese diagnóstica, sugere-se seguimento sorológico em, no mínimo, 14 dias,', 'Detectados anticorpos da classe IgG contra SARS-CoV-2, Este perfil é compatível com infecção pregressa, Estudos demonstram que, sobretudo em pessoas que apresentaram quadro clínico leve ou não apresentaram sintomas, os níveis de anticorpos podem diminuir ao longo do tempo, podendo inclusive, se tornar indetectáveis (negativos), O papel destes anticorpos na proteção contra reinfecção não é completamente estabelecido,',\n",
        "                   'Detectados anticorpos das classes IgM e IgG contra SARS-CoV-2, Este perfil sugere infecção recente, Estudos demonstram que, sobretudo em pessoas que apresentaram quadro clínico leve ou não apresentaram sintomas, os níveis de anticorpos podem diminuir ao longo do tempo, podendo inclusive, se tornar indetectáveis (negativos), O papel destes anticorpos na proteção contra reinfecção não é completamente estabelecido,',\n",
        "                   'Amostra REAGENTE para IgM e IgG contra SARS-CoV-2,', \n",
        "                   'Amostra REAGENTE para IgG contra SARS-CoV-2,', \n",
        "                   'Detectados anticorpos da classe IgM contra SARS-CoV-2, em apenas uma das metodologias utilizadas, A possibilidade de falsa reatividade não pode ser descartada, Sugere-se seguimento sorológico em, no mínimo, 7 dias,',\n",
        "                   'Detectados anticorpos da classe IgM contra SARS-CoV-2, Este perfil é compatível com soroconversão inicial ou produção de baixos níveis de anticorpos da classe IgG, Estudos demonstram que, sobretudo em pessoas que apresentaram quadro clínico leve ou não apresentaram sintomas, a soroconversão pode ocorrer mais tardiamente, em baixos níveis de anticorpos, ou mesmo não ocorrer, Sugere-se seguimento sorológico para avaliar a soroconversão de IgG em, no mínimo, 7 dias,',\n",
        "                   'Amostra REAGENTE para IgM contra SARS-CoV-2,']"
      ],
      "execution_count": 114,
      "outputs": []
    },
    {
      "cell_type": "code",
      "metadata": {
        "id": "aNgnFrLzf04p",
        "outputId": "120878e4-e70f-43a3-f045-e81ec2adc138",
        "colab": {
          "base_uri": "https://localhost:8080/",
          "height": 0
        }
      },
      "source": [
        "# Selecionando os testes sorológicos com somente os resultados listados acima\n",
        "sel_exames_soro = (data_exames_HSL['DE_EXAME'] == 'COVID-19-Sorologia IgM e IgG por quimiluminescência, soro') & (data_exames_HSL[exames_covid_soro]['DE_RESULTADO'].isin(resultados_soro))\n",
        "exames_soro = data_exames_HSL[sel_exames_soro]\n",
        "exames_soro.head(10)"
      ],
      "execution_count": 115,
      "outputs": [
        {
          "output_type": "execute_result",
          "data": {
            "text/html": [
              "<div>\n",
              "<style scoped>\n",
              "    .dataframe tbody tr th:only-of-type {\n",
              "        vertical-align: middle;\n",
              "    }\n",
              "\n",
              "    .dataframe tbody tr th {\n",
              "        vertical-align: top;\n",
              "    }\n",
              "\n",
              "    .dataframe thead th {\n",
              "        text-align: right;\n",
              "    }\n",
              "</style>\n",
              "<table border=\"1\" class=\"dataframe\">\n",
              "  <thead>\n",
              "    <tr style=\"text-align: right;\">\n",
              "      <th></th>\n",
              "      <th>ID_PACIENTE</th>\n",
              "      <th>ID_ATENDIMENTO</th>\n",
              "      <th>DT_COLETA</th>\n",
              "      <th>DE_ORIGEM</th>\n",
              "      <th>DE_EXAME</th>\n",
              "      <th>DE_ANALITO</th>\n",
              "      <th>DE_RESULTADO</th>\n",
              "      <th>CD_UNIDADE</th>\n",
              "      <th>DE_VALOR_REFERENCIA</th>\n",
              "    </tr>\n",
              "  </thead>\n",
              "  <tbody>\n",
              "    <tr>\n",
              "      <th>91</th>\n",
              "      <td>3487791F44C34B421C932DC8616A8437</td>\n",
              "      <td>11676CFEEF6A4CDD49B0A74D3F3A85EC</td>\n",
              "      <td>2020-05-25</td>\n",
              "      <td>Recepção do Centro Diagnóstico</td>\n",
              "      <td>COVID-19-Sorologia IgM e IgG por quimiluminesc...</td>\n",
              "      <td>Covid 19, Anticorpos IgG, Quimioluminescência</td>\n",
              "      <td>REAGENTE</td>\n",
              "      <td>NaN</td>\n",
              "      <td>Não reagente</td>\n",
              "    </tr>\n",
              "    <tr>\n",
              "      <th>93</th>\n",
              "      <td>3487791F44C34B421C932DC8616A8437</td>\n",
              "      <td>11676CFEEF6A4CDD49B0A74D3F3A85EC</td>\n",
              "      <td>2020-05-25</td>\n",
              "      <td>Recepção do Centro Diagnóstico</td>\n",
              "      <td>COVID-19-Sorologia IgM e IgG por quimiluminesc...</td>\n",
              "      <td>Covid 19, Anticorpos IgM, Quimioluminescência</td>\n",
              "      <td>REAGENTE</td>\n",
              "      <td>NaN</td>\n",
              "      <td>Não reagente</td>\n",
              "    </tr>\n",
              "    <tr>\n",
              "      <th>1218</th>\n",
              "      <td>F5B5BD59D98836D8AA2D8C27B01225AB</td>\n",
              "      <td>FBF3FC0FD4890AF6B6EBFE6BFC12EC0C</td>\n",
              "      <td>2020-06-07</td>\n",
              "      <td>UTI</td>\n",
              "      <td>COVID-19-Sorologia IgM e IgG por quimiluminesc...</td>\n",
              "      <td>Covid 19, Anticorpos IgG, Quimioluminescência</td>\n",
              "      <td>REAGENTE</td>\n",
              "      <td>NaN</td>\n",
              "      <td>Não reagente</td>\n",
              "    </tr>\n",
              "    <tr>\n",
              "      <th>1220</th>\n",
              "      <td>F5B5BD59D98836D8AA2D8C27B01225AB</td>\n",
              "      <td>FBF3FC0FD4890AF6B6EBFE6BFC12EC0C</td>\n",
              "      <td>2020-06-07</td>\n",
              "      <td>UTI</td>\n",
              "      <td>COVID-19-Sorologia IgM e IgG por quimiluminesc...</td>\n",
              "      <td>Covid 19, Anticorpos IgM, Quimioluminescência</td>\n",
              "      <td>REAGENTE</td>\n",
              "      <td>NaN</td>\n",
              "      <td>Não reagente</td>\n",
              "    </tr>\n",
              "    <tr>\n",
              "      <th>2854</th>\n",
              "      <td>C3A3D083DBC1353FAB5F87282EE86633</td>\n",
              "      <td>6A9B541EE6A6510F2803E96E47EEB5DA</td>\n",
              "      <td>2020-07-23</td>\n",
              "      <td>Laboratório de Patologia Clínica</td>\n",
              "      <td>COVID-19-Sorologia IgM e IgG por quimiluminesc...</td>\n",
              "      <td>Covid 19, Anticorpos Totais, Eletroquimiolumi</td>\n",
              "      <td>NÃO REAGENTE</td>\n",
              "      <td>NaN</td>\n",
              "      <td>Não reagente</td>\n",
              "    </tr>\n",
              "    <tr>\n",
              "      <th>2856</th>\n",
              "      <td>C3A3D083DBC1353FAB5F87282EE86633</td>\n",
              "      <td>6A9B541EE6A6510F2803E96E47EEB5DA</td>\n",
              "      <td>2020-07-23</td>\n",
              "      <td>Laboratório de Patologia Clínica</td>\n",
              "      <td>COVID-19-Sorologia IgM e IgG por quimiluminesc...</td>\n",
              "      <td>Covid 19, Anticorpos IgG, Quimioluminescência</td>\n",
              "      <td>NÃO REAGENTE</td>\n",
              "      <td>UA/mL</td>\n",
              "      <td>Não reagente</td>\n",
              "    </tr>\n",
              "    <tr>\n",
              "      <th>2858</th>\n",
              "      <td>C3A3D083DBC1353FAB5F87282EE86633</td>\n",
              "      <td>6A9B541EE6A6510F2803E96E47EEB5DA</td>\n",
              "      <td>2020-07-23</td>\n",
              "      <td>Laboratório de Patologia Clínica</td>\n",
              "      <td>COVID-19-Sorologia IgM e IgG por quimiluminesc...</td>\n",
              "      <td>Covid 19, Anticorpos IgM, Quimioluminescência</td>\n",
              "      <td>Indeterminado</td>\n",
              "      <td>UA/mL</td>\n",
              "      <td>Não reagente</td>\n",
              "    </tr>\n",
              "    <tr>\n",
              "      <th>2859</th>\n",
              "      <td>C3A3D083DBC1353FAB5F87282EE86633</td>\n",
              "      <td>6A9B541EE6A6510F2803E96E47EEB5DA</td>\n",
              "      <td>2020-07-23</td>\n",
              "      <td>Laboratório de Patologia Clínica</td>\n",
              "      <td>COVID-19-Sorologia IgM e IgG por quimiluminesc...</td>\n",
              "      <td>Covid 19, Sorologia - Interpretação</td>\n",
              "      <td>Ausência de anticorpos contra SARS-CoV-2 detec...</td>\n",
              "      <td>NaN</td>\n",
              "      <td>NaN</td>\n",
              "    </tr>\n",
              "    <tr>\n",
              "      <th>2865</th>\n",
              "      <td>BEBA451E2C91A4D869D14EE790FE78FD</td>\n",
              "      <td>F00A8B071066A41020B80A1F2F590663</td>\n",
              "      <td>2020-05-31</td>\n",
              "      <td>UTI</td>\n",
              "      <td>COVID-19-Sorologia IgM e IgG por quimiluminesc...</td>\n",
              "      <td>Covid 19, Anticorpos IgG, Quimioluminescência</td>\n",
              "      <td>NÃO REAGENTE</td>\n",
              "      <td>NaN</td>\n",
              "      <td>Não reagente</td>\n",
              "    </tr>\n",
              "    <tr>\n",
              "      <th>2867</th>\n",
              "      <td>BEBA451E2C91A4D869D14EE790FE78FD</td>\n",
              "      <td>F00A8B071066A41020B80A1F2F590663</td>\n",
              "      <td>2020-05-31</td>\n",
              "      <td>UTI</td>\n",
              "      <td>COVID-19-Sorologia IgM e IgG por quimiluminesc...</td>\n",
              "      <td>Covid 19, Anticorpos IgM, Quimioluminescência</td>\n",
              "      <td>NÃO REAGENTE</td>\n",
              "      <td>NaN</td>\n",
              "      <td>Não reagente</td>\n",
              "    </tr>\n",
              "  </tbody>\n",
              "</table>\n",
              "</div>"
            ],
            "text/plain": [
              "                           ID_PACIENTE  ... DE_VALOR_REFERENCIA\n",
              "91    3487791F44C34B421C932DC8616A8437  ...        Não reagente\n",
              "93    3487791F44C34B421C932DC8616A8437  ...        Não reagente\n",
              "1218  F5B5BD59D98836D8AA2D8C27B01225AB  ...        Não reagente\n",
              "1220  F5B5BD59D98836D8AA2D8C27B01225AB  ...        Não reagente\n",
              "2854  C3A3D083DBC1353FAB5F87282EE86633  ...        Não reagente\n",
              "2856  C3A3D083DBC1353FAB5F87282EE86633  ...        Não reagente\n",
              "2858  C3A3D083DBC1353FAB5F87282EE86633  ...        Não reagente\n",
              "2859  C3A3D083DBC1353FAB5F87282EE86633  ...                 NaN\n",
              "2865  BEBA451E2C91A4D869D14EE790FE78FD  ...        Não reagente\n",
              "2867  BEBA451E2C91A4D869D14EE790FE78FD  ...        Não reagente\n",
              "\n",
              "[10 rows x 9 columns]"
            ]
          },
          "metadata": {
            "tags": []
          },
          "execution_count": 115
        }
      ]
    },
    {
      "cell_type": "code",
      "metadata": {
        "id": "mnoUvTYnd_dE",
        "outputId": "8c9b00bf-c39f-4741-f480-5d1db62bf593",
        "colab": {
          "base_uri": "https://localhost:8080/",
          "height": 0
        }
      },
      "source": [
        "# Precisamos agora mapear cada um desses resultados para detecção ou não de COVID-19:\n",
        "#\n",
        "# 0 => Não foram detectados anticorpos para COVID-19\n",
        "# 1 => Detectados anticorpos para COVID-19\n",
        "soro_map = {\n",
        "    'REAGENTE': 1,\n",
        "    'NÃO REAGENTE': 0,\n",
        "    'Indeterminado' : 0,\n",
        "    'Ausência de anticorpos contra SARS-CoV-2 detectáveis nesta amostra, após análise em duas metodologias, Este perfil é compatível com ausência de infecção por este vírus, ou ausência de soroconversão no período decorrido entre a infecção e a coleta, Estudos demonstram que, sobretudo em pessoas que apresentaram quadro clínico leve ou não apresentaram sintomas, a soroconversão pode ocorrer mais tardiamente, em baixos níveis de anticorpos, ou mesmo não ocorrer, Desse modo, podem haver resultados negativos de sorologia mesmo em casos de doença anteriormente confirmada por PCR, Se persitir a hipótese diagnóstica, sugere-se seguimento sorológico em, no mínimo, 14 dias,' : 0,\n",
        "    'Detectados anticorpos das classes IgM e IgG contra SARS-CoV-2, Este perfil sugere infecção recente, Estudos demonstram que, sobretudo em pessoas que apresentaram quadro clínico leve ou não apresentaram sintomas, os níveis de anticorpos podem diminuir ao longo do tempo, podendo inclusive, se tornar indetectáveis (negativos), O papel destes anticorpos na proteção contra reinfecção não é completamente estabelecido,' : 1,\n",
        "    'Amostra REAGENTE para IgM e IgG contra SARS-CoV-2,': 1,\n",
        "    'Amostra REAGENTE para IgG contra SARS-CoV-2,' : 1, \n",
        "    'Detectados anticorpos da classe IgM contra SARS-CoV-2, em apenas uma das metodologias utilizadas, A possibilidade de falsa reatividade não pode ser descartada, Sugere-se seguimento sorológico em, no mínimo, 7 dias,' : 1,                   \n",
        "    'Detectados anticorpos da classe IgM contra SARS-CoV-2, Este perfil é compatível com soroconversão inicial ou produção de baixos níveis de anticorpos da classe IgG, Estudos demonstram que, sobretudo em pessoas que apresentaram quadro clínico leve ou não apresentaram sintomas, a soroconversão pode ocorrer mais tardiamente, em baixos níveis de anticorpos, ou mesmo não ocorrer, Sugere-se seguimento sorológico para avaliar a soroconversão de IgG em, no mínimo, 7 dias,' : 0,\n",
        "    'Amostra REAGENTE para IgM contra SARS-CoV-2,' : 1\n",
        "}\n",
        "\n",
        "exames_soro['DE_RESULTADO'] = exames_soro['DE_RESULTADO'].map(soro_map)\n",
        "exames_soro.head(10)"
      ],
      "execution_count": 116,
      "outputs": [
        {
          "output_type": "stream",
          "text": [
            "/usr/local/lib/python3.6/dist-packages/ipykernel_launcher.py:18: SettingWithCopyWarning: \n",
            "A value is trying to be set on a copy of a slice from a DataFrame.\n",
            "Try using .loc[row_indexer,col_indexer] = value instead\n",
            "\n",
            "See the caveats in the documentation: https://pandas.pydata.org/pandas-docs/stable/user_guide/indexing.html#returning-a-view-versus-a-copy\n"
          ],
          "name": "stderr"
        },
        {
          "output_type": "execute_result",
          "data": {
            "text/html": [
              "<div>\n",
              "<style scoped>\n",
              "    .dataframe tbody tr th:only-of-type {\n",
              "        vertical-align: middle;\n",
              "    }\n",
              "\n",
              "    .dataframe tbody tr th {\n",
              "        vertical-align: top;\n",
              "    }\n",
              "\n",
              "    .dataframe thead th {\n",
              "        text-align: right;\n",
              "    }\n",
              "</style>\n",
              "<table border=\"1\" class=\"dataframe\">\n",
              "  <thead>\n",
              "    <tr style=\"text-align: right;\">\n",
              "      <th></th>\n",
              "      <th>ID_PACIENTE</th>\n",
              "      <th>ID_ATENDIMENTO</th>\n",
              "      <th>DT_COLETA</th>\n",
              "      <th>DE_ORIGEM</th>\n",
              "      <th>DE_EXAME</th>\n",
              "      <th>DE_ANALITO</th>\n",
              "      <th>DE_RESULTADO</th>\n",
              "      <th>CD_UNIDADE</th>\n",
              "      <th>DE_VALOR_REFERENCIA</th>\n",
              "    </tr>\n",
              "  </thead>\n",
              "  <tbody>\n",
              "    <tr>\n",
              "      <th>91</th>\n",
              "      <td>3487791F44C34B421C932DC8616A8437</td>\n",
              "      <td>11676CFEEF6A4CDD49B0A74D3F3A85EC</td>\n",
              "      <td>2020-05-25</td>\n",
              "      <td>Recepção do Centro Diagnóstico</td>\n",
              "      <td>COVID-19-Sorologia IgM e IgG por quimiluminesc...</td>\n",
              "      <td>Covid 19, Anticorpos IgG, Quimioluminescência</td>\n",
              "      <td>1.0</td>\n",
              "      <td>NaN</td>\n",
              "      <td>Não reagente</td>\n",
              "    </tr>\n",
              "    <tr>\n",
              "      <th>93</th>\n",
              "      <td>3487791F44C34B421C932DC8616A8437</td>\n",
              "      <td>11676CFEEF6A4CDD49B0A74D3F3A85EC</td>\n",
              "      <td>2020-05-25</td>\n",
              "      <td>Recepção do Centro Diagnóstico</td>\n",
              "      <td>COVID-19-Sorologia IgM e IgG por quimiluminesc...</td>\n",
              "      <td>Covid 19, Anticorpos IgM, Quimioluminescência</td>\n",
              "      <td>1.0</td>\n",
              "      <td>NaN</td>\n",
              "      <td>Não reagente</td>\n",
              "    </tr>\n",
              "    <tr>\n",
              "      <th>1218</th>\n",
              "      <td>F5B5BD59D98836D8AA2D8C27B01225AB</td>\n",
              "      <td>FBF3FC0FD4890AF6B6EBFE6BFC12EC0C</td>\n",
              "      <td>2020-06-07</td>\n",
              "      <td>UTI</td>\n",
              "      <td>COVID-19-Sorologia IgM e IgG por quimiluminesc...</td>\n",
              "      <td>Covid 19, Anticorpos IgG, Quimioluminescência</td>\n",
              "      <td>1.0</td>\n",
              "      <td>NaN</td>\n",
              "      <td>Não reagente</td>\n",
              "    </tr>\n",
              "    <tr>\n",
              "      <th>1220</th>\n",
              "      <td>F5B5BD59D98836D8AA2D8C27B01225AB</td>\n",
              "      <td>FBF3FC0FD4890AF6B6EBFE6BFC12EC0C</td>\n",
              "      <td>2020-06-07</td>\n",
              "      <td>UTI</td>\n",
              "      <td>COVID-19-Sorologia IgM e IgG por quimiluminesc...</td>\n",
              "      <td>Covid 19, Anticorpos IgM, Quimioluminescência</td>\n",
              "      <td>1.0</td>\n",
              "      <td>NaN</td>\n",
              "      <td>Não reagente</td>\n",
              "    </tr>\n",
              "    <tr>\n",
              "      <th>2854</th>\n",
              "      <td>C3A3D083DBC1353FAB5F87282EE86633</td>\n",
              "      <td>6A9B541EE6A6510F2803E96E47EEB5DA</td>\n",
              "      <td>2020-07-23</td>\n",
              "      <td>Laboratório de Patologia Clínica</td>\n",
              "      <td>COVID-19-Sorologia IgM e IgG por quimiluminesc...</td>\n",
              "      <td>Covid 19, Anticorpos Totais, Eletroquimiolumi</td>\n",
              "      <td>0.0</td>\n",
              "      <td>NaN</td>\n",
              "      <td>Não reagente</td>\n",
              "    </tr>\n",
              "    <tr>\n",
              "      <th>2856</th>\n",
              "      <td>C3A3D083DBC1353FAB5F87282EE86633</td>\n",
              "      <td>6A9B541EE6A6510F2803E96E47EEB5DA</td>\n",
              "      <td>2020-07-23</td>\n",
              "      <td>Laboratório de Patologia Clínica</td>\n",
              "      <td>COVID-19-Sorologia IgM e IgG por quimiluminesc...</td>\n",
              "      <td>Covid 19, Anticorpos IgG, Quimioluminescência</td>\n",
              "      <td>0.0</td>\n",
              "      <td>UA/mL</td>\n",
              "      <td>Não reagente</td>\n",
              "    </tr>\n",
              "    <tr>\n",
              "      <th>2858</th>\n",
              "      <td>C3A3D083DBC1353FAB5F87282EE86633</td>\n",
              "      <td>6A9B541EE6A6510F2803E96E47EEB5DA</td>\n",
              "      <td>2020-07-23</td>\n",
              "      <td>Laboratório de Patologia Clínica</td>\n",
              "      <td>COVID-19-Sorologia IgM e IgG por quimiluminesc...</td>\n",
              "      <td>Covid 19, Anticorpos IgM, Quimioluminescência</td>\n",
              "      <td>0.0</td>\n",
              "      <td>UA/mL</td>\n",
              "      <td>Não reagente</td>\n",
              "    </tr>\n",
              "    <tr>\n",
              "      <th>2859</th>\n",
              "      <td>C3A3D083DBC1353FAB5F87282EE86633</td>\n",
              "      <td>6A9B541EE6A6510F2803E96E47EEB5DA</td>\n",
              "      <td>2020-07-23</td>\n",
              "      <td>Laboratório de Patologia Clínica</td>\n",
              "      <td>COVID-19-Sorologia IgM e IgG por quimiluminesc...</td>\n",
              "      <td>Covid 19, Sorologia - Interpretação</td>\n",
              "      <td>0.0</td>\n",
              "      <td>NaN</td>\n",
              "      <td>NaN</td>\n",
              "    </tr>\n",
              "    <tr>\n",
              "      <th>2865</th>\n",
              "      <td>BEBA451E2C91A4D869D14EE790FE78FD</td>\n",
              "      <td>F00A8B071066A41020B80A1F2F590663</td>\n",
              "      <td>2020-05-31</td>\n",
              "      <td>UTI</td>\n",
              "      <td>COVID-19-Sorologia IgM e IgG por quimiluminesc...</td>\n",
              "      <td>Covid 19, Anticorpos IgG, Quimioluminescência</td>\n",
              "      <td>0.0</td>\n",
              "      <td>NaN</td>\n",
              "      <td>Não reagente</td>\n",
              "    </tr>\n",
              "    <tr>\n",
              "      <th>2867</th>\n",
              "      <td>BEBA451E2C91A4D869D14EE790FE78FD</td>\n",
              "      <td>F00A8B071066A41020B80A1F2F590663</td>\n",
              "      <td>2020-05-31</td>\n",
              "      <td>UTI</td>\n",
              "      <td>COVID-19-Sorologia IgM e IgG por quimiluminesc...</td>\n",
              "      <td>Covid 19, Anticorpos IgM, Quimioluminescência</td>\n",
              "      <td>0.0</td>\n",
              "      <td>NaN</td>\n",
              "      <td>Não reagente</td>\n",
              "    </tr>\n",
              "  </tbody>\n",
              "</table>\n",
              "</div>"
            ],
            "text/plain": [
              "                           ID_PACIENTE  ... DE_VALOR_REFERENCIA\n",
              "91    3487791F44C34B421C932DC8616A8437  ...        Não reagente\n",
              "93    3487791F44C34B421C932DC8616A8437  ...        Não reagente\n",
              "1218  F5B5BD59D98836D8AA2D8C27B01225AB  ...        Não reagente\n",
              "1220  F5B5BD59D98836D8AA2D8C27B01225AB  ...        Não reagente\n",
              "2854  C3A3D083DBC1353FAB5F87282EE86633  ...        Não reagente\n",
              "2856  C3A3D083DBC1353FAB5F87282EE86633  ...        Não reagente\n",
              "2858  C3A3D083DBC1353FAB5F87282EE86633  ...        Não reagente\n",
              "2859  C3A3D083DBC1353FAB5F87282EE86633  ...                 NaN\n",
              "2865  BEBA451E2C91A4D869D14EE790FE78FD  ...        Não reagente\n",
              "2867  BEBA451E2C91A4D869D14EE790FE78FD  ...        Não reagente\n",
              "\n",
              "[10 rows x 9 columns]"
            ]
          },
          "metadata": {
            "tags": []
          },
          "execution_count": 116
        }
      ]
    },
    {
      "cell_type": "code",
      "metadata": {
        "id": "KDsRVYkqjAPL",
        "outputId": "65ce266d-50f1-4b3d-ded3-e6f0e6b4980d",
        "colab": {
          "base_uri": "https://localhost:8080/",
          "height": 0
        }
      },
      "source": [
        "# Agora analsamos quantos resultados de testes sorológicos ainda temos:\n",
        "print('Após tratar os dados, temos {} exames sorológicos realizados'.format(exames_soro.shape[0]))"
      ],
      "execution_count": 117,
      "outputs": [
        {
          "output_type": "stream",
          "text": [
            "Após tratar os dados, temos 216 exames sorológicos realizados\n"
          ],
          "name": "stdout"
        }
      ]
    },
    {
      "cell_type": "markdown",
      "metadata": {
        "id": "1h_69yT4ysVE"
      },
      "source": [
        "####**3.17.2) COVID-19-Sorologia IgG**"
      ]
    },
    {
      "cell_type": "code",
      "metadata": {
        "id": "oNws6S1FDnYy",
        "outputId": "196efedf-7c81-424b-87f2-ee9b557b43c5",
        "colab": {
          "base_uri": "https://localhost:8080/",
          "height": 0
        }
      },
      "source": [
        "# Resultados dos exames de sorologia IgG\n",
        "data_exames_HSL[exames_corona_igg]['DE_RESULTADO'].unique()"
      ],
      "execution_count": 118,
      "outputs": [
        {
          "output_type": "execute_result",
          "data": {
            "text/plain": [
              "array(['NÃO REAGENTE', '0,14', 'REAGENTE', '1,28', '0,56', '5,26', '0,69',\n",
              "       '11,01', '10,83', '1,36', '2,73', '5,27', '0,22', '5,41', '12,61',\n",
              "       '7,70', '8,67', '5,17', '12,16', '0,24', '0,23', '12,10', '4,84',\n",
              "       '0,28', '0,31', '0,19', '0,17', '6,17', '0,16', '0,33', '15,09',\n",
              "       '5,45', '1,96', '0,21', '15,26', '0,39', '2,48', '0,30', '0,27',\n",
              "       '0,36', '0,12'], dtype=object)"
            ]
          },
          "metadata": {
            "tags": []
          },
          "execution_count": 118
        }
      ]
    },
    {
      "cell_type": "code",
      "metadata": {
        "id": "EI7HvmG1y6D8",
        "outputId": "aabd30c4-80b6-4577-d05c-5160f47f28bb",
        "colab": {
          "base_uri": "https://localhost:8080/",
          "height": 0
        }
      },
      "source": [
        "# Vamos analisar quais os resultados de testes que temos no conjunto de dados, \n",
        "# quando analisamos os testes sorológicos para COVID-19\n",
        "data_exames_HSL[exames_corona_igg]['DE_ANALITO'].unique()"
      ],
      "execution_count": 119,
      "outputs": [
        {
          "output_type": "execute_result",
          "data": {
            "text/plain": [
              "array(['Covid 19, Anticorpos IgG', 'Covid 19, Anticorpos IgG, índice'],\n",
              "      dtype=object)"
            ]
          },
          "metadata": {
            "tags": []
          },
          "execution_count": 119
        }
      ]
    },
    {
      "cell_type": "markdown",
      "metadata": {
        "id": "Ul4u9i5LcdHy"
      },
      "source": [
        "#####**Covid 19, Anticorpos IgG**"
      ]
    },
    {
      "cell_type": "code",
      "metadata": {
        "id": "NvtQbG45c4io",
        "outputId": "562f8dfb-44e2-4dc6-971a-898353a57ec4",
        "colab": {
          "base_uri": "https://localhost:8080/",
          "height": 0
        }
      },
      "source": [
        "# Para cada analito, precisamos saber o valor de referência para identificar se os resultados indicam ou não\n",
        "# presença de COVID.\n",
        "analito = (data_exames_HSL['DE_EXAME'] == 'Sorologia - Coronavírus, IgG') & (data_exames_HSL['DE_ANALITO'] == 'Covid 19, Anticorpos IgG')\n",
        "data_exames_HSL[analito]['DE_VALOR_REFERENCIA'].unique()"
      ],
      "execution_count": 120,
      "outputs": [
        {
          "output_type": "execute_result",
          "data": {
            "text/plain": [
              "array(['Não reagente'], dtype=object)"
            ]
          },
          "metadata": {
            "tags": []
          },
          "execution_count": 120
        }
      ]
    },
    {
      "cell_type": "code",
      "metadata": {
        "id": "rEhm-hnCc4it",
        "outputId": "126c9271-7306-458b-f5df-ae38c39e515b",
        "colab": {
          "base_uri": "https://localhost:8080/",
          "height": 0
        }
      },
      "source": [
        "# Obtendo os valores numéricos referentes ao analito atual\n",
        "data_exames_HSL[analito]['DE_RESULTADO'].unique()"
      ],
      "execution_count": 121,
      "outputs": [
        {
          "output_type": "execute_result",
          "data": {
            "text/plain": [
              "array(['NÃO REAGENTE', 'REAGENTE'], dtype=object)"
            ]
          },
          "metadata": {
            "tags": []
          },
          "execution_count": 121
        }
      ]
    },
    {
      "cell_type": "code",
      "metadata": {
        "id": "TVFNFonXc4iv",
        "outputId": "be3857f8-8c8e-4590-b070-1af8c78d3fc3",
        "colab": {
          "base_uri": "https://localhost:8080/",
          "height": 0
        }
      },
      "source": [
        "# Vamos adotar como padrão que:\n",
        "#\n",
        "# 0 => COVID não detectado no paciente\n",
        "# 1 => COVID detectado no paciente\n",
        "#\n",
        "resultados_map = {\n",
        "   'NÃO REAGENTE' : 0, \n",
        "   'REAGENTE' : 1\n",
        "}\n",
        "\n",
        "exames_soro_9 = data_exames_HSL[analito]\n",
        "exames_soro_9['DE_RESULTADO'] = exames_soro_9['DE_RESULTADO'].map(resultados_map)\n",
        "exames_soro_9.drop(['DE_ORIGEM', 'DE_EXAME', 'DE_ANALITO', 'CD_UNIDADE', 'DE_VALOR_REFERENCIA'], axis=1, inplace=True)\n",
        "exames_soro_9.head(10)"
      ],
      "execution_count": 122,
      "outputs": [
        {
          "output_type": "stream",
          "text": [
            "/usr/local/lib/python3.6/dist-packages/ipykernel_launcher.py:12: SettingWithCopyWarning: \n",
            "A value is trying to be set on a copy of a slice from a DataFrame.\n",
            "Try using .loc[row_indexer,col_indexer] = value instead\n",
            "\n",
            "See the caveats in the documentation: https://pandas.pydata.org/pandas-docs/stable/user_guide/indexing.html#returning-a-view-versus-a-copy\n",
            "  if sys.path[0] == '':\n",
            "/usr/local/lib/python3.6/dist-packages/pandas/core/frame.py:4169: SettingWithCopyWarning: \n",
            "A value is trying to be set on a copy of a slice from a DataFrame\n",
            "\n",
            "See the caveats in the documentation: https://pandas.pydata.org/pandas-docs/stable/user_guide/indexing.html#returning-a-view-versus-a-copy\n",
            "  errors=errors,\n"
          ],
          "name": "stderr"
        },
        {
          "output_type": "execute_result",
          "data": {
            "text/html": [
              "<div>\n",
              "<style scoped>\n",
              "    .dataframe tbody tr th:only-of-type {\n",
              "        vertical-align: middle;\n",
              "    }\n",
              "\n",
              "    .dataframe tbody tr th {\n",
              "        vertical-align: top;\n",
              "    }\n",
              "\n",
              "    .dataframe thead th {\n",
              "        text-align: right;\n",
              "    }\n",
              "</style>\n",
              "<table border=\"1\" class=\"dataframe\">\n",
              "  <thead>\n",
              "    <tr style=\"text-align: right;\">\n",
              "      <th></th>\n",
              "      <th>ID_PACIENTE</th>\n",
              "      <th>ID_ATENDIMENTO</th>\n",
              "      <th>DT_COLETA</th>\n",
              "      <th>DE_RESULTADO</th>\n",
              "    </tr>\n",
              "  </thead>\n",
              "  <tbody>\n",
              "    <tr>\n",
              "      <th>6238</th>\n",
              "      <td>FE1BAA57FC75EF9A274F91381387B493</td>\n",
              "      <td>9DBBD1A65AEDE736D80AE59D895A08C3</td>\n",
              "      <td>2020-04-04</td>\n",
              "      <td>0</td>\n",
              "    </tr>\n",
              "    <tr>\n",
              "      <th>18689</th>\n",
              "      <td>47FC4D62E7F52E4E4B346B5915863384</td>\n",
              "      <td>B3A6E2E8822314A6057A1616939472CA</td>\n",
              "      <td>2020-05-11</td>\n",
              "      <td>1</td>\n",
              "    </tr>\n",
              "    <tr>\n",
              "      <th>27999</th>\n",
              "      <td>36EC3ADD18AE59B3DC62C67B4A6440DA</td>\n",
              "      <td>0165A9BBADB9C245FDE6F566D5BB1954</td>\n",
              "      <td>2020-05-12</td>\n",
              "      <td>0</td>\n",
              "    </tr>\n",
              "    <tr>\n",
              "      <th>54819</th>\n",
              "      <td>90ADCB85ADEAD09537C99E74E115D68E</td>\n",
              "      <td>F8DF3DC4EA3642BAE675BAE80A828065</td>\n",
              "      <td>2020-05-13</td>\n",
              "      <td>1</td>\n",
              "    </tr>\n",
              "    <tr>\n",
              "      <th>60716</th>\n",
              "      <td>A7CFB63755E5541A74CA7E12C7575A48</td>\n",
              "      <td>FFEBC1327D2CF4CCA5307D4D2009A30E</td>\n",
              "      <td>2020-05-08</td>\n",
              "      <td>0</td>\n",
              "    </tr>\n",
              "    <tr>\n",
              "      <th>61440</th>\n",
              "      <td>5375632434842C97BD3BD355C4CBFD91</td>\n",
              "      <td>A284AA6A3B56E5381D37B1D0627D1939</td>\n",
              "      <td>2020-05-20</td>\n",
              "      <td>1</td>\n",
              "    </tr>\n",
              "    <tr>\n",
              "      <th>74413</th>\n",
              "      <td>1367B8AD3AA4DB78C3D078361096B847</td>\n",
              "      <td>F4748BDDBDEED6A716503BC78F349BE7</td>\n",
              "      <td>2020-04-29</td>\n",
              "      <td>1</td>\n",
              "    </tr>\n",
              "    <tr>\n",
              "      <th>75269</th>\n",
              "      <td>AC54FA57046CFA8EA0B4C0913D48A00C</td>\n",
              "      <td>7CFA6E2534B02BF49BCA21DB4930DC62</td>\n",
              "      <td>2020-05-12</td>\n",
              "      <td>1</td>\n",
              "    </tr>\n",
              "    <tr>\n",
              "      <th>82080</th>\n",
              "      <td>4AF35DA21A9FC69AD115FF35A94C1391</td>\n",
              "      <td>F87C7EB3940FA74B81CB1C5AAF8941E2</td>\n",
              "      <td>2020-04-16</td>\n",
              "      <td>1</td>\n",
              "    </tr>\n",
              "    <tr>\n",
              "      <th>95415</th>\n",
              "      <td>3834EE34C6B4325ACAEBD1FA03921BA4</td>\n",
              "      <td>C01326E59ADADE14A73589C1A0AF2264</td>\n",
              "      <td>2020-04-20</td>\n",
              "      <td>1</td>\n",
              "    </tr>\n",
              "  </tbody>\n",
              "</table>\n",
              "</div>"
            ],
            "text/plain": [
              "                            ID_PACIENTE  ... DE_RESULTADO\n",
              "6238   FE1BAA57FC75EF9A274F91381387B493  ...            0\n",
              "18689  47FC4D62E7F52E4E4B346B5915863384  ...            1\n",
              "27999  36EC3ADD18AE59B3DC62C67B4A6440DA  ...            0\n",
              "54819  90ADCB85ADEAD09537C99E74E115D68E  ...            1\n",
              "60716  A7CFB63755E5541A74CA7E12C7575A48  ...            0\n",
              "61440  5375632434842C97BD3BD355C4CBFD91  ...            1\n",
              "74413  1367B8AD3AA4DB78C3D078361096B847  ...            1\n",
              "75269  AC54FA57046CFA8EA0B4C0913D48A00C  ...            1\n",
              "82080  4AF35DA21A9FC69AD115FF35A94C1391  ...            1\n",
              "95415  3834EE34C6B4325ACAEBD1FA03921BA4  ...            1\n",
              "\n",
              "[10 rows x 4 columns]"
            ]
          },
          "metadata": {
            "tags": []
          },
          "execution_count": 122
        }
      ]
    },
    {
      "cell_type": "markdown",
      "metadata": {
        "id": "Wa7IBMzPcvuh"
      },
      "source": [
        "#####**Covid 19, Anticorpos IgG, índice**"
      ]
    },
    {
      "cell_type": "code",
      "metadata": {
        "id": "ruJYVwwgb-5N",
        "outputId": "69a1dd21-5146-4afc-9219-8fb49894c0f7",
        "colab": {
          "base_uri": "https://localhost:8080/",
          "height": 0
        }
      },
      "source": [
        "# Para cada analito, precisamos saber o valor de referência para identificar se os resultados indicam ou não\n",
        "# presença de COVID.\n",
        "analito = (data_exames_HSL['DE_EXAME'] == 'Sorologia - Coronavírus, IgG') & (data_exames_HSL['DE_ANALITO'] == 'Covid 19, Anticorpos IgG, índice')\n",
        "data_exames_HSL[analito]['DE_VALOR_REFERENCIA'].unique()"
      ],
      "execution_count": 123,
      "outputs": [
        {
          "output_type": "execute_result",
          "data": {
            "text/plain": [
              "array([nan, 'inferior a 0,80'], dtype=object)"
            ]
          },
          "metadata": {
            "tags": []
          },
          "execution_count": 123
        }
      ]
    },
    {
      "cell_type": "code",
      "metadata": {
        "id": "BI45pY9Vb-5X",
        "outputId": "725ee568-93ef-4b45-8df4-ae13478a4759",
        "colab": {
          "base_uri": "https://localhost:8080/",
          "height": 0
        }
      },
      "source": [
        "# Obtendo os valores numéricos referentes ao analito atual\n",
        "data_exames_HSL[analito]['DE_RESULTADO'].value_counts()"
      ],
      "execution_count": 124,
      "outputs": [
        {
          "output_type": "execute_result",
          "data": {
            "text/plain": [
              "0,23     2\n",
              "0,17     2\n",
              "0,14     2\n",
              "0,56     2\n",
              "0,31     1\n",
              "0,69     1\n",
              "0,21     1\n",
              "1,96     1\n",
              "8,67     1\n",
              "1,28     1\n",
              "0,12     1\n",
              "2,48     1\n",
              "5,27     1\n",
              "5,41     1\n",
              "1,36     1\n",
              "6,17     1\n",
              "12,61    1\n",
              "0,30     1\n",
              "10,83    1\n",
              "0,39     1\n",
              "0,27     1\n",
              "0,16     1\n",
              "7,70     1\n",
              "15,09    1\n",
              "2,73     1\n",
              "0,36     1\n",
              "15,26    1\n",
              "12,16    1\n",
              "11,01    1\n",
              "5,26     1\n",
              "0,19     1\n",
              "0,22     1\n",
              "0,33     1\n",
              "5,45     1\n",
              "12,10    1\n",
              "0,24     1\n",
              "4,84     1\n",
              "5,17     1\n",
              "0,28     1\n",
              "Name: DE_RESULTADO, dtype: int64"
            ]
          },
          "metadata": {
            "tags": []
          },
          "execution_count": 124
        }
      ]
    },
    {
      "cell_type": "code",
      "metadata": {
        "id": "B0y43lcrb-5c",
        "outputId": "c1ead041-48dc-485f-f040-82ebe63d237d",
        "colab": {
          "base_uri": "https://localhost:8080/",
          "height": 0
        }
      },
      "source": [
        "# Vamos adotar como padrão que:\n",
        "#\n",
        "# 0 => COVID não detectado no paciente\n",
        "# 1 => COVID detectado no paciente\n",
        "#\n",
        "# Consideramos valores inferiores a 0.8 como 0\n",
        "resultados_map = {\n",
        "   '0,14' : 0, \n",
        "   '1,28' : 1, \n",
        "   '0,56' : 0, \n",
        "   '5,26' : 1, \n",
        "   '0,69' : 0, \n",
        "   '11,01' : 1, \n",
        "   '10,83' : 1, \n",
        "   '1,36' : 1,\n",
        "   '2,73' : 1, \n",
        "   '5,27' : 1, \n",
        "   '0,22' : 0, \n",
        "   '5,41' : 1, \n",
        "   '12,61' : 1, \n",
        "   '7,70' : 1, \n",
        "   '8,67' : 1, \n",
        "   '5,17' : 1,\n",
        "   '12,16' : 1, \n",
        "   '0,24' : 0, \n",
        "   '0,23' : 0, \n",
        "   '12,10' : 1, \n",
        "   '4,84' : 1, \n",
        "   '0,28' : 0, \n",
        "   '0,31' : 0, \n",
        "   '0,19' : 0,\n",
        "   '0,17' : 0, \n",
        "   '6,17' : 1, \n",
        "   '0,16' : 0, \n",
        "   '0,33' : 0, \n",
        "   '15,09' : 1, \n",
        "   '5,45' : 1, \n",
        "   '1,96' : 1, \n",
        "   '0,21' : 0,\n",
        "   '15,26' : 1, \n",
        "   '0,39' : 0, \n",
        "   '2,48' : 1, \n",
        "   '0,30' : 0, \n",
        "   '0,27' : 0, \n",
        "   '0,36' : 0, \n",
        "   '0,12' : 0\n",
        "}\n",
        "\n",
        "exames_soro_10 = data_exames_HSL[analito]\n",
        "exames_soro_10['DE_RESULTADO'] = exames_soro_10['DE_RESULTADO'].map(resultados_map)\n",
        "exames_soro_10.drop(['DE_ORIGEM', 'DE_EXAME', 'DE_ANALITO', 'CD_UNIDADE', 'DE_VALOR_REFERENCIA'], axis=1, inplace=True)\n",
        "exames_soro_10.head(10)"
      ],
      "execution_count": 125,
      "outputs": [
        {
          "output_type": "stream",
          "text": [
            "/usr/local/lib/python3.6/dist-packages/ipykernel_launcher.py:50: SettingWithCopyWarning: \n",
            "A value is trying to be set on a copy of a slice from a DataFrame.\n",
            "Try using .loc[row_indexer,col_indexer] = value instead\n",
            "\n",
            "See the caveats in the documentation: https://pandas.pydata.org/pandas-docs/stable/user_guide/indexing.html#returning-a-view-versus-a-copy\n",
            "/usr/local/lib/python3.6/dist-packages/pandas/core/frame.py:4169: SettingWithCopyWarning: \n",
            "A value is trying to be set on a copy of a slice from a DataFrame\n",
            "\n",
            "See the caveats in the documentation: https://pandas.pydata.org/pandas-docs/stable/user_guide/indexing.html#returning-a-view-versus-a-copy\n",
            "  errors=errors,\n"
          ],
          "name": "stderr"
        },
        {
          "output_type": "execute_result",
          "data": {
            "text/html": [
              "<div>\n",
              "<style scoped>\n",
              "    .dataframe tbody tr th:only-of-type {\n",
              "        vertical-align: middle;\n",
              "    }\n",
              "\n",
              "    .dataframe tbody tr th {\n",
              "        vertical-align: top;\n",
              "    }\n",
              "\n",
              "    .dataframe thead th {\n",
              "        text-align: right;\n",
              "    }\n",
              "</style>\n",
              "<table border=\"1\" class=\"dataframe\">\n",
              "  <thead>\n",
              "    <tr style=\"text-align: right;\">\n",
              "      <th></th>\n",
              "      <th>ID_PACIENTE</th>\n",
              "      <th>ID_ATENDIMENTO</th>\n",
              "      <th>DT_COLETA</th>\n",
              "      <th>DE_RESULTADO</th>\n",
              "    </tr>\n",
              "  </thead>\n",
              "  <tbody>\n",
              "    <tr>\n",
              "      <th>6239</th>\n",
              "      <td>FE1BAA57FC75EF9A274F91381387B493</td>\n",
              "      <td>9DBBD1A65AEDE736D80AE59D895A08C3</td>\n",
              "      <td>2020-04-04</td>\n",
              "      <td>0</td>\n",
              "    </tr>\n",
              "    <tr>\n",
              "      <th>18690</th>\n",
              "      <td>47FC4D62E7F52E4E4B346B5915863384</td>\n",
              "      <td>B3A6E2E8822314A6057A1616939472CA</td>\n",
              "      <td>2020-05-11</td>\n",
              "      <td>1</td>\n",
              "    </tr>\n",
              "    <tr>\n",
              "      <th>28000</th>\n",
              "      <td>36EC3ADD18AE59B3DC62C67B4A6440DA</td>\n",
              "      <td>0165A9BBADB9C245FDE6F566D5BB1954</td>\n",
              "      <td>2020-05-12</td>\n",
              "      <td>0</td>\n",
              "    </tr>\n",
              "    <tr>\n",
              "      <th>54820</th>\n",
              "      <td>90ADCB85ADEAD09537C99E74E115D68E</td>\n",
              "      <td>F8DF3DC4EA3642BAE675BAE80A828065</td>\n",
              "      <td>2020-05-13</td>\n",
              "      <td>1</td>\n",
              "    </tr>\n",
              "    <tr>\n",
              "      <th>60717</th>\n",
              "      <td>A7CFB63755E5541A74CA7E12C7575A48</td>\n",
              "      <td>FFEBC1327D2CF4CCA5307D4D2009A30E</td>\n",
              "      <td>2020-05-08</td>\n",
              "      <td>0</td>\n",
              "    </tr>\n",
              "    <tr>\n",
              "      <th>61441</th>\n",
              "      <td>5375632434842C97BD3BD355C4CBFD91</td>\n",
              "      <td>A284AA6A3B56E5381D37B1D0627D1939</td>\n",
              "      <td>2020-05-20</td>\n",
              "      <td>1</td>\n",
              "    </tr>\n",
              "    <tr>\n",
              "      <th>74414</th>\n",
              "      <td>1367B8AD3AA4DB78C3D078361096B847</td>\n",
              "      <td>F4748BDDBDEED6A716503BC78F349BE7</td>\n",
              "      <td>2020-04-29</td>\n",
              "      <td>1</td>\n",
              "    </tr>\n",
              "    <tr>\n",
              "      <th>75270</th>\n",
              "      <td>AC54FA57046CFA8EA0B4C0913D48A00C</td>\n",
              "      <td>7CFA6E2534B02BF49BCA21DB4930DC62</td>\n",
              "      <td>2020-05-12</td>\n",
              "      <td>1</td>\n",
              "    </tr>\n",
              "    <tr>\n",
              "      <th>82081</th>\n",
              "      <td>4AF35DA21A9FC69AD115FF35A94C1391</td>\n",
              "      <td>F87C7EB3940FA74B81CB1C5AAF8941E2</td>\n",
              "      <td>2020-04-16</td>\n",
              "      <td>1</td>\n",
              "    </tr>\n",
              "    <tr>\n",
              "      <th>95416</th>\n",
              "      <td>3834EE34C6B4325ACAEBD1FA03921BA4</td>\n",
              "      <td>C01326E59ADADE14A73589C1A0AF2264</td>\n",
              "      <td>2020-04-20</td>\n",
              "      <td>1</td>\n",
              "    </tr>\n",
              "  </tbody>\n",
              "</table>\n",
              "</div>"
            ],
            "text/plain": [
              "                            ID_PACIENTE  ... DE_RESULTADO\n",
              "6239   FE1BAA57FC75EF9A274F91381387B493  ...            0\n",
              "18690  47FC4D62E7F52E4E4B346B5915863384  ...            1\n",
              "28000  36EC3ADD18AE59B3DC62C67B4A6440DA  ...            0\n",
              "54820  90ADCB85ADEAD09537C99E74E115D68E  ...            1\n",
              "60717  A7CFB63755E5541A74CA7E12C7575A48  ...            0\n",
              "61441  5375632434842C97BD3BD355C4CBFD91  ...            1\n",
              "74414  1367B8AD3AA4DB78C3D078361096B847  ...            1\n",
              "75270  AC54FA57046CFA8EA0B4C0913D48A00C  ...            1\n",
              "82081  4AF35DA21A9FC69AD115FF35A94C1391  ...            1\n",
              "95416  3834EE34C6B4325ACAEBD1FA03921BA4  ...            1\n",
              "\n",
              "[10 rows x 4 columns]"
            ]
          },
          "metadata": {
            "tags": []
          },
          "execution_count": 125
        }
      ]
    },
    {
      "cell_type": "markdown",
      "metadata": {
        "id": "kqmKqftkyzyJ"
      },
      "source": [
        "#### **3.17.3) COVID-19-Sorologia IgA**"
      ]
    },
    {
      "cell_type": "code",
      "metadata": {
        "id": "43SjRcWzedI-",
        "outputId": "799d0be1-98ea-4222-920e-f2911ce7b256",
        "colab": {
          "base_uri": "https://localhost:8080/",
          "height": 0
        }
      },
      "source": [
        "# Resultados dos exames de sorologia IgA\n",
        "data_exames_HSL[exames_corona_iga]['DE_RESULTADO'].unique()"
      ],
      "execution_count": 126,
      "outputs": [
        {
          "output_type": "execute_result",
          "data": {
            "text/plain": [
              "array(['REAGENTE', '4,66', '2,75', 'NÃO REAGENTE', '0,22', '7,48',\n",
              "       '33,89', '1,41', '1,83', '4,92', '5,90', '36,91', '6,61', '8,82',\n",
              "       '5,49', '0,20', '3,27', '5,98', '0,45', '5,97', '0,34', '0,38',\n",
              "       '4,17', '5,72', '0,54', '0,52', '42,32', '0,43', '4,74', '0,73',\n",
              "       '0,16', '0,15', '0,21', '0,36'], dtype=object)"
            ]
          },
          "metadata": {
            "tags": []
          },
          "execution_count": 126
        }
      ]
    },
    {
      "cell_type": "code",
      "metadata": {
        "id": "PhuZZcpbCm7w",
        "outputId": "9e9b5039-b09d-4412-e6b3-7619d40421bc",
        "colab": {
          "base_uri": "https://localhost:8080/",
          "height": 0
        }
      },
      "source": [
        "# Vamos analisar os analitos para o exame sorológico de IgA\n",
        "data_exames_HSL[exames_corona_iga]['DE_ANALITO'].unique()"
      ],
      "execution_count": 127,
      "outputs": [
        {
          "output_type": "execute_result",
          "data": {
            "text/plain": [
              "array(['Covid 19, Anticorpos IgA', 'Covid 19, Anticorpos IgA, índice'],\n",
              "      dtype=object)"
            ]
          },
          "metadata": {
            "tags": []
          },
          "execution_count": 127
        }
      ]
    },
    {
      "cell_type": "code",
      "metadata": {
        "id": "aMXHluHbeo34",
        "outputId": "ef2094b1-6872-4099-c012-37ea068f1f73",
        "colab": {
          "base_uri": "https://localhost:8080/",
          "height": 0
        }
      },
      "source": [
        "# Pelos exemplos anteriores podemos entender que os valores numéricos referem-se ao analito índice\n",
        "# e os valores REAGENTE e NAO REAGENTE à presença de anticorpos IgA. Vamos verificar os valores\n",
        "# de referência\n",
        "data_exames_HSL[exames_corona_iga]['DE_VALOR_REFERENCIA'].unique()"
      ],
      "execution_count": 128,
      "outputs": [
        {
          "output_type": "execute_result",
          "data": {
            "text/plain": [
              "array(['Não reagente', 'inferior a 0,80', nan], dtype=object)"
            ]
          },
          "metadata": {
            "tags": []
          },
          "execution_count": 128
        }
      ]
    },
    {
      "cell_type": "code",
      "metadata": {
        "id": "sub3x3IGe8IM",
        "outputId": "a440df35-a94f-4ba3-ab99-0095c6b7df9e",
        "colab": {
          "base_uri": "https://localhost:8080/",
          "height": 0
        }
      },
      "source": [
        "# Ou seja, mantendo o padrão anterior:\n",
        "#\n",
        "# 0 => Não detecção de anticorpos para COVID\n",
        "# 1 => Detecção de anticorpos para COVID\n",
        "#\n",
        "# Consideramos REAGENTE = 1, NAO REAGENTE = 1 e valores numéricos inferiores a 0.8 = 0:\n",
        "resultados_map = {\n",
        "   'REAGENTE' : 1, \n",
        "   '4,66' : 1, \n",
        "   '2,75' : 1, \n",
        "   'NÃO REAGENTE' : 0, \n",
        "   '0,22' : 0, \n",
        "   '7,48' : 1,\n",
        "   '33,89' : 1, \n",
        "   '1,41' : 1, \n",
        "   '1,83' : 1, \n",
        "   '4,92' : 1, \n",
        "   '5,90' : 1, \n",
        "   '36,91' : 1, \n",
        "   '6,61' : 1, \n",
        "   '8,82' : 1,\n",
        "   '5,49' : 1, \n",
        "   '0,20' : 0, \n",
        "   '3,27' : 1, \n",
        "   '5,98' : 1, \n",
        "   '0,45' : 0, \n",
        "   '5,97' : 1, \n",
        "   '0,34' : 0, \n",
        "   '0,38' : 0,\n",
        "   '4,17' : 1, \n",
        "   '5,72' : 1, \n",
        "   '0,54' : 0, \n",
        "   '0,52' : 0, \n",
        "   '42,32' : 1, \n",
        "   '0,43' : 0, \n",
        "   '4,74' : 1, \n",
        "   '0,73' : 0,\n",
        "   '0,16' : 0, \n",
        "   '0,15' : 0, \n",
        "   '0,21' : 0, \n",
        "   '0,36' : 0\n",
        "}\n",
        "\n",
        "exames_soro_11 = data_exames_HSL[exames_corona_iga]\n",
        "exames_soro_11['DE_RESULTADO'] = exames_soro_11['DE_RESULTADO'].map(resultados_map)\n",
        "exames_soro_11.drop(['DE_ORIGEM', 'DE_EXAME', 'DE_ANALITO', 'CD_UNIDADE', 'DE_VALOR_REFERENCIA'], axis=1, inplace=True)\n",
        "exames_soro_11.head(10)"
      ],
      "execution_count": 129,
      "outputs": [
        {
          "output_type": "stream",
          "text": [
            "/usr/local/lib/python3.6/dist-packages/ipykernel_launcher.py:45: SettingWithCopyWarning: \n",
            "A value is trying to be set on a copy of a slice from a DataFrame.\n",
            "Try using .loc[row_indexer,col_indexer] = value instead\n",
            "\n",
            "See the caveats in the documentation: https://pandas.pydata.org/pandas-docs/stable/user_guide/indexing.html#returning-a-view-versus-a-copy\n",
            "/usr/local/lib/python3.6/dist-packages/pandas/core/frame.py:4169: SettingWithCopyWarning: \n",
            "A value is trying to be set on a copy of a slice from a DataFrame\n",
            "\n",
            "See the caveats in the documentation: https://pandas.pydata.org/pandas-docs/stable/user_guide/indexing.html#returning-a-view-versus-a-copy\n",
            "  errors=errors,\n"
          ],
          "name": "stderr"
        },
        {
          "output_type": "execute_result",
          "data": {
            "text/html": [
              "<div>\n",
              "<style scoped>\n",
              "    .dataframe tbody tr th:only-of-type {\n",
              "        vertical-align: middle;\n",
              "    }\n",
              "\n",
              "    .dataframe tbody tr th {\n",
              "        vertical-align: top;\n",
              "    }\n",
              "\n",
              "    .dataframe thead th {\n",
              "        text-align: right;\n",
              "    }\n",
              "</style>\n",
              "<table border=\"1\" class=\"dataframe\">\n",
              "  <thead>\n",
              "    <tr style=\"text-align: right;\">\n",
              "      <th></th>\n",
              "      <th>ID_PACIENTE</th>\n",
              "      <th>ID_ATENDIMENTO</th>\n",
              "      <th>DT_COLETA</th>\n",
              "      <th>DE_RESULTADO</th>\n",
              "    </tr>\n",
              "  </thead>\n",
              "  <tbody>\n",
              "    <tr>\n",
              "      <th>18691</th>\n",
              "      <td>47FC4D62E7F52E4E4B346B5915863384</td>\n",
              "      <td>B3A6E2E8822314A6057A1616939472CA</td>\n",
              "      <td>2020-05-11</td>\n",
              "      <td>1</td>\n",
              "    </tr>\n",
              "    <tr>\n",
              "      <th>18692</th>\n",
              "      <td>47FC4D62E7F52E4E4B346B5915863384</td>\n",
              "      <td>B3A6E2E8822314A6057A1616939472CA</td>\n",
              "      <td>2020-05-11</td>\n",
              "      <td>1</td>\n",
              "    </tr>\n",
              "    <tr>\n",
              "      <th>54821</th>\n",
              "      <td>90ADCB85ADEAD09537C99E74E115D68E</td>\n",
              "      <td>F8DF3DC4EA3642BAE675BAE80A828065</td>\n",
              "      <td>2020-05-13</td>\n",
              "      <td>1</td>\n",
              "    </tr>\n",
              "    <tr>\n",
              "      <th>54822</th>\n",
              "      <td>90ADCB85ADEAD09537C99E74E115D68E</td>\n",
              "      <td>F8DF3DC4EA3642BAE675BAE80A828065</td>\n",
              "      <td>2020-05-13</td>\n",
              "      <td>1</td>\n",
              "    </tr>\n",
              "    <tr>\n",
              "      <th>60714</th>\n",
              "      <td>A7CFB63755E5541A74CA7E12C7575A48</td>\n",
              "      <td>FFEBC1327D2CF4CCA5307D4D2009A30E</td>\n",
              "      <td>2020-05-08</td>\n",
              "      <td>0</td>\n",
              "    </tr>\n",
              "    <tr>\n",
              "      <th>60715</th>\n",
              "      <td>A7CFB63755E5541A74CA7E12C7575A48</td>\n",
              "      <td>FFEBC1327D2CF4CCA5307D4D2009A30E</td>\n",
              "      <td>2020-05-08</td>\n",
              "      <td>0</td>\n",
              "    </tr>\n",
              "    <tr>\n",
              "      <th>61438</th>\n",
              "      <td>5375632434842C97BD3BD355C4CBFD91</td>\n",
              "      <td>A284AA6A3B56E5381D37B1D0627D1939</td>\n",
              "      <td>2020-05-20</td>\n",
              "      <td>1</td>\n",
              "    </tr>\n",
              "    <tr>\n",
              "      <th>61439</th>\n",
              "      <td>5375632434842C97BD3BD355C4CBFD91</td>\n",
              "      <td>A284AA6A3B56E5381D37B1D0627D1939</td>\n",
              "      <td>2020-05-20</td>\n",
              "      <td>1</td>\n",
              "    </tr>\n",
              "    <tr>\n",
              "      <th>74411</th>\n",
              "      <td>1367B8AD3AA4DB78C3D078361096B847</td>\n",
              "      <td>F4748BDDBDEED6A716503BC78F349BE7</td>\n",
              "      <td>2020-04-29</td>\n",
              "      <td>1</td>\n",
              "    </tr>\n",
              "    <tr>\n",
              "      <th>74412</th>\n",
              "      <td>1367B8AD3AA4DB78C3D078361096B847</td>\n",
              "      <td>F4748BDDBDEED6A716503BC78F349BE7</td>\n",
              "      <td>2020-04-29</td>\n",
              "      <td>1</td>\n",
              "    </tr>\n",
              "  </tbody>\n",
              "</table>\n",
              "</div>"
            ],
            "text/plain": [
              "                            ID_PACIENTE  ... DE_RESULTADO\n",
              "18691  47FC4D62E7F52E4E4B346B5915863384  ...            1\n",
              "18692  47FC4D62E7F52E4E4B346B5915863384  ...            1\n",
              "54821  90ADCB85ADEAD09537C99E74E115D68E  ...            1\n",
              "54822  90ADCB85ADEAD09537C99E74E115D68E  ...            1\n",
              "60714  A7CFB63755E5541A74CA7E12C7575A48  ...            0\n",
              "60715  A7CFB63755E5541A74CA7E12C7575A48  ...            0\n",
              "61438  5375632434842C97BD3BD355C4CBFD91  ...            1\n",
              "61439  5375632434842C97BD3BD355C4CBFD91  ...            1\n",
              "74411  1367B8AD3AA4DB78C3D078361096B847  ...            1\n",
              "74412  1367B8AD3AA4DB78C3D078361096B847  ...            1\n",
              "\n",
              "[10 rows x 4 columns]"
            ]
          },
          "metadata": {
            "tags": []
          },
          "execution_count": 129
        }
      ]
    },
    {
      "cell_type": "markdown",
      "metadata": {
        "id": "eL0PiXnLgK14"
      },
      "source": [
        "####**3.17.4) Combinando dados de exames sorológicos**"
      ]
    },
    {
      "cell_type": "code",
      "metadata": {
        "id": "h2fEQdZygS5x",
        "outputId": "2e7303c0-d46f-4e7c-a402-39bec4fc1c1e",
        "colab": {
          "base_uri": "https://localhost:8080/",
          "height": 0
        }
      },
      "source": [
        "# Agora que analisamos todos os resultados separadamente dos exames sorológicos, podemos unir todos eles em\n",
        "# um único dataframe\n",
        "concat_soro = [exames_soro_1, exames_soro_2, exames_soro_3, exames_soro_4, exames_soro_5, exames_soro_6, exames_soro_7, exames_soro_8, exames_soro_9, exames_soro_10, exames_soro_11]\n",
        "exames_soro_total = pd.concat(concat_soro, axis=0, ignore_index=True)\n",
        "exames_soro_total.tail(10)"
      ],
      "execution_count": 130,
      "outputs": [
        {
          "output_type": "execute_result",
          "data": {
            "text/html": [
              "<div>\n",
              "<style scoped>\n",
              "    .dataframe tbody tr th:only-of-type {\n",
              "        vertical-align: middle;\n",
              "    }\n",
              "\n",
              "    .dataframe tbody tr th {\n",
              "        vertical-align: top;\n",
              "    }\n",
              "\n",
              "    .dataframe thead th {\n",
              "        text-align: right;\n",
              "    }\n",
              "</style>\n",
              "<table border=\"1\" class=\"dataframe\">\n",
              "  <thead>\n",
              "    <tr style=\"text-align: right;\">\n",
              "      <th></th>\n",
              "      <th>ID_PACIENTE</th>\n",
              "      <th>ID_ATENDIMENTO</th>\n",
              "      <th>DT_COLETA</th>\n",
              "      <th>DE_RESULTADO</th>\n",
              "    </tr>\n",
              "  </thead>\n",
              "  <tbody>\n",
              "    <tr>\n",
              "      <th>533</th>\n",
              "      <td>1588840B45EC66349AB51CD201EC2276</td>\n",
              "      <td>EF88494900F114B86F7E37A14701BB57</td>\n",
              "      <td>2020-05-11</td>\n",
              "      <td>0</td>\n",
              "    </tr>\n",
              "    <tr>\n",
              "      <th>534</th>\n",
              "      <td>1588840B45EC66349AB51CD201EC2276</td>\n",
              "      <td>EF88494900F114B86F7E37A14701BB57</td>\n",
              "      <td>2020-05-11</td>\n",
              "      <td>0</td>\n",
              "    </tr>\n",
              "    <tr>\n",
              "      <th>535</th>\n",
              "      <td>E1DB75E3106A496D885700D3A372486D</td>\n",
              "      <td>122FC96433E8054979AEBAA66FDF50B6</td>\n",
              "      <td>2020-04-30</td>\n",
              "      <td>0</td>\n",
              "    </tr>\n",
              "    <tr>\n",
              "      <th>536</th>\n",
              "      <td>E1DB75E3106A496D885700D3A372486D</td>\n",
              "      <td>122FC96433E8054979AEBAA66FDF50B6</td>\n",
              "      <td>2020-04-30</td>\n",
              "      <td>0</td>\n",
              "    </tr>\n",
              "    <tr>\n",
              "      <th>537</th>\n",
              "      <td>E1DB75E3106A496D885700D3A372486D</td>\n",
              "      <td>122FC96433E8054979AEBAA66FDF50B6</td>\n",
              "      <td>2020-04-27</td>\n",
              "      <td>0</td>\n",
              "    </tr>\n",
              "    <tr>\n",
              "      <th>538</th>\n",
              "      <td>E1DB75E3106A496D885700D3A372486D</td>\n",
              "      <td>122FC96433E8054979AEBAA66FDF50B6</td>\n",
              "      <td>2020-04-27</td>\n",
              "      <td>0</td>\n",
              "    </tr>\n",
              "    <tr>\n",
              "      <th>539</th>\n",
              "      <td>E1DB75E3106A496D885700D3A372486D</td>\n",
              "      <td>122FC96433E8054979AEBAA66FDF50B6</td>\n",
              "      <td>2020-05-07</td>\n",
              "      <td>0</td>\n",
              "    </tr>\n",
              "    <tr>\n",
              "      <th>540</th>\n",
              "      <td>E1DB75E3106A496D885700D3A372486D</td>\n",
              "      <td>122FC96433E8054979AEBAA66FDF50B6</td>\n",
              "      <td>2020-05-07</td>\n",
              "      <td>0</td>\n",
              "    </tr>\n",
              "    <tr>\n",
              "      <th>541</th>\n",
              "      <td>9155AA73E75993CA3038A3C018C759E6</td>\n",
              "      <td>2B4D126DF82BCB7C874DD817F2DB92D9</td>\n",
              "      <td>2020-04-25</td>\n",
              "      <td>0</td>\n",
              "    </tr>\n",
              "    <tr>\n",
              "      <th>542</th>\n",
              "      <td>9155AA73E75993CA3038A3C018C759E6</td>\n",
              "      <td>2B4D126DF82BCB7C874DD817F2DB92D9</td>\n",
              "      <td>2020-04-25</td>\n",
              "      <td>0</td>\n",
              "    </tr>\n",
              "  </tbody>\n",
              "</table>\n",
              "</div>"
            ],
            "text/plain": [
              "                          ID_PACIENTE  ... DE_RESULTADO\n",
              "533  1588840B45EC66349AB51CD201EC2276  ...            0\n",
              "534  1588840B45EC66349AB51CD201EC2276  ...            0\n",
              "535  E1DB75E3106A496D885700D3A372486D  ...            0\n",
              "536  E1DB75E3106A496D885700D3A372486D  ...            0\n",
              "537  E1DB75E3106A496D885700D3A372486D  ...            0\n",
              "538  E1DB75E3106A496D885700D3A372486D  ...            0\n",
              "539  E1DB75E3106A496D885700D3A372486D  ...            0\n",
              "540  E1DB75E3106A496D885700D3A372486D  ...            0\n",
              "541  9155AA73E75993CA3038A3C018C759E6  ...            0\n",
              "542  9155AA73E75993CA3038A3C018C759E6  ...            0\n",
              "\n",
              "[10 rows x 4 columns]"
            ]
          },
          "metadata": {
            "tags": []
          },
          "execution_count": 130
        }
      ]
    },
    {
      "cell_type": "code",
      "metadata": {
        "id": "7yMsN4Ueg10_",
        "outputId": "26125105-1ec0-4090-bd8f-853d84b9a602",
        "colab": {
          "base_uri": "https://localhost:8080/",
          "height": 0
        }
      },
      "source": [
        "# Verificando que não temos entradas não nulas\n",
        "exames_soro_total.info()"
      ],
      "execution_count": 131,
      "outputs": [
        {
          "output_type": "stream",
          "text": [
            "<class 'pandas.core.frame.DataFrame'>\n",
            "RangeIndex: 543 entries, 0 to 542\n",
            "Data columns (total 4 columns):\n",
            " #   Column          Non-Null Count  Dtype \n",
            "---  ------          --------------  ----- \n",
            " 0   ID_PACIENTE     543 non-null    object\n",
            " 1   ID_ATENDIMENTO  543 non-null    object\n",
            " 2   DT_COLETA       543 non-null    object\n",
            " 3   DE_RESULTADO    543 non-null    int64 \n",
            "dtypes: int64(1), object(3)\n",
            "memory usage: 17.1+ KB\n"
          ],
          "name": "stdout"
        }
      ]
    },
    {
      "cell_type": "markdown",
      "metadata": {
        "id": "SKcHnFzGjYXj"
      },
      "source": [
        "### **3.18) Análise dos testes PCR**"
      ]
    },
    {
      "cell_type": "markdown",
      "metadata": {
        "id": "gjTHXzeCFi2x"
      },
      "source": [
        "##### **3.18.1) COVID-19-PCR para SARS-COV-2, Vários Materiais (Fleury)**"
      ]
    },
    {
      "cell_type": "code",
      "metadata": {
        "id": "C1CNZmR-zgLX",
        "outputId": "54f83876-8f7b-4426-ed40-2c6a974391f1",
        "colab": {
          "base_uri": "https://localhost:8080/",
          "height": 0
        }
      },
      "source": [
        "# Temos dois tipos de testes PCR para analisar.\n",
        "# Vamos começar analisando os resultados do exame 'COVID-19-PCR para SARS-COV-2, Vários Materiais (Fleury)'\n",
        "data_exames_HSL[exames_covid_pcr]['DE_RESULTADO'].value_counts()"
      ],
      "execution_count": 132,
      "outputs": [
        {
          "output_type": "execute_result",
          "data": {
            "text/plain": [
              "swab de nasofaringe                           1249\n",
              "DETECTADO (POSITIVO)                           621\n",
              "DETECTADO                                      600\n",
              "NÃO DETECTADO                                  210\n",
              "raspado de nasofaringe                          92\n",
              "NÃO DETECTADO (NEGATIVO)                        91\n",
              "raspado de material do trato respiratorio       62\n",
              "DETECTÁVEL                                      32\n",
              "secrecao traqueal                               30\n",
              "raspado de material do trato respiratório       19\n",
              "aspirado de nasofaringe                         16\n",
              "lavado de nasofaringe                           14\n",
              "raspado de orofaringe e nasofaringe              8\n",
              "INDETECTÁVEL                                     6\n",
              "aspirado de material do trato respiratorio       6\n",
              "SWAB NASOFARINGEO                                2\n",
              "secreção traqueal                                2\n",
              "INCONCLUSIVO                                     2\n",
              "Inconclusivo                                     1\n",
              "lavado de material do trato respiratorio         1\n",
              "lavado bronquico                                 1\n",
              "lavado de material do trato respiratório         1\n",
              "Inconclusivo                                     1\n",
              "aspirado traqueal                                1\n",
              "liquor                                           1\n",
              "lavado bronquioalveolar                          1\n",
              "Name: DE_RESULTADO, dtype: int64"
            ]
          },
          "metadata": {
            "tags": []
          },
          "execution_count": 132
        }
      ]
    },
    {
      "cell_type": "code",
      "metadata": {
        "id": "uea7MDQjkwrc",
        "outputId": "90c97d10-976f-47c2-ec4b-945fd894fd13",
        "colab": {
          "base_uri": "https://localhost:8080/",
          "height": 0
        }
      },
      "source": [
        "# Dos resultados distintos observados na lista acima, nos interessamos somente pelos que permitem identificar\n",
        "# ou não a presença de anticorpos para COVID-19 nos pacientes, representados na lista abaixo.\n",
        "resultados_PCR = ['DETECTADO', 'DETECTADO (POSITIVO)',\n",
        "       'INDETECTÁVEL', 'NÃO DETECTADO (NEGATIVO)',\n",
        "       'DETECTÁVEL',\n",
        "       'NÃO DETECTADO']\n",
        "\n",
        "# Selecionando somente os resultados que interessam\n",
        "sel_exames_PCR = (data_exames_HSL['DE_EXAME'] == 'COVID-19-PCR para SARS-COV-2, Vários Materiais (Fleury)') & (data_exames_HSL[exames_covid_pcr]['DE_RESULTADO'].isin(resultados_PCR))\n",
        "exames_PCR_1 = data_exames_HSL[sel_exames_PCR]\n",
        "exames_PCR_1.head(10)       "
      ],
      "execution_count": 133,
      "outputs": [
        {
          "output_type": "execute_result",
          "data": {
            "text/html": [
              "<div>\n",
              "<style scoped>\n",
              "    .dataframe tbody tr th:only-of-type {\n",
              "        vertical-align: middle;\n",
              "    }\n",
              "\n",
              "    .dataframe tbody tr th {\n",
              "        vertical-align: top;\n",
              "    }\n",
              "\n",
              "    .dataframe thead th {\n",
              "        text-align: right;\n",
              "    }\n",
              "</style>\n",
              "<table border=\"1\" class=\"dataframe\">\n",
              "  <thead>\n",
              "    <tr style=\"text-align: right;\">\n",
              "      <th></th>\n",
              "      <th>ID_PACIENTE</th>\n",
              "      <th>ID_ATENDIMENTO</th>\n",
              "      <th>DT_COLETA</th>\n",
              "      <th>DE_ORIGEM</th>\n",
              "      <th>DE_EXAME</th>\n",
              "      <th>DE_ANALITO</th>\n",
              "      <th>DE_RESULTADO</th>\n",
              "      <th>CD_UNIDADE</th>\n",
              "      <th>DE_VALOR_REFERENCIA</th>\n",
              "    </tr>\n",
              "  </thead>\n",
              "  <tbody>\n",
              "    <tr>\n",
              "      <th>149</th>\n",
              "      <td>0AD1FFA4419472256666A3445414F1F9</td>\n",
              "      <td>70A834FEFF3562FCBA3888D592DA2609</td>\n",
              "      <td>2020-03-16</td>\n",
              "      <td>Recepção do Centro Diagnóstico</td>\n",
              "      <td>COVID-19-PCR para SARS-COV-2, Vários Materiais...</td>\n",
              "      <td>Coronavírus (2019-nCoV)</td>\n",
              "      <td>DETECTADO</td>\n",
              "      <td>NaN</td>\n",
              "      <td>Não detectado</td>\n",
              "    </tr>\n",
              "    <tr>\n",
              "      <th>348</th>\n",
              "      <td>FD6F18D3E9DA3ADD5179E6B3EA21ABB2</td>\n",
              "      <td>68623C98C8B0B6AA799F1CCE5A8033CA</td>\n",
              "      <td>2020-06-22</td>\n",
              "      <td>Recepção do Centro Diagnóstico</td>\n",
              "      <td>COVID-19-PCR para SARS-COV-2, Vários Materiais...</td>\n",
              "      <td>Coronavírus (2019-nCoV)</td>\n",
              "      <td>DETECTADO (POSITIVO)</td>\n",
              "      <td>NaN</td>\n",
              "      <td>Não detectado</td>\n",
              "    </tr>\n",
              "    <tr>\n",
              "      <th>351</th>\n",
              "      <td>3B9836D0E92704BFAB0B2E691D0A3BAE</td>\n",
              "      <td>F6A97EB5859A622FB6EB9170E677CEB4</td>\n",
              "      <td>2020-03-12</td>\n",
              "      <td>Programa Cuidando de Quem Cuida</td>\n",
              "      <td>COVID-19-PCR para SARS-COV-2, Vários Materiais...</td>\n",
              "      <td>Coronavírus (2019-nCoV)</td>\n",
              "      <td>INDETECTÁVEL</td>\n",
              "      <td>NaN</td>\n",
              "      <td>Indetectável</td>\n",
              "    </tr>\n",
              "    <tr>\n",
              "      <th>353</th>\n",
              "      <td>3B9836D0E92704BFAB0B2E691D0A3BAE</td>\n",
              "      <td>A5ABEF18B34146C64FF12F2382ACA303</td>\n",
              "      <td>2020-06-29</td>\n",
              "      <td>Programa Cuidando de Quem Cuida</td>\n",
              "      <td>COVID-19-PCR para SARS-COV-2, Vários Materiais...</td>\n",
              "      <td>Coronavírus (2019-nCoV)</td>\n",
              "      <td>DETECTADO (POSITIVO)</td>\n",
              "      <td>NaN</td>\n",
              "      <td>Não detectado</td>\n",
              "    </tr>\n",
              "    <tr>\n",
              "      <th>355</th>\n",
              "      <td>C40D5F4CFDAA517A9513147B03BB82B4</td>\n",
              "      <td>F30D42CC704E8D4E5F3D7A9F279E8E4F</td>\n",
              "      <td>2020-07-13</td>\n",
              "      <td>Programa Cuidando de Quem Cuida</td>\n",
              "      <td>COVID-19-PCR para SARS-COV-2, Vários Materiais...</td>\n",
              "      <td>Coronavírus (2019-nCoV)</td>\n",
              "      <td>DETECTADO (POSITIVO)</td>\n",
              "      <td>NaN</td>\n",
              "      <td>Não detectado</td>\n",
              "    </tr>\n",
              "    <tr>\n",
              "      <th>357</th>\n",
              "      <td>B38CC72A753900257E4D485795B106FD</td>\n",
              "      <td>73CEC46EE6DB4CDEC0371611BF9D557F</td>\n",
              "      <td>2020-03-17</td>\n",
              "      <td>Recepção do Centro Diagnóstico</td>\n",
              "      <td>COVID-19-PCR para SARS-COV-2, Vários Materiais...</td>\n",
              "      <td>Coronavírus (2019-nCoV)</td>\n",
              "      <td>DETECTADO</td>\n",
              "      <td>NaN</td>\n",
              "      <td>Não detectado</td>\n",
              "    </tr>\n",
              "    <tr>\n",
              "      <th>428</th>\n",
              "      <td>D1C4E29D126CA8B4359827903CB222AC</td>\n",
              "      <td>F199DE2360D5172CC936FB926344F021</td>\n",
              "      <td>2020-07-14</td>\n",
              "      <td>Pronto Socorro</td>\n",
              "      <td>COVID-19-PCR para SARS-COV-2, Vários Materiais...</td>\n",
              "      <td>Coronavírus (2019-nCoV)</td>\n",
              "      <td>DETECTADO (POSITIVO)</td>\n",
              "      <td>NaN</td>\n",
              "      <td>Não detectado</td>\n",
              "    </tr>\n",
              "    <tr>\n",
              "      <th>536</th>\n",
              "      <td>EA3D530A51086CEFC8C6DFAEC53D00F2</td>\n",
              "      <td>E924C3167E6FB451D00DFAE361B6B261</td>\n",
              "      <td>2020-03-27</td>\n",
              "      <td>Unidades de Internação</td>\n",
              "      <td>COVID-19-PCR para SARS-COV-2, Vários Materiais...</td>\n",
              "      <td>Coronavírus (2019-nCoV)</td>\n",
              "      <td>DETECTADO</td>\n",
              "      <td>NaN</td>\n",
              "      <td>Não detectado</td>\n",
              "    </tr>\n",
              "    <tr>\n",
              "      <th>2048</th>\n",
              "      <td>F5B5BD59D98836D8AA2D8C27B01225AB</td>\n",
              "      <td>FBF3FC0FD4890AF6B6EBFE6BFC12EC0C</td>\n",
              "      <td>2020-05-21</td>\n",
              "      <td>UTI</td>\n",
              "      <td>COVID-19-PCR para SARS-COV-2, Vários Materiais...</td>\n",
              "      <td>Coronavírus (2019-nCoV)</td>\n",
              "      <td>DETECTADO</td>\n",
              "      <td>NaN</td>\n",
              "      <td>Não detectado</td>\n",
              "    </tr>\n",
              "    <tr>\n",
              "      <th>2750</th>\n",
              "      <td>C3A3D083DBC1353FAB5F87282EE86633</td>\n",
              "      <td>986F5A4D204635B958B17EB882063D9C</td>\n",
              "      <td>2020-03-14</td>\n",
              "      <td>Pronto Socorro</td>\n",
              "      <td>COVID-19-PCR para SARS-COV-2, Vários Materiais...</td>\n",
              "      <td>Coronavírus (2019-nCoV)</td>\n",
              "      <td>INDETECTÁVEL</td>\n",
              "      <td>NaN</td>\n",
              "      <td>DETECTÁVEL</td>\n",
              "    </tr>\n",
              "  </tbody>\n",
              "</table>\n",
              "</div>"
            ],
            "text/plain": [
              "                           ID_PACIENTE  ... DE_VALOR_REFERENCIA\n",
              "149   0AD1FFA4419472256666A3445414F1F9  ...       Não detectado\n",
              "348   FD6F18D3E9DA3ADD5179E6B3EA21ABB2  ...       Não detectado\n",
              "351   3B9836D0E92704BFAB0B2E691D0A3BAE  ...        Indetectável\n",
              "353   3B9836D0E92704BFAB0B2E691D0A3BAE  ...       Não detectado\n",
              "355   C40D5F4CFDAA517A9513147B03BB82B4  ...       Não detectado\n",
              "357   B38CC72A753900257E4D485795B106FD  ...       Não detectado\n",
              "428   D1C4E29D126CA8B4359827903CB222AC  ...       Não detectado\n",
              "536   EA3D530A51086CEFC8C6DFAEC53D00F2  ...       Não detectado\n",
              "2048  F5B5BD59D98836D8AA2D8C27B01225AB  ...       Não detectado\n",
              "2750  C3A3D083DBC1353FAB5F87282EE86633  ...          DETECTÁVEL\n",
              "\n",
              "[10 rows x 9 columns]"
            ]
          },
          "metadata": {
            "tags": []
          },
          "execution_count": 133
        }
      ]
    },
    {
      "cell_type": "code",
      "metadata": {
        "id": "7EtP1enDkfoB",
        "outputId": "29b97e4d-315a-4adc-ab89-d0fcd2af4026",
        "colab": {
          "base_uri": "https://localhost:8080/",
          "height": 0
        }
      },
      "source": [
        "# Precisamos agora mapear cada um desses resultados para detecção ou não de COVID-19:\n",
        "#\n",
        "# 0 => Não foram detectados anticorpos para COVID-19\n",
        "# 1 => Detectados anticorpos para COVID-19\n",
        "PCR_map = {\n",
        "    'DETECTADO' : 1, \n",
        "    'DETECTADO (POSITIVO)' : 1,\n",
        "    'INDETECTÁVEL' : 0, \n",
        "    'NÃO DETECTADO (NEGATIVO)' : 0,\n",
        "    'DETECTÁVEL' : 1,\n",
        "    'NÃO DETECTADO' : 0,\n",
        "    'Inconclusivo ' : 0,\n",
        "    'Inconclusivo' : 0\n",
        "}\n",
        "\n",
        "# Mapeando os novos valores\n",
        "exames_PCR_1['DE_RESULTADO'] = exames_PCR_1['DE_RESULTADO'].map(PCR_map)\n",
        "exames_PCR_1.drop(['DE_ORIGEM', 'DE_EXAME', 'DE_ANALITO', 'CD_UNIDADE', 'DE_VALOR_REFERENCIA'], axis=1, inplace=True)\n",
        "exames_PCR_1.head(10)"
      ],
      "execution_count": 134,
      "outputs": [
        {
          "output_type": "stream",
          "text": [
            "/usr/local/lib/python3.6/dist-packages/ipykernel_launcher.py:17: SettingWithCopyWarning: \n",
            "A value is trying to be set on a copy of a slice from a DataFrame.\n",
            "Try using .loc[row_indexer,col_indexer] = value instead\n",
            "\n",
            "See the caveats in the documentation: https://pandas.pydata.org/pandas-docs/stable/user_guide/indexing.html#returning-a-view-versus-a-copy\n",
            "/usr/local/lib/python3.6/dist-packages/pandas/core/frame.py:4169: SettingWithCopyWarning: \n",
            "A value is trying to be set on a copy of a slice from a DataFrame\n",
            "\n",
            "See the caveats in the documentation: https://pandas.pydata.org/pandas-docs/stable/user_guide/indexing.html#returning-a-view-versus-a-copy\n",
            "  errors=errors,\n"
          ],
          "name": "stderr"
        },
        {
          "output_type": "execute_result",
          "data": {
            "text/html": [
              "<div>\n",
              "<style scoped>\n",
              "    .dataframe tbody tr th:only-of-type {\n",
              "        vertical-align: middle;\n",
              "    }\n",
              "\n",
              "    .dataframe tbody tr th {\n",
              "        vertical-align: top;\n",
              "    }\n",
              "\n",
              "    .dataframe thead th {\n",
              "        text-align: right;\n",
              "    }\n",
              "</style>\n",
              "<table border=\"1\" class=\"dataframe\">\n",
              "  <thead>\n",
              "    <tr style=\"text-align: right;\">\n",
              "      <th></th>\n",
              "      <th>ID_PACIENTE</th>\n",
              "      <th>ID_ATENDIMENTO</th>\n",
              "      <th>DT_COLETA</th>\n",
              "      <th>DE_RESULTADO</th>\n",
              "    </tr>\n",
              "  </thead>\n",
              "  <tbody>\n",
              "    <tr>\n",
              "      <th>149</th>\n",
              "      <td>0AD1FFA4419472256666A3445414F1F9</td>\n",
              "      <td>70A834FEFF3562FCBA3888D592DA2609</td>\n",
              "      <td>2020-03-16</td>\n",
              "      <td>1</td>\n",
              "    </tr>\n",
              "    <tr>\n",
              "      <th>348</th>\n",
              "      <td>FD6F18D3E9DA3ADD5179E6B3EA21ABB2</td>\n",
              "      <td>68623C98C8B0B6AA799F1CCE5A8033CA</td>\n",
              "      <td>2020-06-22</td>\n",
              "      <td>1</td>\n",
              "    </tr>\n",
              "    <tr>\n",
              "      <th>351</th>\n",
              "      <td>3B9836D0E92704BFAB0B2E691D0A3BAE</td>\n",
              "      <td>F6A97EB5859A622FB6EB9170E677CEB4</td>\n",
              "      <td>2020-03-12</td>\n",
              "      <td>0</td>\n",
              "    </tr>\n",
              "    <tr>\n",
              "      <th>353</th>\n",
              "      <td>3B9836D0E92704BFAB0B2E691D0A3BAE</td>\n",
              "      <td>A5ABEF18B34146C64FF12F2382ACA303</td>\n",
              "      <td>2020-06-29</td>\n",
              "      <td>1</td>\n",
              "    </tr>\n",
              "    <tr>\n",
              "      <th>355</th>\n",
              "      <td>C40D5F4CFDAA517A9513147B03BB82B4</td>\n",
              "      <td>F30D42CC704E8D4E5F3D7A9F279E8E4F</td>\n",
              "      <td>2020-07-13</td>\n",
              "      <td>1</td>\n",
              "    </tr>\n",
              "    <tr>\n",
              "      <th>357</th>\n",
              "      <td>B38CC72A753900257E4D485795B106FD</td>\n",
              "      <td>73CEC46EE6DB4CDEC0371611BF9D557F</td>\n",
              "      <td>2020-03-17</td>\n",
              "      <td>1</td>\n",
              "    </tr>\n",
              "    <tr>\n",
              "      <th>428</th>\n",
              "      <td>D1C4E29D126CA8B4359827903CB222AC</td>\n",
              "      <td>F199DE2360D5172CC936FB926344F021</td>\n",
              "      <td>2020-07-14</td>\n",
              "      <td>1</td>\n",
              "    </tr>\n",
              "    <tr>\n",
              "      <th>536</th>\n",
              "      <td>EA3D530A51086CEFC8C6DFAEC53D00F2</td>\n",
              "      <td>E924C3167E6FB451D00DFAE361B6B261</td>\n",
              "      <td>2020-03-27</td>\n",
              "      <td>1</td>\n",
              "    </tr>\n",
              "    <tr>\n",
              "      <th>2048</th>\n",
              "      <td>F5B5BD59D98836D8AA2D8C27B01225AB</td>\n",
              "      <td>FBF3FC0FD4890AF6B6EBFE6BFC12EC0C</td>\n",
              "      <td>2020-05-21</td>\n",
              "      <td>1</td>\n",
              "    </tr>\n",
              "    <tr>\n",
              "      <th>2750</th>\n",
              "      <td>C3A3D083DBC1353FAB5F87282EE86633</td>\n",
              "      <td>986F5A4D204635B958B17EB882063D9C</td>\n",
              "      <td>2020-03-14</td>\n",
              "      <td>0</td>\n",
              "    </tr>\n",
              "  </tbody>\n",
              "</table>\n",
              "</div>"
            ],
            "text/plain": [
              "                           ID_PACIENTE  ... DE_RESULTADO\n",
              "149   0AD1FFA4419472256666A3445414F1F9  ...            1\n",
              "348   FD6F18D3E9DA3ADD5179E6B3EA21ABB2  ...            1\n",
              "351   3B9836D0E92704BFAB0B2E691D0A3BAE  ...            0\n",
              "353   3B9836D0E92704BFAB0B2E691D0A3BAE  ...            1\n",
              "355   C40D5F4CFDAA517A9513147B03BB82B4  ...            1\n",
              "357   B38CC72A753900257E4D485795B106FD  ...            1\n",
              "428   D1C4E29D126CA8B4359827903CB222AC  ...            1\n",
              "536   EA3D530A51086CEFC8C6DFAEC53D00F2  ...            1\n",
              "2048  F5B5BD59D98836D8AA2D8C27B01225AB  ...            1\n",
              "2750  C3A3D083DBC1353FAB5F87282EE86633  ...            0\n",
              "\n",
              "[10 rows x 4 columns]"
            ]
          },
          "metadata": {
            "tags": []
          },
          "execution_count": 134
        }
      ]
    },
    {
      "cell_type": "code",
      "metadata": {
        "id": "NN6oqqJEmXWl",
        "outputId": "c083dd7e-8466-4a3c-dbe0-9754dca89461",
        "colab": {
          "base_uri": "https://localhost:8080/",
          "height": 0
        }
      },
      "source": [
        "# Agora analsamos quantos resultados de testes sorológicos ainda temos:\n",
        "print('Após tratar os dados, temos {} exames PCR realizados'.format(exames_PCR_1.shape[0]))"
      ],
      "execution_count": 135,
      "outputs": [
        {
          "output_type": "stream",
          "text": [
            "Após tratar os dados, temos 1560 exames PCR realizados\n"
          ],
          "name": "stdout"
        }
      ]
    },
    {
      "cell_type": "markdown",
      "metadata": {
        "id": "17n9tLK5HP9k"
      },
      "source": [
        "#####**3.18.2) Detecção de Coronavírus (NCoV-2019) POR PCR (Anatomia Patológica)**"
      ]
    },
    {
      "cell_type": "code",
      "metadata": {
        "id": "wdRrr2XhHQYg",
        "outputId": "64fbe286-2205-4c32-8f4f-8c3e82551914",
        "colab": {
          "base_uri": "https://localhost:8080/",
          "height": 0
        }
      },
      "source": [
        "# Agora vamos analisar os resultados do segundo tipo de exame PCR realizado.\n",
        "data_exames_HSL[exames_corona_pcr]['DE_RESULTADO'].unique()"
      ],
      "execution_count": 136,
      "outputs": [
        {
          "output_type": "execute_result",
          "data": {
            "text/plain": [
              "array(['DETECTADO'], dtype=object)"
            ]
          },
          "metadata": {
            "tags": []
          },
          "execution_count": 136
        }
      ]
    },
    {
      "cell_type": "code",
      "metadata": {
        "id": "NMz7-l4IH34N",
        "outputId": "4ff0de67-87df-41fd-9b5d-d573ef3ff52b",
        "colab": {
          "base_uri": "https://localhost:8080/",
          "height": 0
        }
      },
      "source": [
        "# Ou seja, todas as pessoas que se submeteram a esse exame testaram positivo para COVID-19.\n",
        "# Assim, podemos tratar esses dados diretamente mapeando os resultados para 1:\n",
        "exames_PCR_2 = data_exames_HSL[exames_corona_pcr]\n",
        "exames_PCR_2['DE_RESULTADO'] = 1\n",
        "exames_PCR_2.drop(['DE_ORIGEM', 'DE_EXAME', 'DE_ANALITO', 'CD_UNIDADE', 'DE_VALOR_REFERENCIA'], axis=1, inplace=True)\n",
        "exames_PCR_2.head(10)"
      ],
      "execution_count": 137,
      "outputs": [
        {
          "output_type": "stream",
          "text": [
            "/usr/local/lib/python3.6/dist-packages/ipykernel_launcher.py:4: SettingWithCopyWarning: \n",
            "A value is trying to be set on a copy of a slice from a DataFrame.\n",
            "Try using .loc[row_indexer,col_indexer] = value instead\n",
            "\n",
            "See the caveats in the documentation: https://pandas.pydata.org/pandas-docs/stable/user_guide/indexing.html#returning-a-view-versus-a-copy\n",
            "  after removing the cwd from sys.path.\n",
            "/usr/local/lib/python3.6/dist-packages/pandas/core/frame.py:4169: SettingWithCopyWarning: \n",
            "A value is trying to be set on a copy of a slice from a DataFrame\n",
            "\n",
            "See the caveats in the documentation: https://pandas.pydata.org/pandas-docs/stable/user_guide/indexing.html#returning-a-view-versus-a-copy\n",
            "  errors=errors,\n"
          ],
          "name": "stderr"
        },
        {
          "output_type": "execute_result",
          "data": {
            "text/html": [
              "<div>\n",
              "<style scoped>\n",
              "    .dataframe tbody tr th:only-of-type {\n",
              "        vertical-align: middle;\n",
              "    }\n",
              "\n",
              "    .dataframe tbody tr th {\n",
              "        vertical-align: top;\n",
              "    }\n",
              "\n",
              "    .dataframe thead th {\n",
              "        text-align: right;\n",
              "    }\n",
              "</style>\n",
              "<table border=\"1\" class=\"dataframe\">\n",
              "  <thead>\n",
              "    <tr style=\"text-align: right;\">\n",
              "      <th></th>\n",
              "      <th>ID_PACIENTE</th>\n",
              "      <th>ID_ATENDIMENTO</th>\n",
              "      <th>DT_COLETA</th>\n",
              "      <th>DE_RESULTADO</th>\n",
              "    </tr>\n",
              "  </thead>\n",
              "  <tbody>\n",
              "    <tr>\n",
              "      <th>150</th>\n",
              "      <td>3487791F44C34B421C932DC8616A8437</td>\n",
              "      <td>58DB2576E7220A442BC49D2F02832708</td>\n",
              "      <td>2020-05-04</td>\n",
              "      <td>1</td>\n",
              "    </tr>\n",
              "    <tr>\n",
              "      <th>396</th>\n",
              "      <td>3EB01D5BF412F46BE68D184C7981D84F</td>\n",
              "      <td>842CB44AA0F60D2F6FA8A175853CE9AC</td>\n",
              "      <td>2020-05-03</td>\n",
              "      <td>1</td>\n",
              "    </tr>\n",
              "    <tr>\n",
              "      <th>397</th>\n",
              "      <td>B9697B4994DF6367EDB722F1EC4AB423</td>\n",
              "      <td>0E944DFEEFAACAEDAABAC8DCB945608C</td>\n",
              "      <td>2020-05-18</td>\n",
              "      <td>1</td>\n",
              "    </tr>\n",
              "    <tr>\n",
              "      <th>2749</th>\n",
              "      <td>4EC36E0CC80E9456E653791F68423A9E</td>\n",
              "      <td>16F6DB22F8934073DE7C2E6E5DA37570</td>\n",
              "      <td>2020-07-06</td>\n",
              "      <td>1</td>\n",
              "    </tr>\n",
              "    <tr>\n",
              "      <th>3068</th>\n",
              "      <td>2A17CD3A45ED87C2F638AFB4917B463B</td>\n",
              "      <td>7B65766B31FFF3808D40BFE48A5050AD</td>\n",
              "      <td>2020-06-06</td>\n",
              "      <td>1</td>\n",
              "    </tr>\n",
              "    <tr>\n",
              "      <th>3179</th>\n",
              "      <td>85D46882DBFFD6680B2BBE87FFCDBFE1</td>\n",
              "      <td>A10AF51A7E4ED37FFE3F25CC90D0CDF2</td>\n",
              "      <td>2020-08-08</td>\n",
              "      <td>1</td>\n",
              "    </tr>\n",
              "    <tr>\n",
              "      <th>3424</th>\n",
              "      <td>2D6E2EFC360FA4829A61AE07EBAEBBAF</td>\n",
              "      <td>AB86038D2E008C76283885A95E81E5C1</td>\n",
              "      <td>2020-06-17</td>\n",
              "      <td>1</td>\n",
              "    </tr>\n",
              "    <tr>\n",
              "      <th>3707</th>\n",
              "      <td>6960A46A81F18DECDF6CC84FC6C568B8</td>\n",
              "      <td>007D712BAD4C4B8DCCCE9068A3968B12</td>\n",
              "      <td>2020-05-09</td>\n",
              "      <td>1</td>\n",
              "    </tr>\n",
              "    <tr>\n",
              "      <th>3814</th>\n",
              "      <td>88D972DF3C4F6E8560CE119ED5445BDA</td>\n",
              "      <td>1C3A12045AE1D7F78B12095C47B7E922</td>\n",
              "      <td>2020-08-04</td>\n",
              "      <td>1</td>\n",
              "    </tr>\n",
              "    <tr>\n",
              "      <th>3820</th>\n",
              "      <td>4CE0DB6566E705FE834E650C1C1DFE3D</td>\n",
              "      <td>2A6294EA16DD2CE08B86FC7BF3857E1F</td>\n",
              "      <td>2020-05-30</td>\n",
              "      <td>1</td>\n",
              "    </tr>\n",
              "  </tbody>\n",
              "</table>\n",
              "</div>"
            ],
            "text/plain": [
              "                           ID_PACIENTE  ... DE_RESULTADO\n",
              "150   3487791F44C34B421C932DC8616A8437  ...            1\n",
              "396   3EB01D5BF412F46BE68D184C7981D84F  ...            1\n",
              "397   B9697B4994DF6367EDB722F1EC4AB423  ...            1\n",
              "2749  4EC36E0CC80E9456E653791F68423A9E  ...            1\n",
              "3068  2A17CD3A45ED87C2F638AFB4917B463B  ...            1\n",
              "3179  85D46882DBFFD6680B2BBE87FFCDBFE1  ...            1\n",
              "3424  2D6E2EFC360FA4829A61AE07EBAEBBAF  ...            1\n",
              "3707  6960A46A81F18DECDF6CC84FC6C568B8  ...            1\n",
              "3814  88D972DF3C4F6E8560CE119ED5445BDA  ...            1\n",
              "3820  4CE0DB6566E705FE834E650C1C1DFE3D  ...            1\n",
              "\n",
              "[10 rows x 4 columns]"
            ]
          },
          "metadata": {
            "tags": []
          },
          "execution_count": 137
        }
      ]
    },
    {
      "cell_type": "code",
      "metadata": {
        "id": "gx097cR-IlGC",
        "outputId": "92117f4d-8dea-444f-cf67-673075ebc9e1",
        "colab": {
          "base_uri": "https://localhost:8080/",
          "height": 0
        }
      },
      "source": [
        "# Agora analsamos quantos resultados de testes sorológicos ainda temos:\n",
        "print('Após tratar os dados, temos {} exames PCR realizados'.format(exames_PCR_2.shape[0]))"
      ],
      "execution_count": 138,
      "outputs": [
        {
          "output_type": "stream",
          "text": [
            "Após tratar os dados, temos 492 exames PCR realizados\n"
          ],
          "name": "stdout"
        }
      ]
    },
    {
      "cell_type": "markdown",
      "metadata": {
        "id": "OjFfSOB8jRHJ"
      },
      "source": [
        "#####**3.18.3) Combinando os testes PCR**"
      ]
    },
    {
      "cell_type": "code",
      "metadata": {
        "id": "ioU2HbkJIpQI",
        "outputId": "fa63188e-46c9-481e-f6e2-4b4c544fb5a9",
        "colab": {
          "base_uri": "https://localhost:8080/",
          "height": 0
        }
      },
      "source": [
        "# Vamos unir todos os dados de exames PCR (exames_PCR_1 + exames_PCR_2)\n",
        "exames_PCR_total = pd.concat([exames_PCR_1, exames_PCR_2], axis=0, ignore_index=True)\n",
        "exames_PCR_total.head(10)"
      ],
      "execution_count": 139,
      "outputs": [
        {
          "output_type": "execute_result",
          "data": {
            "text/html": [
              "<div>\n",
              "<style scoped>\n",
              "    .dataframe tbody tr th:only-of-type {\n",
              "        vertical-align: middle;\n",
              "    }\n",
              "\n",
              "    .dataframe tbody tr th {\n",
              "        vertical-align: top;\n",
              "    }\n",
              "\n",
              "    .dataframe thead th {\n",
              "        text-align: right;\n",
              "    }\n",
              "</style>\n",
              "<table border=\"1\" class=\"dataframe\">\n",
              "  <thead>\n",
              "    <tr style=\"text-align: right;\">\n",
              "      <th></th>\n",
              "      <th>ID_PACIENTE</th>\n",
              "      <th>ID_ATENDIMENTO</th>\n",
              "      <th>DT_COLETA</th>\n",
              "      <th>DE_RESULTADO</th>\n",
              "    </tr>\n",
              "  </thead>\n",
              "  <tbody>\n",
              "    <tr>\n",
              "      <th>0</th>\n",
              "      <td>0AD1FFA4419472256666A3445414F1F9</td>\n",
              "      <td>70A834FEFF3562FCBA3888D592DA2609</td>\n",
              "      <td>2020-03-16</td>\n",
              "      <td>1</td>\n",
              "    </tr>\n",
              "    <tr>\n",
              "      <th>1</th>\n",
              "      <td>FD6F18D3E9DA3ADD5179E6B3EA21ABB2</td>\n",
              "      <td>68623C98C8B0B6AA799F1CCE5A8033CA</td>\n",
              "      <td>2020-06-22</td>\n",
              "      <td>1</td>\n",
              "    </tr>\n",
              "    <tr>\n",
              "      <th>2</th>\n",
              "      <td>3B9836D0E92704BFAB0B2E691D0A3BAE</td>\n",
              "      <td>F6A97EB5859A622FB6EB9170E677CEB4</td>\n",
              "      <td>2020-03-12</td>\n",
              "      <td>0</td>\n",
              "    </tr>\n",
              "    <tr>\n",
              "      <th>3</th>\n",
              "      <td>3B9836D0E92704BFAB0B2E691D0A3BAE</td>\n",
              "      <td>A5ABEF18B34146C64FF12F2382ACA303</td>\n",
              "      <td>2020-06-29</td>\n",
              "      <td>1</td>\n",
              "    </tr>\n",
              "    <tr>\n",
              "      <th>4</th>\n",
              "      <td>C40D5F4CFDAA517A9513147B03BB82B4</td>\n",
              "      <td>F30D42CC704E8D4E5F3D7A9F279E8E4F</td>\n",
              "      <td>2020-07-13</td>\n",
              "      <td>1</td>\n",
              "    </tr>\n",
              "    <tr>\n",
              "      <th>5</th>\n",
              "      <td>B38CC72A753900257E4D485795B106FD</td>\n",
              "      <td>73CEC46EE6DB4CDEC0371611BF9D557F</td>\n",
              "      <td>2020-03-17</td>\n",
              "      <td>1</td>\n",
              "    </tr>\n",
              "    <tr>\n",
              "      <th>6</th>\n",
              "      <td>D1C4E29D126CA8B4359827903CB222AC</td>\n",
              "      <td>F199DE2360D5172CC936FB926344F021</td>\n",
              "      <td>2020-07-14</td>\n",
              "      <td>1</td>\n",
              "    </tr>\n",
              "    <tr>\n",
              "      <th>7</th>\n",
              "      <td>EA3D530A51086CEFC8C6DFAEC53D00F2</td>\n",
              "      <td>E924C3167E6FB451D00DFAE361B6B261</td>\n",
              "      <td>2020-03-27</td>\n",
              "      <td>1</td>\n",
              "    </tr>\n",
              "    <tr>\n",
              "      <th>8</th>\n",
              "      <td>F5B5BD59D98836D8AA2D8C27B01225AB</td>\n",
              "      <td>FBF3FC0FD4890AF6B6EBFE6BFC12EC0C</td>\n",
              "      <td>2020-05-21</td>\n",
              "      <td>1</td>\n",
              "    </tr>\n",
              "    <tr>\n",
              "      <th>9</th>\n",
              "      <td>C3A3D083DBC1353FAB5F87282EE86633</td>\n",
              "      <td>986F5A4D204635B958B17EB882063D9C</td>\n",
              "      <td>2020-03-14</td>\n",
              "      <td>0</td>\n",
              "    </tr>\n",
              "  </tbody>\n",
              "</table>\n",
              "</div>"
            ],
            "text/plain": [
              "                        ID_PACIENTE  ... DE_RESULTADO\n",
              "0  0AD1FFA4419472256666A3445414F1F9  ...            1\n",
              "1  FD6F18D3E9DA3ADD5179E6B3EA21ABB2  ...            1\n",
              "2  3B9836D0E92704BFAB0B2E691D0A3BAE  ...            0\n",
              "3  3B9836D0E92704BFAB0B2E691D0A3BAE  ...            1\n",
              "4  C40D5F4CFDAA517A9513147B03BB82B4  ...            1\n",
              "5  B38CC72A753900257E4D485795B106FD  ...            1\n",
              "6  D1C4E29D126CA8B4359827903CB222AC  ...            1\n",
              "7  EA3D530A51086CEFC8C6DFAEC53D00F2  ...            1\n",
              "8  F5B5BD59D98836D8AA2D8C27B01225AB  ...            1\n",
              "9  C3A3D083DBC1353FAB5F87282EE86633  ...            0\n",
              "\n",
              "[10 rows x 4 columns]"
            ]
          },
          "metadata": {
            "tags": []
          },
          "execution_count": 139
        }
      ]
    },
    {
      "cell_type": "markdown",
      "metadata": {
        "id": "Dygaro5Qjn7S"
      },
      "source": [
        "### **3.19) Análise dos testes rápidos**"
      ]
    },
    {
      "cell_type": "code",
      "metadata": {
        "id": "tWs-pGN_C7M6",
        "outputId": "92263590-9e99-46ca-d4af-7c3adf073596",
        "colab": {
          "base_uri": "https://localhost:8080/",
          "height": 0
        }
      },
      "source": [
        "data_exames_HSL[exames_covid_rapido]['DE_ANALITO'].unique()"
      ],
      "execution_count": 140,
      "outputs": [
        {
          "output_type": "execute_result",
          "data": {
            "text/plain": [
              "array(['Covid 19, Material', 'Covid 19, Anticorpos IgM, teste rápido',\n",
              "       'Covid 19, Anticorpos IgG, teste rápido',\n",
              "       'Covid 19,Antic IgM/IgG,teste rápido-Interpret',\n",
              "       'Covid 19, Antic IgM/IgG, teste rápido-Observ'], dtype=object)"
            ]
          },
          "metadata": {
            "tags": []
          },
          "execution_count": 140
        }
      ]
    },
    {
      "cell_type": "code",
      "metadata": {
        "id": "gGP_KeAYzpR9",
        "outputId": "e479e249-ce9a-43d0-dd02-49f13bdb9f04",
        "colab": {
          "base_uri": "https://localhost:8080/",
          "height": 0
        }
      },
      "source": [
        "# Faremos a mesma análise para os testes rápidos. Analisamos primeiro os tipos de resultados encontrados para esse teste\n",
        "data_exames_HSL[exames_covid_rapido]['DE_RESULTADO'].unique()"
      ],
      "execution_count": 141,
      "outputs": [
        {
          "output_type": "execute_result",
          "data": {
            "text/plain": [
              "array(['plasma', 'NÃO REAGENTE', 'REAGENTE',\n",
              "       'Evidência sorológica de infecção pregressa por SARS-CoV-2,',\n",
              "       'A dinâmica de produção de anticorpos na COVID-19 ainda não é bem estabelecida, especialmente em pacientes que não apresentaram sintomas ou apresentaram quadro leve, Nesse sentido, o momento da soroconversão pode ser variável de indivíduo para indivíduo, podendo ser afetado pelo quadro clínico apresentado, O resultado sugere que já tenham transcorrido mais de 3 semanas desde a infecção aguda, A capacidade protetora dos anticorpos da classe IgG não é completamente estabelecida,;',\n",
              "       'Sem evidência sorológica de infecção por SARS-CoV-2,',\n",
              "       'A dinâmica de produção de anticorpos na COVID-19 ainda não é bem estabelecida, especialmente em pacientes que não apresentaram sintomas ou apresentaram quadro leve, Nesse sentido, pode não haver anticorpos detectáveis (resultado negativo), inclusive em pessoas que tiveram infecção previamente confirmada por PCR, Se persistir a hipótese diagnóstica, sugere-se, a critério médico, repetir o teste em nova amostra colhida em 7 dias,;',\n",
              "       'Evidência sorológica de infecção recente por SARS-CoV-2,',\n",
              "       'A dinâmica de produção de anticorpos na COVID-19 ainda não é bem estabelecida, especialmente em pacientes que não apresentaram sintomas ou apresentaram quadro leve, Nesse sentido, o momento da soroconversão pode ser variável de indivíduo para indivíduo, podendo ser afetado pelo quadro clínico apresentado, O resultado sugere infecção com tempo de evolução inferior a 3 semanas, A capacidade protetora dos anticorpos da classe IgG não é completamente estabelecida,;',\n",
              "       'soro'], dtype=object)"
            ]
          },
          "metadata": {
            "tags": []
          },
          "execution_count": 141
        }
      ]
    },
    {
      "cell_type": "code",
      "metadata": {
        "id": "-IPSlhdhmsg-",
        "outputId": "3ee21bba-ea2e-48d9-f699-50114c3a425b",
        "colab": {
          "base_uri": "https://localhost:8080/",
          "height": 0
        }
      },
      "source": [
        "# Dos resultados distintos observados na lista acima, nos interessamos somente pelos que permitem identificar\n",
        "# ou não a presença de anticorpos para COVID-19 nos pacientes, representados na lista abaixo.\n",
        "resultados_rapido = ['NÃO REAGENTE', 'REAGENTE',\n",
        "       'Evidência sorológica de infecção pregressa por SARS-CoV-2,',\n",
        "       'A dinâmica de produção de anticorpos na COVID-19 ainda não é bem estabelecida, especialmente em pacientes que não apresentaram sintomas ou apresentaram quadro leve, Nesse sentido, o momento da soroconversão pode ser variável de indivíduo para indivíduo, podendo ser afetado pelo quadro clínico apresentado, O resultado sugere que já tenham transcorrido mais de 3 semanas desde a infecção aguda, A capacidade protetora dos anticorpos da classe IgG não é completamente estabelecida,;',\n",
        "       'Sem evidência sorológica de infecção por SARS-CoV-2,',\n",
        "       'A dinâmica de produção de anticorpos na COVID-19 ainda não é bem estabelecida, especialmente em pacientes que não apresentaram sintomas ou apresentaram quadro leve, Nesse sentido, pode não haver anticorpos detectáveis (resultado negativo), inclusive em pessoas que tiveram infecção previamente confirmada por PCR, Se persistir a hipótese diagnóstica, sugere-se, a critério médico, repetir o teste em nova amostra colhida em 7 dias,;',\n",
        "       'Evidência sorológica de infecção recente por SARS-CoV-2,',\n",
        "       'A dinâmica de produção de anticorpos na COVID-19 ainda não é bem estabelecida, especialmente em pacientes que não apresentaram sintomas ou apresentaram quadro leve, Nesse sentido, o momento da soroconversão pode ser variável de indivíduo para indivíduo, podendo ser afetado pelo quadro clínico apresentado, O resultado sugere infecção com tempo de evolução inferior a 3 semanas, A capacidade protetora dos anticorpos da classe IgG não é completamente estabelecida,;',]\n",
        "\n",
        "# Seelcionando somente os resultados que interessam\n",
        "sel_exames_rapido = (data_exames_HSL['DE_EXAME'] == 'COVID-19-Teste Rápido (IgM e IgG), soro') & (data_exames_HSL[exames_covid_rapido]['DE_RESULTADO'].isin(resultados_rapido))\n",
        "exames_rapido = data_exames_HSL[sel_exames_rapido]\n",
        "exames_rapido.head(10) "
      ],
      "execution_count": 142,
      "outputs": [
        {
          "output_type": "execute_result",
          "data": {
            "text/html": [
              "<div>\n",
              "<style scoped>\n",
              "    .dataframe tbody tr th:only-of-type {\n",
              "        vertical-align: middle;\n",
              "    }\n",
              "\n",
              "    .dataframe tbody tr th {\n",
              "        vertical-align: top;\n",
              "    }\n",
              "\n",
              "    .dataframe thead th {\n",
              "        text-align: right;\n",
              "    }\n",
              "</style>\n",
              "<table border=\"1\" class=\"dataframe\">\n",
              "  <thead>\n",
              "    <tr style=\"text-align: right;\">\n",
              "      <th></th>\n",
              "      <th>ID_PACIENTE</th>\n",
              "      <th>ID_ATENDIMENTO</th>\n",
              "      <th>DT_COLETA</th>\n",
              "      <th>DE_ORIGEM</th>\n",
              "      <th>DE_EXAME</th>\n",
              "      <th>DE_ANALITO</th>\n",
              "      <th>DE_RESULTADO</th>\n",
              "      <th>CD_UNIDADE</th>\n",
              "      <th>DE_VALOR_REFERENCIA</th>\n",
              "    </tr>\n",
              "  </thead>\n",
              "  <tbody>\n",
              "    <tr>\n",
              "      <th>19144</th>\n",
              "      <td>F09A86430261ABE1D630EE7090B4BC37</td>\n",
              "      <td>D1C108AC67C734A94BD2DC8A35D7E9E0</td>\n",
              "      <td>2020-06-09</td>\n",
              "      <td>UTI</td>\n",
              "      <td>COVID-19-Teste Rápido (IgM e IgG), soro</td>\n",
              "      <td>Covid 19, Anticorpos IgM, teste rápido</td>\n",
              "      <td>NÃO REAGENTE</td>\n",
              "      <td>NaN</td>\n",
              "      <td>Não reagente</td>\n",
              "    </tr>\n",
              "    <tr>\n",
              "      <th>19145</th>\n",
              "      <td>F09A86430261ABE1D630EE7090B4BC37</td>\n",
              "      <td>D1C108AC67C734A94BD2DC8A35D7E9E0</td>\n",
              "      <td>2020-06-09</td>\n",
              "      <td>UTI</td>\n",
              "      <td>COVID-19-Teste Rápido (IgM e IgG), soro</td>\n",
              "      <td>Covid 19, Anticorpos IgG, teste rápido</td>\n",
              "      <td>REAGENTE</td>\n",
              "      <td>NaN</td>\n",
              "      <td>Não reagente</td>\n",
              "    </tr>\n",
              "    <tr>\n",
              "      <th>19146</th>\n",
              "      <td>F09A86430261ABE1D630EE7090B4BC37</td>\n",
              "      <td>D1C108AC67C734A94BD2DC8A35D7E9E0</td>\n",
              "      <td>2020-06-09</td>\n",
              "      <td>UTI</td>\n",
              "      <td>COVID-19-Teste Rápido (IgM e IgG), soro</td>\n",
              "      <td>Covid 19,Antic IgM/IgG,teste rápido-Interpret</td>\n",
              "      <td>Evidência sorológica de infecção pregressa por...</td>\n",
              "      <td>NaN</td>\n",
              "      <td>NaN</td>\n",
              "    </tr>\n",
              "    <tr>\n",
              "      <th>19147</th>\n",
              "      <td>F09A86430261ABE1D630EE7090B4BC37</td>\n",
              "      <td>D1C108AC67C734A94BD2DC8A35D7E9E0</td>\n",
              "      <td>2020-06-09</td>\n",
              "      <td>UTI</td>\n",
              "      <td>COVID-19-Teste Rápido (IgM e IgG), soro</td>\n",
              "      <td>Covid 19, Antic IgM/IgG, teste rápido-Observ</td>\n",
              "      <td>A dinâmica de produção de anticorpos na COVID-...</td>\n",
              "      <td>NaN</td>\n",
              "      <td>NaN</td>\n",
              "    </tr>\n",
              "    <tr>\n",
              "      <th>27648</th>\n",
              "      <td>BB8290FEA6115C206E7C89B10C5C1993</td>\n",
              "      <td>EE0BA3438A00598B875A8E4635439956</td>\n",
              "      <td>2020-05-02</td>\n",
              "      <td>Pronto Socorro</td>\n",
              "      <td>COVID-19-Teste Rápido (IgM e IgG), soro</td>\n",
              "      <td>Covid 19, Anticorpos IgM, teste rápido</td>\n",
              "      <td>NÃO REAGENTE</td>\n",
              "      <td>NaN</td>\n",
              "      <td>Não reagente</td>\n",
              "    </tr>\n",
              "    <tr>\n",
              "      <th>27649</th>\n",
              "      <td>BB8290FEA6115C206E7C89B10C5C1993</td>\n",
              "      <td>EE0BA3438A00598B875A8E4635439956</td>\n",
              "      <td>2020-05-02</td>\n",
              "      <td>Pronto Socorro</td>\n",
              "      <td>COVID-19-Teste Rápido (IgM e IgG), soro</td>\n",
              "      <td>Covid 19, Anticorpos IgG, teste rápido</td>\n",
              "      <td>NÃO REAGENTE</td>\n",
              "      <td>NaN</td>\n",
              "      <td>Não reagente</td>\n",
              "    </tr>\n",
              "    <tr>\n",
              "      <th>27650</th>\n",
              "      <td>BB8290FEA6115C206E7C89B10C5C1993</td>\n",
              "      <td>EE0BA3438A00598B875A8E4635439956</td>\n",
              "      <td>2020-05-02</td>\n",
              "      <td>Pronto Socorro</td>\n",
              "      <td>COVID-19-Teste Rápido (IgM e IgG), soro</td>\n",
              "      <td>Covid 19,Antic IgM/IgG,teste rápido-Interpret</td>\n",
              "      <td>Sem evidência sorológica de infecção por SARS-...</td>\n",
              "      <td>NaN</td>\n",
              "      <td>NaN</td>\n",
              "    </tr>\n",
              "    <tr>\n",
              "      <th>27651</th>\n",
              "      <td>BB8290FEA6115C206E7C89B10C5C1993</td>\n",
              "      <td>EE0BA3438A00598B875A8E4635439956</td>\n",
              "      <td>2020-05-02</td>\n",
              "      <td>Pronto Socorro</td>\n",
              "      <td>COVID-19-Teste Rápido (IgM e IgG), soro</td>\n",
              "      <td>Covid 19, Antic IgM/IgG, teste rápido-Observ</td>\n",
              "      <td>A dinâmica de produção de anticorpos na COVID-...</td>\n",
              "      <td>NaN</td>\n",
              "      <td>NaN</td>\n",
              "    </tr>\n",
              "    <tr>\n",
              "      <th>30956</th>\n",
              "      <td>BF74EEB9A5084C650B62388BEC2DF076</td>\n",
              "      <td>D492FEA31CBCA4F00A4C93F5C2611C18</td>\n",
              "      <td>2020-05-05</td>\n",
              "      <td>UTI</td>\n",
              "      <td>COVID-19-Teste Rápido (IgM e IgG), soro</td>\n",
              "      <td>Covid 19, Anticorpos IgM, teste rápido</td>\n",
              "      <td>NÃO REAGENTE</td>\n",
              "      <td>NaN</td>\n",
              "      <td>Não reagente</td>\n",
              "    </tr>\n",
              "    <tr>\n",
              "      <th>30957</th>\n",
              "      <td>BF74EEB9A5084C650B62388BEC2DF076</td>\n",
              "      <td>D492FEA31CBCA4F00A4C93F5C2611C18</td>\n",
              "      <td>2020-05-05</td>\n",
              "      <td>UTI</td>\n",
              "      <td>COVID-19-Teste Rápido (IgM e IgG), soro</td>\n",
              "      <td>Covid 19, Anticorpos IgG, teste rápido</td>\n",
              "      <td>REAGENTE</td>\n",
              "      <td>NaN</td>\n",
              "      <td>Não reagente</td>\n",
              "    </tr>\n",
              "  </tbody>\n",
              "</table>\n",
              "</div>"
            ],
            "text/plain": [
              "                            ID_PACIENTE  ... DE_VALOR_REFERENCIA\n",
              "19144  F09A86430261ABE1D630EE7090B4BC37  ...        Não reagente\n",
              "19145  F09A86430261ABE1D630EE7090B4BC37  ...        Não reagente\n",
              "19146  F09A86430261ABE1D630EE7090B4BC37  ...                 NaN\n",
              "19147  F09A86430261ABE1D630EE7090B4BC37  ...                 NaN\n",
              "27648  BB8290FEA6115C206E7C89B10C5C1993  ...        Não reagente\n",
              "27649  BB8290FEA6115C206E7C89B10C5C1993  ...        Não reagente\n",
              "27650  BB8290FEA6115C206E7C89B10C5C1993  ...                 NaN\n",
              "27651  BB8290FEA6115C206E7C89B10C5C1993  ...                 NaN\n",
              "30956  BF74EEB9A5084C650B62388BEC2DF076  ...        Não reagente\n",
              "30957  BF74EEB9A5084C650B62388BEC2DF076  ...        Não reagente\n",
              "\n",
              "[10 rows x 9 columns]"
            ]
          },
          "metadata": {
            "tags": []
          },
          "execution_count": 142
        }
      ]
    },
    {
      "cell_type": "code",
      "metadata": {
        "id": "Hf1rKvvBnZ1x",
        "outputId": "aefb785f-4a30-439f-8ecd-693a8e4d22f9",
        "colab": {
          "base_uri": "https://localhost:8080/",
          "height": 0
        }
      },
      "source": [
        "# Precisamos agora mapear cada um desses resultados para detecção ou não de COVID-19:\n",
        "#\n",
        "# 0 => Não foram detectados anticorpos para COVID-19\n",
        "# 1 => Detectados anticorpos para COVID-19\n",
        "rapido_map = {\n",
        "    'NÃO REAGENTE' : 0, \n",
        "    'REAGENTE' : 1,\n",
        "    'Evidência sorológica de infecção pregressa por SARS-CoV-2,' : 1,\n",
        "    'A dinâmica de produção de anticorpos na COVID-19 ainda não é bem estabelecida, especialmente em pacientes que não apresentaram sintomas ou apresentaram quadro leve, Nesse sentido, o momento da soroconversão pode ser variável de indivíduo para indivíduo, podendo ser afetado pelo quadro clínico apresentado, O resultado sugere que já tenham transcorrido mais de 3 semanas desde a infecção aguda, A capacidade protetora dos anticorpos da classe IgG não é completamente estabelecida,;' : 0,\n",
        "    'Sem evidência sorológica de infecção por SARS-CoV-2,' : 0,\n",
        "    'A dinâmica de produção de anticorpos na COVID-19 ainda não é bem estabelecida, especialmente em pacientes que não apresentaram sintomas ou apresentaram quadro leve, Nesse sentido, pode não haver anticorpos detectáveis (resultado negativo), inclusive em pessoas que tiveram infecção previamente confirmada por PCR, Se persistir a hipótese diagnóstica, sugere-se, a critério médico, repetir o teste em nova amostra colhida em 7 dias,;' : 0,\n",
        "    'Evidência sorológica de infecção recente por SARS-CoV-2,' : 1,\n",
        "    'A dinâmica de produção de anticorpos na COVID-19 ainda não é bem estabelecida, especialmente em pacientes que não apresentaram sintomas ou apresentaram quadro leve, Nesse sentido, o momento da soroconversão pode ser variável de indivíduo para indivíduo, podendo ser afetado pelo quadro clínico apresentado, O resultado sugere infecção com tempo de evolução inferior a 3 semanas, A capacidade protetora dos anticorpos da classe IgG não é completamente estabelecida,;' : 0\n",
        "}\n",
        "\n",
        "# Mapeando os novos valores\n",
        "exames_rapido['DE_RESULTADO'] = exames_rapido['DE_RESULTADO'].map(rapido_map)\n",
        "exames_rapido.drop(['DE_ORIGEM', 'DE_EXAME', 'DE_ANALITO', 'CD_UNIDADE', 'DE_VALOR_REFERENCIA'], axis=1, inplace=True)\n",
        "exames_rapido.head(10)"
      ],
      "execution_count": 143,
      "outputs": [
        {
          "output_type": "stream",
          "text": [
            "/usr/local/lib/python3.6/dist-packages/ipykernel_launcher.py:17: SettingWithCopyWarning: \n",
            "A value is trying to be set on a copy of a slice from a DataFrame.\n",
            "Try using .loc[row_indexer,col_indexer] = value instead\n",
            "\n",
            "See the caveats in the documentation: https://pandas.pydata.org/pandas-docs/stable/user_guide/indexing.html#returning-a-view-versus-a-copy\n",
            "/usr/local/lib/python3.6/dist-packages/pandas/core/frame.py:4169: SettingWithCopyWarning: \n",
            "A value is trying to be set on a copy of a slice from a DataFrame\n",
            "\n",
            "See the caveats in the documentation: https://pandas.pydata.org/pandas-docs/stable/user_guide/indexing.html#returning-a-view-versus-a-copy\n",
            "  errors=errors,\n"
          ],
          "name": "stderr"
        },
        {
          "output_type": "execute_result",
          "data": {
            "text/html": [
              "<div>\n",
              "<style scoped>\n",
              "    .dataframe tbody tr th:only-of-type {\n",
              "        vertical-align: middle;\n",
              "    }\n",
              "\n",
              "    .dataframe tbody tr th {\n",
              "        vertical-align: top;\n",
              "    }\n",
              "\n",
              "    .dataframe thead th {\n",
              "        text-align: right;\n",
              "    }\n",
              "</style>\n",
              "<table border=\"1\" class=\"dataframe\">\n",
              "  <thead>\n",
              "    <tr style=\"text-align: right;\">\n",
              "      <th></th>\n",
              "      <th>ID_PACIENTE</th>\n",
              "      <th>ID_ATENDIMENTO</th>\n",
              "      <th>DT_COLETA</th>\n",
              "      <th>DE_RESULTADO</th>\n",
              "    </tr>\n",
              "  </thead>\n",
              "  <tbody>\n",
              "    <tr>\n",
              "      <th>19144</th>\n",
              "      <td>F09A86430261ABE1D630EE7090B4BC37</td>\n",
              "      <td>D1C108AC67C734A94BD2DC8A35D7E9E0</td>\n",
              "      <td>2020-06-09</td>\n",
              "      <td>0</td>\n",
              "    </tr>\n",
              "    <tr>\n",
              "      <th>19145</th>\n",
              "      <td>F09A86430261ABE1D630EE7090B4BC37</td>\n",
              "      <td>D1C108AC67C734A94BD2DC8A35D7E9E0</td>\n",
              "      <td>2020-06-09</td>\n",
              "      <td>1</td>\n",
              "    </tr>\n",
              "    <tr>\n",
              "      <th>19146</th>\n",
              "      <td>F09A86430261ABE1D630EE7090B4BC37</td>\n",
              "      <td>D1C108AC67C734A94BD2DC8A35D7E9E0</td>\n",
              "      <td>2020-06-09</td>\n",
              "      <td>1</td>\n",
              "    </tr>\n",
              "    <tr>\n",
              "      <th>19147</th>\n",
              "      <td>F09A86430261ABE1D630EE7090B4BC37</td>\n",
              "      <td>D1C108AC67C734A94BD2DC8A35D7E9E0</td>\n",
              "      <td>2020-06-09</td>\n",
              "      <td>0</td>\n",
              "    </tr>\n",
              "    <tr>\n",
              "      <th>27648</th>\n",
              "      <td>BB8290FEA6115C206E7C89B10C5C1993</td>\n",
              "      <td>EE0BA3438A00598B875A8E4635439956</td>\n",
              "      <td>2020-05-02</td>\n",
              "      <td>0</td>\n",
              "    </tr>\n",
              "    <tr>\n",
              "      <th>27649</th>\n",
              "      <td>BB8290FEA6115C206E7C89B10C5C1993</td>\n",
              "      <td>EE0BA3438A00598B875A8E4635439956</td>\n",
              "      <td>2020-05-02</td>\n",
              "      <td>0</td>\n",
              "    </tr>\n",
              "    <tr>\n",
              "      <th>27650</th>\n",
              "      <td>BB8290FEA6115C206E7C89B10C5C1993</td>\n",
              "      <td>EE0BA3438A00598B875A8E4635439956</td>\n",
              "      <td>2020-05-02</td>\n",
              "      <td>0</td>\n",
              "    </tr>\n",
              "    <tr>\n",
              "      <th>27651</th>\n",
              "      <td>BB8290FEA6115C206E7C89B10C5C1993</td>\n",
              "      <td>EE0BA3438A00598B875A8E4635439956</td>\n",
              "      <td>2020-05-02</td>\n",
              "      <td>0</td>\n",
              "    </tr>\n",
              "    <tr>\n",
              "      <th>30956</th>\n",
              "      <td>BF74EEB9A5084C650B62388BEC2DF076</td>\n",
              "      <td>D492FEA31CBCA4F00A4C93F5C2611C18</td>\n",
              "      <td>2020-05-05</td>\n",
              "      <td>0</td>\n",
              "    </tr>\n",
              "    <tr>\n",
              "      <th>30957</th>\n",
              "      <td>BF74EEB9A5084C650B62388BEC2DF076</td>\n",
              "      <td>D492FEA31CBCA4F00A4C93F5C2611C18</td>\n",
              "      <td>2020-05-05</td>\n",
              "      <td>1</td>\n",
              "    </tr>\n",
              "  </tbody>\n",
              "</table>\n",
              "</div>"
            ],
            "text/plain": [
              "                            ID_PACIENTE  ... DE_RESULTADO\n",
              "19144  F09A86430261ABE1D630EE7090B4BC37  ...            0\n",
              "19145  F09A86430261ABE1D630EE7090B4BC37  ...            1\n",
              "19146  F09A86430261ABE1D630EE7090B4BC37  ...            1\n",
              "19147  F09A86430261ABE1D630EE7090B4BC37  ...            0\n",
              "27648  BB8290FEA6115C206E7C89B10C5C1993  ...            0\n",
              "27649  BB8290FEA6115C206E7C89B10C5C1993  ...            0\n",
              "27650  BB8290FEA6115C206E7C89B10C5C1993  ...            0\n",
              "27651  BB8290FEA6115C206E7C89B10C5C1993  ...            0\n",
              "30956  BF74EEB9A5084C650B62388BEC2DF076  ...            0\n",
              "30957  BF74EEB9A5084C650B62388BEC2DF076  ...            1\n",
              "\n",
              "[10 rows x 4 columns]"
            ]
          },
          "metadata": {
            "tags": []
          },
          "execution_count": 143
        }
      ]
    },
    {
      "cell_type": "code",
      "metadata": {
        "id": "mwNXYoamoTFS",
        "outputId": "a290056e-9cf0-436d-d62b-3cc1f3e8098c",
        "colab": {
          "base_uri": "https://localhost:8080/",
          "height": 0
        }
      },
      "source": [
        "# Agora analsamos quantos resultados de testes sorológicos ainda temos:\n",
        "print('Após tratar os dados, temos {} testes rápidos realizados'.format(exames_rapido.shape[0]))"
      ],
      "execution_count": 144,
      "outputs": [
        {
          "output_type": "stream",
          "text": [
            "Após tratar os dados, temos 80 testes rápidos realizados\n"
          ],
          "name": "stdout"
        }
      ]
    },
    {
      "cell_type": "markdown",
      "metadata": {
        "id": "MXUGOcq7jccq"
      },
      "source": [
        "###**3.20) Combinando todos os testes para COVID**"
      ]
    },
    {
      "cell_type": "code",
      "metadata": {
        "id": "ZKDEZv-xjhZb",
        "outputId": "a22bea5d-fb29-411c-abb1-21b752197fbf",
        "colab": {
          "base_uri": "https://localhost:8080/",
          "height": 0
        }
      },
      "source": [
        "# Podemos, finalmente, combinar todos os testes para COVID realizados em um único dataframe\n",
        "exames_covid_total = pd.concat([exames_soro_total, exames_PCR_total, exames_rapido], axis=0, ignore_index=True)\n",
        "exames_covid_total.drop(['ID_ATENDIMENTO'], axis=1, inplace=True)\n",
        "exames_covid_total.info()"
      ],
      "execution_count": 145,
      "outputs": [
        {
          "output_type": "stream",
          "text": [
            "<class 'pandas.core.frame.DataFrame'>\n",
            "RangeIndex: 2675 entries, 0 to 2674\n",
            "Data columns (total 3 columns):\n",
            " #   Column        Non-Null Count  Dtype \n",
            "---  ------        --------------  ----- \n",
            " 0   ID_PACIENTE   2675 non-null   object\n",
            " 1   DT_COLETA     2675 non-null   object\n",
            " 2   DE_RESULTADO  2675 non-null   int64 \n",
            "dtypes: int64(1), object(2)\n",
            "memory usage: 62.8+ KB\n"
          ],
          "name": "stdout"
        }
      ]
    },
    {
      "cell_type": "code",
      "metadata": {
        "id": "gdVxHyZan677",
        "outputId": "31b7058f-fa91-464b-bd3c-a1bc9d79731c",
        "colab": {
          "base_uri": "https://localhost:8080/",
          "height": 0
        }
      },
      "source": [
        "exames_covid_total.head(20)"
      ],
      "execution_count": 146,
      "outputs": [
        {
          "output_type": "execute_result",
          "data": {
            "text/html": [
              "<div>\n",
              "<style scoped>\n",
              "    .dataframe tbody tr th:only-of-type {\n",
              "        vertical-align: middle;\n",
              "    }\n",
              "\n",
              "    .dataframe tbody tr th {\n",
              "        vertical-align: top;\n",
              "    }\n",
              "\n",
              "    .dataframe thead th {\n",
              "        text-align: right;\n",
              "    }\n",
              "</style>\n",
              "<table border=\"1\" class=\"dataframe\">\n",
              "  <thead>\n",
              "    <tr style=\"text-align: right;\">\n",
              "      <th></th>\n",
              "      <th>ID_PACIENTE</th>\n",
              "      <th>DT_COLETA</th>\n",
              "      <th>DE_RESULTADO</th>\n",
              "    </tr>\n",
              "  </thead>\n",
              "  <tbody>\n",
              "    <tr>\n",
              "      <th>0</th>\n",
              "      <td>3487791F44C34B421C932DC8616A8437</td>\n",
              "      <td>2020-05-25</td>\n",
              "      <td>1</td>\n",
              "    </tr>\n",
              "    <tr>\n",
              "      <th>1</th>\n",
              "      <td>F5B5BD59D98836D8AA2D8C27B01225AB</td>\n",
              "      <td>2020-06-07</td>\n",
              "      <td>1</td>\n",
              "    </tr>\n",
              "    <tr>\n",
              "      <th>2</th>\n",
              "      <td>C3A3D083DBC1353FAB5F87282EE86633</td>\n",
              "      <td>2020-07-23</td>\n",
              "      <td>0</td>\n",
              "    </tr>\n",
              "    <tr>\n",
              "      <th>3</th>\n",
              "      <td>BEBA451E2C91A4D869D14EE790FE78FD</td>\n",
              "      <td>2020-05-31</td>\n",
              "      <td>0</td>\n",
              "    </tr>\n",
              "    <tr>\n",
              "      <th>4</th>\n",
              "      <td>F99249272E611207DBEC7EE3CF81F0E5</td>\n",
              "      <td>2020-06-04</td>\n",
              "      <td>0</td>\n",
              "    </tr>\n",
              "    <tr>\n",
              "      <th>5</th>\n",
              "      <td>74D237DB6D34A5BB2A95A26CD9FD5CF9</td>\n",
              "      <td>2020-06-27</td>\n",
              "      <td>0</td>\n",
              "    </tr>\n",
              "    <tr>\n",
              "      <th>6</th>\n",
              "      <td>AA1E0A1BBB04DBFB2D4FE21BDB45FB74</td>\n",
              "      <td>2020-06-26</td>\n",
              "      <td>0</td>\n",
              "    </tr>\n",
              "    <tr>\n",
              "      <th>7</th>\n",
              "      <td>AA1E0A1BBB04DBFB2D4FE21BDB45FB74</td>\n",
              "      <td>2020-07-09</td>\n",
              "      <td>1</td>\n",
              "    </tr>\n",
              "    <tr>\n",
              "      <th>8</th>\n",
              "      <td>F09A86430261ABE1D630EE7090B4BC37</td>\n",
              "      <td>2020-06-09</td>\n",
              "      <td>0</td>\n",
              "    </tr>\n",
              "    <tr>\n",
              "      <th>9</th>\n",
              "      <td>C16902E84856371CFB33837851722042</td>\n",
              "      <td>2020-06-03</td>\n",
              "      <td>0</td>\n",
              "    </tr>\n",
              "    <tr>\n",
              "      <th>10</th>\n",
              "      <td>36EC3ADD18AE59B3DC62C67B4A6440DA</td>\n",
              "      <td>2020-06-08</td>\n",
              "      <td>0</td>\n",
              "    </tr>\n",
              "    <tr>\n",
              "      <th>11</th>\n",
              "      <td>690263043624E17F629E84961E954FBF</td>\n",
              "      <td>2020-06-02</td>\n",
              "      <td>0</td>\n",
              "    </tr>\n",
              "    <tr>\n",
              "      <th>12</th>\n",
              "      <td>A5D8D706FE441C2060E2D180EC8709F0</td>\n",
              "      <td>2020-07-14</td>\n",
              "      <td>1</td>\n",
              "    </tr>\n",
              "    <tr>\n",
              "      <th>13</th>\n",
              "      <td>01495710E36E7F4AC5E282CC407D3043</td>\n",
              "      <td>2020-06-01</td>\n",
              "      <td>1</td>\n",
              "    </tr>\n",
              "    <tr>\n",
              "      <th>14</th>\n",
              "      <td>60AB0278C3D970DD7CB804E56F48C55F</td>\n",
              "      <td>2020-06-16</td>\n",
              "      <td>0</td>\n",
              "    </tr>\n",
              "    <tr>\n",
              "      <th>15</th>\n",
              "      <td>494B98F9CF96777FB53FFBD43BCC28D5</td>\n",
              "      <td>2020-05-27</td>\n",
              "      <td>0</td>\n",
              "    </tr>\n",
              "    <tr>\n",
              "      <th>16</th>\n",
              "      <td>494B98F9CF96777FB53FFBD43BCC28D5</td>\n",
              "      <td>2020-06-15</td>\n",
              "      <td>0</td>\n",
              "    </tr>\n",
              "    <tr>\n",
              "      <th>17</th>\n",
              "      <td>F56AF9AFE05F76C6D6AA928FD0465DA5</td>\n",
              "      <td>2020-07-01</td>\n",
              "      <td>0</td>\n",
              "    </tr>\n",
              "    <tr>\n",
              "      <th>18</th>\n",
              "      <td>EF76A95879354195A081BAAE73BC980D</td>\n",
              "      <td>2020-06-29</td>\n",
              "      <td>0</td>\n",
              "    </tr>\n",
              "    <tr>\n",
              "      <th>19</th>\n",
              "      <td>EF76A95879354195A081BAAE73BC980D</td>\n",
              "      <td>2020-07-02</td>\n",
              "      <td>0</td>\n",
              "    </tr>\n",
              "  </tbody>\n",
              "</table>\n",
              "</div>"
            ],
            "text/plain": [
              "                         ID_PACIENTE   DT_COLETA  DE_RESULTADO\n",
              "0   3487791F44C34B421C932DC8616A8437  2020-05-25             1\n",
              "1   F5B5BD59D98836D8AA2D8C27B01225AB  2020-06-07             1\n",
              "2   C3A3D083DBC1353FAB5F87282EE86633  2020-07-23             0\n",
              "3   BEBA451E2C91A4D869D14EE790FE78FD  2020-05-31             0\n",
              "4   F99249272E611207DBEC7EE3CF81F0E5  2020-06-04             0\n",
              "5   74D237DB6D34A5BB2A95A26CD9FD5CF9  2020-06-27             0\n",
              "6   AA1E0A1BBB04DBFB2D4FE21BDB45FB74  2020-06-26             0\n",
              "7   AA1E0A1BBB04DBFB2D4FE21BDB45FB74  2020-07-09             1\n",
              "8   F09A86430261ABE1D630EE7090B4BC37  2020-06-09             0\n",
              "9   C16902E84856371CFB33837851722042  2020-06-03             0\n",
              "10  36EC3ADD18AE59B3DC62C67B4A6440DA  2020-06-08             0\n",
              "11  690263043624E17F629E84961E954FBF  2020-06-02             0\n",
              "12  A5D8D706FE441C2060E2D180EC8709F0  2020-07-14             1\n",
              "13  01495710E36E7F4AC5E282CC407D3043  2020-06-01             1\n",
              "14  60AB0278C3D970DD7CB804E56F48C55F  2020-06-16             0\n",
              "15  494B98F9CF96777FB53FFBD43BCC28D5  2020-05-27             0\n",
              "16  494B98F9CF96777FB53FFBD43BCC28D5  2020-06-15             0\n",
              "17  F56AF9AFE05F76C6D6AA928FD0465DA5  2020-07-01             0\n",
              "18  EF76A95879354195A081BAAE73BC980D  2020-06-29             0\n",
              "19  EF76A95879354195A081BAAE73BC980D  2020-07-02             0"
            ]
          },
          "metadata": {
            "tags": []
          },
          "execution_count": 146
        }
      ]
    },
    {
      "cell_type": "code",
      "metadata": {
        "id": "AiaRrgSU99mq",
        "outputId": "f39a8445-a97f-4eaa-9934-c31fcc36523a",
        "colab": {
          "base_uri": "https://localhost:8080/",
          "height": 0
        }
      },
      "source": [
        "# Analisando quantos pacientes distintos há no conjunto de dados e quantos exames foram feitos por cada um\n",
        "exames_covid_total['ID_PACIENTE'].value_counts()"
      ],
      "execution_count": 147,
      "outputs": [
        {
          "output_type": "execute_result",
          "data": {
            "text/plain": [
              "C33DEE8231AD0374CAF93E52C5A473E5    17\n",
              "E1DB75E3106A496D885700D3A372486D    14\n",
              "3DC7E7D2D0FD41DC69FDC7DE1C0D1165    13\n",
              "664A47AB7E441E661322CDBD6CC48F50    13\n",
              "2C0F9E3F2F4B1705DC919E2EEA1E72E0    12\n",
              "                                    ..\n",
              "BCD362F20F0DDD54C5E35D82C5CBE5F7     1\n",
              "BEA99816975D4154590D05CE68DA8B63     1\n",
              "2FF765278F7853D96D1AD0C2DF29EF53     1\n",
              "30BE2454DDCF4F58023677299EA84113     1\n",
              "589083F61E15C6C8EEA0D917DF5E1A3A     1\n",
              "Name: ID_PACIENTE, Length: 1662, dtype: int64"
            ]
          },
          "metadata": {
            "tags": []
          },
          "execution_count": 147
        }
      ]
    },
    {
      "cell_type": "code",
      "metadata": {
        "id": "pvqWPPl8kGW0"
      },
      "source": [
        "# Vamos exportar esse conjunto de dados temporário como um arquivo .csv\n",
        "exames_covid_total.to_csv('HSL_Exames_Covid_2_EDA.csv')"
      ],
      "execution_count": 148,
      "outputs": []
    },
    {
      "cell_type": "markdown",
      "metadata": {
        "id": "K5v-pRVd6E0y"
      },
      "source": [
        "##**4) Análise dos desfechos para cada paciente**"
      ]
    },
    {
      "cell_type": "code",
      "metadata": {
        "id": "FkISUjrbzVOD",
        "outputId": "cedcf364-0927-4cc8-dc72-768228556de1",
        "colab": {
          "base_uri": "https://localhost:8080/",
          "height": 0
        }
      },
      "source": [
        "# Importando dados dos desfechos do arquvio 'HSL_Exames_2.csv'. O caracter de separação das colunas no arquivo .csv\n",
        "# é o '|'. Exibindo os 5 primeiros dados para verificar se as informações foram importadas corretamente.\n",
        "#\n",
        "data_desfechos_HSL = pd.read_csv('HSL_Desfechos_2.csv', sep='|');\n",
        "data_desfechos_HSL.head(5)"
      ],
      "execution_count": 149,
      "outputs": [
        {
          "output_type": "execute_result",
          "data": {
            "text/html": [
              "<div>\n",
              "<style scoped>\n",
              "    .dataframe tbody tr th:only-of-type {\n",
              "        vertical-align: middle;\n",
              "    }\n",
              "\n",
              "    .dataframe tbody tr th {\n",
              "        vertical-align: top;\n",
              "    }\n",
              "\n",
              "    .dataframe thead th {\n",
              "        text-align: right;\n",
              "    }\n",
              "</style>\n",
              "<table border=\"1\" class=\"dataframe\">\n",
              "  <thead>\n",
              "    <tr style=\"text-align: right;\">\n",
              "      <th></th>\n",
              "      <th>id_paciente</th>\n",
              "      <th>id_atendimento</th>\n",
              "      <th>dt_atendimento</th>\n",
              "      <th>de_tipo_atendimento</th>\n",
              "      <th>id_clinica</th>\n",
              "      <th>de_clinica</th>\n",
              "      <th>dt_desfecho</th>\n",
              "      <th>de_desfecho</th>\n",
              "    </tr>\n",
              "  </thead>\n",
              "  <tbody>\n",
              "    <tr>\n",
              "      <th>0</th>\n",
              "      <td>3487791F44C34B421C932DC8616A8437</td>\n",
              "      <td>33277D918111011E48FABCD6FC09012B</td>\n",
              "      <td>2020-07-08</td>\n",
              "      <td>Pronto Atendimento</td>\n",
              "      <td>6</td>\n",
              "      <td>Ortopedia</td>\n",
              "      <td>2020-07-08</td>\n",
              "      <td>Alta médica melhorado</td>\n",
              "    </tr>\n",
              "    <tr>\n",
              "      <th>1</th>\n",
              "      <td>3487791F44C34B421C932DC8616A8437</td>\n",
              "      <td>2DF164AD7E51B0A2F52B6DB58F904A22</td>\n",
              "      <td>2020-05-08</td>\n",
              "      <td>Externo</td>\n",
              "      <td>20</td>\n",
              "      <td>Procedimentos</td>\n",
              "      <td>2020-05-08</td>\n",
              "      <td>Alta Administrativa</td>\n",
              "    </tr>\n",
              "    <tr>\n",
              "      <th>2</th>\n",
              "      <td>3487791F44C34B421C932DC8616A8437</td>\n",
              "      <td>11676CFEEF6A4CDD49B0A74D3F3A85EC</td>\n",
              "      <td>2020-05-25</td>\n",
              "      <td>Externo</td>\n",
              "      <td>20</td>\n",
              "      <td>Procedimentos</td>\n",
              "      <td>2020-05-25</td>\n",
              "      <td>Alta Administrativa</td>\n",
              "    </tr>\n",
              "    <tr>\n",
              "      <th>3</th>\n",
              "      <td>0AD1FFA4419472256666A3445414F1F9</td>\n",
              "      <td>70A834FEFF3562FCBA3888D592DA2609</td>\n",
              "      <td>2020-03-16</td>\n",
              "      <td>Externo</td>\n",
              "      <td>20</td>\n",
              "      <td>Procedimentos</td>\n",
              "      <td>2020-03-16</td>\n",
              "      <td>Alta Administrativa</td>\n",
              "    </tr>\n",
              "    <tr>\n",
              "      <th>4</th>\n",
              "      <td>3487791F44C34B421C932DC8616A8437</td>\n",
              "      <td>A3F017D035922D728E06B744511A6797</td>\n",
              "      <td>2020-05-11</td>\n",
              "      <td>Pronto Atendimento</td>\n",
              "      <td>42</td>\n",
              "      <td>CL Médica Síndromes Virais</td>\n",
              "      <td>2020-05-11</td>\n",
              "      <td>Alta médica melhorado</td>\n",
              "    </tr>\n",
              "  </tbody>\n",
              "</table>\n",
              "</div>"
            ],
            "text/plain": [
              "                        id_paciente  ...            de_desfecho\n",
              "0  3487791F44C34B421C932DC8616A8437  ...  Alta médica melhorado\n",
              "1  3487791F44C34B421C932DC8616A8437  ...    Alta Administrativa\n",
              "2  3487791F44C34B421C932DC8616A8437  ...    Alta Administrativa\n",
              "3  0AD1FFA4419472256666A3445414F1F9  ...    Alta Administrativa\n",
              "4  3487791F44C34B421C932DC8616A8437  ...  Alta médica melhorado\n",
              "\n",
              "[5 rows x 8 columns]"
            ]
          },
          "metadata": {
            "tags": []
          },
          "execution_count": 149
        }
      ]
    },
    {
      "cell_type": "code",
      "metadata": {
        "id": "Yr1pOk7gpNwE"
      },
      "source": [
        "# O Dataframe de desfechos não traz muitas informações relevantes sobre a detecção de COVID, mas sim sobre o \n",
        "# estado do tratamento dos pacientes. Portanto, para a aplicação do projeto 2 não serão utilizadas informações \n",
        "# deste Dataframe."
      ],
      "execution_count": 150,
      "outputs": []
    },
    {
      "cell_type": "markdown",
      "metadata": {
        "id": "zEQ0QNx_6NU8"
      },
      "source": [
        "##**5) Combinando os dados em um dataframe final**"
      ]
    },
    {
      "cell_type": "markdown",
      "metadata": {
        "id": "ZD4RNhBc6v_5"
      },
      "source": [
        "####**5.1) Combinando dataframes de exames de COVID com exames laboratoriais**"
      ]
    },
    {
      "cell_type": "code",
      "metadata": {
        "id": "qytnTBcw63c0",
        "outputId": "8ffa4d1e-7104-400e-bf25-f5f897e735c5",
        "colab": {
          "base_uri": "https://localhost:8080/",
          "height": 0
        }
      },
      "source": [
        "exames_covid_total.head(10)"
      ],
      "execution_count": 151,
      "outputs": [
        {
          "output_type": "execute_result",
          "data": {
            "text/html": [
              "<div>\n",
              "<style scoped>\n",
              "    .dataframe tbody tr th:only-of-type {\n",
              "        vertical-align: middle;\n",
              "    }\n",
              "\n",
              "    .dataframe tbody tr th {\n",
              "        vertical-align: top;\n",
              "    }\n",
              "\n",
              "    .dataframe thead th {\n",
              "        text-align: right;\n",
              "    }\n",
              "</style>\n",
              "<table border=\"1\" class=\"dataframe\">\n",
              "  <thead>\n",
              "    <tr style=\"text-align: right;\">\n",
              "      <th></th>\n",
              "      <th>ID_PACIENTE</th>\n",
              "      <th>DT_COLETA</th>\n",
              "      <th>DE_RESULTADO</th>\n",
              "    </tr>\n",
              "  </thead>\n",
              "  <tbody>\n",
              "    <tr>\n",
              "      <th>0</th>\n",
              "      <td>3487791F44C34B421C932DC8616A8437</td>\n",
              "      <td>2020-05-25</td>\n",
              "      <td>1</td>\n",
              "    </tr>\n",
              "    <tr>\n",
              "      <th>1</th>\n",
              "      <td>F5B5BD59D98836D8AA2D8C27B01225AB</td>\n",
              "      <td>2020-06-07</td>\n",
              "      <td>1</td>\n",
              "    </tr>\n",
              "    <tr>\n",
              "      <th>2</th>\n",
              "      <td>C3A3D083DBC1353FAB5F87282EE86633</td>\n",
              "      <td>2020-07-23</td>\n",
              "      <td>0</td>\n",
              "    </tr>\n",
              "    <tr>\n",
              "      <th>3</th>\n",
              "      <td>BEBA451E2C91A4D869D14EE790FE78FD</td>\n",
              "      <td>2020-05-31</td>\n",
              "      <td>0</td>\n",
              "    </tr>\n",
              "    <tr>\n",
              "      <th>4</th>\n",
              "      <td>F99249272E611207DBEC7EE3CF81F0E5</td>\n",
              "      <td>2020-06-04</td>\n",
              "      <td>0</td>\n",
              "    </tr>\n",
              "    <tr>\n",
              "      <th>5</th>\n",
              "      <td>74D237DB6D34A5BB2A95A26CD9FD5CF9</td>\n",
              "      <td>2020-06-27</td>\n",
              "      <td>0</td>\n",
              "    </tr>\n",
              "    <tr>\n",
              "      <th>6</th>\n",
              "      <td>AA1E0A1BBB04DBFB2D4FE21BDB45FB74</td>\n",
              "      <td>2020-06-26</td>\n",
              "      <td>0</td>\n",
              "    </tr>\n",
              "    <tr>\n",
              "      <th>7</th>\n",
              "      <td>AA1E0A1BBB04DBFB2D4FE21BDB45FB74</td>\n",
              "      <td>2020-07-09</td>\n",
              "      <td>1</td>\n",
              "    </tr>\n",
              "    <tr>\n",
              "      <th>8</th>\n",
              "      <td>F09A86430261ABE1D630EE7090B4BC37</td>\n",
              "      <td>2020-06-09</td>\n",
              "      <td>0</td>\n",
              "    </tr>\n",
              "    <tr>\n",
              "      <th>9</th>\n",
              "      <td>C16902E84856371CFB33837851722042</td>\n",
              "      <td>2020-06-03</td>\n",
              "      <td>0</td>\n",
              "    </tr>\n",
              "  </tbody>\n",
              "</table>\n",
              "</div>"
            ],
            "text/plain": [
              "                        ID_PACIENTE   DT_COLETA  DE_RESULTADO\n",
              "0  3487791F44C34B421C932DC8616A8437  2020-05-25             1\n",
              "1  F5B5BD59D98836D8AA2D8C27B01225AB  2020-06-07             1\n",
              "2  C3A3D083DBC1353FAB5F87282EE86633  2020-07-23             0\n",
              "3  BEBA451E2C91A4D869D14EE790FE78FD  2020-05-31             0\n",
              "4  F99249272E611207DBEC7EE3CF81F0E5  2020-06-04             0\n",
              "5  74D237DB6D34A5BB2A95A26CD9FD5CF9  2020-06-27             0\n",
              "6  AA1E0A1BBB04DBFB2D4FE21BDB45FB74  2020-06-26             0\n",
              "7  AA1E0A1BBB04DBFB2D4FE21BDB45FB74  2020-07-09             1\n",
              "8  F09A86430261ABE1D630EE7090B4BC37  2020-06-09             0\n",
              "9  C16902E84856371CFB33837851722042  2020-06-03             0"
            ]
          },
          "metadata": {
            "tags": []
          },
          "execution_count": 151
        }
      ]
    },
    {
      "cell_type": "markdown",
      "metadata": {
        "id": "YXYKuDhCxWS0"
      },
      "source": [
        "####**5.2) Adicionando os dados dos pacientes**"
      ]
    },
    {
      "cell_type": "code",
      "metadata": {
        "id": "cnewyKcfbV9e",
        "outputId": "9f56d271-8f74-4dc9-fb35-0f4c21217c5b",
        "colab": {
          "base_uri": "https://localhost:8080/",
          "height": 204
        }
      },
      "source": [
        "# Verificando o dataframe com os dados de sexo e idade dos pacientes\n",
        "data_pacientes_HSL.head(5)"
      ],
      "execution_count": 152,
      "outputs": [
        {
          "output_type": "execute_result",
          "data": {
            "text/html": [
              "<div>\n",
              "<style scoped>\n",
              "    .dataframe tbody tr th:only-of-type {\n",
              "        vertical-align: middle;\n",
              "    }\n",
              "\n",
              "    .dataframe tbody tr th {\n",
              "        vertical-align: top;\n",
              "    }\n",
              "\n",
              "    .dataframe thead th {\n",
              "        text-align: right;\n",
              "    }\n",
              "</style>\n",
              "<table border=\"1\" class=\"dataframe\">\n",
              "  <thead>\n",
              "    <tr style=\"text-align: right;\">\n",
              "      <th></th>\n",
              "      <th>ID_PACIENTE</th>\n",
              "      <th>IC_SEXO</th>\n",
              "      <th>IC_IDADE</th>\n",
              "    </tr>\n",
              "  </thead>\n",
              "  <tbody>\n",
              "    <tr>\n",
              "      <th>0</th>\n",
              "      <td>3487791F44C34B421C932DC8616A8437</td>\n",
              "      <td>0</td>\n",
              "      <td>57.0</td>\n",
              "    </tr>\n",
              "    <tr>\n",
              "      <th>1</th>\n",
              "      <td>0AD1FFA4419472256666A3445414F1F9</td>\n",
              "      <td>0</td>\n",
              "      <td>51.0</td>\n",
              "    </tr>\n",
              "    <tr>\n",
              "      <th>2</th>\n",
              "      <td>BE35D08CF3EF6F114E9935F6D72C49FA</td>\n",
              "      <td>0</td>\n",
              "      <td>56.0</td>\n",
              "    </tr>\n",
              "    <tr>\n",
              "      <th>3</th>\n",
              "      <td>962F4020D456AAB602B356E57238EF42</td>\n",
              "      <td>1</td>\n",
              "      <td>61.0</td>\n",
              "    </tr>\n",
              "    <tr>\n",
              "      <th>4</th>\n",
              "      <td>F983089DAC62E42124227C856AE3444C</td>\n",
              "      <td>0</td>\n",
              "      <td>73.0</td>\n",
              "    </tr>\n",
              "  </tbody>\n",
              "</table>\n",
              "</div>"
            ],
            "text/plain": [
              "                        ID_PACIENTE  IC_SEXO  IC_IDADE\n",
              "0  3487791F44C34B421C932DC8616A8437        0      57.0\n",
              "1  0AD1FFA4419472256666A3445414F1F9        0      51.0\n",
              "2  BE35D08CF3EF6F114E9935F6D72C49FA        0      56.0\n",
              "3  962F4020D456AAB602B356E57238EF42        1      61.0\n",
              "4  F983089DAC62E42124227C856AE3444C        0      73.0"
            ]
          },
          "metadata": {
            "tags": []
          },
          "execution_count": 152
        }
      ]
    },
    {
      "cell_type": "code",
      "metadata": {
        "id": "1WxdBm7c_t6d",
        "outputId": "504690df-0fde-4048-8a1f-c62bab1f84e0",
        "colab": {
          "base_uri": "https://localhost:8080/",
          "height": 204
        }
      },
      "source": [
        "# Verificando o dataframe com os todos os resultados dos exames de COVID-19\n",
        "exames_covid_total.head(5)"
      ],
      "execution_count": 153,
      "outputs": [
        {
          "output_type": "execute_result",
          "data": {
            "text/html": [
              "<div>\n",
              "<style scoped>\n",
              "    .dataframe tbody tr th:only-of-type {\n",
              "        vertical-align: middle;\n",
              "    }\n",
              "\n",
              "    .dataframe tbody tr th {\n",
              "        vertical-align: top;\n",
              "    }\n",
              "\n",
              "    .dataframe thead th {\n",
              "        text-align: right;\n",
              "    }\n",
              "</style>\n",
              "<table border=\"1\" class=\"dataframe\">\n",
              "  <thead>\n",
              "    <tr style=\"text-align: right;\">\n",
              "      <th></th>\n",
              "      <th>ID_PACIENTE</th>\n",
              "      <th>DT_COLETA</th>\n",
              "      <th>DE_RESULTADO</th>\n",
              "    </tr>\n",
              "  </thead>\n",
              "  <tbody>\n",
              "    <tr>\n",
              "      <th>0</th>\n",
              "      <td>3487791F44C34B421C932DC8616A8437</td>\n",
              "      <td>2020-05-25</td>\n",
              "      <td>1</td>\n",
              "    </tr>\n",
              "    <tr>\n",
              "      <th>1</th>\n",
              "      <td>F5B5BD59D98836D8AA2D8C27B01225AB</td>\n",
              "      <td>2020-06-07</td>\n",
              "      <td>1</td>\n",
              "    </tr>\n",
              "    <tr>\n",
              "      <th>2</th>\n",
              "      <td>C3A3D083DBC1353FAB5F87282EE86633</td>\n",
              "      <td>2020-07-23</td>\n",
              "      <td>0</td>\n",
              "    </tr>\n",
              "    <tr>\n",
              "      <th>3</th>\n",
              "      <td>BEBA451E2C91A4D869D14EE790FE78FD</td>\n",
              "      <td>2020-05-31</td>\n",
              "      <td>0</td>\n",
              "    </tr>\n",
              "    <tr>\n",
              "      <th>4</th>\n",
              "      <td>F99249272E611207DBEC7EE3CF81F0E5</td>\n",
              "      <td>2020-06-04</td>\n",
              "      <td>0</td>\n",
              "    </tr>\n",
              "  </tbody>\n",
              "</table>\n",
              "</div>"
            ],
            "text/plain": [
              "                        ID_PACIENTE   DT_COLETA  DE_RESULTADO\n",
              "0  3487791F44C34B421C932DC8616A8437  2020-05-25             1\n",
              "1  F5B5BD59D98836D8AA2D8C27B01225AB  2020-06-07             1\n",
              "2  C3A3D083DBC1353FAB5F87282EE86633  2020-07-23             0\n",
              "3  BEBA451E2C91A4D869D14EE790FE78FD  2020-05-31             0\n",
              "4  F99249272E611207DBEC7EE3CF81F0E5  2020-06-04             0"
            ]
          },
          "metadata": {
            "tags": []
          },
          "execution_count": 153
        }
      ]
    },
    {
      "cell_type": "code",
      "metadata": {
        "id": "599F3BtL_4Ia",
        "outputId": "87131b60-d611-43b3-888f-ad7f20b39627",
        "colab": {
          "base_uri": "https://localhost:8080/",
          "height": 51
        }
      },
      "source": [
        "# Exibindo informações sobre o tamanho de ambos os dataframes\n",
        "print(data_pacientes_HSL.shape[0])\n",
        "print(exames_covid_total.shape[0])"
      ],
      "execution_count": 154,
      "outputs": [
        {
          "output_type": "stream",
          "text": [
            "4273\n",
            "2675\n"
          ],
          "name": "stdout"
        }
      ]
    },
    {
      "cell_type": "code",
      "metadata": {
        "id": "WIgmc6INAFvX",
        "outputId": "0755669b-078c-406a-f813-7e505803b47d",
        "colab": {
          "base_uri": "https://localhost:8080/",
          "height": 204
        }
      },
      "source": [
        "# Selecionando no dataframe de pacientes somente aqueles que realizaram testes para COVID-19\n",
        "sel = data_pacientes_HSL['ID_PACIENTE'].isin(exames_covid_total['ID_PACIENTE'])\n",
        "info_pacientes_teste_covid = data_pacientes_HSL[sel]\n",
        "info_pacientes_teste_covid.head()"
      ],
      "execution_count": 155,
      "outputs": [
        {
          "output_type": "execute_result",
          "data": {
            "text/html": [
              "<div>\n",
              "<style scoped>\n",
              "    .dataframe tbody tr th:only-of-type {\n",
              "        vertical-align: middle;\n",
              "    }\n",
              "\n",
              "    .dataframe tbody tr th {\n",
              "        vertical-align: top;\n",
              "    }\n",
              "\n",
              "    .dataframe thead th {\n",
              "        text-align: right;\n",
              "    }\n",
              "</style>\n",
              "<table border=\"1\" class=\"dataframe\">\n",
              "  <thead>\n",
              "    <tr style=\"text-align: right;\">\n",
              "      <th></th>\n",
              "      <th>ID_PACIENTE</th>\n",
              "      <th>IC_SEXO</th>\n",
              "      <th>IC_IDADE</th>\n",
              "    </tr>\n",
              "  </thead>\n",
              "  <tbody>\n",
              "    <tr>\n",
              "      <th>0</th>\n",
              "      <td>3487791F44C34B421C932DC8616A8437</td>\n",
              "      <td>0</td>\n",
              "      <td>57.0</td>\n",
              "    </tr>\n",
              "    <tr>\n",
              "      <th>1</th>\n",
              "      <td>0AD1FFA4419472256666A3445414F1F9</td>\n",
              "      <td>0</td>\n",
              "      <td>51.0</td>\n",
              "    </tr>\n",
              "    <tr>\n",
              "      <th>2</th>\n",
              "      <td>BE35D08CF3EF6F114E9935F6D72C49FA</td>\n",
              "      <td>0</td>\n",
              "      <td>56.0</td>\n",
              "    </tr>\n",
              "    <tr>\n",
              "      <th>4</th>\n",
              "      <td>F983089DAC62E42124227C856AE3444C</td>\n",
              "      <td>0</td>\n",
              "      <td>73.0</td>\n",
              "    </tr>\n",
              "    <tr>\n",
              "      <th>8</th>\n",
              "      <td>11CE6296257A354E5D0B342F37F82111</td>\n",
              "      <td>1</td>\n",
              "      <td>66.0</td>\n",
              "    </tr>\n",
              "  </tbody>\n",
              "</table>\n",
              "</div>"
            ],
            "text/plain": [
              "                        ID_PACIENTE  IC_SEXO  IC_IDADE\n",
              "0  3487791F44C34B421C932DC8616A8437        0      57.0\n",
              "1  0AD1FFA4419472256666A3445414F1F9        0      51.0\n",
              "2  BE35D08CF3EF6F114E9935F6D72C49FA        0      56.0\n",
              "4  F983089DAC62E42124227C856AE3444C        0      73.0\n",
              "8  11CE6296257A354E5D0B342F37F82111        1      66.0"
            ]
          },
          "metadata": {
            "tags": []
          },
          "execution_count": 155
        }
      ]
    },
    {
      "cell_type": "code",
      "metadata": {
        "id": "o618MU1qA0fS",
        "outputId": "7c58db49-8bff-4d2d-ce6a-471a972a1fea",
        "colab": {
          "base_uri": "https://localhost:8080/",
          "height": 686
        }
      },
      "source": [
        "# Unindo as informações dos pacientes que fizeram testes para COVID e o resultados dos testes em um único dataframe\n",
        "pacientes_teste_covid = info_pacientes_teste_covid.merge(exames_covid_total, on=['ID_PACIENTE'], how='right')\n",
        "print(pacientes_teste_covid.shape)\n",
        "pacientes_teste_covid.head(20)"
      ],
      "execution_count": 156,
      "outputs": [
        {
          "output_type": "stream",
          "text": [
            "(2675, 5)\n"
          ],
          "name": "stdout"
        },
        {
          "output_type": "execute_result",
          "data": {
            "text/html": [
              "<div>\n",
              "<style scoped>\n",
              "    .dataframe tbody tr th:only-of-type {\n",
              "        vertical-align: middle;\n",
              "    }\n",
              "\n",
              "    .dataframe tbody tr th {\n",
              "        vertical-align: top;\n",
              "    }\n",
              "\n",
              "    .dataframe thead th {\n",
              "        text-align: right;\n",
              "    }\n",
              "</style>\n",
              "<table border=\"1\" class=\"dataframe\">\n",
              "  <thead>\n",
              "    <tr style=\"text-align: right;\">\n",
              "      <th></th>\n",
              "      <th>ID_PACIENTE</th>\n",
              "      <th>IC_SEXO</th>\n",
              "      <th>IC_IDADE</th>\n",
              "      <th>DT_COLETA</th>\n",
              "      <th>DE_RESULTADO</th>\n",
              "    </tr>\n",
              "  </thead>\n",
              "  <tbody>\n",
              "    <tr>\n",
              "      <th>0</th>\n",
              "      <td>3487791F44C34B421C932DC8616A8437</td>\n",
              "      <td>0</td>\n",
              "      <td>57.0</td>\n",
              "      <td>2020-05-25</td>\n",
              "      <td>1</td>\n",
              "    </tr>\n",
              "    <tr>\n",
              "      <th>1</th>\n",
              "      <td>3487791F44C34B421C932DC8616A8437</td>\n",
              "      <td>0</td>\n",
              "      <td>57.0</td>\n",
              "      <td>2020-05-25</td>\n",
              "      <td>1</td>\n",
              "    </tr>\n",
              "    <tr>\n",
              "      <th>2</th>\n",
              "      <td>3487791F44C34B421C932DC8616A8437</td>\n",
              "      <td>0</td>\n",
              "      <td>57.0</td>\n",
              "      <td>2020-05-25</td>\n",
              "      <td>1</td>\n",
              "    </tr>\n",
              "    <tr>\n",
              "      <th>3</th>\n",
              "      <td>3487791F44C34B421C932DC8616A8437</td>\n",
              "      <td>0</td>\n",
              "      <td>57.0</td>\n",
              "      <td>2020-05-25</td>\n",
              "      <td>1</td>\n",
              "    </tr>\n",
              "    <tr>\n",
              "      <th>4</th>\n",
              "      <td>3487791F44C34B421C932DC8616A8437</td>\n",
              "      <td>0</td>\n",
              "      <td>57.0</td>\n",
              "      <td>2020-05-04</td>\n",
              "      <td>1</td>\n",
              "    </tr>\n",
              "    <tr>\n",
              "      <th>5</th>\n",
              "      <td>F5B5BD59D98836D8AA2D8C27B01225AB</td>\n",
              "      <td>0</td>\n",
              "      <td>75.0</td>\n",
              "      <td>2020-06-07</td>\n",
              "      <td>1</td>\n",
              "    </tr>\n",
              "    <tr>\n",
              "      <th>6</th>\n",
              "      <td>F5B5BD59D98836D8AA2D8C27B01225AB</td>\n",
              "      <td>0</td>\n",
              "      <td>75.0</td>\n",
              "      <td>2020-06-07</td>\n",
              "      <td>1</td>\n",
              "    </tr>\n",
              "    <tr>\n",
              "      <th>7</th>\n",
              "      <td>F5B5BD59D98836D8AA2D8C27B01225AB</td>\n",
              "      <td>0</td>\n",
              "      <td>75.0</td>\n",
              "      <td>2020-06-07</td>\n",
              "      <td>1</td>\n",
              "    </tr>\n",
              "    <tr>\n",
              "      <th>8</th>\n",
              "      <td>F5B5BD59D98836D8AA2D8C27B01225AB</td>\n",
              "      <td>0</td>\n",
              "      <td>75.0</td>\n",
              "      <td>2020-06-07</td>\n",
              "      <td>1</td>\n",
              "    </tr>\n",
              "    <tr>\n",
              "      <th>9</th>\n",
              "      <td>F5B5BD59D98836D8AA2D8C27B01225AB</td>\n",
              "      <td>0</td>\n",
              "      <td>75.0</td>\n",
              "      <td>2020-05-21</td>\n",
              "      <td>1</td>\n",
              "    </tr>\n",
              "    <tr>\n",
              "      <th>10</th>\n",
              "      <td>C3A3D083DBC1353FAB5F87282EE86633</td>\n",
              "      <td>1</td>\n",
              "      <td>32.0</td>\n",
              "      <td>2020-07-23</td>\n",
              "      <td>0</td>\n",
              "    </tr>\n",
              "    <tr>\n",
              "      <th>11</th>\n",
              "      <td>C3A3D083DBC1353FAB5F87282EE86633</td>\n",
              "      <td>1</td>\n",
              "      <td>32.0</td>\n",
              "      <td>2020-07-23</td>\n",
              "      <td>0</td>\n",
              "    </tr>\n",
              "    <tr>\n",
              "      <th>12</th>\n",
              "      <td>C3A3D083DBC1353FAB5F87282EE86633</td>\n",
              "      <td>1</td>\n",
              "      <td>32.0</td>\n",
              "      <td>2020-07-23</td>\n",
              "      <td>1</td>\n",
              "    </tr>\n",
              "    <tr>\n",
              "      <th>13</th>\n",
              "      <td>C3A3D083DBC1353FAB5F87282EE86633</td>\n",
              "      <td>1</td>\n",
              "      <td>32.0</td>\n",
              "      <td>2020-07-23</td>\n",
              "      <td>0</td>\n",
              "    </tr>\n",
              "    <tr>\n",
              "      <th>14</th>\n",
              "      <td>C3A3D083DBC1353FAB5F87282EE86633</td>\n",
              "      <td>1</td>\n",
              "      <td>32.0</td>\n",
              "      <td>2020-07-23</td>\n",
              "      <td>0</td>\n",
              "    </tr>\n",
              "    <tr>\n",
              "      <th>15</th>\n",
              "      <td>C3A3D083DBC1353FAB5F87282EE86633</td>\n",
              "      <td>1</td>\n",
              "      <td>32.0</td>\n",
              "      <td>2020-07-23</td>\n",
              "      <td>0</td>\n",
              "    </tr>\n",
              "    <tr>\n",
              "      <th>16</th>\n",
              "      <td>C3A3D083DBC1353FAB5F87282EE86633</td>\n",
              "      <td>1</td>\n",
              "      <td>32.0</td>\n",
              "      <td>2020-03-14</td>\n",
              "      <td>0</td>\n",
              "    </tr>\n",
              "    <tr>\n",
              "      <th>17</th>\n",
              "      <td>C3A3D083DBC1353FAB5F87282EE86633</td>\n",
              "      <td>1</td>\n",
              "      <td>32.0</td>\n",
              "      <td>2020-07-23</td>\n",
              "      <td>1</td>\n",
              "    </tr>\n",
              "    <tr>\n",
              "      <th>18</th>\n",
              "      <td>BEBA451E2C91A4D869D14EE790FE78FD</td>\n",
              "      <td>0</td>\n",
              "      <td>48.0</td>\n",
              "      <td>2020-05-31</td>\n",
              "      <td>0</td>\n",
              "    </tr>\n",
              "    <tr>\n",
              "      <th>19</th>\n",
              "      <td>BEBA451E2C91A4D869D14EE790FE78FD</td>\n",
              "      <td>0</td>\n",
              "      <td>48.0</td>\n",
              "      <td>2020-05-31</td>\n",
              "      <td>0</td>\n",
              "    </tr>\n",
              "  </tbody>\n",
              "</table>\n",
              "</div>"
            ],
            "text/plain": [
              "                         ID_PACIENTE  IC_SEXO  ...   DT_COLETA DE_RESULTADO\n",
              "0   3487791F44C34B421C932DC8616A8437        0  ...  2020-05-25            1\n",
              "1   3487791F44C34B421C932DC8616A8437        0  ...  2020-05-25            1\n",
              "2   3487791F44C34B421C932DC8616A8437        0  ...  2020-05-25            1\n",
              "3   3487791F44C34B421C932DC8616A8437        0  ...  2020-05-25            1\n",
              "4   3487791F44C34B421C932DC8616A8437        0  ...  2020-05-04            1\n",
              "5   F5B5BD59D98836D8AA2D8C27B01225AB        0  ...  2020-06-07            1\n",
              "6   F5B5BD59D98836D8AA2D8C27B01225AB        0  ...  2020-06-07            1\n",
              "7   F5B5BD59D98836D8AA2D8C27B01225AB        0  ...  2020-06-07            1\n",
              "8   F5B5BD59D98836D8AA2D8C27B01225AB        0  ...  2020-06-07            1\n",
              "9   F5B5BD59D98836D8AA2D8C27B01225AB        0  ...  2020-05-21            1\n",
              "10  C3A3D083DBC1353FAB5F87282EE86633        1  ...  2020-07-23            0\n",
              "11  C3A3D083DBC1353FAB5F87282EE86633        1  ...  2020-07-23            0\n",
              "12  C3A3D083DBC1353FAB5F87282EE86633        1  ...  2020-07-23            1\n",
              "13  C3A3D083DBC1353FAB5F87282EE86633        1  ...  2020-07-23            0\n",
              "14  C3A3D083DBC1353FAB5F87282EE86633        1  ...  2020-07-23            0\n",
              "15  C3A3D083DBC1353FAB5F87282EE86633        1  ...  2020-07-23            0\n",
              "16  C3A3D083DBC1353FAB5F87282EE86633        1  ...  2020-03-14            0\n",
              "17  C3A3D083DBC1353FAB5F87282EE86633        1  ...  2020-07-23            1\n",
              "18  BEBA451E2C91A4D869D14EE790FE78FD        0  ...  2020-05-31            0\n",
              "19  BEBA451E2C91A4D869D14EE790FE78FD        0  ...  2020-05-31            0\n",
              "\n",
              "[20 rows x 5 columns]"
            ]
          },
          "metadata": {
            "tags": []
          },
          "execution_count": 156
        }
      ]
    },
    {
      "cell_type": "code",
      "metadata": {
        "id": "EDx1l4FsDaXO",
        "outputId": "4bed5d05-e595-408f-d329-5b4dd67b56c4",
        "colab": {
          "base_uri": "https://localhost:8080/",
          "height": 68
        }
      },
      "source": [
        "# Analisando a distribuição de resultados: há uma quantidade significativa de pacientes a mais que testaram positivo \n",
        "#para COVID-19.\n",
        "pacientes_teste_covid['DE_RESULTADO'].value_counts()"
      ],
      "execution_count": 157,
      "outputs": [
        {
          "output_type": "execute_result",
          "data": {
            "text/plain": [
              "1    2054\n",
              "0     621\n",
              "Name: DE_RESULTADO, dtype: int64"
            ]
          },
          "metadata": {
            "tags": []
          },
          "execution_count": 157
        }
      ]
    },
    {
      "cell_type": "markdown",
      "metadata": {
        "id": "3ctIXjSmCUbN"
      },
      "source": [
        "####**5.3) Adicionando as features laboratoriais**"
      ]
    },
    {
      "cell_type": "code",
      "metadata": {
        "id": "BJKRZOIHMFpF",
        "outputId": "dbc86ec0-60b2-4daf-de80-0ba586c7d9b5",
        "colab": {
          "base_uri": "https://localhost:8080/",
          "height": 238
        }
      },
      "source": [
        "# Agora precisamos adicionar cada uma das features laboratoriais (que estão em dataframes individuais),\n",
        "# para cada cada paciente que fez o teste de COVID-19, levando em consideração também a data de coleta,\n",
        "# para termos resultados atualizados de um dos analitos que será analisado para buscar uma relação com o\n",
        "# paciente ter ou não COVID-19.\n",
        "#\n",
        "# Unindo informações dos leucócitos dos pacientes e removendo duplicatas\n",
        "merge_lab_features_1 = pacientes_teste_covid.merge(leucocitos, on=['ID_PACIENTE','DT_COLETA'], how='outer')\n",
        "merge_lab_features_1.drop_duplicates(subset=['ID_PACIENTE','DT_COLETA'],keep='first',inplace=True)\n",
        "print(merge_lab_features_1.shape)\n",
        "\n",
        "# Unindo informações de hemoglobina dos pacientes e removendo duplicatas\n",
        "merge_lab_features_2 = merge_lab_features_1.merge(hemoglobina, on=['ID_PACIENTE','DT_COLETA'], how='outer')\n",
        "merge_lab_features_2.drop_duplicates(subset=['ID_PACIENTE','DT_COLETA'],keep='first',inplace=True)\n",
        "print(merge_lab_features_2.shape)\n",
        "\n",
        "# Unindo informações das plaquetas dos pacientes e removendo duplicatas\n",
        "merge_lab_features_3 = merge_lab_features_2.merge(plaquetas, on=['ID_PACIENTE','DT_COLETA'], how='outer')\n",
        "merge_lab_features_3.drop_duplicates(subset=['ID_PACIENTE','DT_COLETA'],keep='first',inplace=True)\n",
        "print(merge_lab_features_3.shape)\n",
        "\n",
        "# Unindo informações dos neutrófilos dos pacientes e removendo duplicatas\n",
        "merge_lab_features_4 = merge_lab_features_3.merge(neutrofilos_percent, on=['ID_PACIENTE','DT_COLETA'], how='outer')\n",
        "merge_lab_features_4.drop_duplicates(subset=['ID_PACIENTE','DT_COLETA'],keep='first',inplace=True)\n",
        "print(merge_lab_features_4.shape)\n",
        "\n",
        "# Unindo informações dos neutrófilos (%) dos pacientes e removendo duplicatas\n",
        "merge_lab_features_5 = merge_lab_features_4.merge(neutrofilos, on=['ID_PACIENTE','DT_COLETA'], how='outer')\n",
        "merge_lab_features_5.drop_duplicates(subset=['ID_PACIENTE','DT_COLETA'],keep='first',inplace=True)\n",
        "print(merge_lab_features_5.shape)\n",
        "\n",
        "# Unindo informações dos linfócitos dos pacientes e removendo duplicatas\n",
        "merge_lab_features_6 = merge_lab_features_5.merge(linfocitos_percent, on=['ID_PACIENTE','DT_COLETA'], how='outer')\n",
        "merge_lab_features_6.drop_duplicates(subset=['ID_PACIENTE','DT_COLETA'],keep='first',inplace=True)\n",
        "print(merge_lab_features_6.shape)\n",
        "\n",
        "# Unindo informações dos linfócitos (%) dos pacientes e removendo duplicatas\n",
        "merge_lab_features_7 = merge_lab_features_6.merge(linfocitos, on=['ID_PACIENTE','DT_COLETA'], how='outer')\n",
        "merge_lab_features_7.drop_duplicates(subset=['ID_PACIENTE','DT_COLETA'],keep='first',inplace=True)\n",
        "print(merge_lab_features_7.shape)\n",
        "\n",
        "# Unindo informações de proteína C-reativa dos pacientes e removendo duplicatas\n",
        "merge_lab_features_8 = merge_lab_features_7.merge(proteina_c, on=['ID_PACIENTE','DT_COLETA'], how='outer')\n",
        "merge_lab_features_8.drop_duplicates(subset=['ID_PACIENTE','DT_COLETA'],keep='first',inplace=True)\n",
        "print(merge_lab_features_8.shape)\n",
        "\n",
        "# Unindo informações de bilirrubina dos pacientes e removendo duplicatas\n",
        "merge_lab_features_9 = merge_lab_features_8.merge(bilirrubina, on=['ID_PACIENTE','DT_COLETA'], how='outer')\n",
        "merge_lab_features_9.drop_duplicates(subset=['ID_PACIENTE','DT_COLETA'],keep='first',inplace=True)\n",
        "print(merge_lab_features_9.shape)\n",
        "\n",
        "# Unindo informações de uréia dos pacientes e removendo duplicatas\n",
        "merge_lab_features_10 = merge_lab_features_9.merge(ureia, on=['ID_PACIENTE','DT_COLETA'], how='outer')\n",
        "merge_lab_features_10.drop_duplicates(subset=['ID_PACIENTE','DT_COLETA'],keep='first',inplace=True)\n",
        "print(merge_lab_features_10.shape)\n",
        "\n",
        "# Unindo informações de creatinina dos pacientes e removendo duplicatas\n",
        "merge_lab_features_11 = merge_lab_features_10.merge(creatinina, on=['ID_PACIENTE','DT_COLETA'], how='outer')\n",
        "merge_lab_features_11.drop_duplicates(subset=['ID_PACIENTE','DT_COLETA'],keep='first',inplace=True)\n",
        "print(merge_lab_features_11.shape)\n",
        "\n",
        "# Unindo informações de DHL dos pacientes e removendo duplicatas\n",
        "merge_lab_features_12 = merge_lab_features_11.merge(dhl, on=['ID_PACIENTE','DT_COLETA'], how='outer')\n",
        "merge_lab_features_12.drop_duplicates(subset=['ID_PACIENTE','DT_COLETA'],keep='first',inplace=True)\n",
        "print(merge_lab_features_12.shape)\n",
        "\n",
        "# Unindo informações dos dímeros D dos pacientes e removendo duplicatas\n",
        "merge_lab_features_13 = merge_lab_features_12.merge(dimeros_d, on=['ID_PACIENTE','DT_COLETA'], how='outer')\n",
        "merge_lab_features_13.drop_duplicates(subset=['ID_PACIENTE','DT_COLETA'],keep='first',inplace=True)\n",
        "print(merge_lab_features_13.shape)"
      ],
      "execution_count": 158,
      "outputs": [
        {
          "output_type": "stream",
          "text": [
            "(6253, 6)\n",
            "(6253, 7)\n",
            "(6254, 8)\n",
            "(6255, 9)\n",
            "(6255, 10)\n",
            "(6255, 11)\n",
            "(6255, 12)\n",
            "(6365, 13)\n",
            "(6387, 14)\n",
            "(6425, 15)\n",
            "(6435, 16)\n",
            "(6439, 17)\n",
            "(6480, 18)\n"
          ],
          "name": "stdout"
        }
      ]
    },
    {
      "cell_type": "code",
      "metadata": {
        "id": "yILCLsgyNKgw",
        "outputId": "d42f05ef-b4d3-4cf8-bc8c-45d3d081f36b",
        "colab": {
          "base_uri": "https://localhost:8080/",
          "height": 326
        }
      },
      "source": [
        "# Verificando o dataframe resultante\n",
        "merge_lab_features_13.head(5)"
      ],
      "execution_count": 159,
      "outputs": [
        {
          "output_type": "execute_result",
          "data": {
            "text/html": [
              "<div>\n",
              "<style scoped>\n",
              "    .dataframe tbody tr th:only-of-type {\n",
              "        vertical-align: middle;\n",
              "    }\n",
              "\n",
              "    .dataframe tbody tr th {\n",
              "        vertical-align: top;\n",
              "    }\n",
              "\n",
              "    .dataframe thead th {\n",
              "        text-align: right;\n",
              "    }\n",
              "</style>\n",
              "<table border=\"1\" class=\"dataframe\">\n",
              "  <thead>\n",
              "    <tr style=\"text-align: right;\">\n",
              "      <th></th>\n",
              "      <th>ID_PACIENTE</th>\n",
              "      <th>IC_SEXO</th>\n",
              "      <th>IC_IDADE</th>\n",
              "      <th>DT_COLETA</th>\n",
              "      <th>DE_RESULTADO</th>\n",
              "      <th>DE_LEUCOCITOS</th>\n",
              "      <th>DE_HEMOGLOBINA</th>\n",
              "      <th>DE_PLAQUETAS</th>\n",
              "      <th>DE_NEUTROFILOS (%)</th>\n",
              "      <th>DE_NEUTROFILOS</th>\n",
              "      <th>DE_LINFOCITOS (%)</th>\n",
              "      <th>DE_LINFOCITOS</th>\n",
              "      <th>DE_PROTEINA_C_REATIVA</th>\n",
              "      <th>DE_BILIRRUBINA</th>\n",
              "      <th>DE_UREIA</th>\n",
              "      <th>DE_CREATININA</th>\n",
              "      <th>DE_DHL</th>\n",
              "      <th>DE_DIMEROS_D</th>\n",
              "    </tr>\n",
              "  </thead>\n",
              "  <tbody>\n",
              "    <tr>\n",
              "      <th>0</th>\n",
              "      <td>3487791F44C34B421C932DC8616A8437</td>\n",
              "      <td>0.0</td>\n",
              "      <td>57.0</td>\n",
              "      <td>2020-05-25</td>\n",
              "      <td>1.0</td>\n",
              "      <td>NaN</td>\n",
              "      <td>NaN</td>\n",
              "      <td>NaN</td>\n",
              "      <td>NaN</td>\n",
              "      <td>NaN</td>\n",
              "      <td>NaN</td>\n",
              "      <td>NaN</td>\n",
              "      <td>NaN</td>\n",
              "      <td>NaN</td>\n",
              "      <td>NaN</td>\n",
              "      <td>NaN</td>\n",
              "      <td>NaN</td>\n",
              "      <td>1437.374194</td>\n",
              "    </tr>\n",
              "    <tr>\n",
              "      <th>1</th>\n",
              "      <td>3487791F44C34B421C932DC8616A8437</td>\n",
              "      <td>0.0</td>\n",
              "      <td>57.0</td>\n",
              "      <td>2020-05-04</td>\n",
              "      <td>1.0</td>\n",
              "      <td>3390.0</td>\n",
              "      <td>14.8</td>\n",
              "      <td>86000.0</td>\n",
              "      <td>62.8</td>\n",
              "      <td>2130.0</td>\n",
              "      <td>14.5</td>\n",
              "      <td>490.0</td>\n",
              "      <td>0.19</td>\n",
              "      <td>NaN</td>\n",
              "      <td>28.0</td>\n",
              "      <td>0.91</td>\n",
              "      <td>364.0</td>\n",
              "      <td>248.000000</td>\n",
              "    </tr>\n",
              "    <tr>\n",
              "      <th>2</th>\n",
              "      <td>F5B5BD59D98836D8AA2D8C27B01225AB</td>\n",
              "      <td>0.0</td>\n",
              "      <td>75.0</td>\n",
              "      <td>2020-06-07</td>\n",
              "      <td>1.0</td>\n",
              "      <td>14610.0</td>\n",
              "      <td>11.8</td>\n",
              "      <td>190000.0</td>\n",
              "      <td>86.4</td>\n",
              "      <td>12620.0</td>\n",
              "      <td>7.5</td>\n",
              "      <td>1100.0</td>\n",
              "      <td>0.29</td>\n",
              "      <td>0.62</td>\n",
              "      <td>103.0</td>\n",
              "      <td>1.00</td>\n",
              "      <td>NaN</td>\n",
              "      <td>NaN</td>\n",
              "    </tr>\n",
              "    <tr>\n",
              "      <th>3</th>\n",
              "      <td>F5B5BD59D98836D8AA2D8C27B01225AB</td>\n",
              "      <td>0.0</td>\n",
              "      <td>75.0</td>\n",
              "      <td>2020-05-21</td>\n",
              "      <td>1.0</td>\n",
              "      <td>5000.0</td>\n",
              "      <td>12.8</td>\n",
              "      <td>202000.0</td>\n",
              "      <td>93.6</td>\n",
              "      <td>4680.0</td>\n",
              "      <td>5.6</td>\n",
              "      <td>280.0</td>\n",
              "      <td>30.67</td>\n",
              "      <td>NaN</td>\n",
              "      <td>58.0</td>\n",
              "      <td>1.29</td>\n",
              "      <td>NaN</td>\n",
              "      <td>996.000000</td>\n",
              "    </tr>\n",
              "    <tr>\n",
              "      <th>5</th>\n",
              "      <td>C3A3D083DBC1353FAB5F87282EE86633</td>\n",
              "      <td>1.0</td>\n",
              "      <td>32.0</td>\n",
              "      <td>2020-07-23</td>\n",
              "      <td>0.0</td>\n",
              "      <td>6690.0</td>\n",
              "      <td>13.8</td>\n",
              "      <td>203000.0</td>\n",
              "      <td>74.8</td>\n",
              "      <td>5010.0</td>\n",
              "      <td>18.1</td>\n",
              "      <td>1210.0</td>\n",
              "      <td>0.97</td>\n",
              "      <td>0.66</td>\n",
              "      <td>28.0</td>\n",
              "      <td>0.68</td>\n",
              "      <td>NaN</td>\n",
              "      <td>1437.374194</td>\n",
              "    </tr>\n",
              "  </tbody>\n",
              "</table>\n",
              "</div>"
            ],
            "text/plain": [
              "                        ID_PACIENTE  IC_SEXO  ...  DE_DHL DE_DIMEROS_D\n",
              "0  3487791F44C34B421C932DC8616A8437      0.0  ...     NaN  1437.374194\n",
              "1  3487791F44C34B421C932DC8616A8437      0.0  ...   364.0   248.000000\n",
              "2  F5B5BD59D98836D8AA2D8C27B01225AB      0.0  ...     NaN          NaN\n",
              "3  F5B5BD59D98836D8AA2D8C27B01225AB      0.0  ...     NaN   996.000000\n",
              "5  C3A3D083DBC1353FAB5F87282EE86633      1.0  ...     NaN  1437.374194\n",
              "\n",
              "[5 rows x 18 columns]"
            ]
          },
          "metadata": {
            "tags": []
          },
          "execution_count": 159
        }
      ]
    },
    {
      "cell_type": "code",
      "metadata": {
        "id": "Aw_qszzmXIjl",
        "outputId": "1238f991-778b-4d7e-d985-b56f5611e017",
        "colab": {
          "base_uri": "https://localhost:8080/",
          "height": 224
        }
      },
      "source": [
        "# Selecionamos os resultados de exame que não são nulos (resultados nulos surgem quando unimos as colunas, para os pacientes que\n",
        "# não haviam realizado exame de COVID-19) e atribuimos a um novo dataframe (df_final).\n",
        "sel = merge_lab_features_13['DE_RESULTADO'].notnull()\n",
        "df_final = merge_lab_features_13[sel]\n",
        "\n",
        "# Retiramos duplicatas do dataframe final\n",
        "df_final.drop_duplicates(keep='first',inplace=True)\n",
        "\n",
        "# Preenchemos valores faltantes com a média do valor da coluna, mesma estratégia adotada em (Bao, 2020)\n",
        "df_final.fillna(df_final.mean(), inplace=True)\n",
        "\n",
        "# Verificando o tamanho do dataframe final\n",
        "df_final.shape"
      ],
      "execution_count": 160,
      "outputs": [
        {
          "output_type": "stream",
          "text": [
            "/usr/local/lib/python3.6/dist-packages/ipykernel_launcher.py:7: SettingWithCopyWarning: \n",
            "A value is trying to be set on a copy of a slice from a DataFrame\n",
            "\n",
            "See the caveats in the documentation: https://pandas.pydata.org/pandas-docs/stable/user_guide/indexing.html#returning-a-view-versus-a-copy\n",
            "  import sys\n",
            "/usr/local/lib/python3.6/dist-packages/pandas/core/series.py:4523: SettingWithCopyWarning: \n",
            "A value is trying to be set on a copy of a slice from a DataFrame\n",
            "\n",
            "See the caveats in the documentation: https://pandas.pydata.org/pandas-docs/stable/user_guide/indexing.html#returning-a-view-versus-a-copy\n",
            "  downcast=downcast,\n"
          ],
          "name": "stderr"
        },
        {
          "output_type": "execute_result",
          "data": {
            "text/plain": [
              "(2134, 18)"
            ]
          },
          "metadata": {
            "tags": []
          },
          "execution_count": 160
        }
      ]
    },
    {
      "cell_type": "code",
      "metadata": {
        "id": "QBFCCScCiYTD",
        "outputId": "4122a591-5f8a-468f-c052-5691f57abcea",
        "colab": {
          "base_uri": "https://localhost:8080/",
          "height": 1000
        }
      },
      "source": [
        "# Verificando os dados do dataframe final\n",
        "df_final.head(20)"
      ],
      "execution_count": 161,
      "outputs": [
        {
          "output_type": "execute_result",
          "data": {
            "text/html": [
              "<div>\n",
              "<style scoped>\n",
              "    .dataframe tbody tr th:only-of-type {\n",
              "        vertical-align: middle;\n",
              "    }\n",
              "\n",
              "    .dataframe tbody tr th {\n",
              "        vertical-align: top;\n",
              "    }\n",
              "\n",
              "    .dataframe thead th {\n",
              "        text-align: right;\n",
              "    }\n",
              "</style>\n",
              "<table border=\"1\" class=\"dataframe\">\n",
              "  <thead>\n",
              "    <tr style=\"text-align: right;\">\n",
              "      <th></th>\n",
              "      <th>ID_PACIENTE</th>\n",
              "      <th>IC_SEXO</th>\n",
              "      <th>IC_IDADE</th>\n",
              "      <th>DT_COLETA</th>\n",
              "      <th>DE_RESULTADO</th>\n",
              "      <th>DE_LEUCOCITOS</th>\n",
              "      <th>DE_HEMOGLOBINA</th>\n",
              "      <th>DE_PLAQUETAS</th>\n",
              "      <th>DE_NEUTROFILOS (%)</th>\n",
              "      <th>DE_NEUTROFILOS</th>\n",
              "      <th>DE_LINFOCITOS (%)</th>\n",
              "      <th>DE_LINFOCITOS</th>\n",
              "      <th>DE_PROTEINA_C_REATIVA</th>\n",
              "      <th>DE_BILIRRUBINA</th>\n",
              "      <th>DE_UREIA</th>\n",
              "      <th>DE_CREATININA</th>\n",
              "      <th>DE_DHL</th>\n",
              "      <th>DE_DIMEROS_D</th>\n",
              "    </tr>\n",
              "  </thead>\n",
              "  <tbody>\n",
              "    <tr>\n",
              "      <th>0</th>\n",
              "      <td>3487791F44C34B421C932DC8616A8437</td>\n",
              "      <td>0.0</td>\n",
              "      <td>57.0</td>\n",
              "      <td>2020-05-25</td>\n",
              "      <td>1.0</td>\n",
              "      <td>6790.179153</td>\n",
              "      <td>13.257818</td>\n",
              "      <td>200627.035831</td>\n",
              "      <td>65.892508</td>\n",
              "      <td>4723.029316</td>\n",
              "      <td>22.709446</td>\n",
              "      <td>1364.429967</td>\n",
              "      <td>4.038129</td>\n",
              "      <td>0.437611</td>\n",
              "      <td>40.516522</td>\n",
              "      <td>1.159225</td>\n",
              "      <td>505.25731</td>\n",
              "      <td>1437.374194</td>\n",
              "    </tr>\n",
              "    <tr>\n",
              "      <th>1</th>\n",
              "      <td>3487791F44C34B421C932DC8616A8437</td>\n",
              "      <td>0.0</td>\n",
              "      <td>57.0</td>\n",
              "      <td>2020-05-04</td>\n",
              "      <td>1.0</td>\n",
              "      <td>3390.000000</td>\n",
              "      <td>14.800000</td>\n",
              "      <td>86000.000000</td>\n",
              "      <td>62.800000</td>\n",
              "      <td>2130.000000</td>\n",
              "      <td>14.500000</td>\n",
              "      <td>490.000000</td>\n",
              "      <td>0.190000</td>\n",
              "      <td>0.437611</td>\n",
              "      <td>28.000000</td>\n",
              "      <td>0.910000</td>\n",
              "      <td>364.00000</td>\n",
              "      <td>248.000000</td>\n",
              "    </tr>\n",
              "    <tr>\n",
              "      <th>2</th>\n",
              "      <td>F5B5BD59D98836D8AA2D8C27B01225AB</td>\n",
              "      <td>0.0</td>\n",
              "      <td>75.0</td>\n",
              "      <td>2020-06-07</td>\n",
              "      <td>1.0</td>\n",
              "      <td>14610.000000</td>\n",
              "      <td>11.800000</td>\n",
              "      <td>190000.000000</td>\n",
              "      <td>86.400000</td>\n",
              "      <td>12620.000000</td>\n",
              "      <td>7.500000</td>\n",
              "      <td>1100.000000</td>\n",
              "      <td>0.290000</td>\n",
              "      <td>0.620000</td>\n",
              "      <td>103.000000</td>\n",
              "      <td>1.000000</td>\n",
              "      <td>505.25731</td>\n",
              "      <td>1240.248775</td>\n",
              "    </tr>\n",
              "    <tr>\n",
              "      <th>3</th>\n",
              "      <td>F5B5BD59D98836D8AA2D8C27B01225AB</td>\n",
              "      <td>0.0</td>\n",
              "      <td>75.0</td>\n",
              "      <td>2020-05-21</td>\n",
              "      <td>1.0</td>\n",
              "      <td>5000.000000</td>\n",
              "      <td>12.800000</td>\n",
              "      <td>202000.000000</td>\n",
              "      <td>93.600000</td>\n",
              "      <td>4680.000000</td>\n",
              "      <td>5.600000</td>\n",
              "      <td>280.000000</td>\n",
              "      <td>30.670000</td>\n",
              "      <td>0.437611</td>\n",
              "      <td>58.000000</td>\n",
              "      <td>1.290000</td>\n",
              "      <td>505.25731</td>\n",
              "      <td>996.000000</td>\n",
              "    </tr>\n",
              "    <tr>\n",
              "      <th>5</th>\n",
              "      <td>C3A3D083DBC1353FAB5F87282EE86633</td>\n",
              "      <td>1.0</td>\n",
              "      <td>32.0</td>\n",
              "      <td>2020-07-23</td>\n",
              "      <td>0.0</td>\n",
              "      <td>6690.000000</td>\n",
              "      <td>13.800000</td>\n",
              "      <td>203000.000000</td>\n",
              "      <td>74.800000</td>\n",
              "      <td>5010.000000</td>\n",
              "      <td>18.100000</td>\n",
              "      <td>1210.000000</td>\n",
              "      <td>0.970000</td>\n",
              "      <td>0.660000</td>\n",
              "      <td>28.000000</td>\n",
              "      <td>0.680000</td>\n",
              "      <td>505.25731</td>\n",
              "      <td>1437.374194</td>\n",
              "    </tr>\n",
              "    <tr>\n",
              "      <th>6</th>\n",
              "      <td>C3A3D083DBC1353FAB5F87282EE86633</td>\n",
              "      <td>1.0</td>\n",
              "      <td>32.0</td>\n",
              "      <td>2020-03-14</td>\n",
              "      <td>0.0</td>\n",
              "      <td>6790.179153</td>\n",
              "      <td>13.257818</td>\n",
              "      <td>200627.035831</td>\n",
              "      <td>65.892508</td>\n",
              "      <td>4723.029316</td>\n",
              "      <td>22.709446</td>\n",
              "      <td>1364.429967</td>\n",
              "      <td>4.038129</td>\n",
              "      <td>0.437611</td>\n",
              "      <td>40.516522</td>\n",
              "      <td>1.159225</td>\n",
              "      <td>505.25731</td>\n",
              "      <td>1240.248775</td>\n",
              "    </tr>\n",
              "    <tr>\n",
              "      <th>7</th>\n",
              "      <td>BEBA451E2C91A4D869D14EE790FE78FD</td>\n",
              "      <td>0.0</td>\n",
              "      <td>48.0</td>\n",
              "      <td>2020-05-31</td>\n",
              "      <td>0.0</td>\n",
              "      <td>15060.000000</td>\n",
              "      <td>11.300000</td>\n",
              "      <td>278000.000000</td>\n",
              "      <td>92.300000</td>\n",
              "      <td>13900.000000</td>\n",
              "      <td>3.500000</td>\n",
              "      <td>530.000000</td>\n",
              "      <td>7.910000</td>\n",
              "      <td>0.437611</td>\n",
              "      <td>121.000000</td>\n",
              "      <td>2.910000</td>\n",
              "      <td>505.25731</td>\n",
              "      <td>1240.248775</td>\n",
              "    </tr>\n",
              "    <tr>\n",
              "      <th>8</th>\n",
              "      <td>BEBA451E2C91A4D869D14EE790FE78FD</td>\n",
              "      <td>0.0</td>\n",
              "      <td>48.0</td>\n",
              "      <td>2020-05-30</td>\n",
              "      <td>1.0</td>\n",
              "      <td>9300.000000</td>\n",
              "      <td>11.300000</td>\n",
              "      <td>267000.000000</td>\n",
              "      <td>72.300000</td>\n",
              "      <td>6720.000000</td>\n",
              "      <td>18.300000</td>\n",
              "      <td>1700.000000</td>\n",
              "      <td>2.830000</td>\n",
              "      <td>0.437611</td>\n",
              "      <td>108.000000</td>\n",
              "      <td>2.310000</td>\n",
              "      <td>505.25731</td>\n",
              "      <td>1240.248775</td>\n",
              "    </tr>\n",
              "    <tr>\n",
              "      <th>9</th>\n",
              "      <td>F99249272E611207DBEC7EE3CF81F0E5</td>\n",
              "      <td>1.0</td>\n",
              "      <td>78.0</td>\n",
              "      <td>2020-06-04</td>\n",
              "      <td>0.0</td>\n",
              "      <td>11620.000000</td>\n",
              "      <td>11.900000</td>\n",
              "      <td>271000.000000</td>\n",
              "      <td>74.800000</td>\n",
              "      <td>8680.000000</td>\n",
              "      <td>17.200000</td>\n",
              "      <td>2000.000000</td>\n",
              "      <td>0.530000</td>\n",
              "      <td>0.760000</td>\n",
              "      <td>84.000000</td>\n",
              "      <td>1.700000</td>\n",
              "      <td>477.00000</td>\n",
              "      <td>1334.000000</td>\n",
              "    </tr>\n",
              "    <tr>\n",
              "      <th>11</th>\n",
              "      <td>F99249272E611207DBEC7EE3CF81F0E5</td>\n",
              "      <td>1.0</td>\n",
              "      <td>78.0</td>\n",
              "      <td>2020-06-10</td>\n",
              "      <td>0.0</td>\n",
              "      <td>6790.179153</td>\n",
              "      <td>13.257818</td>\n",
              "      <td>200627.035831</td>\n",
              "      <td>65.892508</td>\n",
              "      <td>4723.029316</td>\n",
              "      <td>22.709446</td>\n",
              "      <td>1364.429967</td>\n",
              "      <td>4.038129</td>\n",
              "      <td>0.437611</td>\n",
              "      <td>40.516522</td>\n",
              "      <td>1.159225</td>\n",
              "      <td>505.25731</td>\n",
              "      <td>1240.248775</td>\n",
              "    </tr>\n",
              "    <tr>\n",
              "      <th>12</th>\n",
              "      <td>74D237DB6D34A5BB2A95A26CD9FD5CF9</td>\n",
              "      <td>0.0</td>\n",
              "      <td>61.0</td>\n",
              "      <td>2020-06-27</td>\n",
              "      <td>0.0</td>\n",
              "      <td>6790.179153</td>\n",
              "      <td>13.257818</td>\n",
              "      <td>200627.035831</td>\n",
              "      <td>65.892508</td>\n",
              "      <td>4723.029316</td>\n",
              "      <td>22.709446</td>\n",
              "      <td>1364.429967</td>\n",
              "      <td>4.038129</td>\n",
              "      <td>0.437611</td>\n",
              "      <td>40.516522</td>\n",
              "      <td>1.159225</td>\n",
              "      <td>505.25731</td>\n",
              "      <td>1240.248775</td>\n",
              "    </tr>\n",
              "    <tr>\n",
              "      <th>13</th>\n",
              "      <td>AA1E0A1BBB04DBFB2D4FE21BDB45FB74</td>\n",
              "      <td>0.0</td>\n",
              "      <td>43.0</td>\n",
              "      <td>2020-06-26</td>\n",
              "      <td>0.0</td>\n",
              "      <td>6790.179153</td>\n",
              "      <td>13.257818</td>\n",
              "      <td>200627.035831</td>\n",
              "      <td>65.892508</td>\n",
              "      <td>4723.029316</td>\n",
              "      <td>22.709446</td>\n",
              "      <td>1364.429967</td>\n",
              "      <td>4.038129</td>\n",
              "      <td>0.437611</td>\n",
              "      <td>40.516522</td>\n",
              "      <td>1.159225</td>\n",
              "      <td>505.25731</td>\n",
              "      <td>1240.248775</td>\n",
              "    </tr>\n",
              "    <tr>\n",
              "      <th>14</th>\n",
              "      <td>AA1E0A1BBB04DBFB2D4FE21BDB45FB74</td>\n",
              "      <td>0.0</td>\n",
              "      <td>43.0</td>\n",
              "      <td>2020-07-09</td>\n",
              "      <td>1.0</td>\n",
              "      <td>6790.179153</td>\n",
              "      <td>13.257818</td>\n",
              "      <td>200627.035831</td>\n",
              "      <td>65.892508</td>\n",
              "      <td>4723.029316</td>\n",
              "      <td>22.709446</td>\n",
              "      <td>1364.429967</td>\n",
              "      <td>4.038129</td>\n",
              "      <td>0.437611</td>\n",
              "      <td>40.516522</td>\n",
              "      <td>1.159225</td>\n",
              "      <td>505.25731</td>\n",
              "      <td>1240.248775</td>\n",
              "    </tr>\n",
              "    <tr>\n",
              "      <th>15</th>\n",
              "      <td>F09A86430261ABE1D630EE7090B4BC37</td>\n",
              "      <td>0.0</td>\n",
              "      <td>44.0</td>\n",
              "      <td>2020-06-09</td>\n",
              "      <td>0.0</td>\n",
              "      <td>4990.000000</td>\n",
              "      <td>10.100000</td>\n",
              "      <td>189000.000000</td>\n",
              "      <td>85.800000</td>\n",
              "      <td>4280.000000</td>\n",
              "      <td>10.000000</td>\n",
              "      <td>500.000000</td>\n",
              "      <td>2.290000</td>\n",
              "      <td>0.437611</td>\n",
              "      <td>29.000000</td>\n",
              "      <td>2.670000</td>\n",
              "      <td>505.25731</td>\n",
              "      <td>1027.000000</td>\n",
              "    </tr>\n",
              "    <tr>\n",
              "      <th>16</th>\n",
              "      <td>F09A86430261ABE1D630EE7090B4BC37</td>\n",
              "      <td>0.0</td>\n",
              "      <td>44.0</td>\n",
              "      <td>2020-06-07</td>\n",
              "      <td>0.0</td>\n",
              "      <td>4810.000000</td>\n",
              "      <td>9.700000</td>\n",
              "      <td>195000.000000</td>\n",
              "      <td>60.500000</td>\n",
              "      <td>2910.000000</td>\n",
              "      <td>24.300000</td>\n",
              "      <td>1170.000000</td>\n",
              "      <td>0.530000</td>\n",
              "      <td>0.437611</td>\n",
              "      <td>37.000000</td>\n",
              "      <td>2.860000</td>\n",
              "      <td>482.00000</td>\n",
              "      <td>1130.000000</td>\n",
              "    </tr>\n",
              "    <tr>\n",
              "      <th>17</th>\n",
              "      <td>F09A86430261ABE1D630EE7090B4BC37</td>\n",
              "      <td>0.0</td>\n",
              "      <td>44.0</td>\n",
              "      <td>2020-06-04</td>\n",
              "      <td>1.0</td>\n",
              "      <td>6790.179153</td>\n",
              "      <td>13.257818</td>\n",
              "      <td>200627.035831</td>\n",
              "      <td>65.892508</td>\n",
              "      <td>4723.029316</td>\n",
              "      <td>22.709446</td>\n",
              "      <td>1364.429967</td>\n",
              "      <td>4.038129</td>\n",
              "      <td>0.437611</td>\n",
              "      <td>40.516522</td>\n",
              "      <td>1.159225</td>\n",
              "      <td>505.25731</td>\n",
              "      <td>1240.248775</td>\n",
              "    </tr>\n",
              "    <tr>\n",
              "      <th>18</th>\n",
              "      <td>C16902E84856371CFB33837851722042</td>\n",
              "      <td>0.0</td>\n",
              "      <td>75.0</td>\n",
              "      <td>2020-06-03</td>\n",
              "      <td>0.0</td>\n",
              "      <td>8670.000000</td>\n",
              "      <td>8.300000</td>\n",
              "      <td>245000.000000</td>\n",
              "      <td>67.100000</td>\n",
              "      <td>5810.000000</td>\n",
              "      <td>19.500000</td>\n",
              "      <td>1690.000000</td>\n",
              "      <td>0.720000</td>\n",
              "      <td>0.437611</td>\n",
              "      <td>100.000000</td>\n",
              "      <td>3.410000</td>\n",
              "      <td>505.25731</td>\n",
              "      <td>1240.248775</td>\n",
              "    </tr>\n",
              "    <tr>\n",
              "      <th>19</th>\n",
              "      <td>C16902E84856371CFB33837851722042</td>\n",
              "      <td>0.0</td>\n",
              "      <td>75.0</td>\n",
              "      <td>2020-06-05</td>\n",
              "      <td>0.0</td>\n",
              "      <td>6790.179153</td>\n",
              "      <td>13.257818</td>\n",
              "      <td>200627.035831</td>\n",
              "      <td>65.892508</td>\n",
              "      <td>4723.029316</td>\n",
              "      <td>22.709446</td>\n",
              "      <td>1364.429967</td>\n",
              "      <td>4.038129</td>\n",
              "      <td>0.437611</td>\n",
              "      <td>103.000000</td>\n",
              "      <td>3.600000</td>\n",
              "      <td>505.25731</td>\n",
              "      <td>1240.248775</td>\n",
              "    </tr>\n",
              "    <tr>\n",
              "      <th>20</th>\n",
              "      <td>C16902E84856371CFB33837851722042</td>\n",
              "      <td>0.0</td>\n",
              "      <td>75.0</td>\n",
              "      <td>2020-05-26</td>\n",
              "      <td>1.0</td>\n",
              "      <td>6790.179153</td>\n",
              "      <td>13.257818</td>\n",
              "      <td>200627.035831</td>\n",
              "      <td>65.892508</td>\n",
              "      <td>4723.029316</td>\n",
              "      <td>22.709446</td>\n",
              "      <td>1364.429967</td>\n",
              "      <td>4.038129</td>\n",
              "      <td>0.437611</td>\n",
              "      <td>40.516522</td>\n",
              "      <td>1.159225</td>\n",
              "      <td>505.25731</td>\n",
              "      <td>1240.248775</td>\n",
              "    </tr>\n",
              "    <tr>\n",
              "      <th>21</th>\n",
              "      <td>36EC3ADD18AE59B3DC62C67B4A6440DA</td>\n",
              "      <td>1.0</td>\n",
              "      <td>80.0</td>\n",
              "      <td>2020-06-08</td>\n",
              "      <td>0.0</td>\n",
              "      <td>6790.179153</td>\n",
              "      <td>13.257818</td>\n",
              "      <td>200627.035831</td>\n",
              "      <td>65.892508</td>\n",
              "      <td>4723.029316</td>\n",
              "      <td>22.709446</td>\n",
              "      <td>1364.429967</td>\n",
              "      <td>4.038129</td>\n",
              "      <td>0.437611</td>\n",
              "      <td>40.516522</td>\n",
              "      <td>1.159225</td>\n",
              "      <td>505.25731</td>\n",
              "      <td>1240.248775</td>\n",
              "    </tr>\n",
              "  </tbody>\n",
              "</table>\n",
              "</div>"
            ],
            "text/plain": [
              "                         ID_PACIENTE  IC_SEXO  ...     DE_DHL DE_DIMEROS_D\n",
              "0   3487791F44C34B421C932DC8616A8437      0.0  ...  505.25731  1437.374194\n",
              "1   3487791F44C34B421C932DC8616A8437      0.0  ...  364.00000   248.000000\n",
              "2   F5B5BD59D98836D8AA2D8C27B01225AB      0.0  ...  505.25731  1240.248775\n",
              "3   F5B5BD59D98836D8AA2D8C27B01225AB      0.0  ...  505.25731   996.000000\n",
              "5   C3A3D083DBC1353FAB5F87282EE86633      1.0  ...  505.25731  1437.374194\n",
              "6   C3A3D083DBC1353FAB5F87282EE86633      1.0  ...  505.25731  1240.248775\n",
              "7   BEBA451E2C91A4D869D14EE790FE78FD      0.0  ...  505.25731  1240.248775\n",
              "8   BEBA451E2C91A4D869D14EE790FE78FD      0.0  ...  505.25731  1240.248775\n",
              "9   F99249272E611207DBEC7EE3CF81F0E5      1.0  ...  477.00000  1334.000000\n",
              "11  F99249272E611207DBEC7EE3CF81F0E5      1.0  ...  505.25731  1240.248775\n",
              "12  74D237DB6D34A5BB2A95A26CD9FD5CF9      0.0  ...  505.25731  1240.248775\n",
              "13  AA1E0A1BBB04DBFB2D4FE21BDB45FB74      0.0  ...  505.25731  1240.248775\n",
              "14  AA1E0A1BBB04DBFB2D4FE21BDB45FB74      0.0  ...  505.25731  1240.248775\n",
              "15  F09A86430261ABE1D630EE7090B4BC37      0.0  ...  505.25731  1027.000000\n",
              "16  F09A86430261ABE1D630EE7090B4BC37      0.0  ...  482.00000  1130.000000\n",
              "17  F09A86430261ABE1D630EE7090B4BC37      0.0  ...  505.25731  1240.248775\n",
              "18  C16902E84856371CFB33837851722042      0.0  ...  505.25731  1240.248775\n",
              "19  C16902E84856371CFB33837851722042      0.0  ...  505.25731  1240.248775\n",
              "20  C16902E84856371CFB33837851722042      0.0  ...  505.25731  1240.248775\n",
              "21  36EC3ADD18AE59B3DC62C67B4A6440DA      1.0  ...  505.25731  1240.248775\n",
              "\n",
              "[20 rows x 18 columns]"
            ]
          },
          "metadata": {
            "tags": []
          },
          "execution_count": 161
        }
      ]
    },
    {
      "cell_type": "code",
      "metadata": {
        "id": "EUfeFJj7iI9Z",
        "outputId": "a042c2f0-2433-4cf6-cebc-c6997de136e5",
        "colab": {
          "base_uri": "https://localhost:8080/",
          "height": 442
        }
      },
      "source": [
        "# Obtendo as informações referentes a cada coluna do dataframe final. É importante que as features que serão analisadas\n",
        "# pelo algoritmo de floresta aleatória sejam numéricas. Se forem categoricas, precisam ser codificadas antes de serem\n",
        "# processadas. Não é o caso no dataframe final, pois os dados foram tratados ao longo do notebook\n",
        "df_final.info()"
      ],
      "execution_count": 162,
      "outputs": [
        {
          "output_type": "stream",
          "text": [
            "<class 'pandas.core.frame.DataFrame'>\n",
            "Int64Index: 2134 entries, 0 to 2205\n",
            "Data columns (total 18 columns):\n",
            " #   Column                 Non-Null Count  Dtype  \n",
            "---  ------                 --------------  -----  \n",
            " 0   ID_PACIENTE            2134 non-null   object \n",
            " 1   IC_SEXO                2134 non-null   float64\n",
            " 2   IC_IDADE               2134 non-null   float64\n",
            " 3   DT_COLETA              2134 non-null   object \n",
            " 4   DE_RESULTADO           2134 non-null   float64\n",
            " 5   DE_LEUCOCITOS          2134 non-null   float64\n",
            " 6   DE_HEMOGLOBINA         2134 non-null   float64\n",
            " 7   DE_PLAQUETAS           2134 non-null   float64\n",
            " 8   DE_NEUTROFILOS (%)     2134 non-null   float64\n",
            " 9   DE_NEUTROFILOS         2134 non-null   float64\n",
            " 10  DE_LINFOCITOS (%)      2134 non-null   float64\n",
            " 11  DE_LINFOCITOS          2134 non-null   float64\n",
            " 12  DE_PROTEINA_C_REATIVA  2134 non-null   float64\n",
            " 13  DE_BILIRRUBINA         2134 non-null   float64\n",
            " 14  DE_UREIA               2134 non-null   float64\n",
            " 15  DE_CREATININA          2134 non-null   float64\n",
            " 16  DE_DHL                 2134 non-null   float64\n",
            " 17  DE_DIMEROS_D           2134 non-null   float64\n",
            "dtypes: float64(16), object(2)\n",
            "memory usage: 316.8+ KB\n"
          ],
          "name": "stdout"
        }
      ]
    },
    {
      "cell_type": "code",
      "metadata": {
        "id": "olQirTlskgwV",
        "outputId": "e80f1842-0b43-4440-9906-b1d9ffa26250",
        "colab": {
          "base_uri": "https://localhost:8080/",
          "height": 68
        }
      },
      "source": [
        "# Analisando a distribuição de resultados do dataframe final: \n",
        "# mais uma vez, há mais pacientes testando positivo do que negativo para COVID-19.\n",
        "df_final['DE_RESULTADO'].value_counts()"
      ],
      "execution_count": 163,
      "outputs": [
        {
          "output_type": "execute_result",
          "data": {
            "text/plain": [
              "1.0    1769\n",
              "0.0     365\n",
              "Name: DE_RESULTADO, dtype: int64"
            ]
          },
          "metadata": {
            "tags": []
          },
          "execution_count": 163
        }
      ]
    },
    {
      "cell_type": "code",
      "metadata": {
        "id": "iuVGBfEZB3L1"
      },
      "source": [
        "# Exportando o dataframe final para um arquivo .csv\n",
        "df_final.to_csv('HSL_EDA.csv', sep='|', index=False)"
      ],
      "execution_count": 164,
      "outputs": []
    },
    {
      "cell_type": "code",
      "metadata": {
        "id": "qkcrOO4rCO16",
        "outputId": "1ce83506-1234-4633-acc8-12988063a9e9",
        "colab": {
          "base_uri": "https://localhost:8080/",
          "height": 1000
        }
      },
      "source": [
        "# Verificando se é possível ler o arquivo e acessar os dados sem problemas.\n",
        "df_teste = pd.read_csv('HSL_EDA.csv',sep='|')\n",
        "df_teste.head(20)"
      ],
      "execution_count": 165,
      "outputs": [
        {
          "output_type": "execute_result",
          "data": {
            "text/html": [
              "<div>\n",
              "<style scoped>\n",
              "    .dataframe tbody tr th:only-of-type {\n",
              "        vertical-align: middle;\n",
              "    }\n",
              "\n",
              "    .dataframe tbody tr th {\n",
              "        vertical-align: top;\n",
              "    }\n",
              "\n",
              "    .dataframe thead th {\n",
              "        text-align: right;\n",
              "    }\n",
              "</style>\n",
              "<table border=\"1\" class=\"dataframe\">\n",
              "  <thead>\n",
              "    <tr style=\"text-align: right;\">\n",
              "      <th></th>\n",
              "      <th>ID_PACIENTE</th>\n",
              "      <th>IC_SEXO</th>\n",
              "      <th>IC_IDADE</th>\n",
              "      <th>DT_COLETA</th>\n",
              "      <th>DE_RESULTADO</th>\n",
              "      <th>DE_LEUCOCITOS</th>\n",
              "      <th>DE_HEMOGLOBINA</th>\n",
              "      <th>DE_PLAQUETAS</th>\n",
              "      <th>DE_NEUTROFILOS (%)</th>\n",
              "      <th>DE_NEUTROFILOS</th>\n",
              "      <th>DE_LINFOCITOS (%)</th>\n",
              "      <th>DE_LINFOCITOS</th>\n",
              "      <th>DE_PROTEINA_C_REATIVA</th>\n",
              "      <th>DE_BILIRRUBINA</th>\n",
              "      <th>DE_UREIA</th>\n",
              "      <th>DE_CREATININA</th>\n",
              "      <th>DE_DHL</th>\n",
              "      <th>DE_DIMEROS_D</th>\n",
              "    </tr>\n",
              "  </thead>\n",
              "  <tbody>\n",
              "    <tr>\n",
              "      <th>0</th>\n",
              "      <td>3487791F44C34B421C932DC8616A8437</td>\n",
              "      <td>0.0</td>\n",
              "      <td>57.0</td>\n",
              "      <td>2020-05-25</td>\n",
              "      <td>1.0</td>\n",
              "      <td>6790.179153</td>\n",
              "      <td>13.257818</td>\n",
              "      <td>200627.035831</td>\n",
              "      <td>65.892508</td>\n",
              "      <td>4723.029316</td>\n",
              "      <td>22.709446</td>\n",
              "      <td>1364.429967</td>\n",
              "      <td>4.038129</td>\n",
              "      <td>0.437611</td>\n",
              "      <td>40.516522</td>\n",
              "      <td>1.159225</td>\n",
              "      <td>505.25731</td>\n",
              "      <td>1437.374194</td>\n",
              "    </tr>\n",
              "    <tr>\n",
              "      <th>1</th>\n",
              "      <td>3487791F44C34B421C932DC8616A8437</td>\n",
              "      <td>0.0</td>\n",
              "      <td>57.0</td>\n",
              "      <td>2020-05-04</td>\n",
              "      <td>1.0</td>\n",
              "      <td>3390.000000</td>\n",
              "      <td>14.800000</td>\n",
              "      <td>86000.000000</td>\n",
              "      <td>62.800000</td>\n",
              "      <td>2130.000000</td>\n",
              "      <td>14.500000</td>\n",
              "      <td>490.000000</td>\n",
              "      <td>0.190000</td>\n",
              "      <td>0.437611</td>\n",
              "      <td>28.000000</td>\n",
              "      <td>0.910000</td>\n",
              "      <td>364.00000</td>\n",
              "      <td>248.000000</td>\n",
              "    </tr>\n",
              "    <tr>\n",
              "      <th>2</th>\n",
              "      <td>F5B5BD59D98836D8AA2D8C27B01225AB</td>\n",
              "      <td>0.0</td>\n",
              "      <td>75.0</td>\n",
              "      <td>2020-06-07</td>\n",
              "      <td>1.0</td>\n",
              "      <td>14610.000000</td>\n",
              "      <td>11.800000</td>\n",
              "      <td>190000.000000</td>\n",
              "      <td>86.400000</td>\n",
              "      <td>12620.000000</td>\n",
              "      <td>7.500000</td>\n",
              "      <td>1100.000000</td>\n",
              "      <td>0.290000</td>\n",
              "      <td>0.620000</td>\n",
              "      <td>103.000000</td>\n",
              "      <td>1.000000</td>\n",
              "      <td>505.25731</td>\n",
              "      <td>1240.248775</td>\n",
              "    </tr>\n",
              "    <tr>\n",
              "      <th>3</th>\n",
              "      <td>F5B5BD59D98836D8AA2D8C27B01225AB</td>\n",
              "      <td>0.0</td>\n",
              "      <td>75.0</td>\n",
              "      <td>2020-05-21</td>\n",
              "      <td>1.0</td>\n",
              "      <td>5000.000000</td>\n",
              "      <td>12.800000</td>\n",
              "      <td>202000.000000</td>\n",
              "      <td>93.600000</td>\n",
              "      <td>4680.000000</td>\n",
              "      <td>5.600000</td>\n",
              "      <td>280.000000</td>\n",
              "      <td>30.670000</td>\n",
              "      <td>0.437611</td>\n",
              "      <td>58.000000</td>\n",
              "      <td>1.290000</td>\n",
              "      <td>505.25731</td>\n",
              "      <td>996.000000</td>\n",
              "    </tr>\n",
              "    <tr>\n",
              "      <th>4</th>\n",
              "      <td>C3A3D083DBC1353FAB5F87282EE86633</td>\n",
              "      <td>1.0</td>\n",
              "      <td>32.0</td>\n",
              "      <td>2020-07-23</td>\n",
              "      <td>0.0</td>\n",
              "      <td>6690.000000</td>\n",
              "      <td>13.800000</td>\n",
              "      <td>203000.000000</td>\n",
              "      <td>74.800000</td>\n",
              "      <td>5010.000000</td>\n",
              "      <td>18.100000</td>\n",
              "      <td>1210.000000</td>\n",
              "      <td>0.970000</td>\n",
              "      <td>0.660000</td>\n",
              "      <td>28.000000</td>\n",
              "      <td>0.680000</td>\n",
              "      <td>505.25731</td>\n",
              "      <td>1437.374194</td>\n",
              "    </tr>\n",
              "    <tr>\n",
              "      <th>5</th>\n",
              "      <td>C3A3D083DBC1353FAB5F87282EE86633</td>\n",
              "      <td>1.0</td>\n",
              "      <td>32.0</td>\n",
              "      <td>2020-03-14</td>\n",
              "      <td>0.0</td>\n",
              "      <td>6790.179153</td>\n",
              "      <td>13.257818</td>\n",
              "      <td>200627.035831</td>\n",
              "      <td>65.892508</td>\n",
              "      <td>4723.029316</td>\n",
              "      <td>22.709446</td>\n",
              "      <td>1364.429967</td>\n",
              "      <td>4.038129</td>\n",
              "      <td>0.437611</td>\n",
              "      <td>40.516522</td>\n",
              "      <td>1.159225</td>\n",
              "      <td>505.25731</td>\n",
              "      <td>1240.248775</td>\n",
              "    </tr>\n",
              "    <tr>\n",
              "      <th>6</th>\n",
              "      <td>BEBA451E2C91A4D869D14EE790FE78FD</td>\n",
              "      <td>0.0</td>\n",
              "      <td>48.0</td>\n",
              "      <td>2020-05-31</td>\n",
              "      <td>0.0</td>\n",
              "      <td>15060.000000</td>\n",
              "      <td>11.300000</td>\n",
              "      <td>278000.000000</td>\n",
              "      <td>92.300000</td>\n",
              "      <td>13900.000000</td>\n",
              "      <td>3.500000</td>\n",
              "      <td>530.000000</td>\n",
              "      <td>7.910000</td>\n",
              "      <td>0.437611</td>\n",
              "      <td>121.000000</td>\n",
              "      <td>2.910000</td>\n",
              "      <td>505.25731</td>\n",
              "      <td>1240.248775</td>\n",
              "    </tr>\n",
              "    <tr>\n",
              "      <th>7</th>\n",
              "      <td>BEBA451E2C91A4D869D14EE790FE78FD</td>\n",
              "      <td>0.0</td>\n",
              "      <td>48.0</td>\n",
              "      <td>2020-05-30</td>\n",
              "      <td>1.0</td>\n",
              "      <td>9300.000000</td>\n",
              "      <td>11.300000</td>\n",
              "      <td>267000.000000</td>\n",
              "      <td>72.300000</td>\n",
              "      <td>6720.000000</td>\n",
              "      <td>18.300000</td>\n",
              "      <td>1700.000000</td>\n",
              "      <td>2.830000</td>\n",
              "      <td>0.437611</td>\n",
              "      <td>108.000000</td>\n",
              "      <td>2.310000</td>\n",
              "      <td>505.25731</td>\n",
              "      <td>1240.248775</td>\n",
              "    </tr>\n",
              "    <tr>\n",
              "      <th>8</th>\n",
              "      <td>F99249272E611207DBEC7EE3CF81F0E5</td>\n",
              "      <td>1.0</td>\n",
              "      <td>78.0</td>\n",
              "      <td>2020-06-04</td>\n",
              "      <td>0.0</td>\n",
              "      <td>11620.000000</td>\n",
              "      <td>11.900000</td>\n",
              "      <td>271000.000000</td>\n",
              "      <td>74.800000</td>\n",
              "      <td>8680.000000</td>\n",
              "      <td>17.200000</td>\n",
              "      <td>2000.000000</td>\n",
              "      <td>0.530000</td>\n",
              "      <td>0.760000</td>\n",
              "      <td>84.000000</td>\n",
              "      <td>1.700000</td>\n",
              "      <td>477.00000</td>\n",
              "      <td>1334.000000</td>\n",
              "    </tr>\n",
              "    <tr>\n",
              "      <th>9</th>\n",
              "      <td>F99249272E611207DBEC7EE3CF81F0E5</td>\n",
              "      <td>1.0</td>\n",
              "      <td>78.0</td>\n",
              "      <td>2020-06-10</td>\n",
              "      <td>0.0</td>\n",
              "      <td>6790.179153</td>\n",
              "      <td>13.257818</td>\n",
              "      <td>200627.035831</td>\n",
              "      <td>65.892508</td>\n",
              "      <td>4723.029316</td>\n",
              "      <td>22.709446</td>\n",
              "      <td>1364.429967</td>\n",
              "      <td>4.038129</td>\n",
              "      <td>0.437611</td>\n",
              "      <td>40.516522</td>\n",
              "      <td>1.159225</td>\n",
              "      <td>505.25731</td>\n",
              "      <td>1240.248775</td>\n",
              "    </tr>\n",
              "    <tr>\n",
              "      <th>10</th>\n",
              "      <td>74D237DB6D34A5BB2A95A26CD9FD5CF9</td>\n",
              "      <td>0.0</td>\n",
              "      <td>61.0</td>\n",
              "      <td>2020-06-27</td>\n",
              "      <td>0.0</td>\n",
              "      <td>6790.179153</td>\n",
              "      <td>13.257818</td>\n",
              "      <td>200627.035831</td>\n",
              "      <td>65.892508</td>\n",
              "      <td>4723.029316</td>\n",
              "      <td>22.709446</td>\n",
              "      <td>1364.429967</td>\n",
              "      <td>4.038129</td>\n",
              "      <td>0.437611</td>\n",
              "      <td>40.516522</td>\n",
              "      <td>1.159225</td>\n",
              "      <td>505.25731</td>\n",
              "      <td>1240.248775</td>\n",
              "    </tr>\n",
              "    <tr>\n",
              "      <th>11</th>\n",
              "      <td>AA1E0A1BBB04DBFB2D4FE21BDB45FB74</td>\n",
              "      <td>0.0</td>\n",
              "      <td>43.0</td>\n",
              "      <td>2020-06-26</td>\n",
              "      <td>0.0</td>\n",
              "      <td>6790.179153</td>\n",
              "      <td>13.257818</td>\n",
              "      <td>200627.035831</td>\n",
              "      <td>65.892508</td>\n",
              "      <td>4723.029316</td>\n",
              "      <td>22.709446</td>\n",
              "      <td>1364.429967</td>\n",
              "      <td>4.038129</td>\n",
              "      <td>0.437611</td>\n",
              "      <td>40.516522</td>\n",
              "      <td>1.159225</td>\n",
              "      <td>505.25731</td>\n",
              "      <td>1240.248775</td>\n",
              "    </tr>\n",
              "    <tr>\n",
              "      <th>12</th>\n",
              "      <td>AA1E0A1BBB04DBFB2D4FE21BDB45FB74</td>\n",
              "      <td>0.0</td>\n",
              "      <td>43.0</td>\n",
              "      <td>2020-07-09</td>\n",
              "      <td>1.0</td>\n",
              "      <td>6790.179153</td>\n",
              "      <td>13.257818</td>\n",
              "      <td>200627.035831</td>\n",
              "      <td>65.892508</td>\n",
              "      <td>4723.029316</td>\n",
              "      <td>22.709446</td>\n",
              "      <td>1364.429967</td>\n",
              "      <td>4.038129</td>\n",
              "      <td>0.437611</td>\n",
              "      <td>40.516522</td>\n",
              "      <td>1.159225</td>\n",
              "      <td>505.25731</td>\n",
              "      <td>1240.248775</td>\n",
              "    </tr>\n",
              "    <tr>\n",
              "      <th>13</th>\n",
              "      <td>F09A86430261ABE1D630EE7090B4BC37</td>\n",
              "      <td>0.0</td>\n",
              "      <td>44.0</td>\n",
              "      <td>2020-06-09</td>\n",
              "      <td>0.0</td>\n",
              "      <td>4990.000000</td>\n",
              "      <td>10.100000</td>\n",
              "      <td>189000.000000</td>\n",
              "      <td>85.800000</td>\n",
              "      <td>4280.000000</td>\n",
              "      <td>10.000000</td>\n",
              "      <td>500.000000</td>\n",
              "      <td>2.290000</td>\n",
              "      <td>0.437611</td>\n",
              "      <td>29.000000</td>\n",
              "      <td>2.670000</td>\n",
              "      <td>505.25731</td>\n",
              "      <td>1027.000000</td>\n",
              "    </tr>\n",
              "    <tr>\n",
              "      <th>14</th>\n",
              "      <td>F09A86430261ABE1D630EE7090B4BC37</td>\n",
              "      <td>0.0</td>\n",
              "      <td>44.0</td>\n",
              "      <td>2020-06-07</td>\n",
              "      <td>0.0</td>\n",
              "      <td>4810.000000</td>\n",
              "      <td>9.700000</td>\n",
              "      <td>195000.000000</td>\n",
              "      <td>60.500000</td>\n",
              "      <td>2910.000000</td>\n",
              "      <td>24.300000</td>\n",
              "      <td>1170.000000</td>\n",
              "      <td>0.530000</td>\n",
              "      <td>0.437611</td>\n",
              "      <td>37.000000</td>\n",
              "      <td>2.860000</td>\n",
              "      <td>482.00000</td>\n",
              "      <td>1130.000000</td>\n",
              "    </tr>\n",
              "    <tr>\n",
              "      <th>15</th>\n",
              "      <td>F09A86430261ABE1D630EE7090B4BC37</td>\n",
              "      <td>0.0</td>\n",
              "      <td>44.0</td>\n",
              "      <td>2020-06-04</td>\n",
              "      <td>1.0</td>\n",
              "      <td>6790.179153</td>\n",
              "      <td>13.257818</td>\n",
              "      <td>200627.035831</td>\n",
              "      <td>65.892508</td>\n",
              "      <td>4723.029316</td>\n",
              "      <td>22.709446</td>\n",
              "      <td>1364.429967</td>\n",
              "      <td>4.038129</td>\n",
              "      <td>0.437611</td>\n",
              "      <td>40.516522</td>\n",
              "      <td>1.159225</td>\n",
              "      <td>505.25731</td>\n",
              "      <td>1240.248775</td>\n",
              "    </tr>\n",
              "    <tr>\n",
              "      <th>16</th>\n",
              "      <td>C16902E84856371CFB33837851722042</td>\n",
              "      <td>0.0</td>\n",
              "      <td>75.0</td>\n",
              "      <td>2020-06-03</td>\n",
              "      <td>0.0</td>\n",
              "      <td>8670.000000</td>\n",
              "      <td>8.300000</td>\n",
              "      <td>245000.000000</td>\n",
              "      <td>67.100000</td>\n",
              "      <td>5810.000000</td>\n",
              "      <td>19.500000</td>\n",
              "      <td>1690.000000</td>\n",
              "      <td>0.720000</td>\n",
              "      <td>0.437611</td>\n",
              "      <td>100.000000</td>\n",
              "      <td>3.410000</td>\n",
              "      <td>505.25731</td>\n",
              "      <td>1240.248775</td>\n",
              "    </tr>\n",
              "    <tr>\n",
              "      <th>17</th>\n",
              "      <td>C16902E84856371CFB33837851722042</td>\n",
              "      <td>0.0</td>\n",
              "      <td>75.0</td>\n",
              "      <td>2020-06-05</td>\n",
              "      <td>0.0</td>\n",
              "      <td>6790.179153</td>\n",
              "      <td>13.257818</td>\n",
              "      <td>200627.035831</td>\n",
              "      <td>65.892508</td>\n",
              "      <td>4723.029316</td>\n",
              "      <td>22.709446</td>\n",
              "      <td>1364.429967</td>\n",
              "      <td>4.038129</td>\n",
              "      <td>0.437611</td>\n",
              "      <td>103.000000</td>\n",
              "      <td>3.600000</td>\n",
              "      <td>505.25731</td>\n",
              "      <td>1240.248775</td>\n",
              "    </tr>\n",
              "    <tr>\n",
              "      <th>18</th>\n",
              "      <td>C16902E84856371CFB33837851722042</td>\n",
              "      <td>0.0</td>\n",
              "      <td>75.0</td>\n",
              "      <td>2020-05-26</td>\n",
              "      <td>1.0</td>\n",
              "      <td>6790.179153</td>\n",
              "      <td>13.257818</td>\n",
              "      <td>200627.035831</td>\n",
              "      <td>65.892508</td>\n",
              "      <td>4723.029316</td>\n",
              "      <td>22.709446</td>\n",
              "      <td>1364.429967</td>\n",
              "      <td>4.038129</td>\n",
              "      <td>0.437611</td>\n",
              "      <td>40.516522</td>\n",
              "      <td>1.159225</td>\n",
              "      <td>505.25731</td>\n",
              "      <td>1240.248775</td>\n",
              "    </tr>\n",
              "    <tr>\n",
              "      <th>19</th>\n",
              "      <td>36EC3ADD18AE59B3DC62C67B4A6440DA</td>\n",
              "      <td>1.0</td>\n",
              "      <td>80.0</td>\n",
              "      <td>2020-06-08</td>\n",
              "      <td>0.0</td>\n",
              "      <td>6790.179153</td>\n",
              "      <td>13.257818</td>\n",
              "      <td>200627.035831</td>\n",
              "      <td>65.892508</td>\n",
              "      <td>4723.029316</td>\n",
              "      <td>22.709446</td>\n",
              "      <td>1364.429967</td>\n",
              "      <td>4.038129</td>\n",
              "      <td>0.437611</td>\n",
              "      <td>40.516522</td>\n",
              "      <td>1.159225</td>\n",
              "      <td>505.25731</td>\n",
              "      <td>1240.248775</td>\n",
              "    </tr>\n",
              "  </tbody>\n",
              "</table>\n",
              "</div>"
            ],
            "text/plain": [
              "                         ID_PACIENTE  IC_SEXO  ...     DE_DHL DE_DIMEROS_D\n",
              "0   3487791F44C34B421C932DC8616A8437      0.0  ...  505.25731  1437.374194\n",
              "1   3487791F44C34B421C932DC8616A8437      0.0  ...  364.00000   248.000000\n",
              "2   F5B5BD59D98836D8AA2D8C27B01225AB      0.0  ...  505.25731  1240.248775\n",
              "3   F5B5BD59D98836D8AA2D8C27B01225AB      0.0  ...  505.25731   996.000000\n",
              "4   C3A3D083DBC1353FAB5F87282EE86633      1.0  ...  505.25731  1437.374194\n",
              "5   C3A3D083DBC1353FAB5F87282EE86633      1.0  ...  505.25731  1240.248775\n",
              "6   BEBA451E2C91A4D869D14EE790FE78FD      0.0  ...  505.25731  1240.248775\n",
              "7   BEBA451E2C91A4D869D14EE790FE78FD      0.0  ...  505.25731  1240.248775\n",
              "8   F99249272E611207DBEC7EE3CF81F0E5      1.0  ...  477.00000  1334.000000\n",
              "9   F99249272E611207DBEC7EE3CF81F0E5      1.0  ...  505.25731  1240.248775\n",
              "10  74D237DB6D34A5BB2A95A26CD9FD5CF9      0.0  ...  505.25731  1240.248775\n",
              "11  AA1E0A1BBB04DBFB2D4FE21BDB45FB74      0.0  ...  505.25731  1240.248775\n",
              "12  AA1E0A1BBB04DBFB2D4FE21BDB45FB74      0.0  ...  505.25731  1240.248775\n",
              "13  F09A86430261ABE1D630EE7090B4BC37      0.0  ...  505.25731  1027.000000\n",
              "14  F09A86430261ABE1D630EE7090B4BC37      0.0  ...  482.00000  1130.000000\n",
              "15  F09A86430261ABE1D630EE7090B4BC37      0.0  ...  505.25731  1240.248775\n",
              "16  C16902E84856371CFB33837851722042      0.0  ...  505.25731  1240.248775\n",
              "17  C16902E84856371CFB33837851722042      0.0  ...  505.25731  1240.248775\n",
              "18  C16902E84856371CFB33837851722042      0.0  ...  505.25731  1240.248775\n",
              "19  36EC3ADD18AE59B3DC62C67B4A6440DA      1.0  ...  505.25731  1240.248775\n",
              "\n",
              "[20 rows x 18 columns]"
            ]
          },
          "metadata": {
            "tags": []
          },
          "execution_count": 165
        }
      ]
    }
  ]
}